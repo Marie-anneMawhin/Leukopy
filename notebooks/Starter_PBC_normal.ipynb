{
 "cells": [
  {
   "cell_type": "code",
   "execution_count": 5,
   "id": "material-arnold",
   "metadata": {},
   "outputs": [],
   "source": [
    "import pandas as pd\n",
    "import numpy as np\n",
    "import matplotlib.pyplot as plt\n",
    "import seaborn as sns\n",
    "from skimage import io, color, exposure\n",
    "import skimage\n",
    "\n",
    "from pathlib import Path"
   ]
  },
  {
   "cell_type": "markdown",
   "id": "compliant-compiler",
   "metadata": {},
   "source": [
    "## Import normal peripheral blood cell dataset"
   ]
  },
  {
   "cell_type": "code",
   "execution_count": 6,
   "id": "alike-simpson",
   "metadata": {},
   "outputs": [
    {
     "data": {
      "text/html": [
       "<div>\n",
       "<style scoped>\n",
       "    .dataframe tbody tr th:only-of-type {\n",
       "        vertical-align: middle;\n",
       "    }\n",
       "\n",
       "    .dataframe tbody tr th {\n",
       "        vertical-align: top;\n",
       "    }\n",
       "\n",
       "    .dataframe thead th {\n",
       "        text-align: right;\n",
       "    }\n",
       "</style>\n",
       "<table border=\"1\" class=\"dataframe\">\n",
       "  <thead>\n",
       "    <tr style=\"text-align: right;\">\n",
       "      <th></th>\n",
       "      <th>img_paths</th>\n",
       "      <th>id</th>\n",
       "      <th>label</th>\n",
       "      <th>height</th>\n",
       "      <th>width</th>\n",
       "      <th>mean_brightness</th>\n",
       "    </tr>\n",
       "  </thead>\n",
       "  <tbody>\n",
       "    <tr>\n",
       "      <th>0</th>\n",
       "      <td>../data/PBC_dataset_normal_DIB/monocyte/MO_225...</td>\n",
       "      <td>225079</td>\n",
       "      <td>MO</td>\n",
       "      <td>363</td>\n",
       "      <td>360</td>\n",
       "      <td>196.225564</td>\n",
       "    </tr>\n",
       "    <tr>\n",
       "      <th>1</th>\n",
       "      <td>../data/PBC_dataset_normal_DIB/monocyte/MO_582...</td>\n",
       "      <td>582430</td>\n",
       "      <td>MO</td>\n",
       "      <td>363</td>\n",
       "      <td>360</td>\n",
       "      <td>196.672727</td>\n",
       "    </tr>\n",
       "    <tr>\n",
       "      <th>2</th>\n",
       "      <td>../data/PBC_dataset_normal_DIB/monocyte/MO_436...</td>\n",
       "      <td>436409</td>\n",
       "      <td>MO</td>\n",
       "      <td>363</td>\n",
       "      <td>360</td>\n",
       "      <td>204.348235</td>\n",
       "    </tr>\n",
       "    <tr>\n",
       "      <th>3</th>\n",
       "      <td>../data/PBC_dataset_normal_DIB/monocyte/MO_648...</td>\n",
       "      <td>648815</td>\n",
       "      <td>MO</td>\n",
       "      <td>363</td>\n",
       "      <td>360</td>\n",
       "      <td>199.038259</td>\n",
       "    </tr>\n",
       "    <tr>\n",
       "      <th>4</th>\n",
       "      <td>../data/PBC_dataset_normal_DIB/monocyte/MO_668...</td>\n",
       "      <td>668574</td>\n",
       "      <td>MO</td>\n",
       "      <td>363</td>\n",
       "      <td>360</td>\n",
       "      <td>191.020018</td>\n",
       "    </tr>\n",
       "  </tbody>\n",
       "</table>\n",
       "</div>"
      ],
      "text/plain": [
       "                                           img_paths      id label  height  \\\n",
       "0  ../data/PBC_dataset_normal_DIB/monocyte/MO_225...  225079    MO     363   \n",
       "1  ../data/PBC_dataset_normal_DIB/monocyte/MO_582...  582430    MO     363   \n",
       "2  ../data/PBC_dataset_normal_DIB/monocyte/MO_436...  436409    MO     363   \n",
       "3  ../data/PBC_dataset_normal_DIB/monocyte/MO_648...  648815    MO     363   \n",
       "4  ../data/PBC_dataset_normal_DIB/monocyte/MO_668...  668574    MO     363   \n",
       "\n",
       "   width  mean_brightness  \n",
       "0    360       196.225564  \n",
       "1    360       196.672727  \n",
       "2    360       204.348235  \n",
       "3    360       199.038259  \n",
       "4    360       191.020018  "
      ]
     },
     "execution_count": 6,
     "metadata": {},
     "output_type": "execute_result"
    }
   ],
   "source": [
    "path_name = '../data/PBC_dataset_normal_df.csv'\n",
    "path = Path(path_name)\n",
    "df = pd.read_csv(path_name)\n",
    "df.head()"
   ]
  },
  {
   "cell_type": "code",
   "execution_count": 8,
   "id": "municipal-article",
   "metadata": {},
   "outputs": [
    {
     "data": {
      "text/plain": [
       "array(['MO', 'ERB', 'PLATELET', 'BA', 'IG', 'SNE', 'LY', 'EO'],\n",
       "      dtype=object)"
      ]
     },
     "execution_count": 8,
     "metadata": {},
     "output_type": "execute_result"
    }
   ],
   "source": [
    "#We now have 8 classes\n",
    "classes = df['label'].unique()\n",
    "classes"
   ]
  },
  {
   "cell_type": "markdown",
   "id": "preliminary-bosnia",
   "metadata": {},
   "source": [
    "### Import images and store as a list of array"
   ]
  },
  {
   "cell_type": "code",
   "execution_count": 9,
   "id": "infectious-deputy",
   "metadata": {},
   "outputs": [
    {
     "name": "stdout",
     "output_type": "stream",
     "text": [
      "CPU times: user 9 µs, sys: 1e+03 ns, total: 10 µs\n",
      "Wall time: 17.2 µs\n"
     ]
    }
   ],
   "source": [
    "%time\n",
    "images = [io.imread(file) for file in df['img_paths']]"
   ]
  },
  {
   "cell_type": "code",
   "execution_count": 10,
   "id": "conventional-accreditation",
   "metadata": {},
   "outputs": [
    {
     "data": {
      "text/plain": [
       "17092"
      ]
     },
     "execution_count": 10,
     "metadata": {},
     "output_type": "execute_result"
    }
   ],
   "source": [
    "len(images)"
   ]
  }
 ],
 "metadata": {
  "kernelspec": {
   "display_name": "DStest",
   "language": "python",
   "name": "dstest"
  },
  "language_info": {
   "codemirror_mode": {
    "name": "ipython",
    "version": 3
   },
   "file_extension": ".py",
   "mimetype": "text/x-python",
   "name": "python",
   "nbconvert_exporter": "python",
   "pygments_lexer": "ipython3",
   "version": "3.9.4"
  }
 },
 "nbformat": 4,
 "nbformat_minor": 5
}

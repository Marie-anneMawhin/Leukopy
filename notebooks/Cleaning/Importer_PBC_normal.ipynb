{
 "cells": [
  {
   "cell_type": "code",
   "execution_count": 1,
   "id": "material-arnold",
   "metadata": {},
   "outputs": [],
   "source": [
    "import pandas as pd\n",
    "import numpy as np\n",
    "import matplotlib.pyplot as plt\n",
    "import seaborn as sns\n",
    "from skimage import io, color, exposure\n",
    "import skimage\n",
    "\n",
    "from pathlib import Path\n",
    "import os, sys\n",
    "\n",
    "from dask import bag, diagnostics\n",
    "\n",
    "\n",
    "sys.path.insert(0, str(Path.cwd().parent))\n",
    "import leukopy_lib as leuko\n",
    "from importlib import reload\n",
    "reload(leuko)"
   ]
  },
  {
   "cell_type": "markdown",
   "id": "compliant-compiler",
   "metadata": {},
   "source": [
    "## Import normal peripheral blood cell dataset"
   ]
  },
  {
   "cell_type": "code",
   "execution_count": 2,
   "id": "alike-simpson",
   "metadata": {},
   "outputs": [],
   "source": [
    "#get path to data/main_dir\n",
    "path_name = '../../data/PBC_dataset_normal_DIB'\n",
    "path = Path(path_name)"
   ]
  },
  {
   "cell_type": "code",
   "execution_count": 3,
   "id": "moral-plenty",
   "metadata": {
    "tags": []
   },
   "outputs": [
    {
     "data": {
      "text/html": [
       "<div>\n",
       "<style scoped>\n",
       "    .dataframe tbody tr th:only-of-type {\n",
       "        vertical-align: middle;\n",
       "    }\n",
       "\n",
       "    .dataframe tbody tr th {\n",
       "        vertical-align: top;\n",
       "    }\n",
       "\n",
       "    .dataframe thead th {\n",
       "        text-align: right;\n",
       "    }\n",
       "</style>\n",
       "<table border=\"1\" class=\"dataframe\">\n",
       "  <thead>\n",
       "    <tr style=\"text-align: right;\">\n",
       "      <th></th>\n",
       "      <th>img_paths</th>\n",
       "      <th>id</th>\n",
       "      <th>label</th>\n",
       "      <th>cell_type</th>\n",
       "    </tr>\n",
       "  </thead>\n",
       "  <tbody>\n",
       "    <tr>\n",
       "      <th>0</th>\n",
       "      <td>../../data/PBC_dataset_normal_DIB/monocyte/MO_...</td>\n",
       "      <td>225079</td>\n",
       "      <td>MO</td>\n",
       "      <td>monocyte</td>\n",
       "    </tr>\n",
       "    <tr>\n",
       "      <th>1</th>\n",
       "      <td>../../data/PBC_dataset_normal_DIB/monocyte/MO_...</td>\n",
       "      <td>582430</td>\n",
       "      <td>MO</td>\n",
       "      <td>monocyte</td>\n",
       "    </tr>\n",
       "    <tr>\n",
       "      <th>2</th>\n",
       "      <td>../../data/PBC_dataset_normal_DIB/monocyte/MO_...</td>\n",
       "      <td>436409</td>\n",
       "      <td>MO</td>\n",
       "      <td>monocyte</td>\n",
       "    </tr>\n",
       "    <tr>\n",
       "      <th>3</th>\n",
       "      <td>../../data/PBC_dataset_normal_DIB/monocyte/MO_...</td>\n",
       "      <td>648815</td>\n",
       "      <td>MO</td>\n",
       "      <td>monocyte</td>\n",
       "    </tr>\n",
       "    <tr>\n",
       "      <th>4</th>\n",
       "      <td>../../data/PBC_dataset_normal_DIB/monocyte/MO_...</td>\n",
       "      <td>668574</td>\n",
       "      <td>MO</td>\n",
       "      <td>monocyte</td>\n",
       "    </tr>\n",
       "    <tr>\n",
       "      <th>...</th>\n",
       "      <td>...</td>\n",
       "      <td>...</td>\n",
       "      <td>...</td>\n",
       "      <td>...</td>\n",
       "    </tr>\n",
       "    <tr>\n",
       "      <th>17087</th>\n",
       "      <td>../../data/PBC_dataset_normal_DIB/ig/PMY_73148...</td>\n",
       "      <td>73148</td>\n",
       "      <td>PMY</td>\n",
       "      <td>ig</td>\n",
       "    </tr>\n",
       "    <tr>\n",
       "      <th>17088</th>\n",
       "      <td>../../data/PBC_dataset_normal_DIB/ig/MY_364905...</td>\n",
       "      <td>364905</td>\n",
       "      <td>MY</td>\n",
       "      <td>ig</td>\n",
       "    </tr>\n",
       "    <tr>\n",
       "      <th>17089</th>\n",
       "      <td>../../data/PBC_dataset_normal_DIB/ig/MY_22578.jpg</td>\n",
       "      <td>22578</td>\n",
       "      <td>MY</td>\n",
       "      <td>ig</td>\n",
       "    </tr>\n",
       "    <tr>\n",
       "      <th>17090</th>\n",
       "      <td>../../data/PBC_dataset_normal_DIB/ig/PMY_75125...</td>\n",
       "      <td>751256</td>\n",
       "      <td>PMY</td>\n",
       "      <td>ig</td>\n",
       "    </tr>\n",
       "    <tr>\n",
       "      <th>17091</th>\n",
       "      <td>../../data/PBC_dataset_normal_DIB/ig/MMY_24409...</td>\n",
       "      <td>244097</td>\n",
       "      <td>MMY</td>\n",
       "      <td>ig</td>\n",
       "    </tr>\n",
       "  </tbody>\n",
       "</table>\n",
       "<p>17092 rows × 4 columns</p>\n",
       "</div>"
      ],
      "text/plain": [
       "                                               img_paths      id label  \\\n",
       "0      ../../data/PBC_dataset_normal_DIB/monocyte/MO_...  225079    MO   \n",
       "1      ../../data/PBC_dataset_normal_DIB/monocyte/MO_...  582430    MO   \n",
       "2      ../../data/PBC_dataset_normal_DIB/monocyte/MO_...  436409    MO   \n",
       "3      ../../data/PBC_dataset_normal_DIB/monocyte/MO_...  648815    MO   \n",
       "4      ../../data/PBC_dataset_normal_DIB/monocyte/MO_...  668574    MO   \n",
       "...                                                  ...     ...   ...   \n",
       "17087  ../../data/PBC_dataset_normal_DIB/ig/PMY_73148...   73148   PMY   \n",
       "17088  ../../data/PBC_dataset_normal_DIB/ig/MY_364905...  364905    MY   \n",
       "17089  ../../data/PBC_dataset_normal_DIB/ig/MY_22578.jpg   22578    MY   \n",
       "17090  ../../data/PBC_dataset_normal_DIB/ig/PMY_75125...  751256   PMY   \n",
       "17091  ../../data/PBC_dataset_normal_DIB/ig/MMY_24409...  244097   MMY   \n",
       "\n",
       "      cell_type  \n",
       "0      monocyte  \n",
       "1      monocyte  \n",
       "2      monocyte  \n",
       "3      monocyte  \n",
       "4      monocyte  \n",
       "...         ...  \n",
       "17087        ig  \n",
       "17088        ig  \n",
       "17089        ig  \n",
       "17090        ig  \n",
       "17091        ig  \n",
       "\n",
       "[17092 rows x 4 columns]"
      ]
     },
     "execution_count": 3,
     "metadata": {},
     "output_type": "execute_result"
    }
   ],
   "source": [
    "#create dataframe\n",
    "df = pd.DataFrame()\n",
    "df['img_paths'] = [str(image) for image in path.glob('*/*')]\n",
    "df['id'] = [image.stem.split('_')[1] for image in path.glob('*/*')]\n",
    "df['label'] = [image.stem.split('_')[0] for image in path.glob('*/*')]\n",
    "df['cell_type'] = [image.parts[-2] for image in path.glob('*/*')]\n",
    "\n",
    "df\n",
    "#id's are similar! Probably 1 patient for different cells"
   ]
  },
  {
   "cell_type": "markdown",
   "id": "acquired-modification",
   "metadata": {},
   "source": [
    "### Sort labels"
   ]
  },
  {
   "cell_type": "markdown",
   "id": "crucial-worker",
   "metadata": {},
   "source": [
    "Most immature neutrophils (IG) as metamyelocytes, myelocytes and promyelocytes are difficult to differentiate and their separation are prone to debate.\n",
    "Band neutrophils are also immature.\n",
    "Segmented neutrophils are fully mature and can be merge with the category 'Neutrophil'"
   ]
  },
  {
   "cell_type": "code",
   "execution_count": 4,
   "id": "nearby-championship",
   "metadata": {},
   "outputs": [
    {
     "data": {
      "text/plain": [
       "array(['MO', 'ERB', 'PLATELET', 'BA', 'BNE', 'SNE', 'NEUTROPHIL', 'LY',\n",
       "       'EO', 'MMY', 'PMY', 'MY', 'IG'], dtype=object)"
      ]
     },
     "execution_count": 4,
     "metadata": {},
     "output_type": "execute_result"
    }
   ],
   "source": [
    "df['label'].unique()"
   ]
  },
  {
   "cell_type": "code",
   "execution_count": 5,
   "id": "70b5b288-bfd6-43cf-b2e4-4688b5694ca5",
   "metadata": {},
   "outputs": [
    {
     "data": {
      "text/html": [
       "<div>\n",
       "<style scoped>\n",
       "    .dataframe tbody tr th:only-of-type {\n",
       "        vertical-align: middle;\n",
       "    }\n",
       "\n",
       "    .dataframe tbody tr th {\n",
       "        vertical-align: top;\n",
       "    }\n",
       "\n",
       "    .dataframe thead th {\n",
       "        text-align: right;\n",
       "    }\n",
       "</style>\n",
       "<table border=\"1\" class=\"dataframe\">\n",
       "  <thead>\n",
       "    <tr style=\"text-align: right;\">\n",
       "      <th></th>\n",
       "      <th>label</th>\n",
       "      <th>cell_type</th>\n",
       "    </tr>\n",
       "  </thead>\n",
       "  <tbody>\n",
       "    <tr>\n",
       "      <th>5319</th>\n",
       "      <td>BA</td>\n",
       "      <td>basophil</td>\n",
       "    </tr>\n",
       "    <tr>\n",
       "      <th>6537</th>\n",
       "      <td>BNE</td>\n",
       "      <td>neutrophil</td>\n",
       "    </tr>\n",
       "    <tr>\n",
       "      <th>11080</th>\n",
       "      <td>EO</td>\n",
       "      <td>eosinophil</td>\n",
       "    </tr>\n",
       "    <tr>\n",
       "      <th>1420</th>\n",
       "      <td>ERB</td>\n",
       "      <td>erythroblast</td>\n",
       "    </tr>\n",
       "    <tr>\n",
       "      <th>14214</th>\n",
       "      <td>IG</td>\n",
       "      <td>ig</td>\n",
       "    </tr>\n",
       "    <tr>\n",
       "      <th>9866</th>\n",
       "      <td>LY</td>\n",
       "      <td>lymphocyte</td>\n",
       "    </tr>\n",
       "    <tr>\n",
       "      <th>14197</th>\n",
       "      <td>MMY</td>\n",
       "      <td>ig</td>\n",
       "    </tr>\n",
       "    <tr>\n",
       "      <th>0</th>\n",
       "      <td>MO</td>\n",
       "      <td>monocyte</td>\n",
       "    </tr>\n",
       "    <tr>\n",
       "      <th>14199</th>\n",
       "      <td>MY</td>\n",
       "      <td>ig</td>\n",
       "    </tr>\n",
       "    <tr>\n",
       "      <th>6552</th>\n",
       "      <td>NEUTROPHIL</td>\n",
       "      <td>neutrophil</td>\n",
       "    </tr>\n",
       "    <tr>\n",
       "      <th>2971</th>\n",
       "      <td>PLATELET</td>\n",
       "      <td>platelet</td>\n",
       "    </tr>\n",
       "    <tr>\n",
       "      <th>14198</th>\n",
       "      <td>PMY</td>\n",
       "      <td>ig</td>\n",
       "    </tr>\n",
       "    <tr>\n",
       "      <th>6539</th>\n",
       "      <td>SNE</td>\n",
       "      <td>neutrophil</td>\n",
       "    </tr>\n",
       "  </tbody>\n",
       "</table>\n",
       "</div>"
      ],
      "text/plain": [
       "            label     cell_type\n",
       "5319           BA      basophil\n",
       "6537          BNE    neutrophil\n",
       "11080          EO    eosinophil\n",
       "1420          ERB  erythroblast\n",
       "14214          IG            ig\n",
       "9866           LY    lymphocyte\n",
       "14197         MMY            ig\n",
       "0              MO      monocyte\n",
       "14199          MY            ig\n",
       "6552   NEUTROPHIL    neutrophil\n",
       "2971     PLATELET      platelet\n",
       "14198         PMY            ig\n",
       "6539          SNE    neutrophil"
      ]
     },
     "execution_count": 5,
     "metadata": {},
     "output_type": "execute_result"
    }
   ],
   "source": [
    "df[['label', 'cell_type']].drop_duplicates().sort_values('label')"
   ]
  },
  {
   "cell_type": "code",
   "execution_count": 10,
   "id": "honest-lyric",
   "metadata": {
    "tags": []
   },
   "outputs": [],
   "source": [
    "# Fusion of neutrophil sub-groups\n",
    "df[\"label\"] = df[\"label\"].replace(to_replace = [\"SNE\",\"BNE\",\"NEUTROPHIL\", \"MY\",\"MMY\",\"PMY\", \"PLATELET\"], \n",
    "                                  value = [\"NEU\",\"NEU\",\"NEU\", \"IG\",\"IG\",\"IG\", \"PLT\"])"
   ]
  },
  {
   "cell_type": "markdown",
   "id": "coordinated-description",
   "metadata": {},
   "source": [
    "The label `.DS` is not an image and should be removed (1 image)"
   ]
  },
  {
   "cell_type": "code",
   "execution_count": 11,
   "id": "changed-captain",
   "metadata": {},
   "outputs": [],
   "source": [
    "df = df[~(df['label']=='.DS')]"
   ]
  },
  {
   "cell_type": "code",
   "execution_count": 12,
   "id": "lesser-letter",
   "metadata": {},
   "outputs": [
    {
     "data": {
      "text/plain": [
       "NEU    3329\n",
       "EO     3117\n",
       "IG     2895\n",
       "PLT    2348\n",
       "ERB    1551\n",
       "MO     1420\n",
       "BA     1218\n",
       "LY     1214\n",
       "Name: label, dtype: int64"
      ]
     },
     "execution_count": 12,
     "metadata": {},
     "output_type": "execute_result"
    }
   ],
   "source": [
    "df['label'].value_counts()"
   ]
  },
  {
   "cell_type": "code",
   "execution_count": 13,
   "id": "municipal-article",
   "metadata": {},
   "outputs": [
    {
     "data": {
      "text/html": [
       "<div>\n",
       "<style scoped>\n",
       "    .dataframe tbody tr th:only-of-type {\n",
       "        vertical-align: middle;\n",
       "    }\n",
       "\n",
       "    .dataframe tbody tr th {\n",
       "        vertical-align: top;\n",
       "    }\n",
       "\n",
       "    .dataframe thead th {\n",
       "        text-align: right;\n",
       "    }\n",
       "</style>\n",
       "<table border=\"1\" class=\"dataframe\">\n",
       "  <thead>\n",
       "    <tr style=\"text-align: right;\">\n",
       "      <th></th>\n",
       "      <th>label</th>\n",
       "      <th>cell_type</th>\n",
       "    </tr>\n",
       "  </thead>\n",
       "  <tbody>\n",
       "    <tr>\n",
       "      <th>5319</th>\n",
       "      <td>BA</td>\n",
       "      <td>basophil</td>\n",
       "    </tr>\n",
       "    <tr>\n",
       "      <th>11080</th>\n",
       "      <td>EO</td>\n",
       "      <td>eosinophil</td>\n",
       "    </tr>\n",
       "    <tr>\n",
       "      <th>1420</th>\n",
       "      <td>ERB</td>\n",
       "      <td>erythroblast</td>\n",
       "    </tr>\n",
       "    <tr>\n",
       "      <th>14197</th>\n",
       "      <td>IG</td>\n",
       "      <td>ig</td>\n",
       "    </tr>\n",
       "    <tr>\n",
       "      <th>9866</th>\n",
       "      <td>LY</td>\n",
       "      <td>lymphocyte</td>\n",
       "    </tr>\n",
       "    <tr>\n",
       "      <th>0</th>\n",
       "      <td>MO</td>\n",
       "      <td>monocyte</td>\n",
       "    </tr>\n",
       "    <tr>\n",
       "      <th>6537</th>\n",
       "      <td>NEU</td>\n",
       "      <td>neutrophil</td>\n",
       "    </tr>\n",
       "    <tr>\n",
       "      <th>2971</th>\n",
       "      <td>PLT</td>\n",
       "      <td>platelet</td>\n",
       "    </tr>\n",
       "  </tbody>\n",
       "</table>\n",
       "</div>"
      ],
      "text/plain": [
       "      label     cell_type\n",
       "5319     BA      basophil\n",
       "11080    EO    eosinophil\n",
       "1420    ERB  erythroblast\n",
       "14197    IG            ig\n",
       "9866     LY    lymphocyte\n",
       "0        MO      monocyte\n",
       "6537    NEU    neutrophil\n",
       "2971    PLT      platelet"
      ]
     },
     "execution_count": 13,
     "metadata": {},
     "output_type": "execute_result"
    }
   ],
   "source": [
    "#We now have 8 classes\n",
    "df[['label', 'cell_type']].drop_duplicates().sort_values('label')"
   ]
  },
  {
   "cell_type": "markdown",
   "id": "preliminary-bosnia",
   "metadata": {},
   "source": [
    "### Import images with dask"
   ]
  },
  {
   "cell_type": "markdown",
   "id": "rational-decision",
   "metadata": {},
   "source": [
    "### Add height, width, brightness, luminance to df"
   ]
  },
  {
   "cell_type": "code",
   "execution_count": 14,
   "id": "54bd5b24-e13c-4b94-bdf4-e1024453087b",
   "metadata": {},
   "outputs": [],
   "source": [
    "def add_columns(filename):\n",
    "    \n",
    "    im = io.imread(filename)\n",
    "    temp = pd.DataFrame(index=[0])\n",
    "\n",
    "    temp['height'] = im.shape[0] \n",
    "    temp['width'] = im.shape[1]\n",
    "    temp['mean_brightness'] = np.mean(im)    \n",
    "    \n",
    "    im_gray = color.rgb2grey(im)\n",
    "    temp['mean_luminance'] = np.mean(im_gray)\n",
    "    \n",
    "    return temp"
   ]
  },
  {
   "cell_type": "code",
   "execution_count": null,
   "id": "5c8c3941-046e-4b6f-9e6d-4e775ecd30ff",
   "metadata": {},
   "outputs": [
    {
     "name": "stdout",
     "output_type": "stream",
     "text": [
      "[#                                       ] | 2% Completed | 11.6s"
     ]
    }
   ],
   "source": [
    "addcol_bag = bag.from_sequence(df.img_paths.to_list()).map(add_columns)\n",
    "with diagnostics.ProgressBar():\n",
    "    res = addcol_bag.compute()"
   ]
  },
  {
   "cell_type": "code",
   "execution_count": null,
   "id": "magnetic-quest",
   "metadata": {},
   "outputs": [],
   "source": [
    "res_df = pd.concat(res).reset_index(drop=True)\n",
    "df_temp = df.join(res_df)\n",
    "df_temp"
   ]
  },
  {
   "cell_type": "code",
   "execution_count": null,
   "id": "elect-receipt",
   "metadata": {},
   "outputs": [],
   "source": [
    "df_temp.to_csv('../../data/PBC_dataset_normal_df.csv', index=False)"
   ]
  },
  {
   "cell_type": "code",
   "execution_count": 57,
   "id": "392a03d7-59c2-4169-ba22-a08b4a6a4e49",
   "metadata": {},
   "outputs": [
    {
     "name": "stdout",
     "output_type": "stream",
     "text": [
      "<class 'pandas.core.frame.DataFrame'>\n",
      "Int64Index: 17092 entries, 0 to 17091\n",
      "Data columns (total 8 columns):\n",
      " #   Column           Non-Null Count  Dtype  \n",
      "---  ------           --------------  -----  \n",
      " 0   img_paths        17092 non-null  object \n",
      " 1   id               17092 non-null  object \n",
      " 2   label            17092 non-null  object \n",
      " 3   cell_type        17092 non-null  object \n",
      " 4   height           17092 non-null  int64  \n",
      " 5   width            17092 non-null  int64  \n",
      " 6   mean_brightness  17092 non-null  float64\n",
      " 7   mean_luminance   17092 non-null  float64\n",
      "dtypes: float64(2), int64(2), object(4)\n",
      "memory usage: 1.7+ MB\n"
     ]
    }
   ],
   "source": [
    "df_temp.info()"
   ]
  },
  {
   "cell_type": "code",
   "execution_count": 59,
   "id": "dff59edf-f0b7-4603-9be8-97ff60c222c6",
   "metadata": {},
   "outputs": [],
   "source": [
    "df_temp.to_pickle('../../data/PBC_dataset_normal_df.pkl')"
   ]
  },
  {
   "cell_type": "code",
   "execution_count": null,
   "id": "8eaa5082-0bd0-4d02-b4ed-686ecc6da826",
   "metadata": {},
   "outputs": [],
   "source": []
  }
 ],
 "metadata": {
  "kernelspec": {
   "display_name": "DStest",
   "language": "python",
   "name": "dstest"
  },
  "language_info": {
   "codemirror_mode": {
    "name": "ipython",
    "version": 3
   },
   "file_extension": ".py",
   "mimetype": "text/x-python",
   "name": "python",
   "nbconvert_exporter": "python",
   "pygments_lexer": "ipython3",
   "version": "3.9.4"
  }
 },
 "nbformat": 4,
 "nbformat_minor": 5
}

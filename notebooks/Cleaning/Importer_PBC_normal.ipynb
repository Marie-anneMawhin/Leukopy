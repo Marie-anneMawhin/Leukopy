{
 "cells": [
  {
   "cell_type": "code",
   "execution_count": 1,
   "id": "material-arnold",
   "metadata": {},
   "outputs": [],
   "source": [
    "import pandas as pd\n",
    "import numpy as np\n",
    "import matplotlib.pyplot as plt\n",
    "import seaborn as sns\n",
    "from skimage import io, color, exposure\n",
    "import skimage\n",
    "\n",
    "from pathlib import Path"
   ]
  },
  {
   "cell_type": "markdown",
   "id": "compliant-compiler",
   "metadata": {},
   "source": [
    "## Import normal peripheral blood cell dataset"
   ]
  },
  {
   "cell_type": "code",
   "execution_count": 2,
   "id": "alike-simpson",
   "metadata": {},
   "outputs": [],
   "source": [
    "#get path to data/main_dir\n",
    "path_name = '../../data/PBC_dataset_normal_DIB'\n",
    "path = Path(path_name)"
   ]
  },
  {
   "cell_type": "code",
   "execution_count": 3,
   "id": "moral-plenty",
   "metadata": {
    "tags": []
   },
   "outputs": [],
   "source": [
    "#create dataframe\n",
    "df = pd.DataFrame()\n",
    "df['img_paths'] = [str(image) for image in path.glob('*/*')]\n",
    "df['id'] = [image.stem.split('_')[1] for image in path.glob('*/*')]\n",
    "df['label'] = [image.stem.split('_')[0] for image in path.glob('*/*')]\n",
    "\n",
    "#id's are similar! Probably 1 patient for different cells"
   ]
  },
  {
   "cell_type": "markdown",
   "id": "acquired-modification",
   "metadata": {},
   "source": [
    "### Sort labels"
   ]
  },
  {
   "cell_type": "markdown",
   "id": "crucial-worker",
   "metadata": {},
   "source": [
    "Most immature neutrophils (IG) as metamyelocytes, myelocytes and promyelocytes are difficult to differentiate and their separation are prone to debate.\n",
    "Band neutrophils are also immature.\n",
    "Segmented neutrophils are fully mature and can be merge with the category 'Neutrophil'"
   ]
  },
  {
   "cell_type": "code",
   "execution_count": 4,
   "id": "nearby-championship",
   "metadata": {},
   "outputs": [
    {
     "data": {
      "text/plain": [
       "array(['MO', 'ERB', 'PLATELET', 'BA', 'BNE', 'SNE', 'NEUTROPHIL', 'LY',\n",
       "       'EO', 'MMY', 'PMY', 'MY', 'IG'], dtype=object)"
      ]
     },
     "execution_count": 4,
     "metadata": {},
     "output_type": "execute_result"
    }
   ],
   "source": [
    "df['label'].unique()"
   ]
  },
  {
   "cell_type": "code",
   "execution_count": 5,
   "id": "honest-lyric",
   "metadata": {
    "tags": []
   },
   "outputs": [],
   "source": [
    "# Fusion of neutrophil sub-groups\n",
    "df[\"label\"] = df[\"label\"].replace(to_replace = [\"NEUTROPHIL\",\"BNE\",\"MY\",\"MMY\",\"PMY\"], \n",
    "                                  value = [\"SNE\",\"IG\",\"IG\",\"IG\",\"IG\"])"
   ]
  },
  {
   "cell_type": "markdown",
   "id": "coordinated-description",
   "metadata": {},
   "source": [
    "The label `.DS` is not an image and should be removed (1 image)"
   ]
  },
  {
   "cell_type": "code",
   "execution_count": 6,
   "id": "changed-captain",
   "metadata": {},
   "outputs": [],
   "source": [
    "df = df[~(df['label']=='.DS')]"
   ]
  },
  {
   "cell_type": "code",
   "execution_count": 7,
   "id": "lesser-letter",
   "metadata": {},
   "outputs": [
    {
     "data": {
      "text/plain": [
       "array(['MO', 'ERB', 'PLATELET', 'BA', 'IG', 'SNE', 'LY', 'EO'],\n",
       "      dtype=object)"
      ]
     },
     "execution_count": 7,
     "metadata": {},
     "output_type": "execute_result"
    }
   ],
   "source": [
    "df['label'].unique()"
   ]
  },
  {
   "cell_type": "code",
   "execution_count": 8,
   "id": "municipal-article",
   "metadata": {},
   "outputs": [],
   "source": [
    "#We now have 8 classes\n",
    "classes = df['label'].unique()"
   ]
  },
  {
   "cell_type": "markdown",
   "id": "preliminary-bosnia",
   "metadata": {},
   "source": [
    "### Import images and store as a list of array"
   ]
  },
  {
   "cell_type": "code",
   "execution_count": 9,
   "id": "infectious-deputy",
   "metadata": {},
   "outputs": [
    {
     "name": "stdout",
     "output_type": "stream",
     "text": [
      "CPU times: user 8 µs, sys: 7 µs, total: 15 µs\n",
      "Wall time: 25.3 µs\n"
     ]
    }
   ],
   "source": [
    "%time\n",
    "images = [io.imread(file) for file in df['img_paths']]"
   ]
  },
  {
   "cell_type": "code",
   "execution_count": 10,
   "id": "conventional-accreditation",
   "metadata": {},
   "outputs": [
    {
     "data": {
      "text/plain": [
       "17092"
      ]
     },
     "execution_count": 10,
     "metadata": {},
     "output_type": "execute_result"
    }
   ],
   "source": [
    "len(images)"
   ]
  },
  {
   "cell_type": "markdown",
   "id": "rational-decision",
   "metadata": {},
   "source": [
    "### Add height, width and brightness to df"
   ]
  },
  {
   "cell_type": "code",
   "execution_count": 11,
   "id": "magnetic-quest",
   "metadata": {},
   "outputs": [],
   "source": [
    "df['height'] = [im.shape[0] for im in images]\n",
    "df['width'] = [im.shape[1] for im in images]"
   ]
  },
  {
   "cell_type": "code",
   "execution_count": 12,
   "id": "referenced-absence",
   "metadata": {},
   "outputs": [],
   "source": [
    "df['mean_brightness'] = [np.mean(im) for im in images]"
   ]
  },
  {
   "cell_type": "code",
   "execution_count": 13,
   "id": "elect-receipt",
   "metadata": {},
   "outputs": [],
   "source": [
    "df.to_csv('../../data/PBC_dataset_normal_df.csv', index=False)"
   ]
  },
  {
   "cell_type": "code",
   "execution_count": null,
   "id": "dff59edf-f0b7-4603-9be8-97ff60c222c6",
   "metadata": {},
   "outputs": [],
   "source": []
  }
 ],
 "metadata": {
  "kernelspec": {
   "display_name": "DStest",
   "language": "python",
   "name": "dstest"
  },
  "language_info": {
   "codemirror_mode": {
    "name": "ipython",
    "version": 3
   },
   "file_extension": ".py",
   "mimetype": "text/x-python",
   "name": "python",
   "nbconvert_exporter": "python",
   "pygments_lexer": "ipython3",
   "version": "3.9.4"
  }
 },
 "nbformat": 4,
 "nbformat_minor": 5
}

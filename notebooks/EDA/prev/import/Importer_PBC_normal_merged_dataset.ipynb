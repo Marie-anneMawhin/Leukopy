{
 "cells": [
  {
   "cell_type": "code",
   "execution_count": 1,
   "id": "material-arnold",
   "metadata": {},
   "outputs": [
    {
     "data": {
      "text/plain": [
       "<module 'leukopy_lib' from '/home/marie-anne/code/Leukopy/notebooks/leukopy_lib.py'>"
      ]
     },
     "execution_count": 1,
     "metadata": {},
     "output_type": "execute_result"
    }
   ],
   "source": [
    "import pandas as pd\n",
    "import numpy as np\n",
    "import matplotlib.pyplot as plt\n",
    "import seaborn as sns\n",
    "from skimage import io, color, exposure\n",
    "import skimage\n",
    "\n",
    "from pathlib import Path\n",
    "import os, sys\n",
    "\n",
    "from dask import bag, diagnostics\n",
    "\n",
    "\n",
    "sys.path.insert(0, str(Path.cwd().parent))\n",
    "import leukopy_lib as leuko\n",
    "from importlib import reload\n",
    "reload(leuko)"
   ]
  },
  {
   "cell_type": "markdown",
   "id": "compliant-compiler",
   "metadata": {},
   "source": [
    "## Import normal peripheral blood cell dataset merged\n",
    "\n"
   ]
  },
  {
   "cell_type": "code",
   "execution_count": 2,
   "id": "alike-simpson",
   "metadata": {},
   "outputs": [],
   "source": [
    "#get path to data/main_dir\n",
    "path_name = '../../data/main_dataset_2/'\n",
    "path = Path(path_name)"
   ]
  },
  {
   "cell_type": "code",
   "execution_count": 3,
   "id": "1f9b631d-488a-4482-a134-1517847fc42a",
   "metadata": {},
   "outputs": [
    {
     "data": {
      "text/html": [
       "<div>\n",
       "<style scoped>\n",
       "    .dataframe tbody tr th:only-of-type {\n",
       "        vertical-align: middle;\n",
       "    }\n",
       "\n",
       "    .dataframe tbody tr th {\n",
       "        vertical-align: top;\n",
       "    }\n",
       "\n",
       "    .dataframe thead th {\n",
       "        text-align: right;\n",
       "    }\n",
       "</style>\n",
       "<table border=\"1\" class=\"dataframe\">\n",
       "  <thead>\n",
       "    <tr style=\"text-align: right;\">\n",
       "      <th></th>\n",
       "      <th>img_path</th>\n",
       "      <th>label</th>\n",
       "      <th>label_2</th>\n",
       "    </tr>\n",
       "  </thead>\n",
       "  <tbody>\n",
       "    <tr>\n",
       "      <th>0</th>\n",
       "      <td>../../data/main_dataset_2/SNE/SNE_263049.jpg</td>\n",
       "      <td>SNE</td>\n",
       "      <td>SNE</td>\n",
       "    </tr>\n",
       "    <tr>\n",
       "      <th>1</th>\n",
       "      <td>../../data/main_dataset_2/SNE/SNE_829664.jpg</td>\n",
       "      <td>SNE</td>\n",
       "      <td>SNE</td>\n",
       "    </tr>\n",
       "    <tr>\n",
       "      <th>2</th>\n",
       "      <td>../../data/main_dataset_2/SNE/SNE_987578.jpg</td>\n",
       "      <td>SNE</td>\n",
       "      <td>SNE</td>\n",
       "    </tr>\n",
       "    <tr>\n",
       "      <th>3</th>\n",
       "      <td>../../data/main_dataset_2/SNE/SNE_66862.jpg</td>\n",
       "      <td>SNE</td>\n",
       "      <td>SNE</td>\n",
       "    </tr>\n",
       "    <tr>\n",
       "      <th>4</th>\n",
       "      <td>../../data/main_dataset_2/SNE/SNE_935764.jpg</td>\n",
       "      <td>SNE</td>\n",
       "      <td>SNE</td>\n",
       "    </tr>\n",
       "  </tbody>\n",
       "</table>\n",
       "</div>"
      ],
      "text/plain": [
       "                                       img_path label label_2\n",
       "0  ../../data/main_dataset_2/SNE/SNE_263049.jpg   SNE     SNE\n",
       "1  ../../data/main_dataset_2/SNE/SNE_829664.jpg   SNE     SNE\n",
       "2  ../../data/main_dataset_2/SNE/SNE_987578.jpg   SNE     SNE\n",
       "3   ../../data/main_dataset_2/SNE/SNE_66862.jpg   SNE     SNE\n",
       "4  ../../data/main_dataset_2/SNE/SNE_935764.jpg   SNE     SNE"
      ]
     },
     "execution_count": 3,
     "metadata": {},
     "output_type": "execute_result"
    }
   ],
   "source": [
    "df = pd.DataFrame()\n",
    "df['img_path'] = [str(image_path) for ext in ['jpg', 'tiff', 'png'] \n",
    "                  for image_path in path.glob(f'**/*.{ext}')]\n",
    "\n",
    "df['label'] = [image_path.parts[-2] for ext in ['jpg', 'tiff', 'png'] \n",
    "               for image_path in path.glob(f'**/*.{ext}')]\n",
    "\n",
    "df['label_2'] = [image_path.stem.split('_')[0] \n",
    "                 for ext in ['jpg', 'tiff', 'png'] for image_path in path.glob(f'**/*.{ext}')]\n",
    "df.head()"
   ]
  },
  {
   "cell_type": "code",
   "execution_count": 8,
   "id": "b3a4916f-8ca5-4f25-b71a-00962fbc85c2",
   "metadata": {},
   "outputs": [
    {
     "data": {
      "text/html": [
       "<div>\n",
       "<style scoped>\n",
       "    .dataframe tbody tr th:only-of-type {\n",
       "        vertical-align: middle;\n",
       "    }\n",
       "\n",
       "    .dataframe tbody tr th {\n",
       "        vertical-align: top;\n",
       "    }\n",
       "\n",
       "    .dataframe thead th {\n",
       "        text-align: right;\n",
       "    }\n",
       "</style>\n",
       "<table border=\"1\" class=\"dataframe\">\n",
       "  <thead>\n",
       "    <tr style=\"text-align: right;\">\n",
       "      <th></th>\n",
       "      <th>img_path</th>\n",
       "      <th>label</th>\n",
       "      <th>label_2</th>\n",
       "      <th>origin</th>\n",
       "    </tr>\n",
       "  </thead>\n",
       "  <tbody>\n",
       "    <tr>\n",
       "      <th>0</th>\n",
       "      <td>../../data/main_dataset_2/SNE/SNE_263049.jpg</td>\n",
       "      <td>SNE</td>\n",
       "      <td>SNE</td>\n",
       "      <td>barcelone</td>\n",
       "    </tr>\n",
       "    <tr>\n",
       "      <th>1</th>\n",
       "      <td>../../data/main_dataset_2/SNE/SNE_829664.jpg</td>\n",
       "      <td>SNE</td>\n",
       "      <td>SNE</td>\n",
       "      <td>barcelone</td>\n",
       "    </tr>\n",
       "    <tr>\n",
       "      <th>2</th>\n",
       "      <td>../../data/main_dataset_2/SNE/SNE_987578.jpg</td>\n",
       "      <td>SNE</td>\n",
       "      <td>SNE</td>\n",
       "      <td>barcelone</td>\n",
       "    </tr>\n",
       "    <tr>\n",
       "      <th>3</th>\n",
       "      <td>../../data/main_dataset_2/SNE/SNE_66862.jpg</td>\n",
       "      <td>SNE</td>\n",
       "      <td>SNE</td>\n",
       "      <td>barcelone</td>\n",
       "    </tr>\n",
       "    <tr>\n",
       "      <th>4</th>\n",
       "      <td>../../data/main_dataset_2/SNE/SNE_935764.jpg</td>\n",
       "      <td>SNE</td>\n",
       "      <td>SNE</td>\n",
       "      <td>barcelone</td>\n",
       "    </tr>\n",
       "    <tr>\n",
       "      <th>...</th>\n",
       "      <td>...</td>\n",
       "      <td>...</td>\n",
       "      <td>...</td>\n",
       "      <td>...</td>\n",
       "    </tr>\n",
       "    <tr>\n",
       "      <th>37684</th>\n",
       "      <td>../../data/main_dataset_2/ERB/EBO_0042.tiff</td>\n",
       "      <td>ERB</td>\n",
       "      <td>EBO</td>\n",
       "      <td>munich</td>\n",
       "    </tr>\n",
       "    <tr>\n",
       "      <th>37685</th>\n",
       "      <td>../../data/main_dataset_2/ERB/EBO_0044.tiff</td>\n",
       "      <td>ERB</td>\n",
       "      <td>EBO</td>\n",
       "      <td>munich</td>\n",
       "    </tr>\n",
       "    <tr>\n",
       "      <th>37686</th>\n",
       "      <td>../../data/main_dataset_2/ERB/EBO_0074.tiff</td>\n",
       "      <td>ERB</td>\n",
       "      <td>EBO</td>\n",
       "      <td>munich</td>\n",
       "    </tr>\n",
       "    <tr>\n",
       "      <th>37687</th>\n",
       "      <td>../../data/main_dataset_2/ERB/EBO_0003.tiff</td>\n",
       "      <td>ERB</td>\n",
       "      <td>EBO</td>\n",
       "      <td>munich</td>\n",
       "    </tr>\n",
       "    <tr>\n",
       "      <th>37688</th>\n",
       "      <td>../../data/main_dataset_2/ERB/EBO_0078.tiff</td>\n",
       "      <td>ERB</td>\n",
       "      <td>EBO</td>\n",
       "      <td>munich</td>\n",
       "    </tr>\n",
       "  </tbody>\n",
       "</table>\n",
       "<p>37689 rows × 4 columns</p>\n",
       "</div>"
      ],
      "text/plain": [
       "                                           img_path label label_2     origin\n",
       "0      ../../data/main_dataset_2/SNE/SNE_263049.jpg   SNE     SNE  barcelone\n",
       "1      ../../data/main_dataset_2/SNE/SNE_829664.jpg   SNE     SNE  barcelone\n",
       "2      ../../data/main_dataset_2/SNE/SNE_987578.jpg   SNE     SNE  barcelone\n",
       "3       ../../data/main_dataset_2/SNE/SNE_66862.jpg   SNE     SNE  barcelone\n",
       "4      ../../data/main_dataset_2/SNE/SNE_935764.jpg   SNE     SNE  barcelone\n",
       "...                                             ...   ...     ...        ...\n",
       "37684   ../../data/main_dataset_2/ERB/EBO_0042.tiff   ERB     EBO     munich\n",
       "37685   ../../data/main_dataset_2/ERB/EBO_0044.tiff   ERB     EBO     munich\n",
       "37686   ../../data/main_dataset_2/ERB/EBO_0074.tiff   ERB     EBO     munich\n",
       "37687   ../../data/main_dataset_2/ERB/EBO_0003.tiff   ERB     EBO     munich\n",
       "37688   ../../data/main_dataset_2/ERB/EBO_0078.tiff   ERB     EBO     munich\n",
       "\n",
       "[37689 rows x 4 columns]"
      ]
     },
     "execution_count": 8,
     "metadata": {},
     "output_type": "execute_result"
    }
   ],
   "source": [
    "barca = ['MO', 'ERB', 'PLATELET', 'BA', 'BNE', 'SNE', 'LY', 'EO', 'MMY', 'PMY', 'MY']\n",
    "munich = ['MON', 'EBO', 'BAS', 'NGB', 'NGS', 'LYT', 'EOS', 'MMZ', 'PMO', 'MYB']\n",
    "\n",
    "df.loc[df.label_2.isin(barca),'origin']='barcelone'\n",
    "df.loc[df.label_2.isin(munich),'origin']='munich'\n",
    "df.origin.fillna('raabin', inplace=True)\n",
    "df"
   ]
  },
  {
   "cell_type": "code",
   "execution_count": 23,
   "id": "99fce568-0f69-497d-8d47-6a78e0dd6f92",
   "metadata": {},
   "outputs": [
    {
     "data": {
      "text/plain": [
       "label       11\n",
       "label_2    229\n",
       "origin       3\n",
       "dtype: int64"
      ]
     },
     "execution_count": 23,
     "metadata": {},
     "output_type": "execute_result"
    }
   ],
   "source": [
    "df.iloc[:, 1:].nunique()"
   ]
  },
  {
   "cell_type": "code",
   "execution_count": 24,
   "id": "6b59f3a3-b930-4a1f-ae76-35c29511b599",
   "metadata": {},
   "outputs": [
    {
     "data": {
      "text/plain": [
       "<AxesSubplot:xlabel='label', ylabel='count'>"
      ]
     },
     "execution_count": 24,
     "metadata": {},
     "output_type": "execute_result"
    },
    {
     "data": {
      "image/png": "[encoded data removed]",
      "text/plain": [
       "<Figure size 432x288 with 1 Axes>"
      ]
     },
     "metadata": {
      "needs_background": "light"
     },
     "output_type": "display_data"
    }
   ],
   "source": [
    "sns.countplot(x=df.label)"
   ]
  },
  {
   "cell_type": "markdown",
   "id": "preliminary-bosnia",
   "metadata": {},
   "source": [
    "### Import images with dask"
   ]
  },
  {
   "cell_type": "markdown",
   "id": "rational-decision",
   "metadata": {},
   "source": [
    "### Add height, width, brightness, luminance to df"
   ]
  },
  {
   "cell_type": "code",
   "execution_count": 25,
   "id": "ab389d1c-e397-4808-abbf-7dc15f3a0d98",
   "metadata": {},
   "outputs": [
    {
     "data": {
      "text/plain": [
       "'../../data/main_dataset_2/ERB/EBO_0078.tiff'"
      ]
     },
     "execution_count": 25,
     "metadata": {},
     "output_type": "execute_result"
    }
   ],
   "source": [
    "df.img_path.to_list()[-1]"
   ]
  },
  {
   "cell_type": "code",
   "execution_count": 26,
   "id": "8d250530-9d04-4ce7-b7e9-39df06025bda",
   "metadata": {},
   "outputs": [
    {
     "data": {
      "text/plain": [
       "400"
      ]
     },
     "execution_count": 26,
     "metadata": {},
     "output_type": "execute_result"
    }
   ],
   "source": [
    "tst = io.imread(df.img_path.to_list()[-1])\n",
    "tst.shape[0] "
   ]
  },
  {
   "cell_type": "code",
   "execution_count": 27,
   "id": "54bd5b24-e13c-4b94-bdf4-e1024453087b",
   "metadata": {},
   "outputs": [],
   "source": [
    "def add_columns(filename):\n",
    "    \n",
    "    im = io.imread(filename)\n",
    "    temp = pd.DataFrame(index=[0])\n",
    "\n",
    "    temp['height'] = im.shape[0] \n",
    "    temp['width'] = im.shape[1]\n",
    "    temp['mean_brightness'] = np.mean(im)    \n",
    "    \n",
    "    im_gray = color.rgb2grey(im)\n",
    "    temp['mean_luminance'] = np.mean(im_gray)\n",
    "    \n",
    "    return temp"
   ]
  },
  {
   "cell_type": "code",
   "execution_count": 28,
   "id": "5c8c3941-046e-4b6f-9e6d-4e775ecd30ff",
   "metadata": {},
   "outputs": [
    {
     "name": "stdout",
     "output_type": "stream",
     "text": [
      "[########################################] | 100% Completed |  1min  5.5s\n"
     ]
    }
   ],
   "source": [
    "addcol_bag = bag.from_sequence(df.img_path.to_list()).map(add_columns)\n",
    "with diagnostics.ProgressBar():\n",
    "    res = addcol_bag.compute()"
   ]
  },
  {
   "cell_type": "code",
   "execution_count": 29,
   "id": "5b3f79b3-ffee-471d-aec2-f77bb484514e",
   "metadata": {},
   "outputs": [
    {
     "data": {
      "text/plain": [
       "(37689, 4)"
      ]
     },
     "execution_count": 29,
     "metadata": {},
     "output_type": "execute_result"
    }
   ],
   "source": [
    "df.shape"
   ]
  },
  {
   "cell_type": "code",
   "execution_count": 30,
   "id": "df412b0e-9bc7-4502-b5e9-11864ec63d55",
   "metadata": {},
   "outputs": [
    {
     "data": {
      "text/plain": [
       "37689"
      ]
     },
     "execution_count": 30,
     "metadata": {},
     "output_type": "execute_result"
    }
   ],
   "source": [
    "len(res)"
   ]
  },
  {
   "cell_type": "code",
   "execution_count": 31,
   "id": "magnetic-quest",
   "metadata": {},
   "outputs": [
    {
     "data": {
      "text/html": [
       "<div>\n",
       "<style scoped>\n",
       "    .dataframe tbody tr th:only-of-type {\n",
       "        vertical-align: middle;\n",
       "    }\n",
       "\n",
       "    .dataframe tbody tr th {\n",
       "        vertical-align: top;\n",
       "    }\n",
       "\n",
       "    .dataframe thead th {\n",
       "        text-align: right;\n",
       "    }\n",
       "</style>\n",
       "<table border=\"1\" class=\"dataframe\">\n",
       "  <thead>\n",
       "    <tr style=\"text-align: right;\">\n",
       "      <th></th>\n",
       "      <th>img_path</th>\n",
       "      <th>label</th>\n",
       "      <th>label_2</th>\n",
       "      <th>origin</th>\n",
       "      <th>height</th>\n",
       "      <th>width</th>\n",
       "      <th>mean_brightness</th>\n",
       "      <th>mean_luminance</th>\n",
       "    </tr>\n",
       "  </thead>\n",
       "  <tbody>\n",
       "    <tr>\n",
       "      <th>0</th>\n",
       "      <td>../../data/main_dataset_2/SNE/SNE_263049.jpg</td>\n",
       "      <td>SNE</td>\n",
       "      <td>SNE</td>\n",
       "      <td>barcelone</td>\n",
       "      <td>363</td>\n",
       "      <td>360</td>\n",
       "      <td>200.803423</td>\n",
       "      <td>0.783345</td>\n",
       "    </tr>\n",
       "    <tr>\n",
       "      <th>1</th>\n",
       "      <td>../../data/main_dataset_2/SNE/SNE_829664.jpg</td>\n",
       "      <td>SNE</td>\n",
       "      <td>SNE</td>\n",
       "      <td>barcelone</td>\n",
       "      <td>363</td>\n",
       "      <td>360</td>\n",
       "      <td>197.570620</td>\n",
       "      <td>0.766877</td>\n",
       "    </tr>\n",
       "    <tr>\n",
       "      <th>2</th>\n",
       "      <td>../../data/main_dataset_2/SNE/SNE_987578.jpg</td>\n",
       "      <td>SNE</td>\n",
       "      <td>SNE</td>\n",
       "      <td>barcelone</td>\n",
       "      <td>363</td>\n",
       "      <td>360</td>\n",
       "      <td>197.110430</td>\n",
       "      <td>0.765792</td>\n",
       "    </tr>\n",
       "    <tr>\n",
       "      <th>3</th>\n",
       "      <td>../../data/main_dataset_2/SNE/SNE_66862.jpg</td>\n",
       "      <td>SNE</td>\n",
       "      <td>SNE</td>\n",
       "      <td>barcelone</td>\n",
       "      <td>363</td>\n",
       "      <td>360</td>\n",
       "      <td>200.949015</td>\n",
       "      <td>0.783442</td>\n",
       "    </tr>\n",
       "    <tr>\n",
       "      <th>4</th>\n",
       "      <td>../../data/main_dataset_2/SNE/SNE_935764.jpg</td>\n",
       "      <td>SNE</td>\n",
       "      <td>SNE</td>\n",
       "      <td>barcelone</td>\n",
       "      <td>363</td>\n",
       "      <td>360</td>\n",
       "      <td>188.113246</td>\n",
       "      <td>0.724006</td>\n",
       "    </tr>\n",
       "    <tr>\n",
       "      <th>...</th>\n",
       "      <td>...</td>\n",
       "      <td>...</td>\n",
       "      <td>...</td>\n",
       "      <td>...</td>\n",
       "      <td>...</td>\n",
       "      <td>...</td>\n",
       "      <td>...</td>\n",
       "      <td>...</td>\n",
       "    </tr>\n",
       "    <tr>\n",
       "      <th>37684</th>\n",
       "      <td>../../data/main_dataset_2/ERB/EBO_0042.tiff</td>\n",
       "      <td>ERB</td>\n",
       "      <td>EBO</td>\n",
       "      <td>munich</td>\n",
       "      <td>400</td>\n",
       "      <td>400</td>\n",
       "      <td>227.576473</td>\n",
       "      <td>0.836840</td>\n",
       "    </tr>\n",
       "    <tr>\n",
       "      <th>37685</th>\n",
       "      <td>../../data/main_dataset_2/ERB/EBO_0044.tiff</td>\n",
       "      <td>ERB</td>\n",
       "      <td>EBO</td>\n",
       "      <td>munich</td>\n",
       "      <td>400</td>\n",
       "      <td>400</td>\n",
       "      <td>221.986736</td>\n",
       "      <td>0.796505</td>\n",
       "    </tr>\n",
       "    <tr>\n",
       "      <th>37686</th>\n",
       "      <td>../../data/main_dataset_2/ERB/EBO_0074.tiff</td>\n",
       "      <td>ERB</td>\n",
       "      <td>EBO</td>\n",
       "      <td>munich</td>\n",
       "      <td>400</td>\n",
       "      <td>400</td>\n",
       "      <td>223.501759</td>\n",
       "      <td>0.806716</td>\n",
       "    </tr>\n",
       "    <tr>\n",
       "      <th>37687</th>\n",
       "      <td>../../data/main_dataset_2/ERB/EBO_0003.tiff</td>\n",
       "      <td>ERB</td>\n",
       "      <td>EBO</td>\n",
       "      <td>munich</td>\n",
       "      <td>400</td>\n",
       "      <td>400</td>\n",
       "      <td>221.993016</td>\n",
       "      <td>0.805431</td>\n",
       "    </tr>\n",
       "    <tr>\n",
       "      <th>37688</th>\n",
       "      <td>../../data/main_dataset_2/ERB/EBO_0078.tiff</td>\n",
       "      <td>ERB</td>\n",
       "      <td>EBO</td>\n",
       "      <td>munich</td>\n",
       "      <td>400</td>\n",
       "      <td>400</td>\n",
       "      <td>220.475655</td>\n",
       "      <td>0.790270</td>\n",
       "    </tr>\n",
       "  </tbody>\n",
       "</table>\n",
       "<p>37689 rows × 8 columns</p>\n",
       "</div>"
      ],
      "text/plain": [
       "                                           img_path label label_2     origin  \\\n",
       "0      ../../data/main_dataset_2/SNE/SNE_263049.jpg   SNE     SNE  barcelone   \n",
       "1      ../../data/main_dataset_2/SNE/SNE_829664.jpg   SNE     SNE  barcelone   \n",
       "2      ../../data/main_dataset_2/SNE/SNE_987578.jpg   SNE     SNE  barcelone   \n",
       "3       ../../data/main_dataset_2/SNE/SNE_66862.jpg   SNE     SNE  barcelone   \n",
       "4      ../../data/main_dataset_2/SNE/SNE_935764.jpg   SNE     SNE  barcelone   \n",
       "...                                             ...   ...     ...        ...   \n",
       "37684   ../../data/main_dataset_2/ERB/EBO_0042.tiff   ERB     EBO     munich   \n",
       "37685   ../../data/main_dataset_2/ERB/EBO_0044.tiff   ERB     EBO     munich   \n",
       "37686   ../../data/main_dataset_2/ERB/EBO_0074.tiff   ERB     EBO     munich   \n",
       "37687   ../../data/main_dataset_2/ERB/EBO_0003.tiff   ERB     EBO     munich   \n",
       "37688   ../../data/main_dataset_2/ERB/EBO_0078.tiff   ERB     EBO     munich   \n",
       "\n",
       "       height  width  mean_brightness  mean_luminance  \n",
       "0         363    360       200.803423        0.783345  \n",
       "1         363    360       197.570620        0.766877  \n",
       "2         363    360       197.110430        0.765792  \n",
       "3         363    360       200.949015        0.783442  \n",
       "4         363    360       188.113246        0.724006  \n",
       "...       ...    ...              ...             ...  \n",
       "37684     400    400       227.576473        0.836840  \n",
       "37685     400    400       221.986736        0.796505  \n",
       "37686     400    400       223.501759        0.806716  \n",
       "37687     400    400       221.993016        0.805431  \n",
       "37688     400    400       220.475655        0.790270  \n",
       "\n",
       "[37689 rows x 8 columns]"
      ]
     },
     "execution_count": 31,
     "metadata": {},
     "output_type": "execute_result"
    }
   ],
   "source": [
    "res_df = pd.concat(res).reset_index(drop=True)\n",
    "df_temp = df.join(res_df)\n",
    "df_temp"
   ]
  },
  {
   "cell_type": "code",
   "execution_count": 32,
   "id": "elect-receipt",
   "metadata": {},
   "outputs": [],
   "source": [
    "df_temp.to_csv('../../data/PBC_dataset_normal_df_merged.csv', index=False)"
   ]
  },
  {
   "cell_type": "code",
   "execution_count": 33,
   "id": "392a03d7-59c2-4169-ba22-a08b4a6a4e49",
   "metadata": {},
   "outputs": [
    {
     "name": "stdout",
     "output_type": "stream",
     "text": [
      "<class 'pandas.core.frame.DataFrame'>\n",
      "RangeIndex: 37689 entries, 0 to 37688\n",
      "Data columns (total 8 columns):\n",
      " #   Column           Non-Null Count  Dtype  \n",
      "---  ------           --------------  -----  \n",
      " 0   img_path         37689 non-null  object \n",
      " 1   label            37689 non-null  object \n",
      " 2   label_2          37689 non-null  object \n",
      " 3   origin           37689 non-null  object \n",
      " 4   height           37689 non-null  int64  \n",
      " 5   width            37689 non-null  int64  \n",
      " 6   mean_brightness  37689 non-null  float64\n",
      " 7   mean_luminance   37689 non-null  float64\n",
      "dtypes: float64(2), int64(2), object(4)\n",
      "memory usage: 2.3+ MB\n"
     ]
    }
   ],
   "source": [
    "df_temp.info()"
   ]
  },
  {
   "cell_type": "code",
   "execution_count": 34,
   "id": "dff59edf-f0b7-4603-9be8-97ff60c222c6",
   "metadata": {},
   "outputs": [],
   "source": [
    "df_temp.to_pickle('../../data/PBC_dataset_normal_df_merged.pkl')"
   ]
  },
  {
   "cell_type": "code",
   "execution_count": null,
   "id": "720d3577-432c-4213-9972-e8cb288f90c2",
   "metadata": {},
   "outputs": [],
   "source": []
  }
 ],
 "metadata": {
  "kernelspec": {
   "display_name": "DStest",
   "language": "python",
   "name": "dstest"
  },
  "language_info": {
   "codemirror_mode": {
    "name": "ipython",
    "version": 3
   },
   "file_extension": ".py",
   "mimetype": "text/x-python",
   "name": "python",
   "nbconvert_exporter": "python",
   "pygments_lexer": "ipython3",
   "version": "3.9.4"
  }
 },
 "nbformat": 4,
 "nbformat_minor": 5
}

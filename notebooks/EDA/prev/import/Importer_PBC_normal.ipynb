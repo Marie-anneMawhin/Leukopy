{
 "cells": [
  {
   "cell_type": "code",
   "execution_count": 70,
   "id": "material-arnold",
   "metadata": {},
   "outputs": [
    {
     "data": {
      "text/plain": [
       "<module 'leukopy_lib' from '/home/marie-anne/code/Leukopy/notebooks/leukopy_lib.py'>"
      ]
     },
     "execution_count": 70,
     "metadata": {},
     "output_type": "execute_result"
    }
   ],
   "source": [
    "import pandas as pd\n",
    "import numpy as np\n",
    "import matplotlib.pyplot as plt\n",
    "import seaborn as sns\n",
    "from skimage import io, color, exposure\n",
    "import skimage\n",
    "\n",
    "from pathlib import Path\n",
    "import os, sys\n",
    "\n",
    "from dask import bag, diagnostics\n",
    "\n",
    "\n",
    "sys.path.insert(0, str(Path.cwd().parent))\n",
    "import leukopy_lib as leuko\n",
    "from importlib import reload\n",
    "reload(leuko)"
   ]
  },
  {
   "cell_type": "markdown",
   "id": "compliant-compiler",
   "metadata": {},
   "source": [
    "## Import normal peripheral blood cell dataset\n",
    "\n",
    "### Sort labels\n",
    "Segmented neutrophils are fully mature and can be merge with the category 'Neutrophil'. (label, 11 classes)\n",
    "\n",
    "\n",
    "Most immature neutrophils (IG) as metamyelocytes, myelocytes and promyelocytes are difficult to differentiate and their separation are prone to debate. (9 classes, label_3)\n",
    "\n",
    "\n",
    "Band neutrophils are also immature.(8 classes, label_2)\n",
    "\n",
    "\n"
   ]
  },
  {
   "cell_type": "code",
   "execution_count": 71,
   "id": "alike-simpson",
   "metadata": {},
   "outputs": [],
   "source": [
    "#get path to data/main_dir\n",
    "path_name = '../../data/PBC_dataset_normal_Barcelona'\n",
    "path = Path(path_name)"
   ]
  },
  {
   "cell_type": "code",
   "execution_count": 72,
   "id": "1f9b631d-488a-4482-a134-1517847fc42a",
   "metadata": {},
   "outputs": [
    {
     "data": {
      "text/html": [
       "<div>\n",
       "<style scoped>\n",
       "    .dataframe tbody tr th:only-of-type {\n",
       "        vertical-align: middle;\n",
       "    }\n",
       "\n",
       "    .dataframe tbody tr th {\n",
       "        vertical-align: top;\n",
       "    }\n",
       "\n",
       "    .dataframe thead th {\n",
       "        text-align: right;\n",
       "    }\n",
       "</style>\n",
       "<table border=\"1\" class=\"dataframe\">\n",
       "  <thead>\n",
       "    <tr style=\"text-align: right;\">\n",
       "      <th></th>\n",
       "      <th>img_path</th>\n",
       "      <th>cell_type</th>\n",
       "      <th>label</th>\n",
       "      <th>label_2</th>\n",
       "      <th>label_3</th>\n",
       "    </tr>\n",
       "  </thead>\n",
       "  <tbody>\n",
       "    <tr>\n",
       "      <th>0</th>\n",
       "      <td>../../data/PBC_dataset_normal_Barcelona/monocy...</td>\n",
       "      <td>monocyte</td>\n",
       "      <td>MO</td>\n",
       "      <td>MO</td>\n",
       "      <td>MO</td>\n",
       "    </tr>\n",
       "    <tr>\n",
       "      <th>1</th>\n",
       "      <td>../../data/PBC_dataset_normal_Barcelona/monocy...</td>\n",
       "      <td>monocyte</td>\n",
       "      <td>MO</td>\n",
       "      <td>MO</td>\n",
       "      <td>MO</td>\n",
       "    </tr>\n",
       "    <tr>\n",
       "      <th>2</th>\n",
       "      <td>../../data/PBC_dataset_normal_Barcelona/monocy...</td>\n",
       "      <td>monocyte</td>\n",
       "      <td>MO</td>\n",
       "      <td>MO</td>\n",
       "      <td>MO</td>\n",
       "    </tr>\n",
       "    <tr>\n",
       "      <th>3</th>\n",
       "      <td>../../data/PBC_dataset_normal_Barcelona/monocy...</td>\n",
       "      <td>monocyte</td>\n",
       "      <td>MO</td>\n",
       "      <td>MO</td>\n",
       "      <td>MO</td>\n",
       "    </tr>\n",
       "    <tr>\n",
       "      <th>4</th>\n",
       "      <td>../../data/PBC_dataset_normal_Barcelona/monocy...</td>\n",
       "      <td>monocyte</td>\n",
       "      <td>MO</td>\n",
       "      <td>MO</td>\n",
       "      <td>MO</td>\n",
       "    </tr>\n",
       "  </tbody>\n",
       "</table>\n",
       "</div>"
      ],
      "text/plain": [
       "                                            img_path cell_type label label_2  \\\n",
       "0  ../../data/PBC_dataset_normal_Barcelona/monocy...  monocyte    MO      MO   \n",
       "1  ../../data/PBC_dataset_normal_Barcelona/monocy...  monocyte    MO      MO   \n",
       "2  ../../data/PBC_dataset_normal_Barcelona/monocy...  monocyte    MO      MO   \n",
       "3  ../../data/PBC_dataset_normal_Barcelona/monocy...  monocyte    MO      MO   \n",
       "4  ../../data/PBC_dataset_normal_Barcelona/monocy...  monocyte    MO      MO   \n",
       "\n",
       "  label_3  \n",
       "0      MO  \n",
       "1      MO  \n",
       "2      MO  \n",
       "3      MO  \n",
       "4      MO  "
      ]
     },
     "execution_count": 72,
     "metadata": {},
     "output_type": "execute_result"
    }
   ],
   "source": [
    "df = leuko.generate_images_df(path_name)\n",
    "df.head()"
   ]
  },
  {
   "cell_type": "code",
   "execution_count": 73,
   "id": "99fce568-0f69-497d-8d47-6a78e0dd6f92",
   "metadata": {},
   "outputs": [
    {
     "data": {
      "text/plain": [
       "cell_type     8\n",
       "label        11\n",
       "label_2       8\n",
       "label_3       9\n",
       "dtype: int64"
      ]
     },
     "execution_count": 73,
     "metadata": {},
     "output_type": "execute_result"
    }
   ],
   "source": [
    "df.iloc[:, 1:].nunique()"
   ]
  },
  {
   "cell_type": "code",
   "execution_count": 74,
   "id": "6b59f3a3-b930-4a1f-ae76-35c29511b599",
   "metadata": {},
   "outputs": [
    {
     "data": {
      "text/plain": [
       "<AxesSubplot:xlabel='label', ylabel='count'>"
      ]
     },
     "execution_count": 74,
     "metadata": {},
     "output_type": "execute_result"
    },
    {
     "data": {
      "image/png": "[encoded data removed]",
      "text/plain": [
       "<Figure size 432x288 with 1 Axes>"
      ]
     },
     "metadata": {
      "needs_background": "light"
     },
     "output_type": "display_data"
    }
   ],
   "source": [
    "sns.countplot(x=df.label)"
   ]
  },
  {
   "cell_type": "markdown",
   "id": "preliminary-bosnia",
   "metadata": {},
   "source": [
    "### Import images with dask"
   ]
  },
  {
   "cell_type": "markdown",
   "id": "rational-decision",
   "metadata": {},
   "source": [
    "### Add height, width, brightness, luminance to df"
   ]
  },
  {
   "cell_type": "code",
   "execution_count": 75,
   "id": "ab389d1c-e397-4808-abbf-7dc15f3a0d98",
   "metadata": {},
   "outputs": [
    {
     "data": {
      "text/plain": [
       "'../../data/PBC_dataset_normal_Barcelona/ig/MMY_244097.jpg'"
      ]
     },
     "execution_count": 75,
     "metadata": {},
     "output_type": "execute_result"
    }
   ],
   "source": [
    "df.img_path.to_list()[-1]"
   ]
  },
  {
   "cell_type": "code",
   "execution_count": 76,
   "id": "8d250530-9d04-4ce7-b7e9-39df06025bda",
   "metadata": {},
   "outputs": [
    {
     "data": {
      "text/plain": [
       "363"
      ]
     },
     "execution_count": 76,
     "metadata": {},
     "output_type": "execute_result"
    }
   ],
   "source": [
    "tst = io.imread(df.img_path.to_list()[-1])\n",
    "tst.shape[0] "
   ]
  },
  {
   "cell_type": "code",
   "execution_count": 77,
   "id": "54bd5b24-e13c-4b94-bdf4-e1024453087b",
   "metadata": {},
   "outputs": [],
   "source": [
    "def add_columns(filename):\n",
    "    \n",
    "    im = io.imread(filename)\n",
    "    temp = pd.DataFrame(index=[0])\n",
    "\n",
    "    temp['height'] = im.shape[0] \n",
    "    temp['width'] = im.shape[1]\n",
    "    temp['mean_brightness'] = np.mean(im)    \n",
    "    \n",
    "    im_gray = color.rgb2grey(im)\n",
    "    temp['mean_luminance'] = np.mean(im_gray)\n",
    "    \n",
    "    return temp"
   ]
  },
  {
   "cell_type": "code",
   "execution_count": 78,
   "id": "5c8c3941-046e-4b6f-9e6d-4e775ecd30ff",
   "metadata": {},
   "outputs": [
    {
     "name": "stdout",
     "output_type": "stream",
     "text": [
      "[########################################] | 100% Completed | 30.7s\n"
     ]
    }
   ],
   "source": [
    "addcol_bag = bag.from_sequence(df.img_path.to_list()).map(add_columns)\n",
    "with diagnostics.ProgressBar():\n",
    "    res = addcol_bag.compute()"
   ]
  },
  {
   "cell_type": "code",
   "execution_count": 79,
   "id": "5b3f79b3-ffee-471d-aec2-f77bb484514e",
   "metadata": {},
   "outputs": [
    {
     "data": {
      "text/plain": [
       "(16941, 5)"
      ]
     },
     "execution_count": 79,
     "metadata": {},
     "output_type": "execute_result"
    }
   ],
   "source": [
    "df.shape"
   ]
  },
  {
   "cell_type": "code",
   "execution_count": 80,
   "id": "df412b0e-9bc7-4502-b5e9-11864ec63d55",
   "metadata": {},
   "outputs": [
    {
     "data": {
      "text/plain": [
       "16941"
      ]
     },
     "execution_count": 80,
     "metadata": {},
     "output_type": "execute_result"
    }
   ],
   "source": [
    "len(res)"
   ]
  },
  {
   "cell_type": "code",
   "execution_count": 81,
   "id": "magnetic-quest",
   "metadata": {},
   "outputs": [
    {
     "data": {
      "text/html": [
       "<div>\n",
       "<style scoped>\n",
       "    .dataframe tbody tr th:only-of-type {\n",
       "        vertical-align: middle;\n",
       "    }\n",
       "\n",
       "    .dataframe tbody tr th {\n",
       "        vertical-align: top;\n",
       "    }\n",
       "\n",
       "    .dataframe thead th {\n",
       "        text-align: right;\n",
       "    }\n",
       "</style>\n",
       "<table border=\"1\" class=\"dataframe\">\n",
       "  <thead>\n",
       "    <tr style=\"text-align: right;\">\n",
       "      <th></th>\n",
       "      <th>img_path</th>\n",
       "      <th>cell_type</th>\n",
       "      <th>label</th>\n",
       "      <th>label_2</th>\n",
       "      <th>label_3</th>\n",
       "      <th>height</th>\n",
       "      <th>width</th>\n",
       "      <th>mean_brightness</th>\n",
       "      <th>mean_luminance</th>\n",
       "    </tr>\n",
       "  </thead>\n",
       "  <tbody>\n",
       "    <tr>\n",
       "      <th>0</th>\n",
       "      <td>../../data/PBC_dataset_normal_Barcelona/monocy...</td>\n",
       "      <td>monocyte</td>\n",
       "      <td>MO</td>\n",
       "      <td>MO</td>\n",
       "      <td>MO</td>\n",
       "      <td>363</td>\n",
       "      <td>360</td>\n",
       "      <td>196.225564</td>\n",
       "      <td>0.756902</td>\n",
       "    </tr>\n",
       "    <tr>\n",
       "      <th>1</th>\n",
       "      <td>../../data/PBC_dataset_normal_Barcelona/monocy...</td>\n",
       "      <td>monocyte</td>\n",
       "      <td>MO</td>\n",
       "      <td>MO</td>\n",
       "      <td>MO</td>\n",
       "      <td>363</td>\n",
       "      <td>360</td>\n",
       "      <td>196.672727</td>\n",
       "      <td>0.757366</td>\n",
       "    </tr>\n",
       "    <tr>\n",
       "      <th>2</th>\n",
       "      <td>../../data/PBC_dataset_normal_Barcelona/monocy...</td>\n",
       "      <td>monocyte</td>\n",
       "      <td>MO</td>\n",
       "      <td>MO</td>\n",
       "      <td>MO</td>\n",
       "      <td>363</td>\n",
       "      <td>360</td>\n",
       "      <td>204.348235</td>\n",
       "      <td>0.797640</td>\n",
       "    </tr>\n",
       "    <tr>\n",
       "      <th>3</th>\n",
       "      <td>../../data/PBC_dataset_normal_Barcelona/monocy...</td>\n",
       "      <td>monocyte</td>\n",
       "      <td>MO</td>\n",
       "      <td>MO</td>\n",
       "      <td>MO</td>\n",
       "      <td>363</td>\n",
       "      <td>360</td>\n",
       "      <td>199.038259</td>\n",
       "      <td>0.770929</td>\n",
       "    </tr>\n",
       "    <tr>\n",
       "      <th>4</th>\n",
       "      <td>../../data/PBC_dataset_normal_Barcelona/monocy...</td>\n",
       "      <td>monocyte</td>\n",
       "      <td>MO</td>\n",
       "      <td>MO</td>\n",
       "      <td>MO</td>\n",
       "      <td>363</td>\n",
       "      <td>360</td>\n",
       "      <td>191.020018</td>\n",
       "      <td>0.734784</td>\n",
       "    </tr>\n",
       "    <tr>\n",
       "      <th>...</th>\n",
       "      <td>...</td>\n",
       "      <td>...</td>\n",
       "      <td>...</td>\n",
       "      <td>...</td>\n",
       "      <td>...</td>\n",
       "      <td>...</td>\n",
       "      <td>...</td>\n",
       "      <td>...</td>\n",
       "      <td>...</td>\n",
       "    </tr>\n",
       "    <tr>\n",
       "      <th>16936</th>\n",
       "      <td>../../data/PBC_dataset_normal_Barcelona/ig/PMY...</td>\n",
       "      <td>ig</td>\n",
       "      <td>PMY</td>\n",
       "      <td>IG</td>\n",
       "      <td>IG</td>\n",
       "      <td>363</td>\n",
       "      <td>360</td>\n",
       "      <td>190.868100</td>\n",
       "      <td>0.729896</td>\n",
       "    </tr>\n",
       "    <tr>\n",
       "      <th>16937</th>\n",
       "      <td>../../data/PBC_dataset_normal_Barcelona/ig/MY_...</td>\n",
       "      <td>ig</td>\n",
       "      <td>MY</td>\n",
       "      <td>IG</td>\n",
       "      <td>IG</td>\n",
       "      <td>363</td>\n",
       "      <td>360</td>\n",
       "      <td>198.083540</td>\n",
       "      <td>0.769725</td>\n",
       "    </tr>\n",
       "    <tr>\n",
       "      <th>16938</th>\n",
       "      <td>../../data/PBC_dataset_normal_Barcelona/ig/MY_...</td>\n",
       "      <td>ig</td>\n",
       "      <td>MY</td>\n",
       "      <td>IG</td>\n",
       "      <td>IG</td>\n",
       "      <td>363</td>\n",
       "      <td>360</td>\n",
       "      <td>202.367218</td>\n",
       "      <td>0.791640</td>\n",
       "    </tr>\n",
       "    <tr>\n",
       "      <th>16939</th>\n",
       "      <td>../../data/PBC_dataset_normal_Barcelona/ig/PMY...</td>\n",
       "      <td>ig</td>\n",
       "      <td>PMY</td>\n",
       "      <td>IG</td>\n",
       "      <td>IG</td>\n",
       "      <td>363</td>\n",
       "      <td>360</td>\n",
       "      <td>190.455229</td>\n",
       "      <td>0.731147</td>\n",
       "    </tr>\n",
       "    <tr>\n",
       "      <th>16940</th>\n",
       "      <td>../../data/PBC_dataset_normal_Barcelona/ig/MMY...</td>\n",
       "      <td>ig</td>\n",
       "      <td>MMY</td>\n",
       "      <td>IG</td>\n",
       "      <td>IG</td>\n",
       "      <td>363</td>\n",
       "      <td>360</td>\n",
       "      <td>202.872582</td>\n",
       "      <td>0.790463</td>\n",
       "    </tr>\n",
       "  </tbody>\n",
       "</table>\n",
       "<p>16941 rows × 9 columns</p>\n",
       "</div>"
      ],
      "text/plain": [
       "                                                img_path cell_type label  \\\n",
       "0      ../../data/PBC_dataset_normal_Barcelona/monocy...  monocyte    MO   \n",
       "1      ../../data/PBC_dataset_normal_Barcelona/monocy...  monocyte    MO   \n",
       "2      ../../data/PBC_dataset_normal_Barcelona/monocy...  monocyte    MO   \n",
       "3      ../../data/PBC_dataset_normal_Barcelona/monocy...  monocyte    MO   \n",
       "4      ../../data/PBC_dataset_normal_Barcelona/monocy...  monocyte    MO   \n",
       "...                                                  ...       ...   ...   \n",
       "16936  ../../data/PBC_dataset_normal_Barcelona/ig/PMY...        ig   PMY   \n",
       "16937  ../../data/PBC_dataset_normal_Barcelona/ig/MY_...        ig    MY   \n",
       "16938  ../../data/PBC_dataset_normal_Barcelona/ig/MY_...        ig    MY   \n",
       "16939  ../../data/PBC_dataset_normal_Barcelona/ig/PMY...        ig   PMY   \n",
       "16940  ../../data/PBC_dataset_normal_Barcelona/ig/MMY...        ig   MMY   \n",
       "\n",
       "      label_2 label_3  height  width  mean_brightness  mean_luminance  \n",
       "0          MO      MO     363    360       196.225564        0.756902  \n",
       "1          MO      MO     363    360       196.672727        0.757366  \n",
       "2          MO      MO     363    360       204.348235        0.797640  \n",
       "3          MO      MO     363    360       199.038259        0.770929  \n",
       "4          MO      MO     363    360       191.020018        0.734784  \n",
       "...       ...     ...     ...    ...              ...             ...  \n",
       "16936      IG      IG     363    360       190.868100        0.729896  \n",
       "16937      IG      IG     363    360       198.083540        0.769725  \n",
       "16938      IG      IG     363    360       202.367218        0.791640  \n",
       "16939      IG      IG     363    360       190.455229        0.731147  \n",
       "16940      IG      IG     363    360       202.872582        0.790463  \n",
       "\n",
       "[16941 rows x 9 columns]"
      ]
     },
     "execution_count": 81,
     "metadata": {},
     "output_type": "execute_result"
    }
   ],
   "source": [
    "res_df = pd.concat(res).reset_index(drop=True)\n",
    "df_temp = df.join(res_df)\n",
    "df_temp"
   ]
  },
  {
   "cell_type": "code",
   "execution_count": 82,
   "id": "elect-receipt",
   "metadata": {},
   "outputs": [],
   "source": [
    "df_temp.to_csv('../../data/PBC_dataset_normal_df.csv', index=False)"
   ]
  },
  {
   "cell_type": "code",
   "execution_count": 83,
   "id": "392a03d7-59c2-4169-ba22-a08b4a6a4e49",
   "metadata": {},
   "outputs": [
    {
     "name": "stdout",
     "output_type": "stream",
     "text": [
      "<class 'pandas.core.frame.DataFrame'>\n",
      "RangeIndex: 16941 entries, 0 to 16940\n",
      "Data columns (total 9 columns):\n",
      " #   Column           Non-Null Count  Dtype  \n",
      "---  ------           --------------  -----  \n",
      " 0   img_path         16941 non-null  object \n",
      " 1   cell_type        16941 non-null  object \n",
      " 2   label            16941 non-null  object \n",
      " 3   label_2          16941 non-null  object \n",
      " 4   label_3          16941 non-null  object \n",
      " 5   height           16941 non-null  int64  \n",
      " 6   width            16941 non-null  int64  \n",
      " 7   mean_brightness  16941 non-null  float64\n",
      " 8   mean_luminance   16941 non-null  float64\n",
      "dtypes: float64(2), int64(2), object(5)\n",
      "memory usage: 1.2+ MB\n"
     ]
    }
   ],
   "source": [
    "df_temp.info()"
   ]
  },
  {
   "cell_type": "code",
   "execution_count": 84,
   "id": "dff59edf-f0b7-4603-9be8-97ff60c222c6",
   "metadata": {},
   "outputs": [],
   "source": [
    "df_temp.to_pickle('../../data/PBC_dataset_normal_df.pkl')"
   ]
  }
 ],
 "metadata": {
  "kernelspec": {
   "display_name": "DStest",
   "language": "python",
   "name": "dstest"
  },
  "language_info": {
   "codemirror_mode": {
    "name": "ipython",
    "version": 3
   },
   "file_extension": ".py",
   "mimetype": "text/x-python",
   "name": "python",
   "nbconvert_exporter": "python",
   "pygments_lexer": "ipython3",
   "version": "3.9.4"
  }
 },
 "nbformat": 4,
 "nbformat_minor": 5
}

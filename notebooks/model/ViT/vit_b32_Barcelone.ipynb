{
 "cells": [
  {
   "cell_type": "markdown",
   "metadata": {
    "_cell_guid": "cc77844c-95d2-4875-8885-51eb0305d7d4",
    "_uuid": "3a1211f3-0151-4bb2-b71c-037e2bdf2524",
    "id": "gCEuCMrHbClc"
   },
   "source": [
    "# Vision Transformer (ViT)\n",
    "\n",
    "11 classes of white blood cells:\n",
    "- neutrophils (segmented) - SNE\n",
    "- eosinophils - EO\n",
    "- basophils - BA\n",
    "- lymphocytes - LY\n",
    "- monocytes - MO\n",
    "- immature granulocytes (metamyelocytes, myelocytes, promyelocytes) and band - IG or separated - MMY, MY, PMY, BNE\n",
    "- platelets - PLATELET\n",
    "- erythroblasts - ERB\n",
    "\n",
    "inspired by this [notebook](https://www.kaggle.com/raufmomin/vision-transformer-vit-fine-tuning).\n",
    "\n",
    "\n",
    "\n",
    "The approach is Transfer Learning: we use the Vit_b16 model trained on ImageNet and fine tuned of ImageNet2012. We then proceed to the fine tuning of the last layers of 5 transformers blocks and the head of the model. Attention layer visualisation is used in particular to analyse the model predictions. \n"
   ]
  },
  {
   "cell_type": "code",
   "execution_count": 3,
   "metadata": {
    "_cell_guid": "c9680cce-4f0d-4d55-954c-ca8bfa8cbf5f",
    "_uuid": "4d795bd5-1fb6-4b71-bd32-00be32ae8cdd",
    "collapsed": false,
    "executionInfo": {
     "elapsed": 2351,
     "status": "ok",
     "timestamp": 1629100847189,
     "user": {
      "displayName": "Leuko PY",
      "photoUrl": "",
      "userId": "08649880194219295972"
     },
     "user_tz": -60
    },
    "id": "kpBVr-fObCle",
    "jupyter": {
     "outputs_hidden": false
    },
    "outputId": "a5d4096b-6ce9-444b-fe1e-f55f206d6b82",
    "tags": []
   },
   "outputs": [
    {
     "data": {
      "text/plain": [
       "<module 'leukopy_lib' from '/home/marie-anne/code/Leukopy/notebooks/leukopy_lib.py'>"
      ]
     },
     "execution_count": 3,
     "metadata": {},
     "output_type": "execute_result"
    }
   ],
   "source": [
    "import pandas as pd\n",
    "import numpy as np\n",
    "import matplotlib.pyplot as plt\n",
    "import seaborn as sns\n",
    "import matplotlib.cm as cm\n",
    "\n",
    "import sys, os\n",
    "from pathlib import Path\n",
    "\n",
    "import tensorflow as tf\n",
    "import tensorflow_addons as tfa\n",
    "from tensorflow.keras import layers\n",
    "from tensorflow.keras.models import Sequential\n",
    "from tensorflow.keras.optimizers import Adam\n",
    "from tensorflow.keras import Model\n",
    "from tensorflow import keras\n",
    "import pickle\n",
    "\n",
    "\n",
    "from tensorflow.keras.preprocessing.image import ImageDataGenerator\n",
    "from tensorflow.keras.callbacks import ModelCheckpoint, ReduceLROnPlateau, TerminateOnNaN, EarlyStopping\n",
    "\n",
    "from tensorflow.keras.utils import Sequence\n",
    "from collections import Counter\n",
    "from sklearn.utils.class_weight import compute_class_weight\n",
    "\n",
    "from vit_keras import vit, utils\n",
    "from vit_keras import visualize\n",
    "\n",
    "from keras.models import load_model\n",
    "from sklearn.metrics import classification_report, confusion_matrix\n",
    "\n",
    "sys.path.insert(0, str(Path.cwd().parent.parent))\n",
    "import leukopy_lib as leuko\n",
    "from importlib import reload\n",
    "reload(leuko)"
   ]
  },
  {
   "cell_type": "markdown",
   "metadata": {},
   "source": [
    "# Helper functions"
   ]
  },
  {
   "cell_type": "code",
   "execution_count": 8,
   "metadata": {
    "execution": {
     "iopub.execute_input": "2021-10-31T15:22:20.149167Z",
     "iopub.status.busy": "2021-10-31T15:22:20.148828Z",
     "iopub.status.idle": "2021-10-31T15:22:20.157032Z",
     "shell.execute_reply": "2021-10-31T15:22:20.156252Z",
     "shell.execute_reply.started": "2021-10-31T15:22:20.149127Z"
    },
    "tags": []
   },
   "outputs": [],
   "source": [
    "def find_layer(model: Model, layer_name: str) -> tuple:\n",
    "    '''\n",
    "    find the last choosen layer.\n",
    "    '''\n",
    "    for (i, layer) in enumerate(model.layers):\n",
    "        if layer.name == layer_name:\n",
    "            return (i, layer)\n",
    "    \n",
    "def model_surgery(model: Model) -> Model:\n",
    "    '''\n",
    "    Flatten the nested model to a Functional model.\n",
    "    '''\n",
    "    submodel_index, submodel = find_layer(model, 'vit-b16')\n",
    "    x = submodel.outputs[0]\n",
    "    for layer_index in range(submodel_index+1, len(model.layers)):\n",
    "        extracted_layer = model.layers[layer_index]\n",
    "        print('Surgically appending layer : '+str(extracted_layer))\n",
    "        x = extracted_layer(x)\n",
    "    new_model = Model(inputs=submodel.inputs, outputs=[x])\n",
    "    return new_model"
   ]
  },
  {
   "cell_type": "code",
   "execution_count": 10,
   "metadata": {
    "execution": {
     "iopub.execute_input": "2021-10-31T15:22:20.169656Z",
     "iopub.status.busy": "2021-10-31T15:22:20.169232Z",
     "iopub.status.idle": "2021-10-31T15:22:20.180336Z",
     "shell.execute_reply": "2021-10-31T15:22:20.179590Z",
     "shell.execute_reply.started": "2021-10-31T15:22:20.169621Z"
    },
    "tags": []
   },
   "outputs": [],
   "source": [
    "def plot_hist(hist):\n",
    "    fig, (ax1, ax2) = plt.subplots(1, 2, figsize=(12, 4))\n",
    "\n",
    "    ax1.plot(hist['accuracy'], label='training')\n",
    "    ax1.plot(hist['val_accuracy'], label='testing')\n",
    "    ax1.set_xlabel('Epochs')\n",
    "    ax1.set_ylabel('Accuracy')\n",
    "    ax1.legend()\n",
    "\n",
    "    ax2.plot(hist['loss'], label='training')\n",
    "    ax2.plot(hist['val_loss'], label='testing')\n",
    "    ax2.set_xlabel('Epochs')\n",
    "    ax2.set_ylabel('Loss')\n",
    "    ax2.legend()\n",
    "    plt.close()\n",
    "\n",
    "    return fig"
   ]
  },
  {
   "cell_type": "code",
   "execution_count": 11,
   "metadata": {
    "execution": {
     "iopub.execute_input": "2021-10-31T15:22:20.181901Z",
     "iopub.status.busy": "2021-10-31T15:22:20.181560Z",
     "iopub.status.idle": "2021-10-31T15:22:20.190822Z",
     "shell.execute_reply": "2021-10-31T15:22:20.190063Z",
     "shell.execute_reply.started": "2021-10-31T15:22:20.181859Z"
    },
    "tags": []
   },
   "outputs": [],
   "source": [
    "def plot_confusion_matrix(df, label_map):\n",
    "    plt.figure(figsize=(10,8))\n",
    "    labels = list(label_map.keys())\n",
    "    g = sns.heatmap(confusion_matrix(df_pred['true_label'], df_pred['pred_label'], \n",
    "                                 normalize='true'),\n",
    "                xticklabels=labels, yticklabels=labels,\n",
    "                annot=True, cmap='GnBu', square=True, )\n",
    "    g.set_yticklabels(g.get_yticklabels(), rotation=0) \n",
    "    plt.title('confusion matrix')\n",
    "    plt.ylabel('True labels')\n",
    "    plt.xlabel('Predicted label')\n",
    "    plt.show()\n"
   ]
  },
  {
   "cell_type": "code",
   "execution_count": 12,
   "metadata": {
    "execution": {
     "iopub.execute_input": "2021-10-31T15:22:20.192579Z",
     "iopub.status.busy": "2021-10-31T15:22:20.192387Z",
     "iopub.status.idle": "2021-10-31T15:22:20.200876Z",
     "shell.execute_reply": "2021-10-31T15:22:20.200228Z",
     "shell.execute_reply.started": "2021-10-31T15:22:20.192557Z"
    }
   },
   "outputs": [],
   "source": [
    "def plot_attention(img_path: str, model: Model):\n",
    "        \n",
    "    attention_map = visualize.attention_map(model = model, image = image)\n",
    "\n",
    "    # Plot results\n",
    "    fig, (ax1, ax2) = plt.subplots(ncols = 2)\n",
    "    ax1.axis('off')\n",
    "    ax2.axis('off')\n",
    "    ax1.set_title('Original')\n",
    "    ax2.set_title('Attention Map')\n",
    "    _ = ax1.imshow(image.astype('uint8'))\n",
    "    _ = ax2.imshow(attention_map)\n",
    "    \n",
    "    return fig"
   ]
  },
  {
   "cell_type": "code",
   "execution_count": 13,
   "metadata": {
    "execution": {
     "iopub.execute_input": "2021-10-31T15:22:20.202619Z",
     "iopub.status.busy": "2021-10-31T15:22:20.202367Z",
     "iopub.status.idle": "2021-10-31T15:22:20.218933Z",
     "shell.execute_reply": "2021-10-31T15:22:20.217950Z",
     "shell.execute_reply.started": "2021-10-31T15:22:20.202587Z"
    }
   },
   "outputs": [],
   "source": [
    "def get_img_array(img_path: str, dim: tuple) -> np.ndarray:\n",
    "    img = tf.keras.preprocessing.image.load_img(Path(img_path), target_size = dim)\n",
    "    array = tf.keras.preprocessing.image.img_to_array(img)\n",
    "    array = np.expand_dims(img, axis = 0)\n",
    "    return array, img\n",
    "\n",
    "def make_gradcam_heatmap(img_array: np.ndarray, model, layer_name: str):\n",
    "    \n",
    "    for layer in reversed(model.layers):\n",
    "        if layer_name in layer.name:\n",
    "            last_conv_layer = model.get_layer(layer.name)\n",
    "            break\n",
    "\n",
    "    grad_model = tf.keras.models.Model(\n",
    "        [model.inputs], \n",
    "        [last_conv_layer.output,  model.output])\n",
    "\n",
    "    with tf.GradientTape() as tape:\n",
    "        last_conv_layer_output, preds = grad_model(img_array)\n",
    "        pred_index = tf.argmax(preds[0])\n",
    "        class_channel = preds[:, pred_index]\n",
    "\n",
    "    grads = tape.gradient(class_channel, last_conv_layer_output)\n",
    "    pooled_grads = tf.reduce_mean(grads, axis=(0, 1))\n",
    "\n",
    "    last_conv_layer_output = last_conv_layer_output#[0]\n",
    "    heatmap = last_conv_layer_output @ pooled_grads[..., tf.newaxis]\n",
    "    heatmap = tf.squeeze(heatmap)[1:]\n",
    "    heatmap = tf.maximum(heatmap, 0) / tf.math.reduce_max(heatmap)\n",
    "    return heatmap.numpy()\n",
    "\n",
    "def gradcam(img_path: str, img_size: int, model: Model, layer_name: str) -> 'image':\n",
    "    \n",
    "    arr, img = get_img_array(img_path, (img_size, img_size))\n",
    "    img = tf.keras.preprocessing.image.img_to_array(img)\n",
    "\n",
    "    heatmap = make_gradcam_heatmap(arr, model, layer_name)\n",
    "    heatmap = np.uint8(255 * heatmap)\n",
    "    heatmap = np.reshape(heatmap, (14,14))\n",
    "    jet = cm.get_cmap(\"jet\")\n",
    "    jet_colors = jet(np.arange(256))[..., :-1]\n",
    "    jet_heatmap = jet_colors[heatmap]\n",
    "\n",
    "\n",
    "    jet_heatmap = keras.preprocessing.image.array_to_img(jet_heatmap)\n",
    "    jet_heatmap = jet_heatmap.resize((img.shape[1], img.shape[0]))\n",
    "    jet_heatmap = tf.keras.preprocessing.image.img_to_array(jet_heatmap)\n",
    "\n",
    "    superimposed_img = jet_heatmap * 0.8 + img\n",
    "    superimposed_img = keras.preprocessing.image.array_to_img(superimposed_img)\n",
    "    \n",
    "    return superimposed_img"
   ]
  },
  {
   "cell_type": "code",
   "execution_count": 14,
   "metadata": {
    "execution": {
     "iopub.execute_input": "2021-10-31T15:22:20.220909Z",
     "iopub.status.busy": "2021-10-31T15:22:20.220563Z",
     "iopub.status.idle": "2021-10-31T15:22:24.399535Z",
     "shell.execute_reply": "2021-10-31T15:22:24.398783Z",
     "shell.execute_reply.started": "2021-10-31T15:22:20.220839Z"
    },
    "tags": []
   },
   "outputs": [
    {
     "name": "stdin",
     "output_type": "stream",
     "text": [
      "To save enter: yes yes\n"
     ]
    }
   ],
   "source": [
    "from datetime import datetime\n",
    "\n",
    "t = datetime.now().strftime(\"%d%m%Y_%H\")\n",
    "\n",
    "#saving folder\n",
    "save = input('To save enter: yes')\n",
    "\n",
    "if save == 'yes':\n",
    "    OUTPUT_PATH = Path(f'results/{t}')\n",
    "    OUTPUT_PATH.mkdir(parents=True, exist_ok=True)"
   ]
  },
  {
   "cell_type": "markdown",
   "metadata": {
    "_cell_guid": "7b91ea24-32ab-4836-bcbf-96424b4f84dd",
    "_uuid": "a8a61492-eebc-496a-8cf5-8e426ad27010",
    "id": "UevtYJhvbClg"
   },
   "source": [
    "# Set up"
   ]
  },
  {
   "cell_type": "markdown",
   "metadata": {
    "_cell_guid": "6075b994-db45-4083-8473-0ffb23f3454e",
    "_uuid": "a0f359f9-3752-4cd3-9041-41341b9df267",
    "id": "i7hOEi3hbClh"
   },
   "source": [
    "## Generate dataframes"
   ]
  },
  {
   "cell_type": "code",
   "execution_count": 15,
   "metadata": {
    "_cell_guid": "cff16ea4-8568-4253-a8bf-65773aaf8092",
    "_uuid": "c7fbfafa-2750-44f6-911e-43254b66132f",
    "collapsed": false,
    "execution": {
     "iopub.execute_input": "2021-10-31T15:22:24.403131Z",
     "iopub.status.busy": "2021-10-31T15:22:24.402789Z",
     "iopub.status.idle": "2021-10-31T15:23:03.759650Z",
     "shell.execute_reply": "2021-10-31T15:23:03.758873Z",
     "shell.execute_reply.started": "2021-10-31T15:22:24.403091Z"
    },
    "executionInfo": {
     "elapsed": 586,
     "status": "ok",
     "timestamp": 1629100847766,
     "user": {
      "displayName": "Leuko PY",
      "photoUrl": "",
      "userId": "08649880194219295972"
     },
     "user_tz": -60
    },
    "id": "p7WEwIzaW6AL",
    "jupyter": {
     "outputs_hidden": false
    },
    "tags": []
   },
   "outputs": [
    {
     "data": {
      "text/html": [
       "<div>\n",
       "<style scoped>\n",
       "    .dataframe tbody tr th:only-of-type {\n",
       "        vertical-align: middle;\n",
       "    }\n",
       "\n",
       "    .dataframe tbody tr th {\n",
       "        vertical-align: top;\n",
       "    }\n",
       "\n",
       "    .dataframe thead th {\n",
       "        text-align: right;\n",
       "    }\n",
       "</style>\n",
       "<table border=\"1\" class=\"dataframe\">\n",
       "  <thead>\n",
       "    <tr style=\"text-align: right;\">\n",
       "      <th></th>\n",
       "      <th>img_path</th>\n",
       "      <th>cell_type</th>\n",
       "      <th>label</th>\n",
       "      <th>label_2</th>\n",
       "      <th>label_3</th>\n",
       "    </tr>\n",
       "  </thead>\n",
       "  <tbody>\n",
       "    <tr>\n",
       "      <th>0</th>\n",
       "      <td>../input/main-dataset/main_dataset/training_se...</td>\n",
       "      <td>training_set</td>\n",
       "      <td>BA</td>\n",
       "      <td>BA</td>\n",
       "      <td>BA</td>\n",
       "    </tr>\n",
       "    <tr>\n",
       "      <th>1</th>\n",
       "      <td>../input/main-dataset/main_dataset/training_se...</td>\n",
       "      <td>training_set</td>\n",
       "      <td>BNE</td>\n",
       "      <td>IG</td>\n",
       "      <td>BNE</td>\n",
       "    </tr>\n",
       "    <tr>\n",
       "      <th>2</th>\n",
       "      <td>../input/main-dataset/main_dataset/training_se...</td>\n",
       "      <td>training_set</td>\n",
       "      <td>MO</td>\n",
       "      <td>MO</td>\n",
       "      <td>MO</td>\n",
       "    </tr>\n",
       "    <tr>\n",
       "      <th>3</th>\n",
       "      <td>../input/main-dataset/main_dataset/training_se...</td>\n",
       "      <td>training_set</td>\n",
       "      <td>MY</td>\n",
       "      <td>IG</td>\n",
       "      <td>IG</td>\n",
       "    </tr>\n",
       "    <tr>\n",
       "      <th>4</th>\n",
       "      <td>../input/main-dataset/main_dataset/training_se...</td>\n",
       "      <td>training_set</td>\n",
       "      <td>BA</td>\n",
       "      <td>BA</td>\n",
       "      <td>BA</td>\n",
       "    </tr>\n",
       "  </tbody>\n",
       "</table>\n",
       "</div>"
      ],
      "text/plain": [
       "                                            img_path     cell_type label  \\\n",
       "0  ../input/main-dataset/main_dataset/training_se...  training_set    BA   \n",
       "1  ../input/main-dataset/main_dataset/training_se...  training_set   BNE   \n",
       "2  ../input/main-dataset/main_dataset/training_se...  training_set    MO   \n",
       "3  ../input/main-dataset/main_dataset/training_se...  training_set    MY   \n",
       "4  ../input/main-dataset/main_dataset/training_se...  training_set    BA   \n",
       "\n",
       "  label_2 label_3  \n",
       "0      BA      BA  \n",
       "1      IG     BNE  \n",
       "2      MO      MO  \n",
       "3      IG      IG  \n",
       "4      BA      BA  "
      ]
     },
     "execution_count": 15,
     "metadata": {},
     "output_type": "execute_result"
    }
   ],
   "source": [
    "INPUT_PATH = Path('../input/main-dataset/main_dataset/')\n",
    "\n",
    "df_train = leuko.generate_images_df(INPUT_PATH/'training_set')\n",
    "df_test = leuko.generate_images_df(INPUT_PATH/'testing_set')\n",
    "df_valid = leuko.generate_images_df(INPUT_PATH/'validation_set')\n",
    "\n",
    "df_train.head()"
   ]
  },
  {
   "cell_type": "markdown",
   "metadata": {},
   "source": [
    "## Set constants\n",
    "For the ViT model the size of the image needs to be a multiple of the patch size. \n",
    "Here images are patched into [16x16](https://arxiv.org/abs/2010.11929) images (\"images is worth 16x16 words\")"
   ]
  },
  {
   "cell_type": "code",
   "execution_count": 16,
   "metadata": {
    "_cell_guid": "1f52e981-d0b0-4ba0-a2ea-c48c5d72672a",
    "_uuid": "40d6f518-a5e3-4e32-9230-c2f5f9cbd52a",
    "execution": {
     "iopub.execute_input": "2021-10-31T15:23:03.761111Z",
     "iopub.status.busy": "2021-10-31T15:23:03.760852Z",
     "iopub.status.idle": "2021-10-31T15:23:03.765507Z",
     "shell.execute_reply": "2021-10-31T15:23:03.764858Z",
     "shell.execute_reply.started": "2021-10-31T15:23:03.761077Z"
    },
    "executionInfo": {
     "elapsed": 197,
     "status": "ok",
     "timestamp": 1629100866391,
     "user": {
      "displayName": "Leuko PY",
      "photoUrl": "",
      "userId": "08649880194219295972"
     },
     "user_tz": -60
    },
    "id": "3mPZEQjcW6Zl",
    "tags": []
   },
   "outputs": [],
   "source": [
    "BATCH_SIZE = 32\n",
    "IMG_SIZE  = 352 #need to be a multiple of patch size = 32\n",
    "\n",
    "EPOCHS = 100\n",
    "LR = 1e-3\n",
    "\n",
    "N_CLASSES = 11"
   ]
  },
  {
   "cell_type": "markdown",
   "metadata": {
    "_cell_guid": "b79526d5-7f1a-4010-9a8e-8971e1b3f766",
    "_uuid": "8f32b79a-f2c6-4f65-b3b6-fad01911c80e",
    "id": "Cn76KWlebCli"
   },
   "source": [
    "## choose classes"
   ]
  },
  {
   "cell_type": "code",
   "execution_count": 17,
   "metadata": {
    "_cell_guid": "96f6bead-6cb5-4f92-98aa-a6945ff9e17f",
    "_uuid": "77434653-98f9-4251-b1e3-b9b87b5acb34",
    "collapsed": false,
    "execution": {
     "iopub.execute_input": "2021-10-31T15:23:03.767458Z",
     "iopub.status.busy": "2021-10-31T15:23:03.766674Z",
     "iopub.status.idle": "2021-10-31T15:23:03.783979Z",
     "shell.execute_reply": "2021-10-31T15:23:03.783191Z",
     "shell.execute_reply.started": "2021-10-31T15:23:03.767422Z"
    },
    "executionInfo": {
     "elapsed": 223,
     "status": "ok",
     "timestamp": 1629100861053,
     "user": {
      "displayName": "Leuko PY",
      "photoUrl": "",
      "userId": "08649880194219295972"
     },
     "user_tz": -60
    },
    "id": "BSIaiEjJW6Jw",
    "jupyter": {
     "outputs_hidden": false
    },
    "tags": []
   },
   "outputs": [],
   "source": [
    "N_CLASSES, df_train, df_test, df_valid = leuko.choose_classes(df_train, df_test, df_valid, n_classes = N_CLASSES)"
   ]
  },
  {
   "cell_type": "code",
   "execution_count": 18,
   "metadata": {
    "_cell_guid": "2c1bf5a2-6161-43da-a5e5-b72f45337e80",
    "_uuid": "52e2fba0-1f77-4e75-9987-4b6f110880e8",
    "collapsed": false,
    "execution": {
     "iopub.execute_input": "2021-10-31T15:23:03.786088Z",
     "iopub.status.busy": "2021-10-31T15:23:03.785886Z",
     "iopub.status.idle": "2021-10-31T15:23:03.790693Z",
     "shell.execute_reply": "2021-10-31T15:23:03.790024Z",
     "shell.execute_reply.started": "2021-10-31T15:23:03.786065Z"
    },
    "executionInfo": {
     "elapsed": 209,
     "status": "ok",
     "timestamp": 1629100862177,
     "user": {
      "displayName": "Leuko PY",
      "photoUrl": "",
      "userId": "08649880194219295972"
     },
     "user_tz": -60
    },
    "id": "vDD0ZlqTeFRD",
    "jupyter": {
     "outputs_hidden": false
    },
    "outputId": "80a08d1f-ca13-45b5-c965-99ec30b81c04",
    "tags": []
   },
   "outputs": [
    {
     "data": {
      "text/plain": [
       "11"
      ]
     },
     "execution_count": 18,
     "metadata": {},
     "output_type": "execute_result"
    }
   ],
   "source": [
    "N_CLASSES"
   ]
  },
  {
   "cell_type": "code",
   "execution_count": 19,
   "metadata": {
    "_cell_guid": "4718775d-acbc-4af9-8a00-18e4ff924b5d",
    "_uuid": "1c5a35a5-cbd3-4761-879b-4907a7f6feeb",
    "collapsed": false,
    "execution": {
     "iopub.execute_input": "2021-10-31T15:23:03.792770Z",
     "iopub.status.busy": "2021-10-31T15:23:03.792326Z",
     "iopub.status.idle": "2021-10-31T15:23:03.807060Z",
     "shell.execute_reply": "2021-10-31T15:23:03.806167Z",
     "shell.execute_reply.started": "2021-10-31T15:23:03.792734Z"
    },
    "executionInfo": {
     "elapsed": 13,
     "status": "ok",
     "timestamp": 1629100863123,
     "user": {
      "displayName": "Leuko PY",
      "photoUrl": "",
      "userId": "08649880194219295972"
     },
     "user_tz": -60
    },
    "id": "DhlAMAWLW6Sj",
    "jupyter": {
     "outputs_hidden": false
    },
    "outputId": "8b7e538c-9ef4-4a2f-b163-cbabefe2b631",
    "tags": []
   },
   "outputs": [
    {
     "data": {
      "text/plain": [
       "EO     2349\n",
       "PLT    1739\n",
       "SNE    1263\n",
       "BNE    1212\n",
       "ERB    1162\n",
       "MO     1068\n",
       "LY      944\n",
       "BA      903\n",
       "MY      833\n",
       "MMY     734\n",
       "PMY     460\n",
       "Name: label, dtype: int64"
      ]
     },
     "execution_count": 19,
     "metadata": {},
     "output_type": "execute_result"
    }
   ],
   "source": [
    "#sanity check\n",
    "df_train[\"label\"].value_counts()"
   ]
  },
  {
   "cell_type": "markdown",
   "metadata": {
    "_cell_guid": "5b82c754-0bf5-4f52-b03f-78fdbd7b930d",
    "_uuid": "a914e8b0-e7d0-4cd1-bebb-28349010b7e8",
    "id": "e8JtHfMvbClk"
   },
   "source": [
    "## Image generator\n",
    "We import images from a dataframe using column names for feature and target. Shuffle is set to false for the testing set."
   ]
  },
  {
   "cell_type": "code",
   "execution_count": 20,
   "metadata": {
    "_cell_guid": "321c762b-48e5-483f-822a-aa69adc482ac",
    "_uuid": "f003690b-b783-4f71-9690-6c6a7819c4ed",
    "collapsed": false,
    "execution": {
     "iopub.execute_input": "2021-10-31T15:23:03.808714Z",
     "iopub.status.busy": "2021-10-31T15:23:03.808465Z",
     "iopub.status.idle": "2021-10-31T15:23:10.366423Z",
     "shell.execute_reply": "2021-10-31T15:23:10.365681Z",
     "shell.execute_reply.started": "2021-10-31T15:23:03.808681Z"
    },
    "executionInfo": {
     "elapsed": 213,
     "status": "ok",
     "timestamp": 1629100868052,
     "user": {
      "displayName": "Leuko PY",
      "photoUrl": "",
      "userId": "08649880194219295972"
     },
     "user_tz": -60
    },
    "id": "fDsbzCc9bCll",
    "jupyter": {
     "outputs_hidden": false
    },
    "outputId": "8149d206-cee7-4633-e4ce-efb8a946997c",
    "tags": []
   },
   "outputs": [
    {
     "name": "stdout",
     "output_type": "stream",
     "text": [
      "Found 12667 validated image filenames belonging to 11 classes.\n",
      "Found 1730 validated image filenames belonging to 11 classes.\n",
      "Found 2544 validated image filenames belonging to 11 classes.\n",
      "\n",
      " Label map\n",
      "  {'BA': 0, 'BNE': 1, 'EO': 2, 'ERB': 3, 'LY': 4, 'MMY': 5, 'MO': 6, 'MY': 7, 'PLT': 8, 'PMY': 9, 'SNE': 10}\n"
     ]
    }
   ],
   "source": [
    "train_generator = ImageDataGenerator(rotation_range = 360,\n",
    "                                     horizontal_flip = True, \n",
    "                                     vertical_flip = True,\n",
    "                                     shear_range = 0.1)\n",
    "valid_generator = ImageDataGenerator()\n",
    "test_generator = ImageDataGenerator()\n",
    "\n",
    "# Resize pictures, batchs from dataframe\n",
    "training_set = train_generator.flow_from_dataframe(df_train, \n",
    "                                                   directory = None, # uses x_col\n",
    "                                                   x_col = 'img_path', \n",
    "                                                   y_col = 'label',\n",
    "                                                   target_size = (IMG_SIZE, IMG_SIZE), \n",
    "                                                   color_mode = 'rgb',\n",
    "                                                   classes = None,   # uses y_col\n",
    "                                                   class_mode = 'categorical', \n",
    "                                                   batch_size = BATCH_SIZE,\n",
    "                                                   shuffle = True)\n",
    "\n",
    "validation_set = valid_generator.flow_from_dataframe(df_valid, \n",
    "                                                     directory = None, # uses x_col\n",
    "                                                     x_col = 'img_path', \n",
    "                                                     y_col = 'label',\n",
    "                                                     target_size = (IMG_SIZE, IMG_SIZE), \n",
    "                                                     color_mode = 'rgb',\n",
    "                                                     classes = None,   # uses y_col\n",
    "                                                     class_mode = 'categorical', \n",
    "                                                     batch_size = BATCH_SIZE, \n",
    "                                                     shuffle = True)\n",
    "\n",
    "testing_set = test_generator.flow_from_dataframe(df_test, \n",
    "                                                 directory = None, # uses x_col\n",
    "                                                 x_col = 'img_path', \n",
    "                                                 y_col = 'label',\n",
    "                                                 target_size = (IMG_SIZE, IMG_SIZE),\n",
    "                                                 color_mode = 'rgb',\n",
    "                                                 classes = None,   # uses y_col\n",
    "                                                 class_mode = 'categorical', \n",
    "                                                 batch_size = BATCH_SIZE, \n",
    "                                                 shuffle = False)\n",
    "\n",
    "# Saving the dictionnary of labels\n",
    "label_map = training_set.class_indices\n",
    "print('\\n Label map\\n ', label_map)"
   ]
  },
  {
   "cell_type": "markdown",
   "metadata": {},
   "source": [
    "## Model import\n",
    "We remove the top layer (dense) for fine tuning and adding batch norm to avoid overfitting."
   ]
  },
  {
   "cell_type": "code",
   "execution_count": 21,
   "metadata": {
    "_cell_guid": "506c3861-95b0-440f-9f50-896363aa5582",
    "_uuid": "d8d98cc9-a66b-4cc2-a2b9-6cf6023ae359",
    "collapsed": false,
    "execution": {
     "iopub.execute_input": "2021-10-31T15:23:10.367737Z",
     "iopub.status.busy": "2021-10-31T15:23:10.367512Z",
     "iopub.status.idle": "2021-10-31T15:23:23.495881Z",
     "shell.execute_reply": "2021-10-31T15:23:23.494986Z",
     "shell.execute_reply.started": "2021-10-31T15:23:10.367703Z"
    },
    "executionInfo": {
     "elapsed": 6818,
     "status": "ok",
     "timestamp": 1629100882982,
     "user": {
      "displayName": "Leuko PY",
      "photoUrl": "",
      "userId": "08649880194219295972"
     },
     "user_tz": -60
    },
    "id": "y0BxMt03bCln",
    "jupyter": {
     "outputs_hidden": false
    },
    "outputId": "17e6d6d4-6105-4e70-fc7a-97876bc5f628"
   },
   "outputs": [
    {
     "name": "stderr",
     "output_type": "stream",
     "text": [
      "2021-10-31 15:23:10.455220: I tensorflow/stream_executor/cuda/cuda_gpu_executor.cc:937] successful NUMA node read from SysFS had negative value (-1), but there must be at least one NUMA node, so returning NUMA node zero\n",
      "2021-10-31 15:23:10.554041: I tensorflow/stream_executor/cuda/cuda_gpu_executor.cc:937] successful NUMA node read from SysFS had negative value (-1), but there must be at least one NUMA node, so returning NUMA node zero\n",
      "2021-10-31 15:23:10.554737: I tensorflow/stream_executor/cuda/cuda_gpu_executor.cc:937] successful NUMA node read from SysFS had negative value (-1), but there must be at least one NUMA node, so returning NUMA node zero\n",
      "2021-10-31 15:23:10.556034: I tensorflow/core/platform/cpu_feature_guard.cc:142] This TensorFlow binary is optimized with oneAPI Deep Neural Network Library (oneDNN) to use the following CPU instructions in performance-critical operations:  AVX2 AVX512F FMA\n",
      "To enable them in other operations, rebuild TensorFlow with the appropriate compiler flags.\n",
      "2021-10-31 15:23:10.556999: I tensorflow/stream_executor/cuda/cuda_gpu_executor.cc:937] successful NUMA node read from SysFS had negative value (-1), but there must be at least one NUMA node, so returning NUMA node zero\n",
      "2021-10-31 15:23:10.557695: I tensorflow/stream_executor/cuda/cuda_gpu_executor.cc:937] successful NUMA node read from SysFS had negative value (-1), but there must be at least one NUMA node, so returning NUMA node zero\n",
      "2021-10-31 15:23:10.558499: I tensorflow/stream_executor/cuda/cuda_gpu_executor.cc:937] successful NUMA node read from SysFS had negative value (-1), but there must be at least one NUMA node, so returning NUMA node zero\n",
      "2021-10-31 15:23:12.406775: I tensorflow/stream_executor/cuda/cuda_gpu_executor.cc:937] successful NUMA node read from SysFS had negative value (-1), but there must be at least one NUMA node, so returning NUMA node zero\n",
      "2021-10-31 15:23:12.407645: I tensorflow/stream_executor/cuda/cuda_gpu_executor.cc:937] successful NUMA node read from SysFS had negative value (-1), but there must be at least one NUMA node, so returning NUMA node zero\n",
      "2021-10-31 15:23:12.408318: I tensorflow/stream_executor/cuda/cuda_gpu_executor.cc:937] successful NUMA node read from SysFS had negative value (-1), but there must be at least one NUMA node, so returning NUMA node zero\n",
      "2021-10-31 15:23:12.408902: I tensorflow/core/common_runtime/gpu/gpu_device.cc:1510] Created device /job:localhost/replica:0/task:0/device:GPU:0 with 15403 MB memory:  -> device: 0, name: Tesla P100-PCIE-16GB, pci bus id: 0000:00:04.0, compute capability: 6.0\n"
     ]
    },
    {
     "name": "stdout",
     "output_type": "stream",
     "text": [
      "Downloading data from https://github.com/faustomorales/vit-keras/releases/download/dl/ViT-B_32_imagenet21k+imagenet2012.npz\n",
      "353255424/353253686 [==============================] - 7s 0us/step\n",
      "353263616/353253686 [==============================] - 7s 0us/step\n"
     ]
    },
    {
     "name": "stderr",
     "output_type": "stream",
     "text": [
      "/opt/conda/lib/python3.7/site-packages/vit_keras/utils.py:83: UserWarning: Resizing position embeddings from 12, 12 to 11, 11\n",
      "  UserWarning,\n"
     ]
    }
   ],
   "source": [
    "vit_model = vit.vit_b32(\n",
    "     weights='imagenet21k+imagenet2012',\n",
    "        image_size = IMG_SIZE,\n",
    "        activation = 'softmax',\n",
    "        pretrained = True,\n",
    "        include_top = False,\n",
    "        pretrained_top = False, #fine tune\n",
    "        classes = N_CLASSES)\n"
   ]
  },
  {
   "cell_type": "code",
   "execution_count": 22,
   "metadata": {
    "execution": {
     "iopub.execute_input": "2021-10-31T15:23:23.500645Z",
     "iopub.status.busy": "2021-10-31T15:23:23.500162Z",
     "iopub.status.idle": "2021-10-31T15:23:23.534668Z",
     "shell.execute_reply": "2021-10-31T15:23:23.534060Z",
     "shell.execute_reply.started": "2021-10-31T15:23:23.500605Z"
    }
   },
   "outputs": [
    {
     "name": "stdout",
     "output_type": "stream",
     "text": [
      "Model: \"vit-b32\"\n",
      "_________________________________________________________________\n",
      "Layer (type)                 Output Shape              Param #   \n",
      "=================================================================\n",
      "input_1 (InputLayer)         [(None, 352, 352, 3)]     0         \n",
      "_________________________________________________________________\n",
      "embedding (Conv2D)           (None, 11, 11, 768)       2360064   \n",
      "_________________________________________________________________\n",
      "reshape (Reshape)            (None, 121, 768)          0         \n",
      "_________________________________________________________________\n",
      "class_token (ClassToken)     (None, 122, 768)          768       \n",
      "_________________________________________________________________\n",
      "Transformer/posembed_input ( (None, 122, 768)          93696     \n",
      "_________________________________________________________________\n",
      "Transformer/encoderblock_0 ( ((None, 122, 768), (None, 7087872   \n",
      "_________________________________________________________________\n",
      "Transformer/encoderblock_1 ( ((None, 122, 768), (None, 7087872   \n",
      "_________________________________________________________________\n",
      "Transformer/encoderblock_2 ( ((None, 122, 768), (None, 7087872   \n",
      "_________________________________________________________________\n",
      "Transformer/encoderblock_3 ( ((None, 122, 768), (None, 7087872   \n",
      "_________________________________________________________________\n",
      "Transformer/encoderblock_4 ( ((None, 122, 768), (None, 7087872   \n",
      "_________________________________________________________________\n",
      "Transformer/encoderblock_5 ( ((None, 122, 768), (None, 7087872   \n",
      "_________________________________________________________________\n",
      "Transformer/encoderblock_6 ( ((None, 122, 768), (None, 7087872   \n",
      "_________________________________________________________________\n",
      "Transformer/encoderblock_7 ( ((None, 122, 768), (None, 7087872   \n",
      "_________________________________________________________________\n",
      "Transformer/encoderblock_8 ( ((None, 122, 768), (None, 7087872   \n",
      "_________________________________________________________________\n",
      "Transformer/encoderblock_9 ( ((None, 122, 768), (None, 7087872   \n",
      "_________________________________________________________________\n",
      "Transformer/encoderblock_10  ((None, 122, 768), (None, 7087872   \n",
      "_________________________________________________________________\n",
      "Transformer/encoderblock_11  ((None, 122, 768), (None, 7087872   \n",
      "_________________________________________________________________\n",
      "Transformer/encoder_norm (La (None, 122, 768)          1536      \n",
      "_________________________________________________________________\n",
      "ExtractToken (Lambda)        (None, 768)               0         \n",
      "=================================================================\n",
      "Total params: 87,510,528\n",
      "Trainable params: 87,510,528\n",
      "Non-trainable params: 0\n",
      "_________________________________________________________________\n"
     ]
    }
   ],
   "source": [
    "vit_model.summary()"
   ]
  },
  {
   "cell_type": "markdown",
   "metadata": {},
   "source": [
    "### adding batch normalisation and dense layers to the model"
   ]
  },
  {
   "cell_type": "code",
   "execution_count": 23,
   "metadata": {
    "_cell_guid": "ad7bc5d0-e11d-49aa-bbf2-7f912c1cbc8b",
    "_uuid": "84e7438a-1837-4ac9-8d9b-ef804f22c2eb",
    "collapsed": false,
    "execution": {
     "iopub.execute_input": "2021-10-31T15:23:23.540464Z",
     "iopub.status.busy": "2021-10-31T15:23:23.538544Z",
     "iopub.status.idle": "2021-10-31T15:23:25.121298Z",
     "shell.execute_reply": "2021-10-31T15:23:25.120562Z",
     "shell.execute_reply.started": "2021-10-31T15:23:23.540426Z"
    },
    "executionInfo": {
     "elapsed": 1715,
     "status": "ok",
     "timestamp": 1629100932761,
     "user": {
      "displayName": "Leuko PY",
      "photoUrl": "",
      "userId": "08649880194219295972"
     },
     "user_tz": -60
    },
    "id": "jGM95UvKbClp",
    "jupyter": {
     "outputs_hidden": false
    },
    "outputId": "b4d2fac1-d96b-4064-8368-41fbe0ebdfa7"
   },
   "outputs": [],
   "source": [
    "temp_model = tf.keras.Sequential([\n",
    "    vit_model,\n",
    "    layers.BatchNormalization(),\n",
    "    layers.Dense(256, activation = tfa.activations.gelu, name = 'dense_1'),\n",
    "    layers.BatchNormalization(),\n",
    "    layers.Dense(11, 'softmax')\n",
    "    ])"
   ]
  },
  {
   "cell_type": "markdown",
   "metadata": {},
   "source": [
    "### Flattening the model"
   ]
  },
  {
   "cell_type": "code",
   "execution_count": 24,
   "metadata": {
    "execution": {
     "iopub.execute_input": "2021-10-31T15:23:25.124456Z",
     "iopub.status.busy": "2021-10-31T15:23:25.122458Z",
     "iopub.status.idle": "2021-10-31T15:23:25.181287Z",
     "shell.execute_reply": "2021-10-31T15:23:25.180630Z",
     "shell.execute_reply.started": "2021-10-31T15:23:25.124424Z"
    }
   },
   "outputs": [
    {
     "name": "stdout",
     "output_type": "stream",
     "text": [
      "Surgically appending layer : <keras.layers.normalization.batch_normalization.BatchNormalization object at 0x7f0a8014a290>\n",
      "Surgically appending layer : <keras.layers.core.Dense object at 0x7f0a8014a690>\n",
      "Surgically appending layer : <keras.layers.normalization.batch_normalization.BatchNormalization object at 0x7f0a8014a410>\n",
      "Surgically appending layer : <keras.layers.core.Dense object at 0x7f0a90055910>\n",
      "Model: \"model\"\n",
      "_________________________________________________________________\n",
      "Layer (type)                 Output Shape              Param #   \n",
      "=================================================================\n",
      "input_1 (InputLayer)         [(None, 352, 352, 3)]     0         \n",
      "_________________________________________________________________\n",
      "embedding (Conv2D)           (None, 11, 11, 768)       2360064   \n",
      "_________________________________________________________________\n",
      "reshape (Reshape)            (None, 121, 768)          0         \n",
      "_________________________________________________________________\n",
      "class_token (ClassToken)     (None, 122, 768)          768       \n",
      "_________________________________________________________________\n",
      "Transformer/posembed_input ( (None, 122, 768)          93696     \n",
      "_________________________________________________________________\n",
      "Transformer/encoderblock_0 ( ((None, 122, 768), (None, 7087872   \n",
      "_________________________________________________________________\n",
      "Transformer/encoderblock_1 ( ((None, 122, 768), (None, 7087872   \n",
      "_________________________________________________________________\n",
      "Transformer/encoderblock_2 ( ((None, 122, 768), (None, 7087872   \n",
      "_________________________________________________________________\n",
      "Transformer/encoderblock_3 ( ((None, 122, 768), (None, 7087872   \n",
      "_________________________________________________________________\n",
      "Transformer/encoderblock_4 ( ((None, 122, 768), (None, 7087872   \n",
      "_________________________________________________________________\n",
      "Transformer/encoderblock_5 ( ((None, 122, 768), (None, 7087872   \n",
      "_________________________________________________________________\n",
      "Transformer/encoderblock_6 ( ((None, 122, 768), (None, 7087872   \n",
      "_________________________________________________________________\n",
      "Transformer/encoderblock_7 ( ((None, 122, 768), (None, 7087872   \n",
      "_________________________________________________________________\n",
      "Transformer/encoderblock_8 ( ((None, 122, 768), (None, 7087872   \n",
      "_________________________________________________________________\n",
      "Transformer/encoderblock_9 ( ((None, 122, 768), (None, 7087872   \n",
      "_________________________________________________________________\n",
      "Transformer/encoderblock_10  ((None, 122, 768), (None, 7087872   \n",
      "_________________________________________________________________\n",
      "Transformer/encoderblock_11  ((None, 122, 768), (None, 7087872   \n",
      "_________________________________________________________________\n",
      "Transformer/encoder_norm (La (None, 122, 768)          1536      \n",
      "_________________________________________________________________\n",
      "ExtractToken (Lambda)        (None, 768)               0         \n",
      "_________________________________________________________________\n",
      "batch_normalization (BatchNo (None, 768)               3072      \n",
      "_________________________________________________________________\n",
      "dense_1 (Dense)              (None, 256)               196864    \n",
      "_________________________________________________________________\n",
      "batch_normalization_1 (Batch (None, 256)               1024      \n",
      "_________________________________________________________________\n",
      "dense (Dense)                (None, 11)                2827      \n",
      "=================================================================\n",
      "Total params: 87,714,315\n",
      "Trainable params: 87,712,267\n",
      "Non-trainable params: 2,048\n",
      "_________________________________________________________________\n"
     ]
    }
   ],
   "source": [
    "model = model_surgery(temp_model)\n",
    "model.summary()"
   ]
  },
  {
   "cell_type": "markdown",
   "metadata": {},
   "source": [
    "### Setting trainability of layers "
   ]
  },
  {
   "cell_type": "code",
   "execution_count": 25,
   "metadata": {
    "execution": {
     "iopub.execute_input": "2021-10-31T15:23:25.182549Z",
     "iopub.status.busy": "2021-10-31T15:23:25.182320Z",
     "iopub.status.idle": "2021-10-31T15:23:25.218699Z",
     "shell.execute_reply": "2021-10-31T15:23:25.218067Z",
     "shell.execute_reply.started": "2021-10-31T15:23:25.182516Z"
    }
   },
   "outputs": [
    {
     "name": "stdout",
     "output_type": "stream",
     "text": [
      "<keras.engine.input_layer.InputLayer object at 0x7f0a93e51e90> False\n",
      "<keras.layers.convolutional.Conv2D object at 0x7f0a93d4f910> False\n",
      "<keras.layers.core.Reshape object at 0x7f0a9480bed0> False\n",
      "<vit_keras.layers.ClassToken object at 0x7f0a949f4dd0> False\n",
      "<vit_keras.layers.AddPositionEmbs object at 0x7f0a949f4510> False\n",
      "<vit_keras.layers.TransformerBlock object at 0x7f0a93e26f90> False\n",
      "<vit_keras.layers.TransformerBlock object at 0x7f0a94e59790> False\n",
      "<vit_keras.layers.TransformerBlock object at 0x7f0a93c2fa10> False\n",
      "<vit_keras.layers.TransformerBlock object at 0x7f0a93ce1b90> False\n",
      "<vit_keras.layers.TransformerBlock object at 0x7f0a94ad0590> False\n",
      "<vit_keras.layers.TransformerBlock object at 0x7f0a94c55d90> False\n",
      "<vit_keras.layers.TransformerBlock object at 0x7f0a93c9e6d0> False\n",
      "<vit_keras.layers.TransformerBlock object at 0x7f0a94c551d0> False\n",
      "<vit_keras.layers.TransformerBlock object at 0x7f0a93755450> False\n",
      "<vit_keras.layers.TransformerBlock object at 0x7f0a937c4050> False\n",
      "<vit_keras.layers.TransformerBlock object at 0x7f0a9016f9d0> False\n",
      "<vit_keras.layers.TransformerBlock object at 0x7f0a9011d2d0> False\n",
      "<keras.layers.normalization.layer_normalization.LayerNormalization object at 0x7f0a900a6c90> False\n",
      "<keras.layers.core.Lambda object at 0x7f0a900235d0> False\n",
      "<keras.layers.normalization.batch_normalization.BatchNormalization object at 0x7f0a8014a290> True\n",
      "<keras.layers.core.Dense object at 0x7f0a8014a690> True\n",
      "<keras.layers.normalization.batch_normalization.BatchNormalization object at 0x7f0a8014a410> True\n",
      "<keras.layers.core.Dense object at 0x7f0a90055910> True\n",
      "Model: \"model\"\n",
      "_________________________________________________________________\n",
      "Layer (type)                 Output Shape              Param #   \n",
      "=================================================================\n",
      "input_1 (InputLayer)         [(None, 352, 352, 3)]     0         \n",
      "_________________________________________________________________\n",
      "embedding (Conv2D)           (None, 11, 11, 768)       2360064   \n",
      "_________________________________________________________________\n",
      "reshape (Reshape)            (None, 121, 768)          0         \n",
      "_________________________________________________________________\n",
      "class_token (ClassToken)     (None, 122, 768)          768       \n",
      "_________________________________________________________________\n",
      "Transformer/posembed_input ( (None, 122, 768)          93696     \n",
      "_________________________________________________________________\n",
      "Transformer/encoderblock_0 ( ((None, 122, 768), (None, 7087872   \n",
      "_________________________________________________________________\n",
      "Transformer/encoderblock_1 ( ((None, 122, 768), (None, 7087872   \n",
      "_________________________________________________________________\n",
      "Transformer/encoderblock_2 ( ((None, 122, 768), (None, 7087872   \n",
      "_________________________________________________________________\n",
      "Transformer/encoderblock_3 ( ((None, 122, 768), (None, 7087872   \n",
      "_________________________________________________________________\n",
      "Transformer/encoderblock_4 ( ((None, 122, 768), (None, 7087872   \n",
      "_________________________________________________________________\n",
      "Transformer/encoderblock_5 ( ((None, 122, 768), (None, 7087872   \n",
      "_________________________________________________________________\n",
      "Transformer/encoderblock_6 ( ((None, 122, 768), (None, 7087872   \n",
      "_________________________________________________________________\n",
      "Transformer/encoderblock_7 ( ((None, 122, 768), (None, 7087872   \n",
      "_________________________________________________________________\n",
      "Transformer/encoderblock_8 ( ((None, 122, 768), (None, 7087872   \n",
      "_________________________________________________________________\n",
      "Transformer/encoderblock_9 ( ((None, 122, 768), (None, 7087872   \n",
      "_________________________________________________________________\n",
      "Transformer/encoderblock_10  ((None, 122, 768), (None, 7087872   \n",
      "_________________________________________________________________\n",
      "Transformer/encoderblock_11  ((None, 122, 768), (None, 7087872   \n",
      "_________________________________________________________________\n",
      "Transformer/encoder_norm (La (None, 122, 768)          1536      \n",
      "_________________________________________________________________\n",
      "ExtractToken (Lambda)        (None, 768)               0         \n",
      "_________________________________________________________________\n",
      "batch_normalization (BatchNo (None, 768)               3072      \n",
      "_________________________________________________________________\n",
      "dense_1 (Dense)              (None, 256)               196864    \n",
      "_________________________________________________________________\n",
      "batch_normalization_1 (Batch (None, 256)               1024      \n",
      "_________________________________________________________________\n",
      "dense (Dense)                (None, 11)                2827      \n",
      "=================================================================\n",
      "Total params: 87,714,315\n",
      "Trainable params: 201,739\n",
      "Non-trainable params: 87,512,576\n",
      "_________________________________________________________________\n"
     ]
    }
   ],
   "source": [
    "for layer in model.layers[:-4]:\n",
    "    layer.trainable = False\n",
    "    \n",
    "for layer in model.layers:\n",
    "    print(layer, layer.trainable)\n",
    "model.summary()"
   ]
  },
  {
   "cell_type": "code",
   "execution_count": 26,
   "metadata": {
    "_cell_guid": "3846e1d4-6ce4-4c38-a356-9aca6ca56449",
    "_uuid": "b5f81c7c-dd28-45b3-a77d-6758954dd12f",
    "collapsed": false,
    "execution": {
     "iopub.execute_input": "2021-10-31T15:23:25.220237Z",
     "iopub.status.busy": "2021-10-31T15:23:25.219985Z",
     "iopub.status.idle": "2021-10-31T15:23:25.246903Z",
     "shell.execute_reply": "2021-10-31T15:23:25.246288Z",
     "shell.execute_reply.started": "2021-10-31T15:23:25.220205Z"
    },
    "executionInfo": {
     "elapsed": 188,
     "status": "ok",
     "timestamp": 1629100935493,
     "user": {
      "displayName": "Leuko PY",
      "photoUrl": "",
      "userId": "08649880194219295972"
     },
     "user_tz": -60
    },
    "id": "eegQLj0UbClp",
    "jupyter": {
     "outputs_hidden": false
    }
   },
   "outputs": [],
   "source": [
    "f1_metric = tfa.metrics.F1Score(num_classes=11, average='macro', name='f1')\n",
    "precision = tf.keras.metrics.Precision(name='precision')\n",
    "recall = tf.keras.metrics.Recall(name='recall')\n",
    "\n",
    "optimizer = tfa.optimizers.RectifiedAdam(learning_rate = LR)\n",
    "\n",
    "model.compile(optimizer = optimizer, \n",
    "              loss = tf.keras.losses.CategoricalCrossentropy(label_smoothing = 0.05),\n",
    "              metrics = ['accuracy', f1_metric, precision, recall])"
   ]
  },
  {
   "cell_type": "markdown",
   "metadata": {
    "_cell_guid": "8773214d-a455-4f28-b6be-904368e71c0b",
    "_uuid": "4bba35cd-d2f9-4da4-88cf-24c9ae99c508",
    "executionInfo": {
     "elapsed": 221,
     "status": "ok",
     "timestamp": 1629100937045,
     "user": {
      "displayName": "Leuko PY",
      "photoUrl": "",
      "userId": "08649880194219295972"
     },
     "user_tz": -60
    },
    "id": "6g2ftf8ibClp",
    "jupyter": {
     "outputs_hidden": false
    },
    "tags": []
   },
   "source": [
    "### Adding callbacks"
   ]
  },
  {
   "cell_type": "code",
   "execution_count": 27,
   "metadata": {
    "_cell_guid": "8773214d-a455-4f28-b6be-904368e71c0b",
    "_uuid": "4bba35cd-d2f9-4da4-88cf-24c9ae99c508",
    "collapsed": false,
    "execution": {
     "iopub.execute_input": "2021-10-31T15:23:25.248334Z",
     "iopub.status.busy": "2021-10-31T15:23:25.248034Z",
     "iopub.status.idle": "2021-10-31T15:23:25.255747Z",
     "shell.execute_reply": "2021-10-31T15:23:25.254812Z",
     "shell.execute_reply.started": "2021-10-31T15:23:25.248299Z"
    },
    "executionInfo": {
     "elapsed": 221,
     "status": "ok",
     "timestamp": 1629100937045,
     "user": {
      "displayName": "Leuko PY",
      "photoUrl": "",
      "userId": "08649880194219295972"
     },
     "user_tz": -60
    },
    "id": "6g2ftf8ibClp",
    "jupyter": {
     "outputs_hidden": false
    }
   },
   "outputs": [],
   "source": [
    "reduce_lr = tf.keras.callbacks.ReduceLROnPlateau(monitor = 'val_accuracy',\n",
    "                                                 factor = 0.2,\n",
    "                                                 patience = 2,\n",
    "                                                 verbose = 1,\n",
    "                                                 min_delta = 1e-4,\n",
    "                                                 min_lr = 1e-7,\n",
    "                                                 mode = 'max')\n",
    "\n",
    "earlystopping = tf.keras.callbacks.EarlyStopping(monitor = 'val_accuracy',\n",
    "                                                 min_delta = 1e-4,\n",
    "                                                 patience = 7,\n",
    "                                                 mode = 'max',\n",
    "                                                 restore_best_weights = True,\n",
    "                                                 verbose = 1)\n",
    "\n",
    "checkpointer = tf.keras.callbacks.ModelCheckpoint(filepath = OUTPUT_PATH/'model.hdf5',\n",
    "                                                  monitor = 'val_accuracy', \n",
    "                                                  verbose = 1, \n",
    "                                                  save_best_only = True,\n",
    "                                                  save_weights_only = True,\n",
    "                                                  mode = 'max')\n",
    "\n",
    "callbacks_list = [earlystopping, reduce_lr, checkpointer]"
   ]
  },
  {
   "cell_type": "markdown",
   "metadata": {},
   "source": [
    "## Compute weights \n",
    "To compensate for the class imbalance"
   ]
  },
  {
   "cell_type": "code",
   "execution_count": 28,
   "metadata": {
    "_cell_guid": "fcad3a8c-316b-41ee-bf4d-da11e3e454f4",
    "_uuid": "c2b913c9-f54f-4577-8322-d2fce7f4cfca",
    "collapsed": false,
    "execution": {
     "iopub.execute_input": "2021-10-31T15:23:25.258431Z",
     "iopub.status.busy": "2021-10-31T15:23:25.257910Z",
     "iopub.status.idle": "2021-10-31T15:23:25.266753Z",
     "shell.execute_reply": "2021-10-31T15:23:25.265935Z",
     "shell.execute_reply.started": "2021-10-31T15:23:25.258395Z"
    },
    "executionInfo": {
     "elapsed": 11889435,
     "status": "error",
     "timestamp": 1629113075001,
     "user": {
      "displayName": "Leuko PY",
      "photoUrl": "",
      "userId": "08649880194219295972"
     },
     "user_tz": -60
    },
    "id": "jUTlnLPabClp",
    "jupyter": {
     "outputs_hidden": false
    },
    "outputId": "592662d1-9258-465b-af29-0baf83c27e2f",
    "tags": []
   },
   "outputs": [
    {
     "data": {
      "text/plain": [
       "{0: 7.0138427464008855,\n",
       " 1: 5.225660066006601,\n",
       " 6: 5.930243445692884,\n",
       " 7: 7.603241296518607,\n",
       " 2: 2.696253724989357,\n",
       " 8: 3.642035652673951,\n",
       " 10: 5.0146476642913695,\n",
       " 3: 5.450516351118761,\n",
       " 4: 6.709216101694915,\n",
       " 9: 13.768478260869566,\n",
       " 5: 8.628746594005449}"
      ]
     },
     "execution_count": 28,
     "metadata": {},
     "output_type": "execute_result"
    }
   ],
   "source": [
    "class_weights = leuko.compute_weights(training_set, method = 3)\n",
    "class_weights"
   ]
  },
  {
   "cell_type": "markdown",
   "metadata": {},
   "source": [
    "# Training"
   ]
  },
  {
   "cell_type": "code",
   "execution_count": 29,
   "metadata": {
    "_cell_guid": "fcad3a8c-316b-41ee-bf4d-da11e3e454f4",
    "_uuid": "c2b913c9-f54f-4577-8322-d2fce7f4cfca",
    "collapsed": false,
    "execution": {
     "iopub.execute_input": "2021-10-31T15:23:25.268617Z",
     "iopub.status.busy": "2021-10-31T15:23:25.268309Z",
     "iopub.status.idle": "2021-10-31T16:54:32.057494Z",
     "shell.execute_reply": "2021-10-31T16:54:32.056628Z",
     "shell.execute_reply.started": "2021-10-31T15:23:25.268582Z"
    },
    "executionInfo": {
     "elapsed": 11889435,
     "status": "error",
     "timestamp": 1629113075001,
     "user": {
      "displayName": "Leuko PY",
      "photoUrl": "",
      "userId": "08649880194219295972"
     },
     "user_tz": -60
    },
    "id": "jUTlnLPabClp",
    "jupyter": {
     "outputs_hidden": false
    },
    "outputId": "592662d1-9258-465b-af29-0baf83c27e2f",
    "tags": []
   },
   "outputs": [
    {
     "name": "stderr",
     "output_type": "stream",
     "text": [
      "2021-10-31 15:23:26.339489: I tensorflow/compiler/mlir/mlir_graph_optimization_pass.cc:185] None of the MLIR Optimization Passes are enabled (registered 2)\n"
     ]
    },
    {
     "name": "stdout",
     "output_type": "stream",
     "text": [
      "Epoch 1/100\n"
     ]
    },
    {
     "name": "stderr",
     "output_type": "stream",
     "text": [
      "2021-10-31 15:23:40.235380: I tensorflow/stream_executor/cuda/cuda_dnn.cc:369] Loaded cuDNN version 8005\n"
     ]
    },
    {
     "name": "stdout",
     "output_type": "stream",
     "text": [
      "395/395 [==============================] - 472s 1s/step - loss: 14.2292 - accuracy: 0.2030 - f1: 0.1765 - precision: 0.3624 - recall: 0.0918 - val_loss: 1.7517 - val_accuracy: 0.4283 - val_f1: 0.2856 - val_precision: 0.8660 - val_recall: 0.1457\n",
      "\n",
      "Epoch 00001: val_accuracy improved from -inf to 0.42832, saving model to results/31102021_15/model.hdf5\n",
      "Epoch 2/100\n",
      "395/395 [==============================] - 392s 989ms/step - loss: 11.8433 - accuracy: 0.3010 - f1: 0.2596 - precision: 0.5814 - recall: 0.1393 - val_loss: 1.5858 - val_accuracy: 0.4815 - val_f1: 0.3807 - val_precision: 0.8770 - val_recall: 0.1896\n",
      "\n",
      "Epoch 00002: val_accuracy improved from 0.42832 to 0.48150, saving model to results/31102021_15/model.hdf5\n",
      "Epoch 3/100\n",
      "395/395 [==============================] - 390s 984ms/step - loss: 11.0088 - accuracy: 0.3392 - f1: 0.2983 - precision: 0.6550 - recall: 0.1566 - val_loss: 1.5542 - val_accuracy: 0.4786 - val_f1: 0.3882 - val_precision: 0.8560 - val_recall: 0.1821\n",
      "\n",
      "Epoch 00003: val_accuracy did not improve from 0.48150\n",
      "Epoch 4/100\n",
      "395/395 [==============================] - 386s 975ms/step - loss: 10.7375 - accuracy: 0.3498 - f1: 0.3081 - precision: 0.6846 - recall: 0.1503 - val_loss: 1.5251 - val_accuracy: 0.5035 - val_f1: 0.4457 - val_precision: 0.8830 - val_recall: 0.1919\n",
      "\n",
      "Epoch 00004: val_accuracy improved from 0.48150 to 0.50347, saving model to results/31102021_15/model.hdf5\n",
      "Epoch 5/100\n",
      "395/395 [==============================] - 387s 977ms/step - loss: 10.4514 - accuracy: 0.3714 - f1: 0.3292 - precision: 0.7171 - recall: 0.1490 - val_loss: 1.5388 - val_accuracy: 0.5075 - val_f1: 0.4280 - val_precision: 0.8225 - val_recall: 0.1902\n",
      "\n",
      "Epoch 00005: val_accuracy improved from 0.50347 to 0.50751, saving model to results/31102021_15/model.hdf5\n",
      "Epoch 6/100\n",
      "395/395 [==============================] - 387s 977ms/step - loss: 10.3628 - accuracy: 0.3713 - f1: 0.3258 - precision: 0.7475 - recall: 0.1472 - val_loss: 1.5128 - val_accuracy: 0.5480 - val_f1: 0.4761 - val_precision: 0.8786 - val_recall: 0.1925\n",
      "\n",
      "Epoch 00006: val_accuracy improved from 0.50751 to 0.54798, saving model to results/31102021_15/model.hdf5\n",
      "Epoch 7/100\n",
      "395/395 [==============================] - 384s 970ms/step - loss: 10.1887 - accuracy: 0.3875 - f1: 0.3397 - precision: 0.7572 - recall: 0.1524 - val_loss: 1.5181 - val_accuracy: 0.5295 - val_f1: 0.4692 - val_precision: 0.8618 - val_recall: 0.1838\n",
      "\n",
      "Epoch 00007: val_accuracy did not improve from 0.54798\n",
      "Epoch 8/100\n",
      "395/395 [==============================] - 384s 969ms/step - loss: 10.1865 - accuracy: 0.3862 - f1: 0.3378 - precision: 0.7608 - recall: 0.1527 - val_loss: 1.5268 - val_accuracy: 0.5272 - val_f1: 0.4784 - val_precision: 0.9006 - val_recall: 0.1780\n",
      "\n",
      "Epoch 00008: ReduceLROnPlateau reducing learning rate to 0.00020000000949949026.\n",
      "\n",
      "Epoch 00008: val_accuracy did not improve from 0.54798\n",
      "Epoch 9/100\n",
      "395/395 [==============================] - 394s 994ms/step - loss: 10.0781 - accuracy: 0.3937 - f1: 0.3485 - precision: 0.7798 - recall: 0.1484 - val_loss: 1.5021 - val_accuracy: 0.5393 - val_f1: 0.4818 - val_precision: 0.8973 - val_recall: 0.1919\n",
      "\n",
      "Epoch 00009: val_accuracy did not improve from 0.54798\n",
      "Epoch 10/100\n",
      "395/395 [==============================] - 374s 945ms/step - loss: 10.0404 - accuracy: 0.3991 - f1: 0.3465 - precision: 0.7766 - recall: 0.1545 - val_loss: 1.5047 - val_accuracy: 0.5439 - val_f1: 0.4935 - val_precision: 0.9101 - val_recall: 0.1815\n",
      "\n",
      "Epoch 00010: ReduceLROnPlateau reducing learning rate to 4.0000001899898055e-05.\n",
      "\n",
      "Epoch 00010: val_accuracy did not improve from 0.54798\n",
      "Epoch 11/100\n",
      "395/395 [==============================] - 389s 982ms/step - loss: 10.0356 - accuracy: 0.4000 - f1: 0.3524 - precision: 0.7890 - recall: 0.1505 - val_loss: 1.5086 - val_accuracy: 0.5387 - val_f1: 0.4845 - val_precision: 0.9037 - val_recall: 0.1844\n",
      "\n",
      "Epoch 00011: val_accuracy did not improve from 0.54798\n",
      "Epoch 12/100\n",
      "395/395 [==============================] - 391s 988ms/step - loss: 9.9773 - accuracy: 0.4043 - f1: 0.3544 - precision: 0.8007 - recall: 0.1551 - val_loss: 1.5105 - val_accuracy: 0.5382 - val_f1: 0.4860 - val_precision: 0.9006 - val_recall: 0.1832\n",
      "\n",
      "Epoch 00012: ReduceLROnPlateau reducing learning rate to 8.000000525498762e-06.\n",
      "\n",
      "Epoch 00012: val_accuracy did not improve from 0.54798\n",
      "Epoch 13/100\n",
      "395/395 [==============================] - 374s 945ms/step - loss: 9.9726 - accuracy: 0.4026 - f1: 0.3527 - precision: 0.7788 - recall: 0.1506 - val_loss: 1.5052 - val_accuracy: 0.5439 - val_f1: 0.4884 - val_precision: 0.9034 - val_recall: 0.1838\n",
      "Restoring model weights from the end of the best epoch.\n",
      "\n",
      "Epoch 00013: val_accuracy did not improve from 0.54798\n",
      "Epoch 00013: early stopping\n"
     ]
    },
    {
     "name": "stderr",
     "output_type": "stream",
     "text": [
      "2021-10-31 16:54:10.602548: W tensorflow/python/util/util.cc:348] Sets are not currently considered sequences, but this may change in the future, so consider avoiding using them.\n"
     ]
    }
   ],
   "source": [
    "training_history = model.fit(x = training_set, \n",
    "                             steps_per_epoch = training_set.n/training_set.batch_size,\n",
    "                             validation_steps = validation_set.n/validation_set.batch_size,\n",
    "\n",
    "                             epochs = EPOCHS,\n",
    "                             callbacks = callbacks_list,\n",
    "                             validation_data = validation_set, \n",
    "                             class_weight = class_weights\n",
    "                            )\n",
    "\n",
    "model.save(OUTPUT_PATH)"
   ]
  },
  {
   "cell_type": "markdown",
   "metadata": {},
   "source": [
    "# Saving\n",
    "## History"
   ]
  },
  {
   "cell_type": "code",
   "execution_count": 30,
   "metadata": {
    "execution": {
     "iopub.execute_input": "2021-10-31T16:54:32.064866Z",
     "iopub.status.busy": "2021-10-31T16:54:32.064644Z",
     "iopub.status.idle": "2021-10-31T16:54:32.069979Z",
     "shell.execute_reply": "2021-10-31T16:54:32.069224Z",
     "shell.execute_reply.started": "2021-10-31T16:54:32.064840Z"
    }
   },
   "outputs": [],
   "source": [
    "with open(OUTPUT_PATH/'training_hist_b16', 'wb') as f:\n",
    "    pickle.dump(training_history.history, f)"
   ]
  },
  {
   "cell_type": "markdown",
   "metadata": {},
   "source": [
    "## Testing pred and eval"
   ]
  },
  {
   "cell_type": "code",
   "execution_count": 31,
   "metadata": {
    "_cell_guid": "d2a49d7d-3d40-4ed1-9c09-0960e9cbb3fc",
    "_uuid": "1e0148f6-8892-418a-92ba-bcfce8d3d275",
    "collapsed": false,
    "execution": {
     "iopub.execute_input": "2021-10-31T16:54:32.071873Z",
     "iopub.status.busy": "2021-10-31T16:54:32.071374Z",
     "iopub.status.idle": "2021-10-31T16:55:13.475663Z",
     "shell.execute_reply": "2021-10-31T16:55:13.475034Z",
     "shell.execute_reply.started": "2021-10-31T16:54:32.071836Z"
    },
    "jupyter": {
     "outputs_hidden": false
    }
   },
   "outputs": [
    {
     "name": "stdout",
     "output_type": "stream",
     "text": [
      "80/80 [==============================] - 33s 409ms/step - loss: 1.5220 - accuracy: 0.5586 - f1: 0.4844 - precision: 0.8713 - recall: 0.1969\n"
     ]
    },
    {
     "data": {
      "text/plain": [
       "[1.5219610929489136,\n",
       " 0.5585691928863525,\n",
       " 0.48439711332321167,\n",
       " 0.8713043332099915,\n",
       " 0.19693395495414734]"
      ]
     },
     "execution_count": 31,
     "metadata": {},
     "output_type": "execute_result"
    }
   ],
   "source": [
    "model.evaluate(testing_set)\n"
   ]
  },
  {
   "cell_type": "code",
   "execution_count": 32,
   "metadata": {
    "_cell_guid": "7c2c5892-9b69-4373-97f4-9671733dce17",
    "_uuid": "8711b2da-9375-4809-9ac5-4b9f23693180",
    "collapsed": false,
    "execution": {
     "iopub.execute_input": "2021-10-31T16:55:13.477320Z",
     "iopub.status.busy": "2021-10-31T16:55:13.477082Z",
     "iopub.status.idle": "2021-10-31T16:55:34.034586Z",
     "shell.execute_reply": "2021-10-31T16:55:34.033836Z",
     "shell.execute_reply.started": "2021-10-31T16:55:13.477289Z"
    },
    "jupyter": {
     "outputs_hidden": false
    }
   },
   "outputs": [],
   "source": [
    "#make predictions on the test set\n",
    "predictions = model.predict(testing_set)\n",
    "y_pred = tf.argmax(predictions, axis = 1)"
   ]
  },
  {
   "cell_type": "code",
   "execution_count": 33,
   "metadata": {
    "execution": {
     "iopub.execute_input": "2021-10-31T16:55:34.038852Z",
     "iopub.status.busy": "2021-10-31T16:55:34.038652Z",
     "iopub.status.idle": "2021-10-31T16:55:34.066573Z",
     "shell.execute_reply": "2021-10-31T16:55:34.065959Z",
     "shell.execute_reply.started": "2021-10-31T16:55:34.038827Z"
    }
   },
   "outputs": [
    {
     "data": {
      "text/html": [
       "<div>\n",
       "<style scoped>\n",
       "    .dataframe tbody tr th:only-of-type {\n",
       "        vertical-align: middle;\n",
       "    }\n",
       "\n",
       "    .dataframe tbody tr th {\n",
       "        vertical-align: top;\n",
       "    }\n",
       "\n",
       "    .dataframe thead th {\n",
       "        text-align: right;\n",
       "    }\n",
       "</style>\n",
       "<table border=\"1\" class=\"dataframe\">\n",
       "  <thead>\n",
       "    <tr style=\"text-align: right;\">\n",
       "      <th></th>\n",
       "      <th>true</th>\n",
       "      <th>true_label</th>\n",
       "      <th>pred</th>\n",
       "      <th>img_path</th>\n",
       "      <th>pred_label</th>\n",
       "    </tr>\n",
       "  </thead>\n",
       "  <tbody>\n",
       "    <tr>\n",
       "      <th>0</th>\n",
       "      <td>4</td>\n",
       "      <td>LY</td>\n",
       "      <td>4</td>\n",
       "      <td>../input/main-dataset/main_dataset/testing_set...</td>\n",
       "      <td>LY</td>\n",
       "    </tr>\n",
       "    <tr>\n",
       "      <th>1</th>\n",
       "      <td>10</td>\n",
       "      <td>SNE</td>\n",
       "      <td>4</td>\n",
       "      <td>../input/main-dataset/main_dataset/testing_set...</td>\n",
       "      <td>LY</td>\n",
       "    </tr>\n",
       "    <tr>\n",
       "      <th>2</th>\n",
       "      <td>0</td>\n",
       "      <td>BA</td>\n",
       "      <td>5</td>\n",
       "      <td>../input/main-dataset/main_dataset/testing_set...</td>\n",
       "      <td>MMY</td>\n",
       "    </tr>\n",
       "    <tr>\n",
       "      <th>3</th>\n",
       "      <td>0</td>\n",
       "      <td>BA</td>\n",
       "      <td>4</td>\n",
       "      <td>../input/main-dataset/main_dataset/testing_set...</td>\n",
       "      <td>LY</td>\n",
       "    </tr>\n",
       "    <tr>\n",
       "      <th>4</th>\n",
       "      <td>3</td>\n",
       "      <td>ERB</td>\n",
       "      <td>8</td>\n",
       "      <td>../input/main-dataset/main_dataset/testing_set...</td>\n",
       "      <td>PLT</td>\n",
       "    </tr>\n",
       "    <tr>\n",
       "      <th>...</th>\n",
       "      <td>...</td>\n",
       "      <td>...</td>\n",
       "      <td>...</td>\n",
       "      <td>...</td>\n",
       "      <td>...</td>\n",
       "    </tr>\n",
       "    <tr>\n",
       "      <th>2539</th>\n",
       "      <td>1</td>\n",
       "      <td>BNE</td>\n",
       "      <td>6</td>\n",
       "      <td>../input/main-dataset/main_dataset/testing_set...</td>\n",
       "      <td>MO</td>\n",
       "    </tr>\n",
       "    <tr>\n",
       "      <th>2540</th>\n",
       "      <td>10</td>\n",
       "      <td>SNE</td>\n",
       "      <td>9</td>\n",
       "      <td>../input/main-dataset/main_dataset/testing_set...</td>\n",
       "      <td>PMY</td>\n",
       "    </tr>\n",
       "    <tr>\n",
       "      <th>2541</th>\n",
       "      <td>3</td>\n",
       "      <td>ERB</td>\n",
       "      <td>3</td>\n",
       "      <td>../input/main-dataset/main_dataset/testing_set...</td>\n",
       "      <td>ERB</td>\n",
       "    </tr>\n",
       "    <tr>\n",
       "      <th>2542</th>\n",
       "      <td>4</td>\n",
       "      <td>LY</td>\n",
       "      <td>6</td>\n",
       "      <td>../input/main-dataset/main_dataset/testing_set...</td>\n",
       "      <td>MO</td>\n",
       "    </tr>\n",
       "    <tr>\n",
       "      <th>2543</th>\n",
       "      <td>5</td>\n",
       "      <td>MMY</td>\n",
       "      <td>4</td>\n",
       "      <td>../input/main-dataset/main_dataset/testing_set...</td>\n",
       "      <td>LY</td>\n",
       "    </tr>\n",
       "  </tbody>\n",
       "</table>\n",
       "<p>2544 rows × 5 columns</p>\n",
       "</div>"
      ],
      "text/plain": [
       "      true true_label  pred  \\\n",
       "0        4         LY     4   \n",
       "1       10        SNE     4   \n",
       "2        0         BA     5   \n",
       "3        0         BA     4   \n",
       "4        3        ERB     8   \n",
       "...    ...        ...   ...   \n",
       "2539     1        BNE     6   \n",
       "2540    10        SNE     9   \n",
       "2541     3        ERB     3   \n",
       "2542     4         LY     6   \n",
       "2543     5        MMY     4   \n",
       "\n",
       "                                               img_path pred_label  \n",
       "0     ../input/main-dataset/main_dataset/testing_set...         LY  \n",
       "1     ../input/main-dataset/main_dataset/testing_set...         LY  \n",
       "2     ../input/main-dataset/main_dataset/testing_set...        MMY  \n",
       "3     ../input/main-dataset/main_dataset/testing_set...         LY  \n",
       "4     ../input/main-dataset/main_dataset/testing_set...        PLT  \n",
       "...                                                 ...        ...  \n",
       "2539  ../input/main-dataset/main_dataset/testing_set...         MO  \n",
       "2540  ../input/main-dataset/main_dataset/testing_set...        PMY  \n",
       "2541  ../input/main-dataset/main_dataset/testing_set...        ERB  \n",
       "2542  ../input/main-dataset/main_dataset/testing_set...         MO  \n",
       "2543  ../input/main-dataset/main_dataset/testing_set...         LY  \n",
       "\n",
       "[2544 rows x 5 columns]"
      ]
     },
     "execution_count": 33,
     "metadata": {},
     "output_type": "execute_result"
    }
   ],
   "source": [
    "#create df\n",
    "test_label_map = {v:k for k, v in testing_set.class_indices.items()}\n",
    "df_pred = pd.DataFrame({'true':testing_set.classes,\n",
    "                        'true_label':df_test['label'],\n",
    "                        'pred':y_pred,\n",
    "                        'img_path':df_test['img_path']})\n",
    "df_pred['pred_label'] = df_pred['pred'].map(test_label_map)\n",
    "df_pred.to_pickle(OUTPUT_PATH/'pred_b16.pk')\n",
    "df_pred"
   ]
  }
 ],
 "metadata": {
  "kernelspec": {
   "display_name": "DStest",
   "language": "python",
   "name": "dstest"
  },
  "language_info": {
   "codemirror_mode": {
    "name": "ipython",
    "version": 3
   },
   "file_extension": ".py",
   "mimetype": "text/x-python",
   "name": "python",
   "nbconvert_exporter": "python",
   "pygments_lexer": "ipython3",
   "version": "3.9.4"
  }
 },
 "nbformat": 4,
 "nbformat_minor": 4
}

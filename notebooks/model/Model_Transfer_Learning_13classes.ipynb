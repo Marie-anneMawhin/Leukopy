{
 "cells": [
  {
   "cell_type": "code",
   "execution_count": 1,
   "id": "e07b2cb0",
   "metadata": {},
   "outputs": [],
   "source": [
    "import numpy as np\n",
    "import pandas as pd\n",
    "import tensorflow\n",
    "from tensorflow.keras.models import Sequential\n",
    "from tensorflow.keras.layers import Dense, Dropout, Activation, Flatten, Conv2D, MaxPooling2D, Lambda, MaxPool2D, BatchNormalization\n",
    "from tensorflow.keras.preprocessing.image import ImageDataGenerator\n",
    "from tensorflow.keras.optimizers import RMSprop\n",
    "from sklearn.preprocessing import LabelEncoder\n",
    "from sklearn.model_selection import train_test_split\n",
    "from sklearn.metrics import confusion_matrix\n",
    "from sklearn.metrics import accuracy_score\n",
    "import xml.etree.ElementTree as ET\n",
    "import sklearn\n",
    "import itertools\n",
    "import scipy\n",
    "import os\n",
    "import csv\n",
    "import matplotlib.pyplot as plt\n",
    "%matplotlib inline\n",
    "import pickle\n",
    "from matplotlib import cm # To import new color cards\n",
    "import tensorflow as tf\n",
    "from tensorflow import keras\n",
    "from tensorflow.keras.applications.vgg16 import preprocess_input\n",
    "from tensorflow.keras.layers import Dense, Dropout, Flatten, GlobalAveragePooling2D\n",
    "from tensorflow.keras.optimizers import Adam\n",
    "from tensorflow.keras.models import Model, Sequential\n",
    "from tensorflow.keras.preprocessing.image import ImageDataGenerator\n",
    "from tensorflow.keras import backend as K\n",
    "from tensorflow.keras.applications.vgg16 import VGG16\n",
    "from sklearn.svm import SVC\n"
   ]
  },
  {
   "cell_type": "code",
   "execution_count": 2,
   "id": "23a07c7b",
   "metadata": {},
   "outputs": [],
   "source": [
    "filename = 'C:/Users/laleh/Documents/Pythons/projet_blood/tests_images/data_1_13_classes.pkl'\n",
    "df= pickle.load(open(filename, 'rb'))\n"
   ]
  },
  {
   "cell_type": "code",
   "execution_count": 3,
   "id": "5d3e440d",
   "metadata": {},
   "outputs": [],
   "source": [
    "data_train, data_test = train_test_split(df, test_size=0.2, random_state=123)\n",
    "\n",
    "\n"
   ]
  },
  {
   "cell_type": "code",
   "execution_count": 11,
   "id": "4ccd9013",
   "metadata": {},
   "outputs": [
    {
     "name": "stdout",
     "output_type": "stream",
     "text": [
      "13\n",
      "13\n"
     ]
    }
   ],
   "source": [
    "print(len(list(data_train.label.value_counts())))\n",
    "print(len(list(data_test.label.value_counts())))"
   ]
  },
  {
   "cell_type": "code",
   "execution_count": 13,
   "id": "4f5a8f93",
   "metadata": {},
   "outputs": [
    {
     "name": "stderr",
     "output_type": "stream",
     "text": [
      "<ipython-input-13-4b46b8c2adc1>:17: SettingWithCopyWarning: \n",
      "A value is trying to be set on a copy of a slice from a DataFrame.\n",
      "Try using .loc[row_indexer,col_indexer] = value instead\n",
      "\n",
      "See the caveats in the documentation: https://pandas.pydata.org/pandas-docs/stable/user_guide/indexing.html#returning-a-view-versus-a-copy\n",
      "  data_train['out']=data_train.label.replace(classes_names,[0,1,2,3,4,5,6,7,8,9,10,11,12])\n",
      "<ipython-input-13-4b46b8c2adc1>:18: SettingWithCopyWarning: \n",
      "A value is trying to be set on a copy of a slice from a DataFrame.\n",
      "Try using .loc[row_indexer,col_indexer] = value instead\n",
      "\n",
      "See the caveats in the documentation: https://pandas.pydata.org/pandas-docs/stable/user_guide/indexing.html#returning-a-view-versus-a-copy\n",
      "  data_train['out']=data_train['out'].astype(str)\n"
     ]
    },
    {
     "name": "stdout",
     "output_type": "stream",
     "text": [
      "Found 13673 validated image filenames belonging to 13 classes.\n",
      "Found 3419 validated image filenames belonging to 13 classes.\n"
     ]
    },
    {
     "name": "stderr",
     "output_type": "stream",
     "text": [
      "<ipython-input-13-4b46b8c2adc1>:26: SettingWithCopyWarning: \n",
      "A value is trying to be set on a copy of a slice from a DataFrame.\n",
      "Try using .loc[row_indexer,col_indexer] = value instead\n",
      "\n",
      "See the caveats in the documentation: https://pandas.pydata.org/pandas-docs/stable/user_guide/indexing.html#returning-a-view-versus-a-copy\n",
      "  data_test['out']=data_test.label.replace(classes_names,[0,1,2,3,4,5,6,7,8,9,10,11,12])\n",
      "<ipython-input-13-4b46b8c2adc1>:27: SettingWithCopyWarning: \n",
      "A value is trying to be set on a copy of a slice from a DataFrame.\n",
      "Try using .loc[row_indexer,col_indexer] = value instead\n",
      "\n",
      "See the caveats in the documentation: https://pandas.pydata.org/pandas-docs/stable/user_guide/indexing.html#returning-a-view-versus-a-copy\n",
      "  data_test['out']=data_test['out'].astype(str)\n"
     ]
    }
   ],
   "source": [
    "classes_names=[\"BNE_BNE\",'eosinophil','IG_IG',\"platelet\",\"erythroblast\",\"monocyte\",\"basophil\",\n",
    " \"lymphocyte\",\"IG_MY\",\"IG_MMY\",\"IG_PMY\",\"BNE_SNE\",\"BNE_NEUTROPHIL\"]\n",
    "\n",
    "\n",
    "\n",
    "train_data_generator=ImageDataGenerator(\n",
    "preprocessing_function=preprocess_input,\n",
    "rotation_range=10,\n",
    "width_shift_range=0.1,\n",
    "height_shift_range=0.1,\n",
    "zoom_range=1.1,\n",
    "horizontal_flip=True)\n",
    "\n",
    "test_data_generator=ImageDataGenerator(preprocessing_function=preprocess_input)\n",
    "batch_size = 32\n",
    "\n",
    "data_train['out']=data_train.label.replace(classes_names,[0,1,2,3,4,5,6,7,8,9,10,11,12])\n",
    "data_train['out']=data_train['out'].astype(str)\n",
    "train_generator = train_data_generator.flow_from_dataframe(dataframe=data_train,\n",
    "                                                          directory=\"\",\n",
    "                                                           x_col = \"path\",\n",
    "                                                           y_col='out',\n",
    "                                                           class_mode =\"sparse\",\n",
    "                                                          target_size = (224 , 224), \n",
    "                                                          batch_size = batch_size)\n",
    "data_test['out']=data_test.label.replace(classes_names,[0,1,2,3,4,5,6,7,8,9,10,11,12])\n",
    "data_test['out']=data_test['out'].astype(str)\n",
    "test_generator = test_data_generator.flow_from_dataframe(dataframe=data_test,\n",
    "                                                          directory=\"\",\n",
    "                                                           x_col = \"path\",\n",
    "                                                           y_col='out',\n",
    "                                                           class_mode =\"sparse\",\n",
    "                                                          target_size = (224 , 224), \n",
    "                                                          batch_size = batch_size)"
   ]
  },
  {
   "cell_type": "code",
   "execution_count": 14,
   "id": "c4bd0f5d",
   "metadata": {},
   "outputs": [],
   "source": [
    "from PIL import Image\n",
    "\n",
    "def convert_image(X):\n",
    "    X_img=[]\n",
    "    for image in X:\n",
    "        \n",
    "        \n",
    "             with Image.open(image) as im:\n",
    "\n",
    "    \n",
    "                    img = im.resize((224, 224))\n",
    "                 \n",
    "                    \n",
    "                    a = np.asarray(img)\n",
    "                    X_img.append(a) \n",
    "                    \n",
    "                    \n",
    "    return np.array(X_img)\n",
    "\n",
    "# Load the images train\n",
    "X_train_img= convert_image(data_train.path)\n",
    "Y_train = data_train['out']\n",
    "\n",
    "# Load the images test\n",
    "X_test_img = convert_image(data_test.path)\n",
    "Y_test = data_test['out']\n"
   ]
  },
  {
   "cell_type": "markdown",
   "id": "3f91f69b",
   "metadata": {},
   "source": [
    "# Modéle "
   ]
  },
  {
   "cell_type": "code",
   "execution_count": 15,
   "id": "03111e5e",
   "metadata": {},
   "outputs": [
    {
     "name": "stderr",
     "output_type": "stream",
     "text": [
      "C:\\Users\\laleh\\AppData\\Roaming\\Python\\Python38\\site-packages\\tensorflow\\python\\keras\\optimizer_v2\\optimizer_v2.py:374: UserWarning: The `lr` argument is deprecated, use `learning_rate` instead.\n",
      "  warnings.warn(\n",
      "C:\\Users\\laleh\\AppData\\Roaming\\Python\\Python38\\site-packages\\tensorflow\\python\\keras\\engine\\training.py:1940: UserWarning: `Model.fit_generator` is deprecated and will be removed in a future version. Please use `Model.fit`, which supports generators.\n",
      "  warnings.warn('`Model.fit_generator` is deprecated and '\n"
     ]
    },
    {
     "name": "stdout",
     "output_type": "stream",
     "text": [
      "Model: \"sequential\"\n",
      "_________________________________________________________________\n",
      "Layer (type)                 Output Shape              Param #   \n",
      "=================================================================\n",
      "vgg16 (Functional)           (None, None, None, 512)   14714688  \n",
      "_________________________________________________________________\n",
      "global_average_pooling2d (Gl (None, 512)               0         \n",
      "_________________________________________________________________\n",
      "dense (Dense)                (None, 1024)              525312    \n",
      "_________________________________________________________________\n",
      "dropout (Dropout)            (None, 1024)              0         \n",
      "_________________________________________________________________\n",
      "dense_1 (Dense)              (None, 512)               524800    \n",
      "_________________________________________________________________\n",
      "dropout_1 (Dropout)          (None, 512)               0         \n",
      "_________________________________________________________________\n",
      "dense_2 (Dense)              (None, 13)                6669      \n",
      "=================================================================\n",
      "Total params: 15,771,469\n",
      "Trainable params: 8,136,205\n",
      "Non-trainable params: 7,635,264\n",
      "_________________________________________________________________\n",
      "Epoch 1/30\n",
      "427/427 [==============================] - 165s 344ms/step - loss: 1.6261 - accuracy: 0.4192 - val_loss: 0.6519 - val_accuracy: 0.7600\n",
      "Epoch 2/30\n",
      "427/427 [==============================] - 144s 337ms/step - loss: 0.8701 - accuracy: 0.6796 - val_loss: 0.4206 - val_accuracy: 0.8417\n",
      "Epoch 3/30\n",
      "427/427 [==============================] - 144s 337ms/step - loss: 0.7055 - accuracy: 0.7400 - val_loss: 0.4073 - val_accuracy: 0.8373\n",
      "Epoch 4/30\n",
      "427/427 [==============================] - 144s 337ms/step - loss: 0.6140 - accuracy: 0.7719 - val_loss: 0.3026 - val_accuracy: 0.8827\n",
      "Epoch 5/30\n",
      "427/427 [==============================] - 144s 336ms/step - loss: 0.5810 - accuracy: 0.7825 - val_loss: 0.2988 - val_accuracy: 0.8812\n",
      "Epoch 6/30\n",
      "427/427 [==============================] - 145s 339ms/step - loss: 0.5350 - accuracy: 0.7981 - val_loss: 0.3177 - val_accuracy: 0.8788\n",
      "Epoch 7/30\n",
      "427/427 [==============================] - 145s 340ms/step - loss: 0.5297 - accuracy: 0.8008 - val_loss: 0.2752 - val_accuracy: 0.8974\n",
      "Epoch 8/30\n",
      "427/427 [==============================] - 145s 339ms/step - loss: 0.5015 - accuracy: 0.8101 - val_loss: 0.3078 - val_accuracy: 0.8765\n",
      "Epoch 9/30\n",
      "427/427 [==============================] - 145s 339ms/step - loss: 0.4840 - accuracy: 0.8176 - val_loss: 0.3370 - val_accuracy: 0.8741\n",
      "Epoch 10/30\n",
      "427/427 [==============================] - 144s 338ms/step - loss: 0.4748 - accuracy: 0.8202 - val_loss: 0.2806 - val_accuracy: 0.8897\n",
      "Epoch 11/30\n",
      "427/427 [==============================] - 148s 346ms/step - loss: 0.4733 - accuracy: 0.8213 - val_loss: 0.3183 - val_accuracy: 0.8847\n",
      "Epoch 12/30\n",
      "427/427 [==============================] - 153s 359ms/step - loss: 0.4548 - accuracy: 0.8291 - val_loss: 0.2978 - val_accuracy: 0.8897\n",
      "Epoch 13/30\n",
      "427/427 [==============================] - 154s 361ms/step - loss: 0.4516 - accuracy: 0.8271 - val_loss: 0.2633 - val_accuracy: 0.9024\n",
      "Epoch 14/30\n",
      "427/427 [==============================] - 153s 359ms/step - loss: 0.4395 - accuracy: 0.8329 - val_loss: 0.2765 - val_accuracy: 0.8950\n",
      "Epoch 15/30\n",
      "427/427 [==============================] - 151s 352ms/step - loss: 0.4278 - accuracy: 0.8386 - val_loss: 0.2337 - val_accuracy: 0.9062\n",
      "Epoch 16/30\n",
      "427/427 [==============================] - 150s 351ms/step - loss: 0.4278 - accuracy: 0.8369 - val_loss: 0.2674 - val_accuracy: 0.9018\n",
      "Epoch 17/30\n",
      "427/427 [==============================] - 150s 350ms/step - loss: 0.4179 - accuracy: 0.8419 - val_loss: 0.3023 - val_accuracy: 0.8815\n",
      "Epoch 18/30\n",
      "427/427 [==============================] - 151s 353ms/step - loss: 0.4154 - accuracy: 0.8406 - val_loss: 0.2521 - val_accuracy: 0.9039\n",
      "Epoch 19/30\n",
      "427/427 [==============================] - 150s 352ms/step - loss: 0.4039 - accuracy: 0.8407 - val_loss: 0.2370 - val_accuracy: 0.9086\n",
      "Epoch 20/30\n",
      "427/427 [==============================] - 147s 345ms/step - loss: 0.4017 - accuracy: 0.8461 - val_loss: 0.2303 - val_accuracy: 0.9136\n",
      "Epoch 21/30\n",
      "427/427 [==============================] - 146s 341ms/step - loss: 0.3967 - accuracy: 0.8463 - val_loss: 0.2382 - val_accuracy: 0.9068\n",
      "Epoch 22/30\n",
      "427/427 [==============================] - 153s 358ms/step - loss: 0.3899 - accuracy: 0.8541 - val_loss: 0.2291 - val_accuracy: 0.9119\n",
      "Epoch 23/30\n",
      "427/427 [==============================] - 147s 344ms/step - loss: 0.3989 - accuracy: 0.8451 - val_loss: 0.2490 - val_accuracy: 0.9074\n",
      "Epoch 24/30\n",
      "427/427 [==============================] - 150s 350ms/step - loss: 0.3811 - accuracy: 0.8510 - val_loss: 0.2517 - val_accuracy: 0.9054\n",
      "Epoch 25/30\n",
      "427/427 [==============================] - 144s 338ms/step - loss: 0.3778 - accuracy: 0.8564 - val_loss: 0.2303 - val_accuracy: 0.9054\n",
      "Epoch 26/30\n",
      "427/427 [==============================] - 144s 337ms/step - loss: 0.3823 - accuracy: 0.8476 - val_loss: 0.2619 - val_accuracy: 0.8977\n",
      "Epoch 27/30\n",
      "427/427 [==============================] - 143s 334ms/step - loss: 0.3809 - accuracy: 0.8496 - val_loss: 0.2803 - val_accuracy: 0.9015\n",
      "Epoch 28/30\n",
      "427/427 [==============================] - 143s 334ms/step - loss: 0.3726 - accuracy: 0.8555 - val_loss: 0.2300 - val_accuracy: 0.9124\n",
      "Epoch 29/30\n",
      "427/427 [==============================] - 144s 337ms/step - loss: 0.3604 - accuracy: 0.8598 - val_loss: 0.2469 - val_accuracy: 0.9113\n",
      "Epoch 30/30\n",
      "427/427 [==============================] - 145s 340ms/step - loss: 0.3584 - accuracy: 0.8609 - val_loss: 0.2189 - val_accuracy: 0.9157\n"
     ]
    }
   ],
   "source": [
    "\n",
    "n_class=13\n",
    "\n",
    "\n",
    "\n",
    "base_model=VGG16(weights='imagenet', include_top=False)\n",
    "for layer in base_model.layers:\n",
    "    layer.trainable=False\n",
    "    \n",
    "    \n",
    "    \n",
    "model=Sequential()\n",
    "model.add(base_model)\n",
    "model.add(GlobalAveragePooling2D())\n",
    "model.add(Dense(1024, activation='relu'))\n",
    "model.add(Dropout(rate=0.2))\n",
    "model.add(Dense(512, activation='relu'))\n",
    "model.add(Dropout(rate=0.2))\n",
    "model.add(Dense(n_class, activation='softmax'))\n",
    "\n",
    "model.compile(optimizer='adam', loss='sparse_categorical_crossentropy', metrics=['acc'])\n",
    "for layer in base_model.layers[-4:]:\n",
    "    layer.trainable = True\n",
    "model.compile(optimizer=Adam(lr=1e-4), loss='sparse_categorical_crossentropy', metrics=['accuracy'])\n",
    "model.summary()\n",
    "history = model.fit_generator(generator=train_generator, \n",
    "                                epochs = 30,\n",
    "                                steps_per_epoch = len(data_train)//batch_size,\n",
    "                                validation_data=test_generator,\n",
    "                                validation_steps=len(data_test)//batch_size\n",
    "                                )\n",
    "\n",
    "\n",
    "intermediate_layer_model = Model( inputs=model.input, outputs=model.layers[2].output)\n",
    "X_train_features = intermediate_layer_model.predict(preprocess_input(X_train_img))\n",
    "X_test_features = intermediate_layer_model.predict(preprocess_input(X_test_img))\n",
    "\n",
    "svm = SVC(C=111)\n",
    "\n",
    "\n",
    "grid = svm.fit(X_train_features,  data_train[\"out\"])"
   ]
  },
  {
   "cell_type": "code",
   "execution_count": 16,
   "id": "c0a6d4e1",
   "metadata": {},
   "outputs": [
    {
     "name": "stdout",
     "output_type": "stream",
     "text": [
      "                precision    recall  f1-score   support\n",
      "\n",
      "       BNE_BNE       0.82      0.82      0.82       330\n",
      "    eosinophil       0.99      1.00      1.00       627\n",
      "         IG_IG       0.88      0.97      0.92        30\n",
      "      platelet       1.00      1.00      1.00       449\n",
      "  erythroblast       0.98      0.99      0.98       311\n",
      "      monocyte       0.97      0.95      0.96       302\n",
      "      basophil       0.99      0.99      0.99       222\n",
      "    lymphocyte       0.98      0.97      0.97       236\n",
      "         IG_MY       0.73      0.68      0.70       240\n",
      "        IG_MMY       0.73      0.73      0.73       196\n",
      "        IG_PMY       0.71      0.79      0.75       124\n",
      "       BNE_SNE       0.85      0.86      0.86       345\n",
      "BNE_NEUTROPHIL       1.00      1.00      1.00         7\n",
      "\n",
      "      accuracy                           0.91      3419\n",
      "     macro avg       0.89      0.90      0.90      3419\n",
      "  weighted avg       0.91      0.91      0.91      3419\n",
      "\n"
     ]
    }
   ],
   "source": [
    "predictions_svm = svm.predict(X_test_features)\n",
    "\n",
    "from sklearn.metrics import classification_report\n",
    "print(classification_report(Y_test.values.astype(int),\n",
    "predictions_svm.astype(int), target_names=classes_names))"
   ]
  },
  {
   "cell_type": "code",
   "execution_count": 19,
   "id": "357cd4ed",
   "metadata": {},
   "outputs": [
    {
     "data": {
      "image/png": "[encoded data removed]",
      "text/plain": [
       "<Figure size 432x288 with 1 Axes>"
      ]
     },
     "metadata": {
      "needs_background": "light"
     },
     "output_type": "display_data"
    }
   ],
   "source": [
    "training_accuracy = history.history['accuracy']\n",
    "validation_accuracy = history.history['val_accuracy']\n",
    "\n",
    "plt.figure()\n",
    "plt.plot(np.arange(len(training_accuracy)), training_accuracy, label = 'Training Set')\n",
    "plt.plot(np.arange(len(training_accuracy)), validation_accuracy, label = 'Validation Set')\n",
    "plt.xlabel('Epochs')\n",
    "plt.ylabel('Accuracy')\n",
    "\n",
    "plt.legend()\n",
    "plt.show()"
   ]
  },
  {
   "cell_type": "code",
   "execution_count": 17,
   "id": "91bd9907",
   "metadata": {},
   "outputs": [],
   "source": [
    "filename = 'svm_Transfer_Learning_13classes.pkl'\n",
    "pickle.dump(svm, open(filename, 'wb'))\n",
    "\n",
    "#svm= pickle.load(open(filename, 'rb'))"
   ]
  },
  {
   "cell_type": "code",
   "execution_count": 18,
   "id": "07445f19",
   "metadata": {},
   "outputs": [
    {
     "name": "stdout",
     "output_type": "stream",
     "text": [
      "INFO:tensorflow:Assets written to: model_Transfer_Learning_13classes\\assets\n"
     ]
    }
   ],
   "source": [
    "from tensorflow.keras.models import save_model, load_model\n",
    "save_model(model,\"model_Transfer_Learning_13classes\")\n",
    "#del model\n",
    "#model=load_model(\"model_Transfer_Learning\")"
   ]
  }
 ],
 "metadata": {
  "kernelspec": {
   "display_name": "Python 3",
   "language": "python",
   "name": "python3"
  },
  "language_info": {
   "codemirror_mode": {
    "name": "ipython",
    "version": 3
   },
   "file_extension": ".py",
   "mimetype": "text/x-python",
   "name": "python",
   "nbconvert_exporter": "python",
   "pygments_lexer": "ipython3",
   "version": "3.8.10"
  }
 },
 "nbformat": 4,
 "nbformat_minor": 5
}

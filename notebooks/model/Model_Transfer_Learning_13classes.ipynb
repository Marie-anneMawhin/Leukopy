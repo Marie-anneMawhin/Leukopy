{
 "cells": [
  {
   "cell_type": "code",
   "execution_count": 1,
   "id": "e07b2cb0",
   "metadata": {},
   "outputs": [],
   "source": [
    "import numpy as np\n",
    "import pandas as pd\n",
    "import tensorflow\n",
    "from tensorflow.keras.models import Sequential\n",
    "from tensorflow.keras.layers import Dense, Dropout, Activation, Flatten, Conv2D, MaxPooling2D, Lambda, MaxPool2D, BatchNormalization\n",
    "from tensorflow.keras.preprocessing.image import ImageDataGenerator\n",
    "from tensorflow.keras.optimizers import RMSprop\n",
    "from sklearn.preprocessing import LabelEncoder\n",
    "from sklearn.model_selection import train_test_split\n",
    "from sklearn.metrics import confusion_matrix\n",
    "from sklearn.metrics import accuracy_score\n",
    "import xml.etree.ElementTree as ET\n",
    "import sklearn\n",
    "import itertools\n",
    "import scipy\n",
    "import os\n",
    "import csv\n",
    "import matplotlib.pyplot as plt\n",
    "%matplotlib inline\n",
    "import pickle\n",
    "from matplotlib import cm # To import new color cards\n",
    "import tensorflow as tf\n",
    "from tensorflow import keras\n",
    "from tensorflow.keras.applications.vgg16 import preprocess_input\n",
    "from tensorflow.keras.layers import Dense, Dropout, Flatten, GlobalAveragePooling2D\n",
    "from tensorflow.keras.optimizers import Adam\n",
    "from tensorflow.keras.models import Model, Sequential\n",
    "from tensorflow.keras.preprocessing.image import ImageDataGenerator\n",
    "from tensorflow.keras import backend as K\n",
    "from tensorflow.keras.applications.vgg16 import VGG16\n",
    "from sklearn.svm import SVC\n"
   ]
  },
  {
   "cell_type": "code",
   "execution_count": 2,
   "id": "23a07c7b",
   "metadata": {},
   "outputs": [],
   "source": [
    "filename = 'C:/Users/laleh/Documents/Pythons/projet_blood/tests_images/data_1_13_classes.pkl'\n",
    "df= pickle.load(open(filename, 'rb'))\n"
   ]
  },
  {
   "cell_type": "code",
   "execution_count": 3,
   "id": "5d3e440d",
   "metadata": {},
   "outputs": [],
   "source": [
    "data_train, data_test = train_test_split(df, test_size=0.2, random_state=123)\n",
    "\n",
    "\n"
   ]
  },
  {
   "cell_type": "code",
   "execution_count": 4,
   "id": "4ccd9013",
   "metadata": {},
   "outputs": [
    {
     "name": "stdout",
     "output_type": "stream",
     "text": [
      "13\n",
      "13\n"
     ]
    }
   ],
   "source": [
    "print(len(list(data_train.label.value_counts())))\n",
    "print(len(list(data_test.label.value_counts())))"
   ]
  },
  {
   "cell_type": "code",
   "execution_count": 5,
   "id": "4f5a8f93",
   "metadata": {},
   "outputs": [
    {
     "name": "stderr",
     "output_type": "stream",
     "text": [
      "<ipython-input-5-4b46b8c2adc1>:17: SettingWithCopyWarning: \n",
      "A value is trying to be set on a copy of a slice from a DataFrame.\n",
      "Try using .loc[row_indexer,col_indexer] = value instead\n",
      "\n",
      "See the caveats in the documentation: https://pandas.pydata.org/pandas-docs/stable/user_guide/indexing.html#returning-a-view-versus-a-copy\n",
      "  data_train['out']=data_train.label.replace(classes_names,[0,1,2,3,4,5,6,7,8,9,10,11,12])\n",
      "<ipython-input-5-4b46b8c2adc1>:18: SettingWithCopyWarning: \n",
      "A value is trying to be set on a copy of a slice from a DataFrame.\n",
      "Try using .loc[row_indexer,col_indexer] = value instead\n",
      "\n",
      "See the caveats in the documentation: https://pandas.pydata.org/pandas-docs/stable/user_guide/indexing.html#returning-a-view-versus-a-copy\n",
      "  data_train['out']=data_train['out'].astype(str)\n"
     ]
    },
    {
     "name": "stdout",
     "output_type": "stream",
     "text": [
      "Found 13673 validated image filenames belonging to 13 classes.\n",
      "Found 3419 validated image filenames belonging to 13 classes.\n"
     ]
    },
    {
     "name": "stderr",
     "output_type": "stream",
     "text": [
      "<ipython-input-5-4b46b8c2adc1>:26: SettingWithCopyWarning: \n",
      "A value is trying to be set on a copy of a slice from a DataFrame.\n",
      "Try using .loc[row_indexer,col_indexer] = value instead\n",
      "\n",
      "See the caveats in the documentation: https://pandas.pydata.org/pandas-docs/stable/user_guide/indexing.html#returning-a-view-versus-a-copy\n",
      "  data_test['out']=data_test.label.replace(classes_names,[0,1,2,3,4,5,6,7,8,9,10,11,12])\n",
      "<ipython-input-5-4b46b8c2adc1>:27: SettingWithCopyWarning: \n",
      "A value is trying to be set on a copy of a slice from a DataFrame.\n",
      "Try using .loc[row_indexer,col_indexer] = value instead\n",
      "\n",
      "See the caveats in the documentation: https://pandas.pydata.org/pandas-docs/stable/user_guide/indexing.html#returning-a-view-versus-a-copy\n",
      "  data_test['out']=data_test['out'].astype(str)\n"
     ]
    }
   ],
   "source": [
    "classes_names=[\"BNE_BNE\",'eosinophil','IG_IG',\"platelet\",\"erythroblast\",\"monocyte\",\"basophil\",\n",
    " \"lymphocyte\",\"IG_MY\",\"IG_MMY\",\"IG_PMY\",\"BNE_SNE\",\"BNE_NEUTROPHIL\"]\n",
    "\n",
    "\n",
    "\n",
    "train_data_generator=ImageDataGenerator(\n",
    "preprocessing_function=preprocess_input,\n",
    "rotation_range=10,\n",
    "width_shift_range=0.1,\n",
    "height_shift_range=0.1,\n",
    "zoom_range=1.1,\n",
    "horizontal_flip=True)\n",
    "\n",
    "test_data_generator=ImageDataGenerator(preprocessing_function=preprocess_input)\n",
    "batch_size = 32\n",
    "\n",
    "data_train['out']=data_train.label.replace(classes_names,[0,1,2,3,4,5,6,7,8,9,10,11,12])\n",
    "data_train['out']=data_train['out'].astype(str)\n",
    "train_generator = train_data_generator.flow_from_dataframe(dataframe=data_train,\n",
    "                                                          directory=\"\",\n",
    "                                                           x_col = \"path\",\n",
    "                                                           y_col='out',\n",
    "                                                           class_mode =\"sparse\",\n",
    "                                                          target_size = (224 , 224), \n",
    "                                                          batch_size = batch_size)\n",
    "data_test['out']=data_test.label.replace(classes_names,[0,1,2,3,4,5,6,7,8,9,10,11,12])\n",
    "data_test['out']=data_test['out'].astype(str)\n",
    "test_generator = test_data_generator.flow_from_dataframe(dataframe=data_test,\n",
    "                                                          directory=\"\",\n",
    "                                                           x_col = \"path\",\n",
    "                                                           y_col='out',\n",
    "                                                           class_mode =\"sparse\",\n",
    "                                                          target_size = (224 , 224), \n",
    "                                                          batch_size = batch_size)"
   ]
  },
  {
   "cell_type": "code",
   "execution_count": 6,
   "id": "c4bd0f5d",
   "metadata": {},
   "outputs": [],
   "source": [
    "from PIL import Image\n",
    "\n",
    "def convert_image(X):\n",
    "    X_img=[]\n",
    "    for image in X:\n",
    "        \n",
    "        \n",
    "             with Image.open(image) as im:\n",
    "\n",
    "    \n",
    "                    img = im.resize((224, 224))\n",
    "                 \n",
    "                    \n",
    "                    a = np.asarray(img)\n",
    "                    X_img.append(a) \n",
    "                    \n",
    "                    \n",
    "    return np.array(X_img)\n",
    "\n",
    "# Load the images train\n",
    "X_train_img= convert_image(data_train.path)\n",
    "Y_train = data_train['out']\n",
    "\n",
    "# Load the images test\n",
    "X_test_img = convert_image(data_test.path)\n",
    "Y_test = data_test['out']\n"
   ]
  },
  {
   "cell_type": "markdown",
   "id": "3f91f69b",
   "metadata": {},
   "source": [
    "# Modèle "
   ]
  },
  {
   "cell_type": "code",
   "execution_count": 9,
   "id": "03111e5e",
   "metadata": {},
   "outputs": [
    {
     "name": "stdout",
     "output_type": "stream",
     "text": [
      "427/427 [==============================] - 316s 737ms/step - loss: 2.0215 - acc: 0.3392 - val_loss: 1.3890 - val_acc: 0.5133\n",
      "Model: \"sequential_2\"\n",
      "_________________________________________________________________\n",
      "Layer (type)                 Output Shape              Param #   \n",
      "=================================================================\n",
      "vgg16 (Functional)           (None, None, None, 512)   14714688  \n",
      "_________________________________________________________________\n",
      "global_average_pooling2d_2 ( (None, 512)               0         \n",
      "_________________________________________________________________\n",
      "dense_6 (Dense)              (None, 1024)              525312    \n",
      "_________________________________________________________________\n",
      "dropout_4 (Dropout)          (None, 1024)              0         \n",
      "_________________________________________________________________\n",
      "dense_7 (Dense)              (None, 512)               524800    \n",
      "_________________________________________________________________\n",
      "dropout_5 (Dropout)          (None, 512)               0         \n",
      "_________________________________________________________________\n",
      "dense_8 (Dense)              (None, 13)                6669      \n",
      "=================================================================\n",
      "Total params: 15,771,469\n",
      "Trainable params: 8,136,205\n",
      "Non-trainable params: 7,635,264\n",
      "_________________________________________________________________\n",
      "Epoch 1/30\n",
      "427/427 [==============================] - 253s 591ms/step - loss: 1.1270 - accuracy: 0.6030 - val_loss: 0.6180 - val_accuracy: 0.7774\n",
      "Epoch 2/30\n",
      "427/427 [==============================] - 3807s 9s/step - loss: 0.7605 - accuracy: 0.7168 - val_loss: 0.4571 - val_accuracy: 0.8258\n",
      "Epoch 3/30\n",
      "427/427 [==============================] - 188s 439ms/step - loss: 0.6475 - accuracy: 0.7606 - val_loss: 0.3710 - val_accuracy: 0.8594\n",
      "Epoch 4/30\n",
      "427/427 [==============================] - 189s 443ms/step - loss: 0.6097 - accuracy: 0.7708 - val_loss: 0.3391 - val_accuracy: 0.8723\n",
      "Epoch 5/30\n",
      "427/427 [==============================] - 190s 444ms/step - loss: 0.5595 - accuracy: 0.7920 - val_loss: 0.4309 - val_accuracy: 0.8470\n",
      "Epoch 6/30\n",
      "427/427 [==============================] - 190s 444ms/step - loss: 0.5440 - accuracy: 0.7961 - val_loss: 0.2958 - val_accuracy: 0.8853\n",
      "Epoch 7/30\n",
      "427/427 [==============================] - 191s 448ms/step - loss: 0.5075 - accuracy: 0.8106 - val_loss: 0.3214 - val_accuracy: 0.8794\n",
      "Epoch 8/30\n",
      "427/427 [==============================] - 190s 444ms/step - loss: 0.4952 - accuracy: 0.8162 - val_loss: 0.2935 - val_accuracy: 0.8788\n",
      "Epoch 9/30\n",
      "427/427 [==============================] - 190s 445ms/step - loss: 0.4824 - accuracy: 0.8156 - val_loss: 0.2578 - val_accuracy: 0.8939\n",
      "Epoch 10/30\n",
      "427/427 [==============================] - 190s 445ms/step - loss: 0.4718 - accuracy: 0.8222 - val_loss: 0.3005 - val_accuracy: 0.8900\n",
      "Epoch 11/30\n",
      "427/427 [==============================] - 190s 445ms/step - loss: 0.4729 - accuracy: 0.8224 - val_loss: 0.3072 - val_accuracy: 0.8815\n",
      "Epoch 12/30\n",
      "427/427 [==============================] - 190s 445ms/step - loss: 0.4428 - accuracy: 0.8345 - val_loss: 0.2621 - val_accuracy: 0.9018\n",
      "Epoch 13/30\n",
      "427/427 [==============================] - 848s 2s/step - loss: 0.4464 - accuracy: 0.8326 - val_loss: 0.2753 - val_accuracy: 0.8980\n",
      "Epoch 14/30\n",
      "427/427 [==============================] - 189s 443ms/step - loss: 0.4276 - accuracy: 0.8373 - val_loss: 0.2855 - val_accuracy: 0.8883\n",
      "Epoch 15/30\n",
      "427/427 [==============================] - 190s 446ms/step - loss: 0.4280 - accuracy: 0.8370 - val_loss: 0.3773 - val_accuracy: 0.8576\n",
      "Epoch 16/30\n",
      "427/427 [==============================] - 191s 446ms/step - loss: 0.4189 - accuracy: 0.8398 - val_loss: 0.2951 - val_accuracy: 0.8962\n",
      "Epoch 17/30\n",
      "427/427 [==============================] - 191s 447ms/step - loss: 0.4136 - accuracy: 0.8423 - val_loss: 0.2651 - val_accuracy: 0.8956\n",
      "Epoch 18/30\n",
      "427/427 [==============================] - 192s 448ms/step - loss: 0.4019 - accuracy: 0.8446 - val_loss: 0.2849 - val_accuracy: 0.8883\n",
      "Epoch 19/30\n",
      "427/427 [==============================] - 190s 445ms/step - loss: 0.4019 - accuracy: 0.8463 - val_loss: 0.2741 - val_accuracy: 0.8918\n",
      "Epoch 20/30\n",
      "427/427 [==============================] - 190s 445ms/step - loss: 0.4005 - accuracy: 0.8461 - val_loss: 0.3078 - val_accuracy: 0.8874\n",
      "Epoch 21/30\n",
      "427/427 [==============================] - 190s 445ms/step - loss: 0.3869 - accuracy: 0.8499 - val_loss: 0.2682 - val_accuracy: 0.8950\n",
      "Epoch 22/30\n",
      "427/427 [==============================] - 190s 445ms/step - loss: 0.3856 - accuracy: 0.8499 - val_loss: 0.2319 - val_accuracy: 0.9045\n",
      "Epoch 23/30\n",
      "427/427 [==============================] - 190s 445ms/step - loss: 0.3930 - accuracy: 0.8502 - val_loss: 0.2314 - val_accuracy: 0.9119\n",
      "Epoch 24/30\n",
      "427/427 [==============================] - 190s 445ms/step - loss: 0.3774 - accuracy: 0.8573 - val_loss: 0.2372 - val_accuracy: 0.9074\n",
      "Epoch 25/30\n",
      "427/427 [==============================] - 190s 445ms/step - loss: 0.3770 - accuracy: 0.8557 - val_loss: 0.2606 - val_accuracy: 0.9045\n",
      "Epoch 26/30\n",
      "427/427 [==============================] - 190s 445ms/step - loss: 0.3857 - accuracy: 0.8524 - val_loss: 0.2672 - val_accuracy: 0.8977\n",
      "Epoch 27/30\n",
      "427/427 [==============================] - 191s 446ms/step - loss: 0.3705 - accuracy: 0.8556 - val_loss: 0.2445 - val_accuracy: 0.8965\n",
      "Epoch 28/30\n",
      "427/427 [==============================] - 202s 472ms/step - loss: 0.3765 - accuracy: 0.8518 - val_loss: 0.2611 - val_accuracy: 0.8974\n",
      "Epoch 29/30\n",
      "427/427 [==============================] - 197s 461ms/step - loss: 0.3691 - accuracy: 0.8618 - val_loss: 0.2650 - val_accuracy: 0.8909\n",
      "Epoch 30/30\n",
      "427/427 [==============================] - 190s 445ms/step - loss: 0.3657 - accuracy: 0.8583 - val_loss: 0.2508 - val_accuracy: 0.8927\n"
     ]
    }
   ],
   "source": [
    "\n",
    "n_class=13\n",
    "\n",
    "\n",
    "\n",
    "base_model=VGG16(weights='imagenet', include_top=False)\n",
    "for layer in base_model.layers:\n",
    "    layer.trainable=False\n",
    "    \n",
    "    \n",
    "model=Sequential()\n",
    "model.add(base_model)\n",
    "model.add(GlobalAveragePooling2D())\n",
    "model.add(Dense(1024, activation='relu'))\n",
    "model.add(Dropout(rate=0.2))\n",
    "model.add(Dense(512, activation='relu'))\n",
    "model.add(Dropout(rate=0.2))\n",
    "model.add(Dense(n_class, activation='softmax'))\n",
    "\n",
    "model.compile(optimizer='adam', loss='sparse_categorical_crossentropy', metrics=['acc'])\n",
    "history = model.fit_generator(generator=train_generator, \n",
    "                                epochs = 1,\n",
    "                                steps_per_epoch = len(data_train)//batch_size,\n",
    "                                validation_data=test_generator,\n",
    "                                validation_steps=len(data_test)//batch_size\n",
    "                                )\n",
    "for layer in base_model.layers[-4:]:\n",
    "    layer.trainable = True\n",
    "    \n",
    "    \n",
    "model.compile(optimizer=Adam(lr=1e-4), loss='sparse_categorical_crossentropy', metrics=['accuracy'])\n",
    "model.summary()\n",
    "\n",
    "history = model.fit_generator(generator=train_generator, \n",
    "                                epochs = 30,\n",
    "                                steps_per_epoch = len(data_train)//batch_size,\n",
    "                                validation_data=test_generator,\n",
    "                                validation_steps=len(data_test)//batch_size\n",
    "                                )\n",
    "\n",
    "\n",
    "intermediate_layer_model = Model( inputs=model.input, outputs=model.layers[2].output)\n",
    "X_train_features = intermediate_layer_model.predict(preprocess_input(X_train_img))\n",
    "X_test_features = intermediate_layer_model.predict(preprocess_input(X_test_img))\n",
    "\n",
    "svm = SVC(C=111)\n",
    "\n",
    "\n",
    "grid = svm.fit(X_train_features,  data_train[\"out\"])"
   ]
  },
  {
   "cell_type": "code",
   "execution_count": 10,
   "id": "c0a6d4e1",
   "metadata": {},
   "outputs": [
    {
     "name": "stdout",
     "output_type": "stream",
     "text": [
      "                precision    recall  f1-score   support\n",
      "\n",
      "       BNE_BNE       0.80      0.84      0.82       330\n",
      "    eosinophil       1.00      1.00      1.00       627\n",
      "         IG_IG       0.91      0.97      0.94        30\n",
      "      platelet       1.00      1.00      1.00       449\n",
      "  erythroblast       0.98      0.99      0.98       311\n",
      "      monocyte       0.98      0.94      0.96       302\n",
      "      basophil       0.98      0.99      0.98       222\n",
      "    lymphocyte       0.96      0.98      0.97       236\n",
      "         IG_MY       0.75      0.69      0.72       240\n",
      "        IG_MMY       0.78      0.73      0.76       196\n",
      "        IG_PMY       0.70      0.78      0.74       124\n",
      "       BNE_SNE       0.86      0.86      0.86       345\n",
      "BNE_NEUTROPHIL       1.00      1.00      1.00         7\n",
      "\n",
      "      accuracy                           0.92      3419\n",
      "     macro avg       0.90      0.91      0.90      3419\n",
      "  weighted avg       0.92      0.92      0.92      3419\n",
      "\n"
     ]
    }
   ],
   "source": [
    "predictions_svm = svm.predict(X_test_features)\n",
    "\n",
    "from sklearn.metrics import classification_report\n",
    "print(classification_report(Y_test.values.astype(int),\n",
    "predictions_svm.astype(int), target_names=classes_names))"
   ]
  },
  {
   "cell_type": "code",
   "execution_count": 11,
   "id": "357cd4ed",
   "metadata": {},
   "outputs": [
    {
     "data": {
      "image/png": "[encoded data removed]",
      "text/plain": [
       "<Figure size 432x288 with 1 Axes>"
      ]
     },
     "metadata": {
      "needs_background": "light"
     },
     "output_type": "display_data"
    }
   ],
   "source": [
    "training_accuracy = history.history['accuracy']\n",
    "validation_accuracy = history.history['val_accuracy']\n",
    "\n",
    "plt.figure()\n",
    "plt.plot(np.arange(len(training_accuracy)), training_accuracy, label = 'Training Set')\n",
    "plt.plot(np.arange(len(training_accuracy)), validation_accuracy, label = 'Validation Set')\n",
    "plt.xlabel('Epochs')\n",
    "plt.ylabel('Accuracy')\n",
    "\n",
    "plt.legend()\n",
    "plt.show()"
   ]
  },
  {
   "cell_type": "code",
   "execution_count": 12,
   "id": "91bd9907",
   "metadata": {},
   "outputs": [],
   "source": [
    "filename = 'svm_Transfer_Learning_13classes.pkl'\n",
    "pickle.dump(svm, open(filename, 'wb'))\n",
    "\n",
    "#svm= pickle.load(open(filename, 'rb'))"
   ]
  },
  {
   "cell_type": "code",
   "execution_count": 13,
   "id": "07445f19",
   "metadata": {},
   "outputs": [
    {
     "name": "stdout",
     "output_type": "stream",
     "text": [
      "INFO:tensorflow:Assets written to: model_Transfer_Learning_13classes\\assets\n"
     ]
    }
   ],
   "source": [
    "from tensorflow.keras.models import save_model, load_model\n",
    "save_model(model,\"model_Transfer_Learning_13classes\")\n",
    "#del model\n",
    "#model=load_model(\"model_Transfer_Learning\")"
   ]
  }
 ],
 "metadata": {
  "kernelspec": {
   "display_name": "Python 3",
   "language": "python",
   "name": "python3"
  },
  "language_info": {
   "codemirror_mode": {
    "name": "ipython",
    "version": 3
   },
   "file_extension": ".py",
   "mimetype": "text/x-python",
   "name": "python",
   "nbconvert_exporter": "python",
   "pygments_lexer": "ipython3",
   "version": "3.8.10"
  }
 },
 "nbformat": 4,
 "nbformat_minor": 5
}

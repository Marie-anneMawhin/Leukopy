{
 "cells": [
  {
   "cell_type": "code",
   "execution_count": null,
   "id": "7c7686df",
   "metadata": {},
   "outputs": [],
   "source": [
    "## Pour Colab :\n",
    "## Penser à vérifier si le GPU est actif\n",
    "\n",
    "# Donne à Colab un accès au Drive\n",
    "from google.colab import drive\n",
    "drive.mount('/content/drive')"
   ]
  },
  {
   "cell_type": "code",
   "execution_count": null,
   "id": "39dc0748",
   "metadata": {},
   "outputs": [],
   "source": [
    "## Modules nécessaires\n",
    "import pandas as pd\n",
    "import numpy as np\n",
    "import matplotlib.pyplot as plt\n",
    "\n",
    "import sys, os\n",
    "from pathlib import Path\n",
    "import glob\n",
    "\n",
    "from sklearn.model_selection import train_test_split\n",
    "\n",
    "import tensorflow as tf\n",
    "from tensorflow import keras\n",
    "from tensorflow.keras import layers\n",
    "from tensorflow.keras.models import Sequential\n",
    "from tensorflow.keras.applications import EfficientNetB0\n",
    "from tensorflow.keras.preprocessing.image import ImageDataGenerator\n",
    "from tensorflow.keras.callbacks import ModelCheckpoint, ReduceLROnPlateau, TerminateOnNaN, EarlyStopping"
   ]
  },
  {
   "cell_type": "code",
   "execution_count": null,
   "id": "83fbef90",
   "metadata": {},
   "outputs": [],
   "source": [
    "## Vérifie si le GPU est actif\n",
    "tf.test.gpu_device_name()"
   ]
  },
  {
   "cell_type": "code",
   "execution_count": null,
   "id": "fb3979f8",
   "metadata": {},
   "outputs": [],
   "source": [
    "## Copie locale des fichiers (tous dans le même dossier, changer le chemin d'accès)\n",
    "#!cp -r \"/content/drive/MyDrive/Leukopy/Data_PBC/Data_PBC.zip\" .\n",
    "#!unzip Data_PBC.zip\n",
    "\n",
    "## Copie locale des fichiers (sous-répertoires training et testing => c'était utilisé avec flow_from_directory)\n",
    "!cp -r \"/content/drive/MyDrive/Leukopy/Data/Data.zip\" .\n",
    "!unzip Data.zip"
   ]
  },
  {
   "cell_type": "code",
   "execution_count": null,
   "id": "9408da19",
   "metadata": {},
   "outputs": [],
   "source": [
    "## Toutes les données dans un seul et même dossier :\n",
    "# liste = glob.glob('./Data_PBC/*/*.jpg')\n",
    "# liste = list(map(lambda x : [x, x.split('/')[2]], liste))\n",
    "# df = pd.DataFrame(liste, columns = ['path', 'label'])\n",
    "\n",
    "#df, df_test = train_test_split(df, test_size = 0.2)\n",
    "#df_train, df_valid = train_test_split(df, test_size = 0.12)"
   ]
  },
  {
   "cell_type": "code",
   "execution_count": null,
   "id": "aa5946d1",
   "metadata": {},
   "outputs": [],
   "source": [
    "## Données pré-séparées dans deux dossiers, training et testing :\n",
    "# Chemin d'accès aux images\n",
    "liste_train = glob.glob('./Data/training/*/*.jpg')\n",
    "liste_test = glob.glob('./Data/testing/*/*.jpg')\n",
    "\n",
    "# Extrait le label de chaque image\n",
    "liste_train = list(map(lambda x : [x, x.split('/')[3]], liste_train))\n",
    "liste_test = list(map(lambda x : [x, x.split('/')[3]], liste_test))\n",
    "\n",
    "# DataFrames\n",
    "df_train = pd.DataFrame(liste_train, columns = ['path', 'label'])\n",
    "df_test = pd.DataFrame(liste_test, columns = ['path', 'label'])\n",
    "\n",
    "# Jeu de validation\n",
    "df_train, df_valid = train_test_split(df_train, test_size = 0.12)"
   ]
  },
  {
   "cell_type": "code",
   "execution_count": null,
   "id": "915dc438",
   "metadata": {},
   "outputs": [],
   "source": [
    "# Preprocessing\n",
    "batch_size = 32\n",
    "img_height  = 224\n",
    "img_width = 224\n",
    "\n",
    "# Augmentation seulement sur le jeu d'entraînement. On ne normalise pas, EfficientNet le fait lui-même.\n",
    "train_generator = ImageDataGenerator(rotation_range = 90,\n",
    "                                     horizontal_flip = True, \n",
    "                                     vertical_flip = True)\n",
    "valid_generator = ImageDataGenerator()\n",
    "test_generator = ImageDataGenerator()\n",
    "\n",
    "# Batchs, redimensionnement, chargement des images\n",
    "training_set = train_generator.flow_from_dataframe(df_train, \n",
    "                                                   directory = None, # utilise x_col\n",
    "                                                   x_col = 'path', \n",
    "                                                   y_col = 'label',\n",
    "                                                   target_size = (img_height, img_width), \n",
    "                                                   color_mode = 'rgb',\n",
    "                                                   classes = None,   # utilise y_col\n",
    "                                                   class_mode = 'categorical', \n",
    "                                                   batch_size = batch_size, \n",
    "                                                   shuffle = True)\n",
    "\n",
    "validation_set = valid_generator.flow_from_dataframe(df_valid, \n",
    "                                                     directory = None, # utilise x_col\n",
    "                                                     x_col = 'path', \n",
    "                                                     y_col = 'label',\n",
    "                                                     target_size = (img_height, img_width), \n",
    "                                                     color_mode = 'rgb',\n",
    "                                                     classes = None,   # utilise y_col\n",
    "                                                     class_mode = 'categorical', \n",
    "                                                     batch_size = batch_size, \n",
    "                                                     shuffle = True)\n",
    "\n",
    "testing_set = test_generator.flow_from_dataframe(df_test, \n",
    "                                                 directory = None, # utilise x_col\n",
    "                                                 x_col = 'path', \n",
    "                                                 y_col = 'label',\n",
    "                                                 target_size = (img_height, img_width),\n",
    "                                                 color_mode = 'rgb',\n",
    "                                                 classes = None,   # utilise y_col\n",
    "                                                 class_mode = 'categorical', \n",
    "                                                 batch_size = batch_size, \n",
    "                                                 shuffle = True)"
   ]
  },
  {
   "cell_type": "code",
   "execution_count": null,
   "id": "84362895",
   "metadata": {},
   "outputs": [],
   "source": [
    "# Correspondance indices/labels (ordre alphanumérique):\n",
    "print('Train :', training_set.class_indices)\n",
    "print('Valid :', validation_set.class_indices)\n",
    "print('Test  :', testing_set.class_indices)\n",
    "\n",
    "label_map = training_set.class_indices"
   ]
  },
  {
   "cell_type": "code",
   "execution_count": null,
   "id": "35d664c9",
   "metadata": {},
   "outputs": [],
   "source": [
    "# Callbacks :\n",
    "\n",
    "TON = TerminateOnNaN()\n",
    "\n",
    "save_model = ModelCheckpoint(filepath = '/content/drive/MyDrive/Leukopy/EfficientNetModel/B0_augment', \n",
    "                             monitor = 'val_loss', \n",
    "                             save_best_only = True,\n",
    "                             save_weights_only = True,\n",
    "                             save_freq = 'epoch')\n",
    "\n",
    "control_lr = ReduceLROnPlateau(monitor = 'val_loss',\n",
    "                               factor = 0.1, \n",
    "                               patience = 3, \n",
    "                               verbose = 1, \n",
    "                               mode = 'min')\n",
    "\n",
    "early_stopping = EarlyStopping(monitor = \"val_loss\", \n",
    "                               patience = 6, \n",
    "                               mode = 'min',\n",
    "                               restore_best_weights = True)"
   ]
  },
  {
   "cell_type": "code",
   "execution_count": null,
   "id": "f3b4e1dc",
   "metadata": {},
   "outputs": [],
   "source": [
    "## Modèle : EfficientNet pour transfer learning\n",
    "\n",
    "base_model = EfficientNetB0(include_top = False,\n",
    "                            weights = 'imagenet',\n",
    "                            input_shape = (224,224,3),\n",
    "                            pooling = 'avg')\n",
    "\n",
    "for layer in base_model.layers:\n",
    "    layer.trainable = False\n",
    "    \n",
    "model = Sequential()\n",
    "model.add(base_model)\n",
    "model.add(layers.Dense(units = 1280, activation = 'relu'))\n",
    "model.add(layers.Dense(units = 640, activation = 'relu'))\n",
    "model.add(layers.Dense(units = 8, activation = 'softmax'))\n",
    "\n",
    "# Compilation\n",
    "model.compile(optimizer = 'adam',\n",
    "              loss = \"categorical_crossentropy\",\n",
    "              metrics = [\"accuracy\"])\n",
    "\n",
    "epochs = 30\n",
    "history = model.fit(training_set, \n",
    "                    epochs = epochs, \n",
    "                    validation_data = validation_set, \n",
    "                    callbacks = [save_model, control_lr, TON, early_stopping])"
   ]
  },
  {
   "cell_type": "code",
   "execution_count": null,
   "id": "850afa4a",
   "metadata": {},
   "outputs": [],
   "source": [
    "# Courbe d'entrainement :\n",
    "training_accuracy = history.history['accuracy']\n",
    "validation_accuracy = history.history['val_accuracy']\n",
    "\n",
    "plt.figure()\n",
    "plt.plot(np.arange(epochs), training_accuracy, label = 'Training Set')\n",
    "plt.plot(np.arange(epochs), validation_accuracy, label = 'Validation Set')\n",
    "plt.xlabel('Epochs')\n",
    "plt.ylabel('Accuracy')\n",
    "plt.xlim([0,19])\n",
    "plt.ylim([0.5,1])\n",
    "plt.legend()\n",
    "plt.show()"
   ]
  },
  {
   "cell_type": "code",
   "execution_count": null,
   "id": "c1a6834c",
   "metadata": {},
   "outputs": [],
   "source": [
    "# Évaluation sur les données test :\n",
    "\n",
    "model.evaluate(testing_set)"
   ]
  }
 ],
 "metadata": {
  "kernelspec": {
   "display_name": "Python 3",
   "language": "python",
   "name": "python3"
  },
  "language_info": {
   "codemirror_mode": {
    "name": "ipython",
    "version": 3
   },
   "file_extension": ".py",
   "mimetype": "text/x-python",
   "name": "python",
   "nbconvert_exporter": "python",
   "pygments_lexer": "ipython3",
   "version": "3.8.10"
  }
 },
 "nbformat": 4,
 "nbformat_minor": 5
}

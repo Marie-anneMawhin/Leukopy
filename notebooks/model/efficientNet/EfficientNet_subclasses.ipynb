{
 "cells": [
  {
   "cell_type": "code",
   "execution_count": 1,
   "id": "e3809076-4465-4e6e-bfed-ba0886364603",
   "metadata": {
    "tags": []
   },
   "outputs": [
    {
     "data": {
      "text/plain": [
       "<module 'leukopy_lib' from '/home/marie-anne/code/Leukopy/notebooks/leukopy_lib.py'>"
      ]
     },
     "execution_count": 1,
     "metadata": {},
     "output_type": "execute_result"
    }
   ],
   "source": [
    "## Modules nécessaires\n",
    "import pandas as pd\n",
    "import numpy as np\n",
    "import matplotlib.pyplot as plt\n",
    "\n",
    "import sys, os\n",
    "from pathlib import Path\n",
    "import glob\n",
    "\n",
    "from sklearn.model_selection import train_test_split\n",
    "\n",
    "import tensorflow as tf\n",
    "from tensorflow import keras\n",
    "from tensorflow.keras import layers\n",
    "from tensorflow.keras.models import Sequential\n",
    "from tensorflow.keras.applications import EfficientNetB3\n",
    "from tensorflow.keras.preprocessing.image import ImageDataGenerator\n",
    "from tensorflow.keras.callbacks import ModelCheckpoint, ReduceLROnPlateau, TerminateOnNaN, EarlyStopping, TensorBoard\n",
    "\n",
    "sys.path.insert(0, str(Path.cwd().parent))\n",
    "import leukopy_lib as leuko\n",
    "from importlib import reload\n",
    "\n",
    "reload(leuko)"
   ]
  },
  {
   "cell_type": "code",
   "execution_count": 3,
   "id": "932ccb96-1d8a-450b-951c-267b7337be82",
   "metadata": {},
   "outputs": [],
   "source": [
    "test = pd.read_csv('../../data/test_set.csv')"
   ]
  },
  {
   "cell_type": "code",
   "execution_count": 4,
   "id": "d43d9dfa-34af-418d-aac4-3ddc8f27d94a",
   "metadata": {
    "collapsed": true,
    "jupyter": {
     "outputs_hidden": true
    },
    "tags": []
   },
   "outputs": [
    {
     "ename": "FileNotFoundError",
     "evalue": "[Errno 2] No such file or directory: '.\\\\LY\\\\LY_925823.jpg'",
     "output_type": "error",
     "traceback": [
      "\u001b[0;31m---------------------------------------------------------------------------\u001b[0m",
      "\u001b[0;31mFileNotFoundError\u001b[0m                         Traceback (most recent call last)",
      "\u001b[0;32m<ipython-input-4-76f23edf0c88>\u001b[0m in \u001b[0;36m<module>\u001b[0;34m\u001b[0m\n\u001b[0;32m----> 1\u001b[0;31m \u001b[0mplt\u001b[0m\u001b[0;34m.\u001b[0m\u001b[0mimread\u001b[0m\u001b[0;34m(\u001b[0m\u001b[0mtest\u001b[0m\u001b[0;34m.\u001b[0m\u001b[0mimg_path\u001b[0m\u001b[0;34m[\u001b[0m\u001b[0;36m0\u001b[0m\u001b[0;34m]\u001b[0m\u001b[0;34m)\u001b[0m\u001b[0;34m\u001b[0m\u001b[0;34m\u001b[0m\u001b[0m\n\u001b[0m",
      "\u001b[0;32m~/anaconda3/envs/DStest/lib/python3.9/site-packages/matplotlib/pyplot.py\u001b[0m in \u001b[0;36mimread\u001b[0;34m(fname, format)\u001b[0m\n\u001b[1;32m   2405\u001b[0m \u001b[0;34m@\u001b[0m\u001b[0m_copy_docstring_and_deprecators\u001b[0m\u001b[0;34m(\u001b[0m\u001b[0mmatplotlib\u001b[0m\u001b[0;34m.\u001b[0m\u001b[0mimage\u001b[0m\u001b[0;34m.\u001b[0m\u001b[0mimread\u001b[0m\u001b[0;34m)\u001b[0m\u001b[0;34m\u001b[0m\u001b[0;34m\u001b[0m\u001b[0m\n\u001b[1;32m   2406\u001b[0m \u001b[0;32mdef\u001b[0m \u001b[0mimread\u001b[0m\u001b[0;34m(\u001b[0m\u001b[0mfname\u001b[0m\u001b[0;34m,\u001b[0m \u001b[0mformat\u001b[0m\u001b[0;34m=\u001b[0m\u001b[0;32mNone\u001b[0m\u001b[0;34m)\u001b[0m\u001b[0;34m:\u001b[0m\u001b[0;34m\u001b[0m\u001b[0;34m\u001b[0m\u001b[0m\n\u001b[0;32m-> 2407\u001b[0;31m     \u001b[0;32mreturn\u001b[0m \u001b[0mmatplotlib\u001b[0m\u001b[0;34m.\u001b[0m\u001b[0mimage\u001b[0m\u001b[0;34m.\u001b[0m\u001b[0mimread\u001b[0m\u001b[0;34m(\u001b[0m\u001b[0mfname\u001b[0m\u001b[0;34m,\u001b[0m \u001b[0mformat\u001b[0m\u001b[0;34m)\u001b[0m\u001b[0;34m\u001b[0m\u001b[0;34m\u001b[0m\u001b[0m\n\u001b[0m\u001b[1;32m   2408\u001b[0m \u001b[0;34m\u001b[0m\u001b[0m\n\u001b[1;32m   2409\u001b[0m \u001b[0;34m\u001b[0m\u001b[0m\n",
      "\u001b[0;32m~/anaconda3/envs/DStest/lib/python3.9/site-packages/matplotlib/image.py\u001b[0m in \u001b[0;36mimread\u001b[0;34m(fname, format)\u001b[0m\n\u001b[1;32m   1499\u001b[0m                     \u001b[0mresponse\u001b[0m \u001b[0;34m=\u001b[0m \u001b[0mio\u001b[0m\u001b[0;34m.\u001b[0m\u001b[0mBytesIO\u001b[0m\u001b[0;34m(\u001b[0m\u001b[0mresponse\u001b[0m\u001b[0;34m.\u001b[0m\u001b[0mread\u001b[0m\u001b[0;34m(\u001b[0m\u001b[0;34m)\u001b[0m\u001b[0;34m)\u001b[0m\u001b[0;34m\u001b[0m\u001b[0;34m\u001b[0m\u001b[0m\n\u001b[1;32m   1500\u001b[0m                 \u001b[0;32mreturn\u001b[0m \u001b[0mimread\u001b[0m\u001b[0;34m(\u001b[0m\u001b[0mresponse\u001b[0m\u001b[0;34m,\u001b[0m \u001b[0mformat\u001b[0m\u001b[0;34m=\u001b[0m\u001b[0mext\u001b[0m\u001b[0;34m)\u001b[0m\u001b[0;34m\u001b[0m\u001b[0;34m\u001b[0m\u001b[0m\n\u001b[0;32m-> 1501\u001b[0;31m     \u001b[0;32mwith\u001b[0m \u001b[0mimg_open\u001b[0m\u001b[0;34m(\u001b[0m\u001b[0mfname\u001b[0m\u001b[0;34m)\u001b[0m \u001b[0;32mas\u001b[0m \u001b[0mimage\u001b[0m\u001b[0;34m:\u001b[0m\u001b[0;34m\u001b[0m\u001b[0;34m\u001b[0m\u001b[0m\n\u001b[0m\u001b[1;32m   1502\u001b[0m         return (_pil_png_to_float_array(image)\n\u001b[1;32m   1503\u001b[0m                 \u001b[0;32mif\u001b[0m \u001b[0misinstance\u001b[0m\u001b[0;34m(\u001b[0m\u001b[0mimage\u001b[0m\u001b[0;34m,\u001b[0m \u001b[0mPIL\u001b[0m\u001b[0;34m.\u001b[0m\u001b[0mPngImagePlugin\u001b[0m\u001b[0;34m.\u001b[0m\u001b[0mPngImageFile\u001b[0m\u001b[0;34m)\u001b[0m \u001b[0;32melse\u001b[0m\u001b[0;34m\u001b[0m\u001b[0;34m\u001b[0m\u001b[0m\n",
      "\u001b[0;32m~/anaconda3/envs/DStest/lib/python3.9/site-packages/PIL/Image.py\u001b[0m in \u001b[0;36mopen\u001b[0;34m(fp, mode, formats)\u001b[0m\n\u001b[1;32m   2910\u001b[0m \u001b[0;34m\u001b[0m\u001b[0m\n\u001b[1;32m   2911\u001b[0m     \u001b[0;32mif\u001b[0m \u001b[0mfilename\u001b[0m\u001b[0;34m:\u001b[0m\u001b[0;34m\u001b[0m\u001b[0;34m\u001b[0m\u001b[0m\n\u001b[0;32m-> 2912\u001b[0;31m         \u001b[0mfp\u001b[0m \u001b[0;34m=\u001b[0m \u001b[0mbuiltins\u001b[0m\u001b[0;34m.\u001b[0m\u001b[0mopen\u001b[0m\u001b[0;34m(\u001b[0m\u001b[0mfilename\u001b[0m\u001b[0;34m,\u001b[0m \u001b[0;34m\"rb\"\u001b[0m\u001b[0;34m)\u001b[0m\u001b[0;34m\u001b[0m\u001b[0;34m\u001b[0m\u001b[0m\n\u001b[0m\u001b[1;32m   2913\u001b[0m         \u001b[0mexclusive_fp\u001b[0m \u001b[0;34m=\u001b[0m \u001b[0;32mTrue\u001b[0m\u001b[0;34m\u001b[0m\u001b[0;34m\u001b[0m\u001b[0m\n\u001b[1;32m   2914\u001b[0m \u001b[0;34m\u001b[0m\u001b[0m\n",
      "\u001b[0;31mFileNotFoundError\u001b[0m: [Errno 2] No such file or directory: '.\\\\LY\\\\LY_925823.jpg'"
     ]
    }
   ],
   "source": [
    "plt.imread(test.img_path[0])"
   ]
  },
  {
   "cell_type": "code",
   "execution_count": 3,
   "id": "5c16156c-1c87-4384-a4fa-86028c1ae6a9",
   "metadata": {},
   "outputs": [],
   "source": [
    "#get path to data/main_dir\n",
    "path_name = '../../data/PBC_dataset_normal_DIB'\n",
    "selected_label = ['MY', 'SNE', 'MMY', 'BNE', 'IG', 'PMY', 'NEUTROPHIL']\n",
    "df_train, df_valid, df_test = leuko.load_df_tf_dir(path_name, selection_list=selected_label)"
   ]
  },
  {
   "cell_type": "code",
   "execution_count": 4,
   "id": "3feb9069-6a6e-4753-94d4-835b5f5a0e2b",
   "metadata": {},
   "outputs": [],
   "source": [
    "# Params\n",
    "x_col = 'img_paths'\n",
    "y_col = 'label'\n",
    "batch_size = 32\n",
    "img_size  = (224, 224) #needed for EfficientNet"
   ]
  },
  {
   "cell_type": "code",
   "execution_count": 6,
   "id": "52fc008b-9a57-4d73-bc2e-8a2b81299eb7",
   "metadata": {
    "tags": []
   },
   "outputs": [
    {
     "name": "stdout",
     "output_type": "stream",
     "text": [
      "Found 4381 validated image filenames belonging to 7 classes.\n",
      "Found 598 validated image filenames belonging to 7 classes.\n",
      "Found 1245 validated image filenames belonging to 7 classes.\n"
     ]
    }
   ],
   "source": [
    "# Augmentation, no normalisation EfficientNet models expect their inputs to be float tensors of pixels with values in the [0-255] range.\n",
    "train_generator = ImageDataGenerator(rotation_range = 90,\n",
    "                                     horizontal_flip = True, \n",
    "                                     vertical_flip = True,\n",
    "                                    zoom_range=0.6,\n",
    "                                    brightness_range=[0,2])\n",
    "\n",
    "valid_generator = ImageDataGenerator()\n",
    "test_generator = ImageDataGenerator()\n",
    "\n",
    "# Batchs, redimensionnement, chargement des images\n",
    "training_set = train_generator.flow_from_dataframe(df_train, \n",
    "                                                   directory = None, # utilise x_col\n",
    "                                                   x_col = x_col, \n",
    "                                                   y_col = y_col,\n",
    "                                                   target_size = img_size, \n",
    "                                                   color_mode = 'rgb',\n",
    "                                                   classes = None,   # utilise y_col\n",
    "                                                   class_mode = 'categorical', \n",
    "                                                   batch_size = batch_size, \n",
    "                                                   shuffle = True)\n",
    "\n",
    "validation_set = valid_generator.flow_from_dataframe(df_valid, \n",
    "                                                     directory = None, # utilise x_col\n",
    "                                                     x_col = x_col, \n",
    "                                                     y_col = y_col,\n",
    "                                                     target_size = img_size, \n",
    "                                                     color_mode = 'rgb',\n",
    "                                                     classes = None,   # utilise y_col\n",
    "                                                     class_mode = 'categorical', \n",
    "                                                     batch_size = batch_size, \n",
    "                                                     shuffle = True)\n",
    "\n",
    "testing_set = test_generator.flow_from_dataframe(df_test, \n",
    "                                                 directory = None, # utilise x_col\n",
    "                                                 x_col = x_col, \n",
    "                                                 y_col = y_col,\n",
    "                                                 target_size = img_size,\n",
    "                                                 color_mode = 'rgb',\n",
    "                                                 classes = None,   # utilise y_col\n",
    "                                                 class_mode = 'categorical', \n",
    "                                                 batch_size = batch_size, \n",
    "                                                 shuffle = True)"
   ]
  },
  {
   "cell_type": "code",
   "execution_count": 7,
   "id": "c44ac94e-0363-44a4-884e-8be2b66bac81",
   "metadata": {},
   "outputs": [
    {
     "name": "stdout",
     "output_type": "stream",
     "text": [
      "Train : {'BNE': 0, 'IG': 1, 'MMY': 2, 'MY': 3, 'NEUTROPHIL': 4, 'PMY': 5, 'SNE': 6}\n",
      "Valid : {'BNE': 0, 'IG': 1, 'MMY': 2, 'MY': 3, 'NEUTROPHIL': 4, 'PMY': 5, 'SNE': 6}\n",
      "Test  : {'BNE': 0, 'IG': 1, 'MMY': 2, 'MY': 3, 'NEUTROPHIL': 4, 'PMY': 5, 'SNE': 6}\n"
     ]
    }
   ],
   "source": [
    "# Correspondance indices/labels (ordre alphanumérique):\n",
    "print('Train :', training_set.class_indices)\n",
    "print('Valid :', validation_set.class_indices)\n",
    "print('Test  :', testing_set.class_indices)\n",
    "\n",
    "label_map = training_set.class_indices"
   ]
  },
  {
   "cell_type": "code",
   "execution_count": 9,
   "id": "2444cdcf-092b-4925-8349-eb5f21d169db",
   "metadata": {},
   "outputs": [],
   "source": [
    "!mkdir tf_log/effNet_subclasses_NE"
   ]
  },
  {
   "cell_type": "code",
   "execution_count": 8,
   "id": "8f32224d-408a-4d29-ab1d-aaae863cf8c8",
   "metadata": {},
   "outputs": [
    {
     "data": {
      "text/plain": [
       "'../../data/PBC_dataset_normal_DIB'"
      ]
     },
     "execution_count": 8,
     "metadata": {},
     "output_type": "execute_result"
    }
   ],
   "source": [
    "Path('tf_log/effNet_subclasses')"
   ]
  },
  {
   "cell_type": "code",
   "execution_count": 10,
   "id": "098c85cd-db4b-4380-b563-9fff40d3a540",
   "metadata": {},
   "outputs": [],
   "source": [
    "# Callbacks :\n",
    "\n",
    "TON = TerminateOnNaN()\n",
    "\n",
    "save_model = ModelCheckpoint(filepath = 'tf_log/effNet_subclasses_NE', \n",
    "                             monitor = 'val_loss', \n",
    "                             save_best_only = True,\n",
    "                             save_weights_only = True,\n",
    "                             save_freq = 'epoch')\n",
    "\n",
    "control_lr = ReduceLROnPlateau(monitor = 'val_loss',\n",
    "                               factor = 0.1, \n",
    "                               patience = 3, \n",
    "                               verbose = 1, \n",
    "                               mode = 'min')\n",
    "\n",
    "early_stopping = EarlyStopping(monitor = \"val_loss\", \n",
    "                               patience = 6, \n",
    "                               mode = 'min',\n",
    "                               restore_best_weights = True)\n",
    "\n",
    "# %load_ext tensorboard\n",
    "log_dir = Path('./tf_log/effNet_subclasses_NE')\n",
    "tensorboard = TensorBoard(log_dir = log_dir)\n"
   ]
  },
  {
   "cell_type": "code",
   "execution_count": 14,
   "id": "f897d905-41fd-47ef-b6eb-c3d619e5b742",
   "metadata": {},
   "outputs": [
    {
     "name": "stdout",
     "output_type": "stream",
     "text": [
      "Model: \"sequential_2\"\n",
      "_________________________________________________________________\n",
      "Layer (type)                 Output Shape              Param #   \n",
      "=================================================================\n",
      "efficientnetb3 (Functional)  (None, 1536)              10783535  \n",
      "_________________________________________________________________\n",
      "dense_4 (Dense)              (None, 1024)              1573888   \n",
      "_________________________________________________________________\n",
      "dropout_2 (Dropout)          (None, 1024)              0         \n",
      "_________________________________________________________________\n",
      "dense_5 (Dense)              (None, 512)               524800    \n",
      "_________________________________________________________________\n",
      "dropout_3 (Dropout)          (None, 512)               0         \n",
      "_________________________________________________________________\n",
      "dense_6 (Dense)              (None, 7)                 3591      \n",
      "=================================================================\n",
      "Total params: 12,885,814\n",
      "Trainable params: 2,102,279\n",
      "Non-trainable params: 10,783,535\n",
      "_________________________________________________________________\n"
     ]
    }
   ],
   "source": [
    "## Modèle : EfficientNet pour transfer learning\n",
    "\n",
    "base_model = EfficientNetB3(include_top = False,\n",
    "                            weights = 'imagenet',\n",
    "                            input_shape = (224,224,3),\n",
    "                            pooling = 'avg')\n",
    "\n",
    "# for layer in base_model.layers:\n",
    "#     layer.trainable = False\n",
    "\n",
    "base_model.trainable = False\n",
    "    \n",
    "model = Sequential()\n",
    "model.add(base_model)\n",
    "model.add(layers.Dense(units = 1024, activation = 'relu'))\n",
    "model.add(layers.Dropout(0.2))\n",
    "model.add(layers.Dense(units = 512, activation = 'relu'))\n",
    "model.add(layers.Dropout(0.2))\n",
    "model.add(layers.Dense(units = 7, activation = 'softmax'))\n",
    "model.summary()"
   ]
  },
  {
   "cell_type": "code",
   "execution_count": 15,
   "id": "606839bc-ea50-4a3d-957d-a78d366550cf",
   "metadata": {},
   "outputs": [],
   "source": [
    "# Compilation\n",
    "model.compile(optimizer = 'adam',\n",
    "              loss = \"categorical_crossentropy\",\n",
    "              metrics = [\"accuracy\"])"
   ]
  },
  {
   "cell_type": "code",
   "execution_count": 16,
   "id": "7b98c9cf-1b41-4705-b688-39b037124a48",
   "metadata": {},
   "outputs": [
    {
     "name": "stdout",
     "output_type": "stream",
     "text": [
      "Epoch 1/200\n",
      "137/137 [==============================] - 249s 2s/step - loss: 1.2232 - accuracy: 0.4389 - val_loss: 0.9415 - val_accuracy: 0.5970\n",
      "Epoch 2/200\n",
      "137/137 [==============================] - 236s 2s/step - loss: 1.0180 - accuracy: 0.5325 - val_loss: 0.9147 - val_accuracy: 0.5251\n",
      "Epoch 3/200\n",
      "137/137 [==============================] - 231s 2s/step - loss: 0.9762 - accuracy: 0.5398 - val_loss: 0.8548 - val_accuracy: 0.6405\n",
      "Epoch 4/200\n",
      "137/137 [==============================] - 240s 2s/step - loss: 0.9420 - accuracy: 0.5668 - val_loss: 0.8267 - val_accuracy: 0.6171\n",
      "Epoch 5/200\n",
      "137/137 [==============================] - 348s 3s/step - loss: 0.9258 - accuracy: 0.5741 - val_loss: 0.8039 - val_accuracy: 0.6154\n",
      "Epoch 6/200\n",
      "137/137 [==============================] - 335s 2s/step - loss: 0.9103 - accuracy: 0.5743 - val_loss: 0.7846 - val_accuracy: 0.6538\n",
      "Epoch 7/200\n",
      "137/137 [==============================] - 294s 2s/step - loss: 0.8864 - accuracy: 0.5905 - val_loss: 0.7915 - val_accuracy: 0.6288\n",
      "Epoch 8/200\n",
      "137/137 [==============================] - 290s 2s/step - loss: 0.8774 - accuracy: 0.5960 - val_loss: 0.8645 - val_accuracy: 0.5719\n",
      "Epoch 9/200\n",
      "137/137 [==============================] - 230s 2s/step - loss: 0.8882 - accuracy: 0.5987 - val_loss: 0.9093 - val_accuracy: 0.5719\n",
      "\n",
      "Epoch 00009: ReduceLROnPlateau reducing learning rate to 0.00010000000474974513.\n",
      "Epoch 10/200\n",
      "137/137 [==============================] - 229s 2s/step - loss: 0.8474 - accuracy: 0.6092 - val_loss: 0.7999 - val_accuracy: 0.5970\n",
      "Epoch 11/200\n",
      "137/137 [==============================] - 229s 2s/step - loss: 0.8114 - accuracy: 0.6314 - val_loss: 0.7649 - val_accuracy: 0.6371\n",
      "Epoch 12/200\n",
      "137/137 [==============================] - 228s 2s/step - loss: 0.8174 - accuracy: 0.6261 - val_loss: 0.7715 - val_accuracy: 0.6388\n",
      "Epoch 13/200\n",
      "137/137 [==============================] - 223s 2s/step - loss: 0.8002 - accuracy: 0.6352 - val_loss: 0.7302 - val_accuracy: 0.6839\n",
      "Epoch 14/200\n",
      "137/137 [==============================] - 223s 2s/step - loss: 0.8093 - accuracy: 0.6318 - val_loss: 0.7621 - val_accuracy: 0.6823\n",
      "Epoch 15/200\n",
      "137/137 [==============================] - 223s 2s/step - loss: 0.7901 - accuracy: 0.6359 - val_loss: 0.7275 - val_accuracy: 0.6806\n",
      "Epoch 16/200\n",
      "137/137 [==============================] - 223s 2s/step - loss: 0.8043 - accuracy: 0.6371 - val_loss: 0.7682 - val_accuracy: 0.6321\n",
      "Epoch 17/200\n",
      "137/137 [==============================] - 222s 2s/step - loss: 0.8017 - accuracy: 0.6332 - val_loss: 0.7225 - val_accuracy: 0.6739\n",
      "Epoch 18/200\n",
      "137/137 [==============================] - 222s 2s/step - loss: 0.7900 - accuracy: 0.6419 - val_loss: 0.7356 - val_accuracy: 0.6722\n",
      "Epoch 19/200\n",
      "137/137 [==============================] - 222s 2s/step - loss: 0.7779 - accuracy: 0.6528 - val_loss: 0.7559 - val_accuracy: 0.6555\n",
      "Epoch 20/200\n",
      "137/137 [==============================] - 222s 2s/step - loss: 0.7817 - accuracy: 0.6375 - val_loss: 0.7512 - val_accuracy: 0.6472\n",
      "\n",
      "Epoch 00020: ReduceLROnPlateau reducing learning rate to 1.0000000474974514e-05.\n",
      "Epoch 21/200\n",
      "137/137 [==============================] - 267s 2s/step - loss: 0.8010 - accuracy: 0.6382 - val_loss: 0.7470 - val_accuracy: 0.6472\n",
      "Epoch 22/200\n",
      "137/137 [==============================] - 244s 2s/step - loss: 0.7869 - accuracy: 0.6400 - val_loss: 0.7493 - val_accuracy: 0.6455\n",
      "Epoch 23/200\n",
      "137/137 [==============================] - 283s 2s/step - loss: 0.7874 - accuracy: 0.6444 - val_loss: 0.7478 - val_accuracy: 0.6455\n",
      "\n",
      "Epoch 00023: ReduceLROnPlateau reducing learning rate to 1.0000000656873453e-06.\n"
     ]
    }
   ],
   "source": [
    "epochs = 200\n",
    "history = model.fit(training_set, \n",
    "                    epochs = epochs, \n",
    "                    validation_data = validation_set, \n",
    "                    callbacks = [save_model, control_lr, TON, early_stopping])"
   ]
  },
  {
   "cell_type": "code",
   "execution_count": 20,
   "id": "14139ad1-f301-4ebe-ad48-6e05ae4bd4ad",
   "metadata": {},
   "outputs": [
    {
     "data": {
      "image/png": "[encoded data removed]",
      "text/plain": [
       "<Figure size 432x288 with 1 Axes>"
      ]
     },
     "metadata": {
      "needs_background": "light"
     },
     "output_type": "display_data"
    }
   ],
   "source": [
    "# Courbe d'entrainement :\n",
    "training_accuracy = history.history['accuracy']\n",
    "validation_accuracy = history.history['val_accuracy']\n",
    "\n",
    "plt.figure()\n",
    "plt.plot(training_accuracy, label = 'Training Set')\n",
    "plt.plot(validation_accuracy, label = 'Validation Set')\n",
    "plt.xlabel('Epochs')\n",
    "plt.ylabel('Accuracy')\n",
    "plt.xlim([0,19])\n",
    "# plt.ylim([0.5,1])\n",
    "plt.legend()\n",
    "plt.show()"
   ]
  },
  {
   "cell_type": "code",
   "execution_count": 21,
   "id": "53f0a281-9cb8-487a-991f-8fffedbfd0cb",
   "metadata": {},
   "outputs": [
    {
     "name": "stdout",
     "output_type": "stream",
     "text": [
      "39/39 [==============================] - 52s 1s/step - loss: 0.6739 - accuracy: 0.7100\n"
     ]
    },
    {
     "data": {
      "text/plain": [
       "[0.6738611459732056, 0.7100401520729065]"
      ]
     },
     "execution_count": 21,
     "metadata": {},
     "output_type": "execute_result"
    }
   ],
   "source": [
    "# Évaluation sur les données test :\n",
    "\n",
    "model.evaluate(testing_set)"
   ]
  },
  {
   "cell_type": "code",
   "execution_count": 26,
   "id": "5a3f5b0c-4ccd-4121-9e10-a48132dd4158",
   "metadata": {},
   "outputs": [
    {
     "data": {
      "text/plain": [
       "PosixPath('tf/log')"
      ]
     },
     "execution_count": 26,
     "metadata": {},
     "output_type": "execute_result"
    }
   ],
   "source": []
  },
  {
   "cell_type": "code",
   "execution_count": 22,
   "id": "18888547-b715-4a56-b283-1e31f6cb54a9",
   "metadata": {},
   "outputs": [],
   "source": [
    "!mkdir tf_log"
   ]
  },
  {
   "cell_type": "code",
   "execution_count": null,
   "id": "316c731c-0a31-441f-995d-1123e82f3968",
   "metadata": {},
   "outputs": [],
   "source": []
  }
 ],
 "metadata": {
  "kernelspec": {
   "display_name": "DStest",
   "language": "python",
   "name": "dstest"
  },
  "language_info": {
   "codemirror_mode": {
    "name": "ipython",
    "version": 3
   },
   "file_extension": ".py",
   "mimetype": "text/x-python",
   "name": "python",
   "nbconvert_exporter": "python",
   "pygments_lexer": "ipython3",
   "version": "3.9.4"
  }
 },
 "nbformat": 4,
 "nbformat_minor": 5
}

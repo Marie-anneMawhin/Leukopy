{
 "cells": [
  {
   "cell_type": "code",
   "execution_count": null,
   "metadata": {
    "colab": {
     "base_uri": "https://localhost:8080/"
    },
    "executionInfo": {
     "elapsed": 111166,
     "status": "ok",
     "timestamp": 1625754502727,
     "user": {
      "displayName": "Mathieu Sarrat",
      "photoUrl": "",
      "userId": "03904180067917226794"
     },
     "user_tz": -120
    },
    "id": "nvsVLJuS2-Pj",
    "outputId": "3b25387a-3a4b-4201-d068-b6aae703a657"
   },
   "outputs": [
    {
     "name": "stdout",
     "output_type": "stream",
     "text": [
      "Mounted at /content/drive\n"
     ]
    }
   ],
   "source": [
    "## Gives access to the Drive\n",
    "from google.colab import drive\n",
    "drive.mount('/content/drive')"
   ]
  },
  {
   "cell_type": "code",
   "execution_count": null,
   "metadata": {
    "colab": {
     "base_uri": "https://localhost:8080/"
    },
    "executionInfo": {
     "elapsed": 2038,
     "status": "ok",
     "timestamp": 1625754504755,
     "user": {
      "displayName": "Mathieu Sarrat",
      "photoUrl": "",
      "userId": "03904180067917226794"
     },
     "user_tz": -120
    },
    "id": "-o2dGu7t3nY2",
    "outputId": "6de6e23a-c951-44cb-8ddd-38df7e80085a"
   },
   "outputs": [
    {
     "data": {
      "text/plain": [
       "<module 'leukopy_lib' from '/content/drive/MyDrive/Leukopy/leukopy_lib.py'>"
      ]
     },
     "execution_count": 2,
     "metadata": {
      "tags": []
     },
     "output_type": "execute_result"
    }
   ],
   "source": [
    "## Modules\n",
    "import pandas as pd\n",
    "import numpy as np\n",
    "import matplotlib.pyplot as plt\n",
    "\n",
    "import sys, os\n",
    "from pathlib import Path\n",
    "import shutil\n",
    "import glob\n",
    "import itertools\n",
    "\n",
    "from sklearn.model_selection import train_test_split\n",
    "\n",
    "import tensorflow as tf\n",
    "#from tensorflow import keras\n",
    "\n",
    "from tensorflow.keras import layers\n",
    "from tensorflow.keras.models import Sequential\n",
    "from tensorflow.keras.optimizers import Adam\n",
    "from tensorflow.keras.applications import EfficientNetB3\n",
    "from tensorflow.keras.preprocessing.image import ImageDataGenerator\n",
    "from tensorflow.keras.callbacks import ModelCheckpoint, ReduceLROnPlateau, TerminateOnNaN, EarlyStopping\n",
    "\n",
    "from tensorflow.keras.utils import Sequence\n",
    "from collections import Counter\n",
    "from sklearn.utils.class_weight import compute_class_weight\n",
    "\n",
    "from keras.models import load_model\n",
    "from sklearn.metrics import classification_report, confusion_matrix\n",
    "\n",
    "sys.path.append('/content/drive/MyDrive/Leukopy')\n",
    "import leukopy_lib as leuko\n",
    "from importlib import reload\n",
    "\n",
    "reload(leuko)"
   ]
  },
  {
   "cell_type": "code",
   "execution_count": null,
   "metadata": {
    "colab": {
     "base_uri": "https://localhost:8080/"
    },
    "executionInfo": {
     "elapsed": 1544,
     "status": "ok",
     "timestamp": 1625754509556,
     "user": {
      "displayName": "Mathieu Sarrat",
      "photoUrl": "",
      "userId": "03904180067917226794"
     },
     "user_tz": -120
    },
    "id": "LcmRtI7N372S",
    "outputId": "bf8e162a-fc8b-4208-c583-963fe26139bd"
   },
   "outputs": [
    {
     "name": "stdout",
     "output_type": "stream",
     "text": [
      "Thu Jul  8 14:28:27 2021       \n",
      "+-----------------------------------------------------------------------------+\n",
      "| NVIDIA-SMI 470.42.01    Driver Version: 460.32.03    CUDA Version: 11.2     |\n",
      "|-------------------------------+----------------------+----------------------+\n",
      "| GPU  Name        Persistence-M| Bus-Id        Disp.A | Volatile Uncorr. ECC |\n",
      "| Fan  Temp  Perf  Pwr:Usage/Cap|         Memory-Usage | GPU-Util  Compute M. |\n",
      "|                               |                      |               MIG M. |\n",
      "|===============================+======================+======================|\n",
      "|   0  Tesla P100-PCIE...  Off  | 00000000:00:04.0 Off |                    0 |\n",
      "| N/A   35C    P0    32W / 250W |    347MiB / 16280MiB |      0%      Default |\n",
      "|                               |                      |                  N/A |\n",
      "+-------------------------------+----------------------+----------------------+\n",
      "                                                                               \n",
      "+-----------------------------------------------------------------------------+\n",
      "| Processes:                                                                  |\n",
      "|  GPU   GI   CI        PID   Type   Process name                  GPU Memory |\n",
      "|        ID   ID                                                   Usage      |\n",
      "|=============================================================================|\n",
      "|  No running processes found                                                 |\n",
      "+-----------------------------------------------------------------------------+\n"
     ]
    }
   ],
   "source": [
    "## GPU status verification\n",
    "tf.test.gpu_device_name()\n",
    "\n",
    "## GPU type verification\n",
    "gpu_info = !nvidia-smi\n",
    "gpu_info = '\\n'.join(gpu_info)\n",
    "if gpu_info.find('failed') >= 0:\n",
    "  print('Select the Runtime > \"Change runtime type\" menu to enable a GPU accelerator, ')\n",
    "  print('and then re-execute this cell.')\n",
    "else:\n",
    "  print(gpu_info)"
   ]
  },
  {
   "cell_type": "code",
   "execution_count": null,
   "metadata": {
    "id": "uGwGFiZ54b7k"
   },
   "outputs": [],
   "source": [
    "## Need to copy all the files on the local computer\n",
    "\n",
    "!cp -r \"/content/drive/MyDrive/Leukopy/data/main_dataset.zip\" .\n",
    "!unzip main_dataset.zip\n",
    "\n",
    "## Create the original dataframes \n",
    "path = Path('/content/main_dataset/')\n",
    "\n",
    "df_train = leuko.generate_images_df(path/'training_set')\n",
    "df_test = leuko.generate_images_df(path/'testing_set')\n",
    "df_valid = leuko.generate_images_df(path/'validation_set')"
   ]
  },
  {
   "cell_type": "code",
   "execution_count": null,
   "metadata": {
    "id": "MyoeowTP_nYA"
   },
   "outputs": [],
   "source": [
    "def reload_save():\n",
    "  !cp -r \"/content/drive/MyDrive/Leukopy/EffNetB3_GPU_12/fullsave.zip\" .\n",
    "  !unzip fullsave.zip\n",
    "\n",
    "  model = tf.keras.models.load_model(filepath = '/content/fullsave')\n",
    "  return model"
   ]
  },
  {
   "cell_type": "code",
   "execution_count": null,
   "metadata": {
    "id": "uqdzAMat4cT_"
   },
   "outputs": [],
   "source": [
    "######################################################### Quelques statistiques #################################################################"
   ]
  },
  {
   "cell_type": "code",
   "execution_count": null,
   "metadata": {
    "colab": {
     "base_uri": "https://localhost:8080/",
     "height": 206
    },
    "executionInfo": {
     "elapsed": 278,
     "status": "ok",
     "timestamp": 1625729582200,
     "user": {
      "displayName": "Mathieu Sarrat",
      "photoUrl": "",
      "userId": "03904180067917226794"
     },
     "user_tz": -120
    },
    "id": "I0-axSaY8lp3",
    "outputId": "085874cd-29e9-4a12-ffda-3d5ebf082949"
   },
   "outputs": [
    {
     "data": {
      "text/html": [
       "<div>\n",
       "<style scoped>\n",
       "    .dataframe tbody tr th:only-of-type {\n",
       "        vertical-align: middle;\n",
       "    }\n",
       "\n",
       "    .dataframe tbody tr th {\n",
       "        vertical-align: top;\n",
       "    }\n",
       "\n",
       "    .dataframe thead th {\n",
       "        text-align: right;\n",
       "    }\n",
       "</style>\n",
       "<table border=\"1\" class=\"dataframe\">\n",
       "  <thead>\n",
       "    <tr style=\"text-align: right;\">\n",
       "      <th></th>\n",
       "      <th>img_path</th>\n",
       "      <th>cell_type</th>\n",
       "      <th>label</th>\n",
       "      <th>label_2</th>\n",
       "      <th>label_3</th>\n",
       "    </tr>\n",
       "  </thead>\n",
       "  <tbody>\n",
       "    <tr>\n",
       "      <th>0</th>\n",
       "      <td>/content/main_dataset/training_set/MO_679959.jpg</td>\n",
       "      <td>training_set</td>\n",
       "      <td>MO</td>\n",
       "      <td>MO</td>\n",
       "      <td>MO</td>\n",
       "    </tr>\n",
       "    <tr>\n",
       "      <th>1</th>\n",
       "      <td>/content/main_dataset/training_set/EO_500571.jpg</td>\n",
       "      <td>training_set</td>\n",
       "      <td>EO</td>\n",
       "      <td>EO</td>\n",
       "      <td>EO</td>\n",
       "    </tr>\n",
       "    <tr>\n",
       "      <th>2</th>\n",
       "      <td>/content/main_dataset/training_set/EO_473251.jpg</td>\n",
       "      <td>training_set</td>\n",
       "      <td>EO</td>\n",
       "      <td>EO</td>\n",
       "      <td>EO</td>\n",
       "    </tr>\n",
       "    <tr>\n",
       "      <th>3</th>\n",
       "      <td>/content/main_dataset/training_set/BA_636660.jpg</td>\n",
       "      <td>training_set</td>\n",
       "      <td>BA</td>\n",
       "      <td>BA</td>\n",
       "      <td>BA</td>\n",
       "    </tr>\n",
       "    <tr>\n",
       "      <th>4</th>\n",
       "      <td>/content/main_dataset/training_set/BA_260100.jpg</td>\n",
       "      <td>training_set</td>\n",
       "      <td>BA</td>\n",
       "      <td>BA</td>\n",
       "      <td>BA</td>\n",
       "    </tr>\n",
       "  </tbody>\n",
       "</table>\n",
       "</div>"
      ],
      "text/plain": [
       "                                           img_path  ... label_3\n",
       "0  /content/main_dataset/training_set/MO_679959.jpg  ...      MO\n",
       "1  /content/main_dataset/training_set/EO_500571.jpg  ...      EO\n",
       "2  /content/main_dataset/training_set/EO_473251.jpg  ...      EO\n",
       "3  /content/main_dataset/training_set/BA_636660.jpg  ...      BA\n",
       "4  /content/main_dataset/training_set/BA_260100.jpg  ...      BA\n",
       "\n",
       "[5 rows x 5 columns]"
      ]
     },
     "execution_count": 5,
     "metadata": {
      "tags": []
     },
     "output_type": "execute_result"
    }
   ],
   "source": [
    "df_train.head()"
   ]
  },
  {
   "cell_type": "code",
   "execution_count": null,
   "metadata": {
    "colab": {
     "base_uri": "https://localhost:8080/"
    },
    "executionInfo": {
     "elapsed": 372,
     "status": "ok",
     "timestamp": 1625729586941,
     "user": {
      "displayName": "Mathieu Sarrat",
      "photoUrl": "",
      "userId": "03904180067917226794"
     },
     "user_tz": -120
    },
    "id": "kZYBfpqc8l28",
    "outputId": "eb298040-fe87-4d9d-d1da-7b3154b1d4fb"
   },
   "outputs": [
    {
     "name": "stdout",
     "output_type": "stream",
     "text": [
      "<class 'pandas.core.frame.DataFrame'>\n",
      "RangeIndex: 12778 entries, 0 to 12777\n",
      "Data columns (total 5 columns):\n",
      " #   Column     Non-Null Count  Dtype \n",
      "---  ------     --------------  ----- \n",
      " 0   img_path   12778 non-null  object\n",
      " 1   cell_type  12778 non-null  object\n",
      " 2   label      12778 non-null  object\n",
      " 3   label_2    12778 non-null  object\n",
      " 4   label_3    12778 non-null  object\n",
      "dtypes: object(5)\n",
      "memory usage: 499.3+ KB\n"
     ]
    }
   ],
   "source": [
    "df_train.info()"
   ]
  },
  {
   "cell_type": "code",
   "execution_count": null,
   "metadata": {
    "colab": {
     "base_uri": "https://localhost:8080/"
    },
    "executionInfo": {
     "elapsed": 213,
     "status": "ok",
     "timestamp": 1625729589661,
     "user": {
      "displayName": "Mathieu Sarrat",
      "photoUrl": "",
      "userId": "03904180067917226794"
     },
     "user_tz": -120
    },
    "id": "v5tMqOJJ8mCn",
    "outputId": "dc8279ed-4438-412e-db9c-d84d975271ec"
   },
   "outputs": [
    {
     "name": "stdout",
     "output_type": "stream",
     "text": [
      "<class 'pandas.core.frame.DataFrame'>\n",
      "RangeIndex: 1742 entries, 0 to 1741\n",
      "Data columns (total 5 columns):\n",
      " #   Column     Non-Null Count  Dtype \n",
      "---  ------     --------------  ----- \n",
      " 0   img_path   1742 non-null   object\n",
      " 1   cell_type  1742 non-null   object\n",
      " 2   label      1742 non-null   object\n",
      " 3   label_2    1742 non-null   object\n",
      " 4   label_3    1742 non-null   object\n",
      "dtypes: object(5)\n",
      "memory usage: 68.2+ KB\n"
     ]
    }
   ],
   "source": [
    "df_valid.info()"
   ]
  },
  {
   "cell_type": "code",
   "execution_count": null,
   "metadata": {
    "colab": {
     "base_uri": "https://localhost:8080/"
    },
    "executionInfo": {
     "elapsed": 237,
     "status": "ok",
     "timestamp": 1625729591868,
     "user": {
      "displayName": "Mathieu Sarrat",
      "photoUrl": "",
      "userId": "03904180067917226794"
     },
     "user_tz": -120
    },
    "id": "ZkMNsir88pqR",
    "outputId": "31f8db4c-99ec-42f4-8028-7044e7bafbd3"
   },
   "outputs": [
    {
     "name": "stdout",
     "output_type": "stream",
     "text": [
      "<class 'pandas.core.frame.DataFrame'>\n",
      "RangeIndex: 2561 entries, 0 to 2560\n",
      "Data columns (total 5 columns):\n",
      " #   Column     Non-Null Count  Dtype \n",
      "---  ------     --------------  ----- \n",
      " 0   img_path   2561 non-null   object\n",
      " 1   cell_type  2561 non-null   object\n",
      " 2   label      2561 non-null   object\n",
      " 3   label_2    2561 non-null   object\n",
      " 4   label_3    2561 non-null   object\n",
      "dtypes: object(5)\n",
      "memory usage: 100.2+ KB\n"
     ]
    }
   ],
   "source": [
    "df_test.info()"
   ]
  },
  {
   "cell_type": "code",
   "execution_count": null,
   "metadata": {
    "colab": {
     "base_uri": "https://localhost:8080/",
     "height": 516
    },
    "executionInfo": {
     "elapsed": 612,
     "status": "ok",
     "timestamp": 1625729594909,
     "user": {
      "displayName": "Mathieu Sarrat",
      "photoUrl": "",
      "userId": "03904180067917226794"
     },
     "user_tz": -120
    },
    "id": "nOB60msc8p63",
    "outputId": "175a29cc-fd87-4953-c488-61f76ab833dd"
   },
   "outputs": [
    {
     "data": {
      "text/plain": [
       "<matplotlib.axes._subplots.AxesSubplot at 0x7fdaa806d390>"
      ]
     },
     "execution_count": 9,
     "metadata": {
      "tags": []
     },
     "output_type": "execute_result"
    },
    {
     "data": {
      "image/png": "[encoded data removed]",
      "text/plain": [
       "<Figure size 1440x576 with 3 Axes>"
      ]
     },
     "metadata": {
      "needs_background": "light",
      "tags": []
     },
     "output_type": "display_data"
    }
   ],
   "source": [
    "import seaborn as sns\n",
    "fig, (ax1, ax2, ax3) = plt.subplots(1,3, figsize = (20,8))\n",
    "\n",
    "sns.countplot(x = \"label\", data = df_train.sort_values(by = \"label\"), ax = ax1)\n",
    "sns.countplot(x = \"label\", data = df_valid.sort_values(by = \"label\"),  ax = ax2)\n",
    "sns.countplot(x = \"label\", data = df_test.sort_values(by = \"label\"),  ax = ax3)"
   ]
  },
  {
   "cell_type": "code",
   "execution_count": null,
   "metadata": {
    "id": "SycyrEp28qEv"
   },
   "outputs": [],
   "source": [
    "#### Remarques : \n",
    "# Fort déséquilibre entre la population de chaque classe. Il va falloir équilibrer. 3 pistes :\n",
    "# - BalancedBatchGenerator de imblearn.keras (mais bug lors de l'import de la fonction)\n",
    "# - https://stackoverflow.com/questions/42586475/is-it-possible-to-automatically-infer-the-class-weight-from-flow-from-directory\n",
    "# - Augmentation de données pour équilibrer + production de nouveaux dataframes en ajoutant les images créées\n",
    "## => L'option 3 est sans doute la meilleure si on veut appliquer des transformations aux BL (ImageDataGenerator ne leur fait pas grand chose...)"
   ]
  },
  {
   "cell_type": "code",
   "execution_count": null,
   "metadata": {
    "id": "WU9-KfTD9iUT"
   },
   "outputs": [],
   "source": [
    "######################################################### Génération d'images #################################################################"
   ]
  },
  {
   "cell_type": "code",
   "execution_count": null,
   "metadata": {
    "colab": {
     "base_uri": "https://localhost:8080/"
    },
    "executionInfo": {
     "elapsed": 594,
     "status": "ok",
     "timestamp": 1625754664818,
     "user": {
      "displayName": "Mathieu Sarrat",
      "photoUrl": "",
      "userId": "03904180067917226794"
     },
     "user_tz": -120
    },
    "id": "YNk8gkvY9ijW",
    "outputId": "6bdba988-c6b7-4be1-b4e0-562bd11da979"
   },
   "outputs": [
    {
     "name": "stdout",
     "output_type": "stream",
     "text": [
      "Found 12778 validated image filenames belonging to 12 classes.\n",
      "Found 1742 validated image filenames belonging to 12 classes.\n",
      "Found 2561 validated image filenames belonging to 12 classes.\n"
     ]
    }
   ],
   "source": [
    "## Preprocessing\n",
    "batch_size = 64\n",
    "img_height  = 300\n",
    "img_width = 300\n",
    "\n",
    "# EfficientNet normalizes itself the pictures. Data augmentation : rotation, zoom, brightness => only on training set\n",
    "train_generator = ImageDataGenerator(rotation_range = 90,\n",
    "                                     horizontal_flip = True, \n",
    "                                     vertical_flip = True, \n",
    "                                     zoom_range = 0.5, \n",
    "                                     brightness_range = [0.2,1.8])\n",
    "valid_generator = ImageDataGenerator()\n",
    "test_generator = ImageDataGenerator()\n",
    "\n",
    "# Resize pictures, batchs from dataframe\n",
    "training_set = train_generator.flow_from_dataframe(df_train, \n",
    "                                                   directory = None, # utilise x_col\n",
    "                                                   x_col = 'img_path', \n",
    "                                                   y_col = 'label',\n",
    "                                                   target_size = (img_height, img_width), \n",
    "                                                   color_mode = 'rgb',\n",
    "                                                   classes = None,   # utilise y_col\n",
    "                                                   class_mode = 'categorical', \n",
    "                                                   batch_size = batch_size,\n",
    "                                                   shuffle = True)\n",
    "                                                   #shuffle = True, \n",
    "                                                   #save_to_dir = '/content/datageneration', \n",
    "                                                   #save_prefix = 'gen_',\n",
    "                                                   #save_format = 'png')\n",
    "\n",
    "validation_set = valid_generator.flow_from_dataframe(df_valid, \n",
    "                                                     directory = None, # utilise x_col\n",
    "                                                     x_col = 'img_path', \n",
    "                                                     y_col = 'label',\n",
    "                                                     target_size = (img_height, img_width), \n",
    "                                                     color_mode = 'rgb',\n",
    "                                                     classes = None,   # utilise y_col\n",
    "                                                     class_mode = 'categorical', \n",
    "                                                     batch_size = batch_size, \n",
    "                                                     shuffle = True)\n",
    "\n",
    "testing_set = test_generator.flow_from_dataframe(df_test, \n",
    "                                                 directory = None, # utilise x_col\n",
    "                                                 x_col = 'img_path', \n",
    "                                                 y_col = 'label',\n",
    "                                                 target_size = (img_height, img_width),\n",
    "                                                 color_mode = 'rgb',\n",
    "                                                 classes = None,   # utilise y_col\n",
    "                                                 class_mode = 'categorical', \n",
    "                                                 batch_size = batch_size, \n",
    "                                                 shuffle = False)"
   ]
  },
  {
   "cell_type": "code",
   "execution_count": null,
   "metadata": {
    "id": "ozqPzRNsIUAR"
   },
   "outputs": [],
   "source": [
    "########################################################## Data-Generation analysis #############################################################"
   ]
  },
  {
   "cell_type": "code",
   "execution_count": null,
   "metadata": {
    "id": "ibRpL1hyDTqS"
   },
   "outputs": [],
   "source": [
    "shutil.rmtree('/content/datageneration')\n",
    "!mkdir '/content/datageneration'"
   ]
  },
  {
   "cell_type": "code",
   "execution_count": null,
   "metadata": {
    "id": "WMD8xY-fYLXI"
   },
   "outputs": [],
   "source": [
    "shutil.rmtree('/content/datageneration')"
   ]
  },
  {
   "cell_type": "code",
   "execution_count": null,
   "metadata": {
    "id": "NFKEJcWOIY8s"
   },
   "outputs": [],
   "source": [
    "def make_datagen(data, create = True, batch_number = 1):\n",
    "  \n",
    "  if create == True :\n",
    "    !mkdir '/content/datageneration'\n",
    "  else:\n",
    "    shutil.rmtree('/content/datageneration')\n",
    "    !mkdir '/content/datageneration'\n",
    "\n",
    "  # Generate augmented pictures :\n",
    "  for i in range(batch_number):\n",
    "    next(data)\n",
    "\n",
    "  # List and count all pictures :\n",
    "  aug_file_nm = os.listdir('/content/datageneration')\n",
    "  number_files = len(aug_file_nm)\n",
    "  print(\"Number of new images generated: {}\".format(number_files))\n",
    "\n",
    "  # Plot augmented pictures :\n",
    "  number_lines = np.ceil(number_files/8)\n",
    "\n",
    "  plt.figure(figsize = (32,number_lines*4))\n",
    "  for i in range (number_files):\n",
    "    path_img = aug_file_nm[i]\n",
    "    plt.subplot(number_lines,8,i+1)\n",
    "    plt.imshow(plt.imread('/content/datageneration/'+path_img))\n",
    "\n",
    "  return\n"
   ]
  },
  {
   "cell_type": "code",
   "execution_count": null,
   "metadata": {
    "id": "gnfRuuqrWlc9"
   },
   "outputs": [],
   "source": [
    "make_datagen(training_set, create = False, batch_number = 5)"
   ]
  },
  {
   "cell_type": "code",
   "execution_count": null,
   "metadata": {
    "colab": {
     "base_uri": "https://localhost:8080/"
    },
    "executionInfo": {
     "elapsed": 11814,
     "status": "ok",
     "timestamp": 1625751464534,
     "user": {
      "displayName": "Mathieu Sarrat",
      "photoUrl": "",
      "userId": "03904180067917226794"
     },
     "user_tz": -120
    },
    "id": "0Zgs-rPmCZ-g",
    "outputId": "52d325c1-9721-4951-b661-612f505ff41f"
   },
   "outputs": [
    {
     "name": "stdout",
     "output_type": "stream",
     "text": [
      "Number of new images generated: 192\n"
     ]
    }
   ],
   "source": [
    "#for i in range(3):\n",
    "#    next(training_set)\n",
    "\n",
    "#aug_file_nm = os.listdir('/content/datageneration')\n",
    "#number_files = len(aug_file_nm)\n",
    "#print(\"Number of new images generated: {}\".format(number_files))"
   ]
  },
  {
   "cell_type": "code",
   "execution_count": null,
   "metadata": {
    "id": "rlHwlkGBdHO1"
   },
   "outputs": [],
   "source": [
    "dir(training_set)"
   ]
  },
  {
   "cell_type": "code",
   "execution_count": null,
   "metadata": {
    "id": "vcuP6sQSSu8t"
   },
   "outputs": [],
   "source": [
    "#plt.figure(figsize = (90,30))\n",
    "\n",
    "#for i in range (192):\n",
    "#  path_img = aug_file_nm[i]\n",
    "#  plt.subplot(24,8,i+1)\n",
    "#  plt.imshow(plt.imread('/content/datageneration/'+path_img))"
   ]
  },
  {
   "cell_type": "code",
   "execution_count": null,
   "metadata": {
    "colab": {
     "base_uri": "https://localhost:8080/",
     "height": 288
    },
    "executionInfo": {
     "elapsed": 972,
     "status": "ok",
     "timestamp": 1625750648986,
     "user": {
      "displayName": "Mathieu Sarrat",
      "photoUrl": "",
      "userId": "03904180067917226794"
     },
     "user_tz": -120
    },
    "id": "ixa1Gc81SatS",
    "outputId": "0dd91a2b-7aee-4396-af85-a49ebd525f56"
   },
   "outputs": [
    {
     "data": {
      "text/plain": [
       "<matplotlib.image.AxesImage at 0x7f764855c4d0>"
      ]
     },
     "execution_count": 17,
     "metadata": {
      "tags": []
     },
     "output_type": "execute_result"
    },
    {
     "data": {
      "image/png": "[encoded data removed]",
      "text/plain": [
       "<Figure size 432x288 with 1 Axes>"
      ]
     },
     "metadata": {
      "needs_background": "light",
      "tags": []
     },
     "output_type": "display_data"
    }
   ],
   "source": [
    "#plt.imshow(plt.imread('/content/datageneration/gen__4465_5284350.png'))"
   ]
  },
  {
   "cell_type": "code",
   "execution_count": null,
   "metadata": {
    "colab": {
     "base_uri": "https://localhost:8080/"
    },
    "executionInfo": {
     "elapsed": 260,
     "status": "ok",
     "timestamp": 1625735670708,
     "user": {
      "displayName": "Mathieu Sarrat",
      "photoUrl": "",
      "userId": "03904180067917226794"
     },
     "user_tz": -120
    },
    "id": "tUesI5GS-sKH",
    "outputId": "dc2e2572-33eb-4629-86d7-b2df45cb9740"
   },
   "outputs": [
    {
     "name": "stdout",
     "output_type": "stream",
     "text": [
      "Train : {'BA': 0, 'BL': 1, 'BNE': 2, 'EO': 3, 'ERB': 4, 'LY': 5, 'MMY': 6, 'MO': 7, 'MY': 8, 'PLT': 9, 'PMY': 10, 'SNE': 11}\n",
      "Valid : {'BA': 0, 'BL': 1, 'BNE': 2, 'EO': 3, 'ERB': 4, 'LY': 5, 'MMY': 6, 'MO': 7, 'MY': 8, 'PLT': 9, 'PMY': 10, 'SNE': 11}\n",
      "Test  : {'BA': 0, 'BL': 1, 'BNE': 2, 'EO': 3, 'ERB': 4, 'LY': 5, 'MMY': 6, 'MO': 7, 'MY': 8, 'PLT': 9, 'PMY': 10, 'SNE': 11}\n"
     ]
    }
   ],
   "source": [
    "# Labels/Index connection :\n",
    "print('Train :', training_set.class_indices)\n",
    "print('Valid :', validation_set.class_indices)\n",
    "print('Test  :', testing_set.class_indices)\n",
    "\n",
    "label_map = training_set.class_indices"
   ]
  },
  {
   "cell_type": "code",
   "execution_count": null,
   "metadata": {
    "id": "674e7jwyH0FU"
   },
   "outputs": [],
   "source": [
    "########################################################### Imbalanced classes strategy #######################################################\n",
    "## Use class_weight to penalize errors committed on low-population classes\n",
    "\n",
    "## Other option : make data augmentation before training the model in order to have an equal number of pictures of each class."
   ]
  },
  {
   "cell_type": "code",
   "execution_count": null,
   "metadata": {
    "colab": {
     "base_uri": "https://localhost:8080/"
    },
    "executionInfo": {
     "elapsed": 352,
     "status": "ok",
     "timestamp": 1625662125709,
     "user": {
      "displayName": "Mathieu Sarrat",
      "photoUrl": "",
      "userId": "03904180067917226794"
     },
     "user_tz": -120
    },
    "id": "WXLUvOt2A1R6",
    "outputId": "5bddb1f9-4f69-4f1f-cd80-237a16512c2f"
   },
   "outputs": [
    {
     "data": {
      "text/plain": [
       "{0: 2.604651162790698,\n",
       " 1: 23.287128712871286,\n",
       " 2: 1.9405940594059405,\n",
       " 3: 1.0,\n",
       " 4: 2.0240963855421685,\n",
       " 5: 2.4862579281183934,\n",
       " 6: 3.204359673024523,\n",
       " 7: 2.202247191011236,\n",
       " 8: 2.823529411764706,\n",
       " 9: 1.3493975903614457,\n",
       " 10: 5.101952277657267,\n",
       " 11: 1.8622327790973872}"
      ]
     },
     "execution_count": 19,
     "metadata": {
      "tags": []
     },
     "output_type": "execute_result"
    }
   ],
   "source": [
    "## Test - class_weight computation (method 1)\n",
    "counter = Counter(training_set.classes)                          \n",
    "max_val = float(max(counter.values()))       \n",
    "class_weights = {class_id : max_val/num_images for class_id, num_images in counter.items()} \n",
    "class_weights"
   ]
  },
  {
   "cell_type": "code",
   "execution_count": null,
   "metadata": {
    "colab": {
     "base_uri": "https://localhost:8080/"
    },
    "executionInfo": {
     "elapsed": 274,
     "status": "ok",
     "timestamp": 1625664006255,
     "user": {
      "displayName": "Mathieu Sarrat",
      "photoUrl": "",
      "userId": "03904180067917226794"
     },
     "user_tz": -120
    },
    "id": "YkzXU4QLA6va",
    "outputId": "30851653-2b31-4c22-91dc-2dc08a18845b"
   },
   "outputs": [
    {
     "data": {
      "text/plain": [
       "{0: 1.17921742340347,\n",
       " 1: 10.542904290429043,\n",
       " 2: 0.8785753575357536,\n",
       " 3: 0.45273526077097503,\n",
       " 4: 0.9163798049340218,\n",
       " 5: 1.1256166314305849,\n",
       " 6: 1.4507266121707538,\n",
       " 7: 0.9970349563046192,\n",
       " 8: 1.2783113245298119,\n",
       " 9: 0.6109198699560145,\n",
       " 10: 2.309833694866233,\n",
       " 11: 0.8430984428609132}"
      ]
     },
     "execution_count": 39,
     "metadata": {
      "tags": []
     },
     "output_type": "execute_result"
    }
   ],
   "source": [
    "## Test - class_weight computation (method 2)\n",
    "\n",
    "class_weights = compute_class_weight(class_weight = 'balanced', \n",
    "                                     classes = np.unique(training_set.classes), \n",
    "                                     y = training_set.classes)\n",
    "class_weights = dict(enumerate(class_weights))\n",
    "class_weights\n",
    "\n",
    "\n",
    "## Les poids sont différents de ceux obtenus avec la méthode 1, mais il y a une relation de proportionnalité (a = 2.20879) entre les deux\n",
    "## ensembles de poids."
   ]
  },
  {
   "cell_type": "code",
   "execution_count": null,
   "metadata": {
    "colab": {
     "base_uri": "https://localhost:8080/"
    },
    "executionInfo": {
     "elapsed": 259,
     "status": "ok",
     "timestamp": 1625663045282,
     "user": {
      "displayName": "Mathieu Sarrat",
      "photoUrl": "",
      "userId": "03904180067917226794"
     },
     "user_tz": -120
    },
    "id": "1QPwympgDcZJ",
    "outputId": "4f47b988-d75f-46d3-96f7-e49c1c878c81"
   },
   "outputs": [
    {
     "data": {
      "text/plain": [
       "{0: 7.075304540420819,\n",
       " 1: 63.257425742574256,\n",
       " 2: 5.271452145214521,\n",
       " 3: 2.7164115646258504,\n",
       " 4: 5.498278829604131,\n",
       " 5: 6.75369978858351,\n",
       " 6: 8.704359673024523,\n",
       " 7: 5.9822097378277155,\n",
       " 8: 7.669867947178871,\n",
       " 9: 3.665519219736087,\n",
       " 10: 13.859002169197398,\n",
       " 11: 5.058590657165479}"
      ]
     },
     "execution_count": 24,
     "metadata": {
      "tags": []
     },
     "output_type": "execute_result"
    }
   ],
   "source": [
    "## Test - class_weight computation (method 3)   weight = 1/class_pop * total_pop/2\n",
    "# https://www.tensorflow.org/tutorials/structured_data/imbalanced_data#class_weights\n",
    "\n",
    "counter = Counter(training_set.classes)                          \n",
    "class_weights = {class_id : (1/num_images)*float(sum(counter.values()))/2 for class_id, num_images in counter.items()} \n",
    "class_weights"
   ]
  },
  {
   "cell_type": "code",
   "execution_count": null,
   "metadata": {
    "id": "II-6MFO4Efi7"
   },
   "outputs": [],
   "source": [
    "## Function : compute weights according to a chosen method \n",
    "# default : 3, preserve the order of magnitude of the loss function\n",
    "# optimizer = Adam is unaffected by a scaling change, but other optimizers can fail\n",
    "\n",
    "def compute_weights(method = 3):\n",
    "\n",
    "  if method == 1:\n",
    "    counter = Counter(training_set.classes)     \n",
    "    class_weights = {class_id : float(max(counter.values()))/num_images for class_id, num_images in counter.items()} \n",
    "    return class_weights\n",
    "\n",
    "  if method == 2:\n",
    "    class_weights = compute_class_weight(class_weight = 'balanced',\n",
    "                                         classes = np.unique(training_set.classes),\n",
    "                                         y = training_set.classes)\n",
    "    class_weights = dict(enumerate(class_weights))\n",
    "    return class_weights\n",
    "\n",
    "  counter = Counter(training_set.classes)                          \n",
    "  class_weights = {class_id : (1/num_images)*float(sum(counter.values()))/2 for class_id, num_images in counter.items()} \n",
    "  return class_weights"
   ]
  },
  {
   "cell_type": "code",
   "execution_count": null,
   "metadata": {
    "id": "jz9LLphw9i-4"
   },
   "outputs": [],
   "source": [
    "################################################ Model : Transfer Learning from EfficientNet B3  #######################################################"
   ]
  },
  {
   "cell_type": "code",
   "execution_count": null,
   "metadata": {
    "id": "hyJ7SOddrFQQ"
   },
   "outputs": [],
   "source": [
    "## Modèle : EfficientNetB3, transfer learning, Sequential Model\n",
    "\n",
    "def build_model(dropout_rate = 0.2): \n",
    "  base_model = EfficientNetB3(include_top = False,\n",
    "                              weights = 'imagenet',\n",
    "                              input_shape = (300,300,3))\n",
    "  # Freeze EfficientNet\n",
    "  base_model.trainable = False\n",
    "  \n",
    "  # Classification layers\n",
    "#  model = Sequential()\n",
    "#  model.add(base_model)\n",
    "#  model.add(layers.GlobalAveragePooling2D())\n",
    "#  model.add(layers.Dense(units = 1280, activation = 'relu'))\n",
    "#  model.add(layers.Dense(units = 640, activation = 'relu'))\n",
    "#  model.add(layers.Dropout(rate = 0.2))\n",
    "#  model.add(layers.Dense(units = 11, activation = 'softmax'))\n",
    "\n",
    "  model = Sequential()\n",
    "  model.add(base_model, training = False)\n",
    "  model.add(layers.GlobalAveragePooling2D(name = \"output_pooling\"))\n",
    "  model.add(layers.BatchNormalization())\n",
    "  model.add(layers.Dropout(rate = dropout_rate))\n",
    "  model.add(layers.Dense(units = 12, activation = 'softmax'))\n",
    "\n",
    "  # Compile\n",
    "  optimizer = tf.keras.optimizers.Adam(learning_rate = 1e-4)\n",
    "  model.compile(optimizer = optimizer, \n",
    "                loss = \"categorical_crossentropy\",\n",
    "                metrics = [\"accuracy\"])\n",
    "\n",
    "  return model"
   ]
  },
  {
   "cell_type": "code",
   "execution_count": null,
   "metadata": {
    "id": "rpL_kx5rx5RT"
   },
   "outputs": [],
   "source": [
    "## Modèle : EfficientNetB3, transfer learning, Functional API\n",
    "\n",
    "def build_model_funct(dropout_rate = 0.2):\n",
    "\n",
    "  # Freeze EfficientNet\n",
    "  base_model = EfficientNetB3(include_top = False,\n",
    "                              input_shape = (300,300,3),\n",
    "                              weights = 'imagenet')\n",
    "  base_model.trainable = False\n",
    "\n",
    "  # Model (Functional API)\n",
    "  #inputs = tf.keras.Input(shape = (300,300,3))\n",
    "  #x = base_model(inputs, training = False)   # BatchNormalization layers run in 'inference mode'.\n",
    "  #x = layers.GlobalAveragePooling2D(name = \"output_pooling\")(x)\n",
    "  #x = layers.Dropout(rate = dropout_rate, name = \"output_dropout_1\")(x)\n",
    "  #outputs = layers.Dense(units = 12, activation = 'softmax', name = \"dense_1\")(x)\n",
    "  #model = tf.keras.Model(inputs, outputs)\n",
    "\n",
    "  # Model + Dense Layer \"dense_2\" : units = 1536 (size of the output of enetb3)\n",
    "  inputs = tf.keras.Input(shape = (300,300,3))\n",
    "  x = base_model(inputs, training = False)   # BatchNormalization layers run in 'inference mode'.\n",
    "  x = layers.GlobalAveragePooling2D(name = \"output_pooling\")(x)\n",
    "  x = layers.Dropout(rate = dropout_rate, name = \"output_dropout_1\")(x)\n",
    "  x = layers.Dense(units = 1536, activation = 'relu', name = \"dense_3\")(x)\n",
    "  x = layers.Dense(units = 384, activation = 'relu', name = \"dense_2\")(x)\n",
    "  #x = layers.Dense(units = 128, activation = 'relu', name = \"dense_2\")(x)\n",
    "  outputs = layers.Dense(units = 12, activation = 'softmax', name = \"dense_1\")(x)\n",
    "  model = tf.keras.Model(inputs, outputs)\n",
    "\n",
    "  # Compile\n",
    "  optimizer = tf.keras.optimizers.Adam(learning_rate = 1e-2)\n",
    "  model.compile(optimizer = optimizer, \n",
    "                loss = \"categorical_crossentropy\",\n",
    "                metrics = [\"accuracy\"])\n",
    "  return model"
   ]
  },
  {
   "cell_type": "code",
   "execution_count": null,
   "metadata": {
    "id": "EBmD_OPSrzLy"
   },
   "outputs": [],
   "source": [
    "# Training function\n",
    "\n",
    "def training_model(model, training_set, validation_set = None, epochs = 1, weights_method = 3, reload = False):\n",
    "\n",
    "  ## Load a saved model\n",
    "  if reload == True :\n",
    "    model = tf.keras.models.load_model(filepath = '/content/fullsave')\n",
    "\n",
    "    #%cp -r '/content/drive/MyDrive/Leukopy/EffNetB3_GPU_12/fullsave.zip' '/content'\n",
    "    #!unzip fullsave.zip\n",
    "    #model = tensorflow.keras.models.load_model(filepath = '/content/fullsave')\n",
    "\n",
    "  ## Callbacks :\n",
    "  TON = TerminateOnNaN()\n",
    "  save_model = ModelCheckpoint(filepath = '/content/drive/MyDrive/Leukopy/EffNetB3_GPU_12/trainingsave',\n",
    "                               monitor = 'val_loss',\n",
    "                               save_best_only = True,\n",
    "                               save_weights_only = False,\n",
    "                               save_freq = 'epoch')\n",
    "  \n",
    "  control_lr = ReduceLROnPlateau(monitor = 'val_loss',\n",
    "                                 factor = 0.1,\n",
    "                                 patience = 3,\n",
    "                                 verbose = 1,\n",
    "                                 mode = 'min', \n",
    "                                 min_lr = 1e-5)\n",
    "  \n",
    "  early_stopping = EarlyStopping(monitor = \"val_loss\",\n",
    "                                 patience = 5,\n",
    "                                 mode = 'min',\n",
    "                                 restore_best_weights = True)\n",
    "\n",
    "  callbacks_list = [TON, save_model, control_lr, early_stopping]\n",
    "                    \n",
    "  ## Compute weights :\n",
    "  class_weights = compute_weights(method = weights_method)\n",
    "\n",
    "  ## Training :\n",
    "  history = model.fit(x = training_set, \n",
    "                      epochs = epochs,\n",
    "                      callbacks = callbacks_list, \n",
    "                      validation_data = validation_set, \n",
    "                      class_weight = class_weights)\n",
    "\n",
    "  ## Full model saving : model layers, weights, optimizer state :\n",
    "  model.save(filepath = '/content/fullsave',\n",
    "             overwrite = True, \n",
    "             include_optimizer = True, \n",
    "             save_traces = True)\n",
    "  \n",
    "  shutil.make_archive(base_name = '/content/fullsave', format = 'zip', root_dir = '/content/fullsave')\n",
    "  %cp -r '/content/fullsave.zip' '/content/drive/MyDrive/Leukopy/EffNetB3_GPU_12'\n",
    "\n",
    "  return model, history, class_weights"
   ]
  },
  {
   "cell_type": "code",
   "execution_count": null,
   "metadata": {
    "id": "FR1mvNXgr04f"
   },
   "outputs": [],
   "source": [
    "## Fine-Tuning functions\n",
    "\n",
    "def unfreeze_model(model, reload = False):\n",
    "\n",
    "  # Load a saved model\n",
    "  if reload == True :\n",
    "    model = tf.keras.models.load_model(filepath = '/content/fullsave')\n",
    "\n",
    "  # Unfreeze the top layers (7th block) while leaving BatchNorm layers frozen\n",
    "  for layer in model.get_layer(\"efficientnetb3\").layers[-31:-3]:\n",
    "    if not isinstance(layer, layers.BatchNormalization):\n",
    "      layer.trainable = True\n",
    "\n",
    "  optimizer = tf.keras.optimizers.Adam(learning_rate = 1e-5)\n",
    "  model.compile(optimizer = optimizer, \n",
    "                loss = \"categorical_crossentropy\",\n",
    "                metrics = [\"accuracy\"])\n",
    "  return model\n",
    "\n",
    "\n",
    "def fine_tuning(model, training_set, validation_set = None, epochs = 1, reload = False):\n",
    "\n",
    "  # Unfreeze block 7 layers (except BatchNormalization) and compile\n",
    "  model = unfreeze_model(model, reload = reload)\n",
    "\n",
    "  # Fine-tuning training\n",
    "  model, history, class_weights = training_model(model, training_set, validation_set, epochs, reload = False)\n",
    "\n",
    "  # Full model saving : model layers, weights, optimizer state :\n",
    "  model.save(filepath = '/content/fullsave',\n",
    "             overwrite = True, \n",
    "             include_optimizer = True, \n",
    "             save_traces = True)\n",
    "  \n",
    "  shutil.make_archive(base_name = '/content/fullsave', format = 'zip', root_dir = '/content/fullsave')\n",
    "  %cp -r '/content/fullsave.zip' '/content/drive/MyDrive/Leukopy/EffNetB3_GPU_12'\n",
    "\n",
    "  return model, history"
   ]
  },
  {
   "cell_type": "code",
   "execution_count": null,
   "metadata": {
    "id": "mC4Q5OId-fBQ"
   },
   "outputs": [],
   "source": [
    "########################################################## Tests - Fonctionnement #########################################################"
   ]
  },
  {
   "cell_type": "code",
   "execution_count": null,
   "metadata": {
    "colab": {
     "base_uri": "https://localhost:8080/"
    },
    "executionInfo": {
     "elapsed": 3377,
     "status": "ok",
     "timestamp": 1625762368833,
     "user": {
      "displayName": "Mathieu Sarrat",
      "photoUrl": "",
      "userId": "03904180067917226794"
     },
     "user_tz": -120
    },
    "id": "17d435GZQ-ql",
    "outputId": "16b349e4-42b3-446f-8bc2-5212c3043ac6"
   },
   "outputs": [
    {
     "name": "stdout",
     "output_type": "stream",
     "text": [
      "Model: \"model_3\"\n",
      "_________________________________________________________________\n",
      "Layer (type)                 Output Shape              Param #   \n",
      "=================================================================\n",
      "input_8 (InputLayer)         [(None, 300, 300, 3)]     0         \n",
      "_________________________________________________________________\n",
      "efficientnetb3 (Functional)  (None, 10, 10, 1536)      10783535  \n",
      "_________________________________________________________________\n",
      "output_pooling (GlobalAverag (None, 1536)              0         \n",
      "_________________________________________________________________\n",
      "output_dropout_1 (Dropout)   (None, 1536)              0         \n",
      "_________________________________________________________________\n",
      "dense_3 (Dense)              (None, 1536)              2360832   \n",
      "_________________________________________________________________\n",
      "dense_2 (Dense)              (None, 384)               590208    \n",
      "_________________________________________________________________\n",
      "dense_1 (Dense)              (None, 12)                4620      \n",
      "=================================================================\n",
      "Total params: 13,739,195\n",
      "Trainable params: 2,955,660\n",
      "Non-trainable params: 10,783,535\n",
      "_________________________________________________________________\n"
     ]
    }
   ],
   "source": [
    "# Build the model\n",
    "model = build_model_funct()\n",
    "# Summary - External layers :\n",
    "model.summary()"
   ]
  },
  {
   "cell_type": "code",
   "execution_count": null,
   "metadata": {
    "id": "RVfC5gbrSe3w"
   },
   "outputs": [],
   "source": [
    "# Summary - EfficientNetB3 sublayers :\n",
    "model.get_layer(\"efficientnetb3\").summary()"
   ]
  },
  {
   "cell_type": "code",
   "execution_count": null,
   "metadata": {
    "colab": {
     "base_uri": "https://localhost:8080/"
    },
    "executionInfo": {
     "elapsed": 6309434,
     "status": "ok",
     "timestamp": 1625768698318,
     "user": {
      "displayName": "Mathieu Sarrat",
      "photoUrl": "",
      "userId": "03904180067917226794"
     },
     "user_tz": -120
    },
    "id": "n3s-p8K_SfEk",
    "outputId": "555f0948-46d9-4eca-c4fb-425661aa4dd2"
   },
   "outputs": [
    {
     "name": "stdout",
     "output_type": "stream",
     "text": [
      "Epoch 1/50\n",
      "200/200 [==============================] - 302s 1s/step - loss: 10.9027 - accuracy: 0.4739 - val_loss: 1.0045 - val_accuracy: 0.6297\n"
     ]
    },
    {
     "name": "stderr",
     "output_type": "stream",
     "text": [
      "/usr/local/lib/python3.7/dist-packages/tensorflow/python/keras/utils/generic_utils.py:497: CustomMaskWarning: Custom mask layers require a config and must override get_config. When loading, the custom mask layer must be passed to the custom_objects argument.\n",
      "  category=CustomMaskWarning)\n"
     ]
    },
    {
     "name": "stdout",
     "output_type": "stream",
     "text": [
      "INFO:tensorflow:Assets written to: /content/drive/MyDrive/Leukopy/EffNetB3_GPU_12/trainingsave/assets\n",
      "Epoch 2/50\n",
      "200/200 [==============================] - 295s 1s/step - loss: 5.8285 - accuracy: 0.6455 - val_loss: 1.1528 - val_accuracy: 0.5798\n",
      "Epoch 3/50\n",
      "200/200 [==============================] - 294s 1s/step - loss: 5.5438 - accuracy: 0.6629 - val_loss: 1.1610 - val_accuracy: 0.5563\n",
      "Epoch 4/50\n",
      "200/200 [==============================] - 294s 1s/step - loss: 5.3914 - accuracy: 0.6773 - val_loss: 0.9745 - val_accuracy: 0.6315\n"
     ]
    },
    {
     "name": "stderr",
     "output_type": "stream",
     "text": [
      "/usr/local/lib/python3.7/dist-packages/tensorflow/python/keras/utils/generic_utils.py:497: CustomMaskWarning: Custom mask layers require a config and must override get_config. When loading, the custom mask layer must be passed to the custom_objects argument.\n",
      "  category=CustomMaskWarning)\n"
     ]
    },
    {
     "name": "stdout",
     "output_type": "stream",
     "text": [
      "INFO:tensorflow:Assets written to: /content/drive/MyDrive/Leukopy/EffNetB3_GPU_12/trainingsave/assets\n",
      "Epoch 5/50\n",
      "200/200 [==============================] - 296s 1s/step - loss: 5.1408 - accuracy: 0.6902 - val_loss: 0.8154 - val_accuracy: 0.6917\n"
     ]
    },
    {
     "name": "stderr",
     "output_type": "stream",
     "text": [
      "/usr/local/lib/python3.7/dist-packages/tensorflow/python/keras/utils/generic_utils.py:497: CustomMaskWarning: Custom mask layers require a config and must override get_config. When loading, the custom mask layer must be passed to the custom_objects argument.\n",
      "  category=CustomMaskWarning)\n"
     ]
    },
    {
     "name": "stdout",
     "output_type": "stream",
     "text": [
      "INFO:tensorflow:Assets written to: /content/drive/MyDrive/Leukopy/EffNetB3_GPU_12/trainingsave/assets\n",
      "Epoch 6/50\n",
      "200/200 [==============================] - 297s 1s/step - loss: 4.8752 - accuracy: 0.6984 - val_loss: 0.7942 - val_accuracy: 0.7250\n"
     ]
    },
    {
     "name": "stderr",
     "output_type": "stream",
     "text": [
      "/usr/local/lib/python3.7/dist-packages/tensorflow/python/keras/utils/generic_utils.py:497: CustomMaskWarning: Custom mask layers require a config and must override get_config. When loading, the custom mask layer must be passed to the custom_objects argument.\n",
      "  category=CustomMaskWarning)\n"
     ]
    },
    {
     "name": "stdout",
     "output_type": "stream",
     "text": [
      "INFO:tensorflow:Assets written to: /content/drive/MyDrive/Leukopy/EffNetB3_GPU_12/trainingsave/assets\n",
      "Epoch 7/50\n",
      "200/200 [==============================] - 295s 1s/step - loss: 4.9484 - accuracy: 0.7002 - val_loss: 0.9055 - val_accuracy: 0.6538\n",
      "Epoch 8/50\n",
      "200/200 [==============================] - 295s 1s/step - loss: 5.1985 - accuracy: 0.6939 - val_loss: 0.7763 - val_accuracy: 0.7204\n"
     ]
    },
    {
     "name": "stderr",
     "output_type": "stream",
     "text": [
      "/usr/local/lib/python3.7/dist-packages/tensorflow/python/keras/utils/generic_utils.py:497: CustomMaskWarning: Custom mask layers require a config and must override get_config. When loading, the custom mask layer must be passed to the custom_objects argument.\n",
      "  category=CustomMaskWarning)\n"
     ]
    },
    {
     "name": "stdout",
     "output_type": "stream",
     "text": [
      "INFO:tensorflow:Assets written to: /content/drive/MyDrive/Leukopy/EffNetB3_GPU_12/trainingsave/assets\n",
      "Epoch 9/50\n",
      "200/200 [==============================] - 298s 1s/step - loss: 5.2226 - accuracy: 0.6884 - val_loss: 1.0203 - val_accuracy: 0.6160\n",
      "Epoch 10/50\n",
      "200/200 [==============================] - 297s 1s/step - loss: 4.7763 - accuracy: 0.7087 - val_loss: 0.8147 - val_accuracy: 0.6952\n",
      "Epoch 11/50\n",
      "200/200 [==============================] - 294s 1s/step - loss: 5.1475 - accuracy: 0.6911 - val_loss: 0.8881 - val_accuracy: 0.6762\n",
      "\n",
      "Epoch 00011: ReduceLROnPlateau reducing learning rate to 0.0009999999776482583.\n",
      "Epoch 12/50\n",
      "200/200 [==============================] - 294s 1s/step - loss: 4.4683 - accuracy: 0.7313 - val_loss: 0.7048 - val_accuracy: 0.7348\n"
     ]
    },
    {
     "name": "stderr",
     "output_type": "stream",
     "text": [
      "/usr/local/lib/python3.7/dist-packages/tensorflow/python/keras/utils/generic_utils.py:497: CustomMaskWarning: Custom mask layers require a config and must override get_config. When loading, the custom mask layer must be passed to the custom_objects argument.\n",
      "  category=CustomMaskWarning)\n"
     ]
    },
    {
     "name": "stdout",
     "output_type": "stream",
     "text": [
      "INFO:tensorflow:Assets written to: /content/drive/MyDrive/Leukopy/EffNetB3_GPU_12/trainingsave/assets\n",
      "Epoch 13/50\n",
      "200/200 [==============================] - 295s 1s/step - loss: 4.1982 - accuracy: 0.7415 - val_loss: 0.6705 - val_accuracy: 0.7468\n"
     ]
    },
    {
     "name": "stderr",
     "output_type": "stream",
     "text": [
      "/usr/local/lib/python3.7/dist-packages/tensorflow/python/keras/utils/generic_utils.py:497: CustomMaskWarning: Custom mask layers require a config and must override get_config. When loading, the custom mask layer must be passed to the custom_objects argument.\n",
      "  category=CustomMaskWarning)\n"
     ]
    },
    {
     "name": "stdout",
     "output_type": "stream",
     "text": [
      "INFO:tensorflow:Assets written to: /content/drive/MyDrive/Leukopy/EffNetB3_GPU_12/trainingsave/assets\n",
      "Epoch 14/50\n",
      "200/200 [==============================] - 296s 1s/step - loss: 4.1055 - accuracy: 0.7484 - val_loss: 0.6235 - val_accuracy: 0.7819\n"
     ]
    },
    {
     "name": "stderr",
     "output_type": "stream",
     "text": [
      "/usr/local/lib/python3.7/dist-packages/tensorflow/python/keras/utils/generic_utils.py:497: CustomMaskWarning: Custom mask layers require a config and must override get_config. When loading, the custom mask layer must be passed to the custom_objects argument.\n",
      "  category=CustomMaskWarning)\n"
     ]
    },
    {
     "name": "stdout",
     "output_type": "stream",
     "text": [
      "INFO:tensorflow:Assets written to: /content/drive/MyDrive/Leukopy/EffNetB3_GPU_12/trainingsave/assets\n",
      "Epoch 15/50\n",
      "200/200 [==============================] - 295s 1s/step - loss: 4.1165 - accuracy: 0.7490 - val_loss: 0.6509 - val_accuracy: 0.7560\n",
      "Epoch 16/50\n",
      "200/200 [==============================] - 294s 1s/step - loss: 4.0932 - accuracy: 0.7478 - val_loss: 0.6426 - val_accuracy: 0.7658\n",
      "Epoch 17/50\n",
      "200/200 [==============================] - 297s 1s/step - loss: 4.1057 - accuracy: 0.7466 - val_loss: 0.6496 - val_accuracy: 0.7646\n",
      "\n",
      "Epoch 00017: ReduceLROnPlateau reducing learning rate to 9.999999310821295e-05.\n",
      "Epoch 18/50\n",
      "200/200 [==============================] - 295s 1s/step - loss: 4.0549 - accuracy: 0.7542 - val_loss: 0.6470 - val_accuracy: 0.7710\n",
      "Epoch 19/50\n",
      "200/200 [==============================] - 295s 1s/step - loss: 3.8942 - accuracy: 0.7615 - val_loss: 0.6404 - val_accuracy: 0.7727\n"
     ]
    },
    {
     "name": "stderr",
     "output_type": "stream",
     "text": [
      "/usr/local/lib/python3.7/dist-packages/tensorflow/python/keras/utils/generic_utils.py:497: CustomMaskWarning: Custom mask layers require a config and must override get_config. When loading, the custom mask layer must be passed to the custom_objects argument.\n",
      "  category=CustomMaskWarning)\n"
     ]
    },
    {
     "name": "stdout",
     "output_type": "stream",
     "text": [
      "INFO:tensorflow:Assets written to: /content/fullsave/assets\n"
     ]
    }
   ],
   "source": [
    "# Train the model\n",
    "model, history, class_weights = training_model(model, \n",
    "                                               training_set = training_set, \n",
    "                                               validation_set = validation_set, \n",
    "                                               epochs = 50, \n",
    "                                               weights_method = 3, \n",
    "                                               reload = False)"
   ]
  },
  {
   "cell_type": "code",
   "execution_count": null,
   "metadata": {
    "colab": {
     "base_uri": "https://localhost:8080/"
    },
    "executionInfo": {
     "elapsed": 21008,
     "status": "ok",
     "timestamp": 1625761968942,
     "user": {
      "displayName": "Mathieu Sarrat",
      "photoUrl": "",
      "userId": "03904180067917226794"
     },
     "user_tz": -120
    },
    "id": "y5QdQoW5UAWy",
    "outputId": "996005d4-f326-4419-f472-35aa1127039a"
   },
   "outputs": [
    {
     "name": "stdout",
     "output_type": "stream",
     "text": [
      "41/41 [==============================] - 11s 258ms/step - loss: 0.5426 - accuracy: 0.8036\n"
     ]
    },
    {
     "data": {
      "text/plain": [
       "[0.5425623059272766, 0.803592324256897]"
      ]
     },
     "execution_count": 19,
     "metadata": {
      "tags": []
     },
     "output_type": "execute_result"
    }
   ],
   "source": [
    "model.evaluate(testing_set)"
   ]
  },
  {
   "cell_type": "code",
   "execution_count": null,
   "metadata": {
    "colab": {
     "base_uri": "https://localhost:8080/",
     "height": 283
    },
    "executionInfo": {
     "elapsed": 684,
     "status": "ok",
     "timestamp": 1625768698984,
     "user": {
      "displayName": "Mathieu Sarrat",
      "photoUrl": "",
      "userId": "03904180067917226794"
     },
     "user_tz": -120
    },
    "id": "eqKEqH2_T2kM",
    "outputId": "48ff6a06-5b61-47bc-90a5-aa5ecd32beb2"
   },
   "outputs": [
    {
     "data": {
      "image/png": "[encoded data removed]",
      "text/plain": [
       "<Figure size 432x288 with 1 Axes>"
      ]
     },
     "metadata": {
      "needs_background": "light",
      "tags": []
     },
     "output_type": "display_data"
    }
   ],
   "source": [
    "training_accuracy = history.history['accuracy']\n",
    "validation_accuracy = history.history['val_accuracy']\n",
    "\n",
    "plt.figure()\n",
    "plt.plot(training_accuracy, label = 'Training Set')\n",
    "plt.plot(validation_accuracy, label = 'Validation Set')\n",
    "plt.xlabel('Epochs')\n",
    "plt.ylabel('Accuracy')\n",
    "plt.xlim([0,40])\n",
    "plt.ylim([0.5,1])\n",
    "plt.legend()\n",
    "plt.show()"
   ]
  },
  {
   "cell_type": "code",
   "execution_count": null,
   "metadata": {
    "id": "Jmyd29JRALku"
   },
   "outputs": [],
   "source": [
    "# Continue training - Option 1 : (function reload_save)\n",
    "\n",
    "model = reload_save()"
   ]
  },
  {
   "cell_type": "code",
   "execution_count": null,
   "metadata": {
    "colab": {
     "base_uri": "https://localhost:8080/"
    },
    "executionInfo": {
     "elapsed": 1468199,
     "status": "ok",
     "timestamp": 1625740927334,
     "user": {
      "displayName": "Mathieu Sarrat",
      "photoUrl": "",
      "userId": "03904180067917226794"
     },
     "user_tz": -120
    },
    "id": "_kFh_OFUQ-0j",
    "outputId": "2bfa9a3c-6428-46f7-b682-1fb175c2b295"
   },
   "outputs": [
    {
     "name": "stderr",
     "output_type": "stream",
     "text": [
      "WARNING:absl:Importing a function (__inference_block6f_activation_layer_call_and_return_conditional_losses_432552) with ops with custom gradients. Will likely fail if a gradient is requested.\n",
      "WARNING:absl:Importing a function (__inference_block2b_activation_layer_call_and_return_conditional_losses_428429) with ops with custom gradients. Will likely fail if a gradient is requested.\n",
      "WARNING:absl:Importing a function (__inference_block5b_expand_activation_layer_call_and_return_conditional_losses_430643) with ops with custom gradients. Will likely fail if a gradient is requested.\n",
      "WARNING:absl:Importing a function (__inference_block6d_expand_activation_layer_call_and_return_conditional_losses_432092) with ops with custom gradients. Will likely fail if a gradient is requested.\n",
      "WARNING:absl:Importing a function (__inference_block4d_expand_activation_layer_call_and_return_conditional_losses_476829) with ops with custom gradients. Will likely fail if a gradient is requested.\n",
      "WARNING:absl:Importing a function (__inference_block1b_activation_layer_call_and_return_conditional_losses_428025) with ops with custom gradients. Will likely fail if a gradient is requested.\n",
      "WARNING:absl:Importing a function (__inference_block7a_se_reduce_layer_call_and_return_conditional_losses_484103) with ops with custom gradients. Will likely fail if a gradient is requested.\n",
      "WARNING:absl:Importing a function (__inference_block4d_activation_layer_call_and_return_conditional_losses_430073) with ops with custom gradients. Will likely fail if a gradient is requested.\n",
      "WARNING:absl:Importing a function (__inference_block5d_activation_layer_call_and_return_conditional_losses_479686) with ops with custom gradients. Will likely fail if a gradient is requested.\n",
      "WARNING:absl:Importing a function (__inference_block7b_activation_layer_call_and_return_conditional_losses_432955) with ops with custom gradients. Will likely fail if a gradient is requested.\n",
      "WARNING:absl:Importing a function (__inference_block2a_activation_layer_call_and_return_conditional_losses_428235) with ops with custom gradients. Will likely fail if a gradient is requested.\n",
      "WARNING:absl:Importing a function (__inference_block6a_se_reduce_layer_call_and_return_conditional_losses_480832) with ops with custom gradients. Will likely fail if a gradient is requested.\n",
      "WARNING:absl:Importing a function (__inference_top_activation_layer_call_and_return_conditional_losses_433122) with ops with custom gradients. Will likely fail if a gradient is requested.\n",
      "WARNING:absl:Importing a function (__inference_block6d_activation_layer_call_and_return_conditional_losses_432134) with ops with custom gradients. Will likely fail if a gradient is requested.\n",
      "WARNING:absl:Importing a function (__inference_block6d_se_reduce_layer_call_and_return_conditional_losses_482444) with ops with custom gradients. Will likely fail if a gradient is requested.\n",
      "WARNING:absl:Importing a function (__inference_block2b_expand_activation_layer_call_and_return_conditional_losses_428387) with ops with custom gradients. Will likely fail if a gradient is requested.\n",
      "WARNING:absl:Importing a function (__inference_block4e_activation_layer_call_and_return_conditional_losses_477521) with ops with custom gradients. Will likely fail if a gradient is requested.\n",
      "WARNING:absl:Importing a function (__inference_block7b_expand_activation_layer_call_and_return_conditional_losses_432913) with ops with custom gradients. Will likely fail if a gradient is requested.\n",
      "WARNING:absl:Importing a function (__inference_block2c_activation_layer_call_and_return_conditional_losses_428638) with ops with custom gradients. Will likely fail if a gradient is requested.\n",
      "WARNING:absl:Importing a function (__inference_block4c_expand_activation_layer_call_and_return_conditional_losses_476276) with ops with custom gradients. Will likely fail if a gradient is requested.\n",
      "WARNING:absl:Importing a function (__inference_block4d_expand_activation_layer_call_and_return_conditional_losses_430031) with ops with custom gradients. Will likely fail if a gradient is requested.\n",
      "WARNING:absl:Importing a function (__inference_block6c_expand_activation_layer_call_and_return_conditional_losses_481712) with ops with custom gradients. Will likely fail if a gradient is requested.\n",
      "WARNING:absl:Importing a function (__inference_block4b_expand_activation_layer_call_and_return_conditional_losses_429613) with ops with custom gradients. Will likely fail if a gradient is requested.\n",
      "WARNING:absl:Importing a function (__inference_block4d_activation_layer_call_and_return_conditional_losses_476968) with ops with custom gradients. Will likely fail if a gradient is requested.\n",
      "WARNING:absl:Importing a function (__inference_block3b_expand_activation_layer_call_and_return_conditional_losses_474111) with ops with custom gradients. Will likely fail if a gradient is requested.\n",
      "WARNING:absl:Importing a function (__inference_block6e_activation_layer_call_and_return_conditional_losses_482957) with ops with custom gradients. Will likely fail if a gradient is requested.\n",
      "WARNING:absl:Importing a function (__inference_block4c_se_reduce_layer_call_and_return_conditional_losses_429899) with ops with custom gradients. Will likely fail if a gradient is requested.\n",
      "WARNING:absl:Importing a function (__inference_block3a_activation_layer_call_and_return_conditional_losses_473744) with ops with custom gradients. Will likely fail if a gradient is requested.\n",
      "WARNING:absl:Importing a function (__inference_block7a_se_reduce_layer_call_and_return_conditional_losses_432796) with ops with custom gradients. Will likely fail if a gradient is requested.\n",
      "WARNING:absl:Importing a function (__inference_block7b_activation_layer_call_and_return_conditional_losses_484569) with ops with custom gradients. Will likely fail if a gradient is requested.\n",
      "WARNING:absl:Importing a function (__inference_top_activation_layer_call_and_return_conditional_losses_484983) with ops with custom gradients. Will likely fail if a gradient is requested.\n",
      "WARNING:absl:Importing a function (__inference_block3c_expand_activation_layer_call_and_return_conditional_losses_429209) with ops with custom gradients. Will likely fail if a gradient is requested.\n",
      "WARNING:absl:Importing a function (__inference_block4c_activation_layer_call_and_return_conditional_losses_429864) with ops with custom gradients. Will likely fail if a gradient is requested.\n",
      "WARNING:absl:Importing a function (__inference_block1a_activation_layer_call_and_return_conditional_losses_427881) with ops with custom gradients. Will likely fail if a gradient is requested.\n",
      "WARNING:absl:Importing a function (__inference_block3b_se_reduce_layer_call_and_return_conditional_losses_429077) with ops with custom gradients. Will likely fail if a gradient is requested.\n",
      "WARNING:absl:Importing a function (__inference_block2c_expand_activation_layer_call_and_return_conditional_losses_473052) with ops with custom gradients. Will likely fail if a gradient is requested.\n",
      "WARNING:absl:Importing a function (__inference_block4b_expand_activation_layer_call_and_return_conditional_losses_475723) with ops with custom gradients. Will likely fail if a gradient is requested.\n",
      "WARNING:absl:Importing a function (__inference_block6c_activation_layer_call_and_return_conditional_losses_481851) with ops with custom gradients. Will likely fail if a gradient is requested.\n",
      "WARNING:absl:Importing a function (__inference_block6f_se_reduce_layer_call_and_return_conditional_losses_432587) with ops with custom gradients. Will likely fail if a gradient is requested.\n",
      "WARNING:absl:Importing a function (__inference_block1b_activation_layer_call_and_return_conditional_losses_471579) with ops with custom gradients. Will likely fail if a gradient is requested.\n",
      "WARNING:absl:Importing a function (__inference_block2c_expand_activation_layer_call_and_return_conditional_losses_428596) with ops with custom gradients. Will likely fail if a gradient is requested.\n",
      "WARNING:absl:Importing a function (__inference_block2b_expand_activation_layer_call_and_return_conditional_losses_472499) with ops with custom gradients. Will likely fail if a gradient is requested.\n",
      "WARNING:absl:Importing a function (__inference_block5a_activation_layer_call_and_return_conditional_losses_430491) with ops with custom gradients. Will likely fail if a gradient is requested.\n",
      "WARNING:absl:Importing a function (__inference_block2c_se_reduce_layer_call_and_return_conditional_losses_428673) with ops with custom gradients. Will likely fail if a gradient is requested.\n",
      "WARNING:absl:Importing a function (__inference_block5b_se_reduce_layer_call_and_return_conditional_losses_478620) with ops with custom gradients. Will likely fail if a gradient is requested.\n",
      "WARNING:absl:Importing a function (__inference_block4a_expand_activation_layer_call_and_return_conditional_losses_429418) with ops with custom gradients. Will likely fail if a gradient is requested.\n",
      "WARNING:absl:Importing a function (__inference_block2c_activation_layer_call_and_return_conditional_losses_473191) with ops with custom gradients. Will likely fail if a gradient is requested.\n",
      "WARNING:absl:Importing a function (__inference_block5e_activation_layer_call_and_return_conditional_losses_431312) with ops with custom gradients. Will likely fail if a gradient is requested.\n",
      "WARNING:absl:Importing a function (__inference__wrapped_model_417067) with ops with custom gradients. Will likely fail if a gradient is requested.\n",
      "WARNING:absl:Importing a function (__inference_block6d_activation_layer_call_and_return_conditional_losses_482404) with ops with custom gradients. Will likely fail if a gradient is requested.\n",
      "WARNING:absl:Importing a function (__inference_block4d_se_reduce_layer_call_and_return_conditional_losses_430108) with ops with custom gradients. Will likely fail if a gradient is requested.\n",
      "WARNING:absl:Importing a function (__inference_block2b_activation_layer_call_and_return_conditional_losses_472638) with ops with custom gradients. Will likely fail if a gradient is requested.\n",
      "WARNING:absl:Importing a function (__inference_block6b_activation_layer_call_and_return_conditional_losses_481298) with ops with custom gradients. Will likely fail if a gradient is requested.\n",
      "WARNING:absl:Importing a function (__inference_block4a_se_reduce_layer_call_and_return_conditional_losses_429496) with ops with custom gradients. Will likely fail if a gradient is requested.\n",
      "WARNING:absl:Importing a function (__inference_block6a_expand_activation_layer_call_and_return_conditional_losses_431479) with ops with custom gradients. Will likely fail if a gradient is requested.\n",
      "WARNING:absl:Importing a function (__inference_block3b_expand_activation_layer_call_and_return_conditional_losses_429000) with ops with custom gradients. Will likely fail if a gradient is requested.\n",
      "WARNING:absl:Importing a function (__inference_block6e_activation_layer_call_and_return_conditional_losses_432343) with ops with custom gradients. Will likely fail if a gradient is requested.\n",
      "WARNING:absl:Importing a function (__inference_block6b_se_reduce_layer_call_and_return_conditional_losses_481338) with ops with custom gradients. Will likely fail if a gradient is requested.\n",
      "WARNING:absl:Importing a function (__inference_block3c_se_reduce_layer_call_and_return_conditional_losses_429286) with ops with custom gradients. Will likely fail if a gradient is requested.\n",
      "WARNING:absl:Importing a function (__inference_block6e_expand_activation_layer_call_and_return_conditional_losses_432301) with ops with custom gradients. Will likely fail if a gradient is requested.\n",
      "WARNING:absl:Importing a function (__inference_block5b_activation_layer_call_and_return_conditional_losses_478580) with ops with custom gradients. Will likely fail if a gradient is requested.\n",
      "WARNING:absl:Importing a function (__inference_block6b_se_reduce_layer_call_and_return_conditional_losses_431751) with ops with custom gradients. Will likely fail if a gradient is requested.\n",
      "WARNING:absl:Importing a function (__inference_block1b_se_reduce_layer_call_and_return_conditional_losses_428060) with ops with custom gradients. Will likely fail if a gradient is requested.\n",
      "WARNING:absl:Importing a function (__inference_block5e_activation_layer_call_and_return_conditional_losses_480239) with ops with custom gradients. Will likely fail if a gradient is requested.\n",
      "WARNING:absl:Importing a function (__inference_stem_activation_layer_call_and_return_conditional_losses_471087) with ops with custom gradients. Will likely fail if a gradient is requested.\n",
      "WARNING:absl:Importing a function (__inference_block6e_expand_activation_layer_call_and_return_conditional_losses_482818) with ops with custom gradients. Will likely fail if a gradient is requested.\n",
      "WARNING:absl:Importing a function (__inference_block4a_activation_layer_call_and_return_conditional_losses_475356) with ops with custom gradients. Will likely fail if a gradient is requested.\n",
      "WARNING:absl:Importing a function (__inference_block2a_expand_activation_layer_call_and_return_conditional_losses_471993) with ops with custom gradients. Will likely fail if a gradient is requested.\n",
      "WARNING:absl:Importing a function (__inference_block4e_se_reduce_layer_call_and_return_conditional_losses_430317) with ops with custom gradients. Will likely fail if a gradient is requested.\n",
      "WARNING:absl:Importing a function (__inference_block6b_expand_activation_layer_call_and_return_conditional_losses_431674) with ops with custom gradients. Will likely fail if a gradient is requested.\n",
      "WARNING:absl:Importing a function (__inference_block5e_se_reduce_layer_call_and_return_conditional_losses_431347) with ops with custom gradients. Will likely fail if a gradient is requested.\n",
      "WARNING:absl:Importing a function (__inference_block4a_expand_activation_layer_call_and_return_conditional_losses_475217) with ops with custom gradients. Will likely fail if a gradient is requested.\n",
      "WARNING:absl:Importing a function (__inference_block3b_se_reduce_layer_call_and_return_conditional_losses_474290) with ops with custom gradients. Will likely fail if a gradient is requested.\n",
      "WARNING:absl:Importing a function (__inference_block5e_expand_activation_layer_call_and_return_conditional_losses_480100) with ops with custom gradients. Will likely fail if a gradient is requested.\n",
      "WARNING:absl:Importing a function (__inference_block4c_se_reduce_layer_call_and_return_conditional_losses_476455) with ops with custom gradients. Will likely fail if a gradient is requested.\n",
      "WARNING:absl:Importing a function (__inference_block4c_expand_activation_layer_call_and_return_conditional_losses_429822) with ops with custom gradients. Will likely fail if a gradient is requested.\n",
      "WARNING:absl:Importing a function (__inference_stem_activation_layer_call_and_return_conditional_losses_427839) with ops with custom gradients. Will likely fail if a gradient is requested.\n",
      "WARNING:absl:Importing a function (__inference_block2b_se_reduce_layer_call_and_return_conditional_losses_428464) with ops with custom gradients. Will likely fail if a gradient is requested.\n",
      "WARNING:absl:Importing a function (__inference_block7a_activation_layer_call_and_return_conditional_losses_484063) with ops with custom gradients. Will likely fail if a gradient is requested.\n",
      "WARNING:absl:Importing a function (__inference_block4b_se_reduce_layer_call_and_return_conditional_losses_429690) with ops with custom gradients. Will likely fail if a gradient is requested.\n",
      "WARNING:absl:Importing a function (__inference_block2a_expand_activation_layer_call_and_return_conditional_losses_428192) with ops with custom gradients. Will likely fail if a gradient is requested.\n",
      "WARNING:absl:Importing a function (__inference_block7a_expand_activation_layer_call_and_return_conditional_losses_432719) with ops with custom gradients. Will likely fail if a gradient is requested.\n",
      "WARNING:absl:Importing a function (__inference_block3a_se_reduce_layer_call_and_return_conditional_losses_428883) with ops with custom gradients. Will likely fail if a gradient is requested.\n",
      "WARNING:absl:Importing a function (__inference_block5b_activation_layer_call_and_return_conditional_losses_430685) with ops with custom gradients. Will likely fail if a gradient is requested.\n",
      "WARNING:absl:Importing a function (__inference_block2a_se_reduce_layer_call_and_return_conditional_losses_472172) with ops with custom gradients. Will likely fail if a gradient is requested.\n",
      "WARNING:absl:Importing a function (__inference_block7b_se_reduce_layer_call_and_return_conditional_losses_432990) with ops with custom gradients. Will likely fail if a gradient is requested.\n",
      "WARNING:absl:Importing a function (__inference_block2b_se_reduce_layer_call_and_return_conditional_losses_472678) with ops with custom gradients. Will likely fail if a gradient is requested.\n",
      "WARNING:absl:Importing a function (__inference_block1a_se_reduce_layer_call_and_return_conditional_losses_471266) with ops with custom gradients. Will likely fail if a gradient is requested.\n",
      "WARNING:absl:Importing a function (__inference_block6c_activation_layer_call_and_return_conditional_losses_431925) with ops with custom gradients. Will likely fail if a gradient is requested.\n",
      "WARNING:absl:Importing a function (__inference_block6a_se_reduce_layer_call_and_return_conditional_losses_431557) with ops with custom gradients. Will likely fail if a gradient is requested.\n",
      "WARNING:absl:Importing a function (__inference_block6c_se_reduce_layer_call_and_return_conditional_losses_481891) with ops with custom gradients. Will likely fail if a gradient is requested.\n",
      "WARNING:absl:Importing a function (__inference_block6c_expand_activation_layer_call_and_return_conditional_losses_431883) with ops with custom gradients. Will likely fail if a gradient is requested.\n",
      "WARNING:absl:Importing a function (__inference_block4b_activation_layer_call_and_return_conditional_losses_429655) with ops with custom gradients. Will likely fail if a gradient is requested.\n",
      "WARNING:absl:Importing a function (__inference_block5e_se_reduce_layer_call_and_return_conditional_losses_480279) with ops with custom gradients. Will likely fail if a gradient is requested.\n",
      "WARNING:absl:Importing a function (__inference_model_layer_call_and_return_conditional_losses_458786) with ops with custom gradients. Will likely fail if a gradient is requested.\n",
      "WARNING:absl:Importing a function (__inference_block3a_activation_layer_call_and_return_conditional_losses_428848) with ops with custom gradients. Will likely fail if a gradient is requested.\n",
      "WARNING:absl:Importing a function (__inference_block4e_expand_activation_layer_call_and_return_conditional_losses_477382) with ops with custom gradients. Will likely fail if a gradient is requested.\n",
      "WARNING:absl:Importing a function (__inference_block5b_se_reduce_layer_call_and_return_conditional_losses_430720) with ops with custom gradients. Will likely fail if a gradient is requested.\n",
      "WARNING:absl:Importing a function (__inference_block3a_expand_activation_layer_call_and_return_conditional_losses_473605) with ops with custom gradients. Will likely fail if a gradient is requested.\n",
      "WARNING:absl:Importing a function (__inference_block3c_expand_activation_layer_call_and_return_conditional_losses_474664) with ops with custom gradients. Will likely fail if a gradient is requested.\n",
      "WARNING:absl:Importing a function (__inference_block6b_expand_activation_layer_call_and_return_conditional_losses_481159) with ops with custom gradients. Will likely fail if a gradient is requested.\n",
      "WARNING:absl:Importing a function (__inference_block7b_se_reduce_layer_call_and_return_conditional_losses_484609) with ops with custom gradients. Will likely fail if a gradient is requested.\n",
      "WARNING:absl:Importing a function (__inference_block6d_se_reduce_layer_call_and_return_conditional_losses_432169) with ops with custom gradients. Will likely fail if a gradient is requested.\n",
      "WARNING:absl:Importing a function (__inference_block1a_se_reduce_layer_call_and_return_conditional_losses_427916) with ops with custom gradients. Will likely fail if a gradient is requested.\n",
      "WARNING:absl:Importing a function (__inference_block5c_expand_activation_layer_call_and_return_conditional_losses_430852) with ops with custom gradients. Will likely fail if a gradient is requested.\n",
      "WARNING:absl:Importing a function (__inference_block7a_expand_activation_layer_call_and_return_conditional_losses_483924) with ops with custom gradients. Will likely fail if a gradient is requested.\n",
      "WARNING:absl:Importing a function (__inference_block5a_expand_activation_layer_call_and_return_conditional_losses_430449) with ops with custom gradients. Will likely fail if a gradient is requested.\n",
      "WARNING:absl:Importing a function (__inference_block7b_expand_activation_layer_call_and_return_conditional_losses_484430) with ops with custom gradients. Will likely fail if a gradient is requested.\n",
      "WARNING:absl:Importing a function (__inference_block4c_activation_layer_call_and_return_conditional_losses_476415) with ops with custom gradients. Will likely fail if a gradient is requested.\n",
      "WARNING:absl:Importing a function (__inference_block6f_expand_activation_layer_call_and_return_conditional_losses_432510) with ops with custom gradients. Will likely fail if a gradient is requested.\n",
      "WARNING:absl:Importing a function (__inference_block3a_expand_activation_layer_call_and_return_conditional_losses_428805) with ops with custom gradients. Will likely fail if a gradient is requested.\n",
      "WARNING:absl:Importing a function (__inference_block5c_activation_layer_call_and_return_conditional_losses_430894) with ops with custom gradients. Will likely fail if a gradient is requested.\n",
      "WARNING:absl:Importing a function (__inference_block4a_activation_layer_call_and_return_conditional_losses_429461) with ops with custom gradients. Will likely fail if a gradient is requested.\n",
      "WARNING:absl:Importing a function (__inference_block2a_se_reduce_layer_call_and_return_conditional_losses_428270) with ops with custom gradients. Will likely fail if a gradient is requested.\n",
      "WARNING:absl:Importing a function (__inference_block1b_se_reduce_layer_call_and_return_conditional_losses_471619) with ops with custom gradients. Will likely fail if a gradient is requested.\n",
      "WARNING:absl:Importing a function (__inference_block6a_activation_layer_call_and_return_conditional_losses_480792) with ops with custom gradients. Will likely fail if a gradient is requested.\n",
      "WARNING:absl:Importing a function (__inference_block6f_activation_layer_call_and_return_conditional_losses_483510) with ops with custom gradients. Will likely fail if a gradient is requested.\n",
      "WARNING:absl:Importing a function (__inference_block6f_se_reduce_layer_call_and_return_conditional_losses_483550) with ops with custom gradients. Will likely fail if a gradient is requested.\n",
      "WARNING:absl:Importing a function (__inference_block5b_expand_activation_layer_call_and_return_conditional_losses_478441) with ops with custom gradients. Will likely fail if a gradient is requested.\n",
      "WARNING:absl:Importing a function (__inference_block5e_expand_activation_layer_call_and_return_conditional_losses_431270) with ops with custom gradients. Will likely fail if a gradient is requested.\n",
      "WARNING:absl:Importing a function (__inference_block3c_activation_layer_call_and_return_conditional_losses_429251) with ops with custom gradients. Will likely fail if a gradient is requested.\n",
      "WARNING:absl:Importing a function (__inference_block4b_activation_layer_call_and_return_conditional_losses_475862) with ops with custom gradients. Will likely fail if a gradient is requested.\n",
      "WARNING:absl:Importing a function (__inference_block5a_se_reduce_layer_call_and_return_conditional_losses_478114) with ops with custom gradients. Will likely fail if a gradient is requested.\n",
      "WARNING:absl:Importing a function (__inference_block5a_activation_layer_call_and_return_conditional_losses_478074) with ops with custom gradients. Will likely fail if a gradient is requested.\n",
      "WARNING:absl:Importing a function (__inference_block6e_se_reduce_layer_call_and_return_conditional_losses_482997) with ops with custom gradients. Will likely fail if a gradient is requested.\n",
      "WARNING:absl:Importing a function (__inference_block4e_se_reduce_layer_call_and_return_conditional_losses_477561) with ops with custom gradients. Will likely fail if a gradient is requested.\n",
      "WARNING:absl:Importing a function (__inference_block3c_activation_layer_call_and_return_conditional_losses_474803) with ops with custom gradients. Will likely fail if a gradient is requested.\n",
      "WARNING:absl:Importing a function (__inference_block2c_se_reduce_layer_call_and_return_conditional_losses_473231) with ops with custom gradients. Will likely fail if a gradient is requested.\n",
      "WARNING:absl:Importing a function (__inference_block5d_expand_activation_layer_call_and_return_conditional_losses_431061) with ops with custom gradients. Will likely fail if a gradient is requested.\n",
      "WARNING:absl:Importing a function (__inference_block5d_se_reduce_layer_call_and_return_conditional_losses_479726) with ops with custom gradients. Will likely fail if a gradient is requested.\n",
      "WARNING:absl:Importing a function (__inference_block6a_expand_activation_layer_call_and_return_conditional_losses_480653) with ops with custom gradients. Will likely fail if a gradient is requested.\n",
      "WARNING:absl:Importing a function (__inference_block2a_activation_layer_call_and_return_conditional_losses_472132) with ops with custom gradients. Will likely fail if a gradient is requested.\n",
      "WARNING:absl:Importing a function (__inference_block3a_se_reduce_layer_call_and_return_conditional_losses_473784) with ops with custom gradients. Will likely fail if a gradient is requested.\n",
      "WARNING:absl:Importing a function (__inference_block5c_se_reduce_layer_call_and_return_conditional_losses_479173) with ops with custom gradients. Will likely fail if a gradient is requested.\n",
      "WARNING:absl:Importing a function (__inference_block1a_activation_layer_call_and_return_conditional_losses_471226) with ops with custom gradients. Will likely fail if a gradient is requested.\n",
      "WARNING:absl:Importing a function (__inference_block6a_activation_layer_call_and_return_conditional_losses_431522) with ops with custom gradients. Will likely fail if a gradient is requested.\n",
      "WARNING:absl:Importing a function (__inference_block6f_expand_activation_layer_call_and_return_conditional_losses_483371) with ops with custom gradients. Will likely fail if a gradient is requested.\n",
      "WARNING:absl:Importing a function (__inference_block4e_activation_layer_call_and_return_conditional_losses_430282) with ops with custom gradients. Will likely fail if a gradient is requested.\n",
      "WARNING:absl:Importing a function (__inference_block6b_activation_layer_call_and_return_conditional_losses_431716) with ops with custom gradients. Will likely fail if a gradient is requested.\n",
      "WARNING:absl:Importing a function (__inference_block5d_activation_layer_call_and_return_conditional_losses_431103) with ops with custom gradients. Will likely fail if a gradient is requested.\n",
      "WARNING:absl:Importing a function (__inference_block6e_se_reduce_layer_call_and_return_conditional_losses_432378) with ops with custom gradients. Will likely fail if a gradient is requested.\n",
      "WARNING:absl:Importing a function (__inference_block5c_se_reduce_layer_call_and_return_conditional_losses_430929) with ops with custom gradients. Will likely fail if a gradient is requested.\n",
      "WARNING:absl:Importing a function (__inference_block4e_expand_activation_layer_call_and_return_conditional_losses_430240) with ops with custom gradients. Will likely fail if a gradient is requested.\n",
      "WARNING:absl:Importing a function (__inference_model_layer_call_and_return_conditional_losses_461401) with ops with custom gradients. Will likely fail if a gradient is requested.\n",
      "WARNING:absl:Importing a function (__inference_block5c_activation_layer_call_and_return_conditional_losses_479133) with ops with custom gradients. Will likely fail if a gradient is requested.\n",
      "WARNING:absl:Importing a function (__inference_efficientnetb3_layer_call_and_return_conditional_losses_468878) with ops with custom gradients. Will likely fail if a gradient is requested.\n",
      "WARNING:absl:Importing a function (__inference_block3c_se_reduce_layer_call_and_return_conditional_losses_474843) with ops with custom gradients. Will likely fail if a gradient is requested.\n",
      "WARNING:absl:Importing a function (__inference_block3b_activation_layer_call_and_return_conditional_losses_474250) with ops with custom gradients. Will likely fail if a gradient is requested.\n",
      "WARNING:absl:Importing a function (__inference_block6d_expand_activation_layer_call_and_return_conditional_losses_482265) with ops with custom gradients. Will likely fail if a gradient is requested.\n",
      "WARNING:absl:Importing a function (__inference_block4a_se_reduce_layer_call_and_return_conditional_losses_475396) with ops with custom gradients. Will likely fail if a gradient is requested.\n",
      "WARNING:absl:Importing a function (__inference_block3b_activation_layer_call_and_return_conditional_losses_429042) with ops with custom gradients. Will likely fail if a gradient is requested.\n",
      "WARNING:absl:Importing a function (__inference_block5c_expand_activation_layer_call_and_return_conditional_losses_478994) with ops with custom gradients. Will likely fail if a gradient is requested.\n",
      "WARNING:absl:Importing a function (__inference_block5a_expand_activation_layer_call_and_return_conditional_losses_477935) with ops with custom gradients. Will likely fail if a gradient is requested.\n",
      "WARNING:absl:Importing a function (__inference_block5a_se_reduce_layer_call_and_return_conditional_losses_430526) with ops with custom gradients. Will likely fail if a gradient is requested.\n",
      "WARNING:absl:Importing a function (__inference_block4b_se_reduce_layer_call_and_return_conditional_losses_475902) with ops with custom gradients. Will likely fail if a gradient is requested.\n",
      "WARNING:absl:Importing a function (__inference_block5d_se_reduce_layer_call_and_return_conditional_losses_431138) with ops with custom gradients. Will likely fail if a gradient is requested.\n",
      "WARNING:absl:Importing a function (__inference_block5d_expand_activation_layer_call_and_return_conditional_losses_479547) with ops with custom gradients. Will likely fail if a gradient is requested.\n",
      "WARNING:absl:Importing a function (__inference_block6c_se_reduce_layer_call_and_return_conditional_losses_431960) with ops with custom gradients. Will likely fail if a gradient is requested.\n",
      "WARNING:absl:Importing a function (__inference_block4d_se_reduce_layer_call_and_return_conditional_losses_477008) with ops with custom gradients. Will likely fail if a gradient is requested.\n",
      "WARNING:absl:Importing a function (__inference_efficientnetb3_layer_call_and_return_conditional_losses_466002) with ops with custom gradients. Will likely fail if a gradient is requested.\n",
      "WARNING:absl:Importing a function (__inference_block7a_activation_layer_call_and_return_conditional_losses_432761) with ops with custom gradients. Will likely fail if a gradient is requested.\n"
     ]
    },
    {
     "name": "stdout",
     "output_type": "stream",
     "text": [
      "Epoch 1/4\n",
      "200/200 [==============================] - 324s 2s/step - loss: 3.9509 - accuracy: 0.7621 - val_loss: 0.5728 - val_accuracy: 0.7813\n"
     ]
    },
    {
     "name": "stderr",
     "output_type": "stream",
     "text": [
      "/usr/local/lib/python3.7/dist-packages/tensorflow/python/keras/utils/generic_utils.py:497: CustomMaskWarning: Custom mask layers require a config and must override get_config. When loading, the custom mask layer must be passed to the custom_objects argument.\n",
      "  category=CustomMaskWarning)\n"
     ]
    },
    {
     "name": "stdout",
     "output_type": "stream",
     "text": [
      "INFO:tensorflow:Assets written to: /content/drive/MyDrive/Leukopy/EffNetB3_GPU_12/trainingsave/assets\n"
     ]
    },
    {
     "name": "stderr",
     "output_type": "stream",
     "text": [
      "INFO:tensorflow:Assets written to: /content/drive/MyDrive/Leukopy/EffNetB3_GPU_12/trainingsave/assets\n"
     ]
    },
    {
     "name": "stdout",
     "output_type": "stream",
     "text": [
      "Epoch 2/4\n",
      "200/200 [==============================] - 314s 2s/step - loss: 3.8318 - accuracy: 0.7725 - val_loss: 0.5663 - val_accuracy: 0.7853\n"
     ]
    },
    {
     "name": "stderr",
     "output_type": "stream",
     "text": [
      "/usr/local/lib/python3.7/dist-packages/tensorflow/python/keras/utils/generic_utils.py:497: CustomMaskWarning: Custom mask layers require a config and must override get_config. When loading, the custom mask layer must be passed to the custom_objects argument.\n",
      "  category=CustomMaskWarning)\n"
     ]
    },
    {
     "name": "stdout",
     "output_type": "stream",
     "text": [
      "INFO:tensorflow:Assets written to: /content/drive/MyDrive/Leukopy/EffNetB3_GPU_12/trainingsave/assets\n"
     ]
    },
    {
     "name": "stderr",
     "output_type": "stream",
     "text": [
      "INFO:tensorflow:Assets written to: /content/drive/MyDrive/Leukopy/EffNetB3_GPU_12/trainingsave/assets\n"
     ]
    },
    {
     "name": "stdout",
     "output_type": "stream",
     "text": [
      "Epoch 3/4\n",
      "200/200 [==============================] - 313s 2s/step - loss: 3.7974 - accuracy: 0.7727 - val_loss: 0.5691 - val_accuracy: 0.7916\n",
      "Epoch 4/4\n",
      "200/200 [==============================] - 314s 2s/step - loss: 3.8643 - accuracy: 0.7685 - val_loss: 0.5763 - val_accuracy: 0.7905\n"
     ]
    },
    {
     "name": "stderr",
     "output_type": "stream",
     "text": [
      "/usr/local/lib/python3.7/dist-packages/tensorflow/python/keras/utils/generic_utils.py:497: CustomMaskWarning: Custom mask layers require a config and must override get_config. When loading, the custom mask layer must be passed to the custom_objects argument.\n",
      "  category=CustomMaskWarning)\n"
     ]
    },
    {
     "name": "stdout",
     "output_type": "stream",
     "text": [
      "INFO:tensorflow:Assets written to: /content/fullsave/assets\n"
     ]
    },
    {
     "name": "stderr",
     "output_type": "stream",
     "text": [
      "INFO:tensorflow:Assets written to: /content/fullsave/assets\n"
     ]
    }
   ],
   "source": [
    "# Continue training - Option 2 : load_model + training\n",
    "\n",
    "model, history, class_weights = training_model(model, \n",
    "                                               training_set = training_set, \n",
    "                                               validation_set = validation_set, \n",
    "                                               epochs = 4, \n",
    "                                               weights_method = 3, \n",
    "                                               reload = True)"
   ]
  },
  {
   "cell_type": "code",
   "execution_count": null,
   "metadata": {
    "colab": {
     "base_uri": "https://localhost:8080/"
    },
    "executionInfo": {
     "elapsed": 17086,
     "status": "ok",
     "timestamp": 1625740944403,
     "user": {
      "displayName": "Mathieu Sarrat",
      "photoUrl": "",
      "userId": "03904180067917226794"
     },
     "user_tz": -120
    },
    "id": "Q0y0HBSXVgI0",
    "outputId": "69237566-757d-4af8-f603-65f1c3b89666"
   },
   "outputs": [
    {
     "name": "stdout",
     "output_type": "stream",
     "text": [
      "41/41 [==============================] - 17s 404ms/step - loss: 0.5591 - accuracy: 0.7942\n"
     ]
    },
    {
     "data": {
      "text/plain": [
       "[0.559066891670227, 0.7942209839820862]"
      ]
     },
     "execution_count": 16,
     "metadata": {
      "tags": []
     },
     "output_type": "execute_result"
    }
   ],
   "source": [
    "model.evaluate(testing_set)"
   ]
  },
  {
   "cell_type": "code",
   "execution_count": null,
   "metadata": {
    "colab": {
     "base_uri": "https://localhost:8080/",
     "height": 283
    },
    "executionInfo": {
     "elapsed": 722,
     "status": "ok",
     "timestamp": 1625733689475,
     "user": {
      "displayName": "Mathieu Sarrat",
      "photoUrl": "",
      "userId": "03904180067917226794"
     },
     "user_tz": -120
    },
    "id": "Gb7Qg0ZQVhWp",
    "outputId": "7ec4c597-30f5-4759-9433-8b6e49ab0fcb"
   },
   "outputs": [
    {
     "data": {
      "image/png": "[encoded data removed]",
      "text/plain": [
       "<Figure size 432x288 with 1 Axes>"
      ]
     },
     "metadata": {
      "needs_background": "light",
      "tags": []
     },
     "output_type": "display_data"
    }
   ],
   "source": [
    "training_accuracy = history.history['accuracy']\n",
    "validation_accuracy = history.history['val_accuracy']\n",
    "\n",
    "plt.figure()\n",
    "plt.plot(training_accuracy, label = 'Training Set')\n",
    "plt.plot(validation_accuracy, label = 'Validation Set')\n",
    "plt.xlabel('Epochs')\n",
    "plt.ylabel('Accuracy')\n",
    "plt.xlim([0,40])\n",
    "plt.ylim([0.5,1])\n",
    "plt.legend()\n",
    "plt.show()"
   ]
  },
  {
   "cell_type": "code",
   "execution_count": null,
   "metadata": {
    "colab": {
     "base_uri": "https://localhost:8080/"
    },
    "executionInfo": {
     "elapsed": 100354,
     "status": "ok",
     "timestamp": 1625670498907,
     "user": {
      "displayName": "Mathieu Sarrat",
      "photoUrl": "",
      "userId": "03904180067917226794"
     },
     "user_tz": -120
    },
    "id": "XVGSrRAQWKRS",
    "outputId": "e4c45cd6-83c2-4456-bfab-eb00846793bb"
   },
   "outputs": [
    {
     "name": "stdout",
     "output_type": "stream",
     "text": [
      "Epoch 1/2\n",
      "200/200 [==============================] - 324s 2s/step - loss: 6.4377 - accuracy: 0.6694 - val_loss: 1.1399 - val_accuracy: 0.6579\n"
     ]
    },
    {
     "name": "stderr",
     "output_type": "stream",
     "text": [
      "/usr/local/lib/python3.7/dist-packages/tensorflow/python/keras/utils/generic_utils.py:497: CustomMaskWarning: Custom mask layers require a config and must override get_config. When loading, the custom mask layer must be passed to the custom_objects argument.\n",
      "  category=CustomMaskWarning)\n"
     ]
    },
    {
     "name": "stdout",
     "output_type": "stream",
     "text": [
      "INFO:tensorflow:Assets written to: /content/drive/MyDrive/Leukopy/EffNetB3_GPU_12/trainingsave/assets\n"
     ]
    },
    {
     "name": "stderr",
     "output_type": "stream",
     "text": [
      "INFO:tensorflow:Assets written to: /content/drive/MyDrive/Leukopy/EffNetB3_GPU_12/trainingsave/assets\n"
     ]
    },
    {
     "name": "stdout",
     "output_type": "stream",
     "text": [
      "Epoch 2/2\n",
      "200/200 [==============================] - 313s 2s/step - loss: 6.2602 - accuracy: 0.6808 - val_loss: 1.1245 - val_accuracy: 0.6682\n"
     ]
    },
    {
     "name": "stderr",
     "output_type": "stream",
     "text": [
      "/usr/local/lib/python3.7/dist-packages/tensorflow/python/keras/utils/generic_utils.py:497: CustomMaskWarning: Custom mask layers require a config and must override get_config. When loading, the custom mask layer must be passed to the custom_objects argument.\n",
      "  category=CustomMaskWarning)\n"
     ]
    },
    {
     "name": "stdout",
     "output_type": "stream",
     "text": [
      "INFO:tensorflow:Assets written to: /content/drive/MyDrive/Leukopy/EffNetB3_GPU_12/trainingsave/assets\n"
     ]
    },
    {
     "name": "stderr",
     "output_type": "stream",
     "text": [
      "INFO:tensorflow:Assets written to: /content/drive/MyDrive/Leukopy/EffNetB3_GPU_12/trainingsave/assets\n",
      "/usr/local/lib/python3.7/dist-packages/tensorflow/python/keras/utils/generic_utils.py:497: CustomMaskWarning: Custom mask layers require a config and must override get_config. When loading, the custom mask layer must be passed to the custom_objects argument.\n",
      "  category=CustomMaskWarning)\n"
     ]
    },
    {
     "name": "stdout",
     "output_type": "stream",
     "text": [
      "INFO:tensorflow:Assets written to: /content/drive/MyDrive/Leukopy/EffNetB3_GPU_12/fullsave/assets\n"
     ]
    },
    {
     "name": "stderr",
     "output_type": "stream",
     "text": [
      "INFO:tensorflow:Assets written to: /content/drive/MyDrive/Leukopy/EffNetB3_GPU_12/fullsave/assets\n",
      "/usr/local/lib/python3.7/dist-packages/tensorflow/python/keras/utils/generic_utils.py:497: CustomMaskWarning: Custom mask layers require a config and must override get_config. When loading, the custom mask layer must be passed to the custom_objects argument.\n",
      "  category=CustomMaskWarning)\n"
     ]
    },
    {
     "name": "stdout",
     "output_type": "stream",
     "text": [
      "INFO:tensorflow:Assets written to: /content/drive/MyDrive/Leukopy/EffNetB3_GPU_12/fullsave/assets\n"
     ]
    },
    {
     "name": "stderr",
     "output_type": "stream",
     "text": [
      "INFO:tensorflow:Assets written to: /content/drive/MyDrive/Leukopy/EffNetB3_GPU_12/fullsave/assets\n"
     ]
    }
   ],
   "source": [
    "# Fine_tuning\n",
    "\n",
    "model, history = fine_tuning(model, \n",
    "                             training_set = training_set, \n",
    "                             validation_set = validation_set, \n",
    "                             epochs = 10, \n",
    "                             reload = False)"
   ]
  },
  {
   "cell_type": "code",
   "execution_count": null,
   "metadata": {
    "id": "eqaoCzEUijel"
   },
   "outputs": [],
   "source": [
    "############################################################### ANALYSIS (BROUILLON) ###############################################################\n",
    "\n",
    "import matplotlib.cm as cm\n",
    "\n",
    "### 1 -- Function : confusion matrix and classification report\n",
    "\n",
    "def print_classification_report(testing_set):\n",
    "\n",
    "  # Prediction on testing dataset\n",
    "  labels = training_set.class_indices\n",
    "  predictions = model.predict(testing_set)\n",
    "  y_pred = tf.argmax(predictions, axis = 1)\n",
    "\n",
    "  # Compute and display the confusion matrix\n",
    "  cnf_matrix = confusion_matrix(testing_set.classes, y_pred)\n",
    "  classes = range(len(labels))\n",
    "  \n",
    "  plt.figure(figsize = (12,12))\n",
    "  plt.imshow(cnf_matrix, interpolation = 'nearest', cmap = 'Blues')\n",
    "  plt.title(\"Matrice de confusion\")\n",
    "  plt.colorbar()\n",
    "\n",
    "  tick_marks = np.arange(len(labels))\n",
    "  plt.xticks(tick_marks, labels)\n",
    "  plt.yticks(tick_marks, labels)\n",
    "\n",
    "  for i, j in itertools.product(range(cnf_matrix.shape[0]), \n",
    "                                range(cnf_matrix.shape[1])):\n",
    "    plt.text(j, i, cnf_matrix[i, j],\n",
    "             horizontalalignment = \"center\",\n",
    "             color = \"white\" if cnf_matrix[i, j] > ( cnf_matrix.max() / 2) else \"black\")\n",
    "\n",
    "  plt.ylabel('Vrais labels')\n",
    "  plt.xlabel('Labels prédits')\n",
    "  plt.show()\n",
    "\n",
    "  # Classification report\n",
    "  report = classification_report(testing_set.classes, y_pred, target_names = labels, output_dict = True)\n",
    "\n",
    "  df_report = pd.DataFrame(index = list(report.keys())[:-3], columns = list(report[\"BA\"].keys()))\n",
    "  for key in list(report.keys())[:-3]:\n",
    "    for column in list(report[\"BA\"].keys()):\n",
    "      df_report.loc[key, column] = report[key][column]\n",
    "  \n",
    "  print(\"Classification Report : \")\n",
    "  return display(df_report)\n",
    "\n",
    "### 2 -- Function : dataframes for exploration\n",
    "def exploration_dataframes(testing_set):\n",
    "\n",
    "  # Prediction on testing dataset\n",
    "  labels = training_set.class_indices\n",
    "  predictions = model.predict(testing_set)\n",
    "  y_pred = tf.argmax(predictions, axis = 1)\n",
    "\n",
    "  # DF avec le résultat et le label de toutes les images du test :\n",
    "  df_results = pd.DataFrame(data = {\"real\":testing_set.classes,\n",
    "                                    \"pred\":y_pred,\n",
    "                                    \"img_path\":df_test[\"img_path\"]})\n",
    "  \n",
    "  # Tri des images : mal classé (df_false), bien classé (df_true):\n",
    "  df_false = df_results[df_results[\"real\"] != df_results[\"pred\"]].reset_index(drop = True)\n",
    "  df_true = df_results[df_results[\"real\"] == df_results[\"pred\"]].reset_index(drop = True)\n",
    "\n",
    "  return df_results, df_false, df_true\n",
    "\n",
    "### 3 -- Grad-CAM\n",
    "def get_img_array(img_path, size = (img_height, img_width)):\n",
    "  img = keras.preprocessing.image.load_img(img_path, target_size = size)\n",
    "  # 'array' : shape (img_height, img_width, 3)\n",
    "  array = keras.preprocessing.image.img_to_array(img)\n",
    "  # Ajout d'une dimension pour transformer l'array en batch (1, height, width, 3)\n",
    "  array = np.expand_dims(array, axis=0)\n",
    "  return array\n",
    "\n",
    "def make_gradcam_heatmap(img_array, model, last_conv_layer_name, pred_index=None):\n",
    "  # First, we create a model that maps the input image to the activations\n",
    "  # of the last conv layer as well as the output predictions\n",
    "  grad_model = tf.keras.models.Model(\n",
    "      [model.inputs], [model.get_layer(last_conv_layer_name).output, model.output])\n",
    "\n",
    "  # Then, we compute the gradient of the top predicted class for our input image\n",
    "  # with respect to the activations of the last conv layer\n",
    "  with tf.GradientTape() as tape:\n",
    "      last_conv_layer_output, preds = grad_model(img_array)\n",
    "      if pred_index is None:\n",
    "        pred_index = tf.argmax(preds[0])\n",
    "      class_channel = preds[:, pred_index]\n",
    "\n",
    "  # This is the gradient of the output neuron (top predicted or chosen)\n",
    "  # with regard to the output feature map of the last conv layer\n",
    "  grads = tape.gradient(class_channel, last_conv_layer_output)\n",
    "\n",
    "  # This is a vector where each entry is the mean intensity of the gradient\n",
    "  # over a specific feature map channel\n",
    "  pooled_grads = tf.reduce_mean(grads, axis=(0, 1, 2))\n",
    "\n",
    "  # We multiply each channel in the feature map array\n",
    "  # by \"how important this channel is\" with regard to the top predicted class\n",
    "  # then sum all the channels to obtain the heatmap class activation\n",
    "  last_conv_layer_output = last_conv_layer_output[0]\n",
    "  heatmap = last_conv_layer_output @ pooled_grads[..., tf.newaxis]\n",
    "  heatmap = tf.squeeze(heatmap)\n",
    "\n",
    "  # For visualization purpose, we will also normalize the heatmap between 0 & 1\n",
    "  heatmap = tf.maximum(heatmap, 0) / tf.math.reduce_max(heatmap)\n",
    "  return heatmap.numpy()\n",
    "\n",
    "def save_and_display_gradcam(img_path, heatmap, cam_path = \"cam.jpg\", alpha = 1):\n",
    "  # Load the original image\n",
    "  img = keras.preprocessing.image.load_img(img_path)\n",
    "  img = keras.preprocessing.image.img_to_array(img)\n",
    "\n",
    "  # Rescale heatmap to a range 0-255\n",
    "  heatmap = np.uint8(255*heatmap)\n",
    "\n",
    "  # Use jet colormap to colorize heatmap\n",
    "  jet = cm.get_cmap(\"jet\")\n",
    "\n",
    "  # Use RGB values of the colormap\n",
    "  jet_colors = jet(np.arange(256))[:, :3]\n",
    "  jet_heatmap = jet_colors[heatmap]\n",
    "\n",
    "  # Create an image with RGB colorized heatmap\n",
    "  jet_heatmap = keras.preprocessing.image.array_to_img(jet_heatmap)\n",
    "  jet_heatmap = jet_heatmap.resize((img.shape[1], img.shape[0]))\n",
    "  jet_heatmap = keras.preprocessing.image.img_to_array(jet_heatmap)\n",
    "\n",
    "  # Superimpose the heatmap on original image\n",
    "  superimposed_img = jet_heatmap*alpha + img\n",
    "  superimposed_img = keras.preprocessing.image.array_to_img(superimposed_img)\n",
    "\n",
    "  # Save the superimposed image\n",
    "  superimposed_img.save(cam_path)\n",
    "\n",
    "  # Display Grad CAM\n",
    "  #display(Image(cam_path))\n",
    "  #plt.imshow(plt.imread(cam_path))\n",
    "  #plt.show()\n",
    "  \n",
    "  return cam_path"
   ]
  },
  {
   "cell_type": "code",
   "execution_count": null,
   "metadata": {
    "colab": {
     "base_uri": "https://localhost:8080/",
     "height": 1000
    },
    "executionInfo": {
     "elapsed": 11706,
     "status": "ok",
     "timestamp": 1625768710679,
     "user": {
      "displayName": "Mathieu Sarrat",
      "photoUrl": "",
      "userId": "03904180067917226794"
     },
     "user_tz": -120
    },
    "id": "0DMeVfRdThxn",
    "outputId": "f46d6321-5500-470c-910b-4cc2cfabda6a"
   },
   "outputs": [
    {
     "data": {
      "image/png": "[encoded data removed]",
      "text/plain": [
       "<Figure size 864x864 with 2 Axes>"
      ]
     },
     "metadata": {
      "needs_background": "light",
      "tags": []
     },
     "output_type": "display_data"
    },
    {
     "name": "stdout",
     "output_type": "stream",
     "text": [
      "Classification Report : \n"
     ]
    },
    {
     "data": {
      "text/html": [
       "<div>\n",
       "<style scoped>\n",
       "    .dataframe tbody tr th:only-of-type {\n",
       "        vertical-align: middle;\n",
       "    }\n",
       "\n",
       "    .dataframe tbody tr th {\n",
       "        vertical-align: top;\n",
       "    }\n",
       "\n",
       "    .dataframe thead th {\n",
       "        text-align: right;\n",
       "    }\n",
       "</style>\n",
       "<table border=\"1\" class=\"dataframe\">\n",
       "  <thead>\n",
       "    <tr style=\"text-align: right;\">\n",
       "      <th></th>\n",
       "      <th>precision</th>\n",
       "      <th>recall</th>\n",
       "      <th>f1-score</th>\n",
       "      <th>support</th>\n",
       "    </tr>\n",
       "  </thead>\n",
       "  <tbody>\n",
       "    <tr>\n",
       "      <th>BA</th>\n",
       "      <td>0.745833</td>\n",
       "      <td>0.94709</td>\n",
       "      <td>0.834499</td>\n",
       "      <td>189</td>\n",
       "    </tr>\n",
       "    <tr>\n",
       "      <th>BL</th>\n",
       "      <td>0.73913</td>\n",
       "      <td>1</td>\n",
       "      <td>0.85</td>\n",
       "      <td>17</td>\n",
       "    </tr>\n",
       "    <tr>\n",
       "      <th>BNE</th>\n",
       "      <td>0.614035</td>\n",
       "      <td>0.522388</td>\n",
       "      <td>0.564516</td>\n",
       "      <td>268</td>\n",
       "    </tr>\n",
       "    <tr>\n",
       "      <th>EO</th>\n",
       "      <td>0.984375</td>\n",
       "      <td>0.875</td>\n",
       "      <td>0.926471</td>\n",
       "      <td>432</td>\n",
       "    </tr>\n",
       "    <tr>\n",
       "      <th>ERB</th>\n",
       "      <td>0.859375</td>\n",
       "      <td>0.92827</td>\n",
       "      <td>0.892495</td>\n",
       "      <td>237</td>\n",
       "    </tr>\n",
       "    <tr>\n",
       "      <th>LY</th>\n",
       "      <td>0.857143</td>\n",
       "      <td>0.892857</td>\n",
       "      <td>0.874636</td>\n",
       "      <td>168</td>\n",
       "    </tr>\n",
       "    <tr>\n",
       "      <th>MMY</th>\n",
       "      <td>0.464115</td>\n",
       "      <td>0.613924</td>\n",
       "      <td>0.52861</td>\n",
       "      <td>158</td>\n",
       "    </tr>\n",
       "    <tr>\n",
       "      <th>MO</th>\n",
       "      <td>0.839286</td>\n",
       "      <td>0.684466</td>\n",
       "      <td>0.754011</td>\n",
       "      <td>206</td>\n",
       "    </tr>\n",
       "    <tr>\n",
       "      <th>MY</th>\n",
       "      <td>0.65</td>\n",
       "      <td>0.494565</td>\n",
       "      <td>0.561728</td>\n",
       "      <td>184</td>\n",
       "    </tr>\n",
       "    <tr>\n",
       "      <th>PLT</th>\n",
       "      <td>0.975207</td>\n",
       "      <td>0.975207</td>\n",
       "      <td>0.975207</td>\n",
       "      <td>363</td>\n",
       "    </tr>\n",
       "    <tr>\n",
       "      <th>PMY</th>\n",
       "      <td>0.5625</td>\n",
       "      <td>0.701299</td>\n",
       "      <td>0.624277</td>\n",
       "      <td>77</td>\n",
       "    </tr>\n",
       "    <tr>\n",
       "      <th>SNE</th>\n",
       "      <td>0.670251</td>\n",
       "      <td>0.71374</td>\n",
       "      <td>0.691312</td>\n",
       "      <td>262</td>\n",
       "    </tr>\n",
       "  </tbody>\n",
       "</table>\n",
       "</div>"
      ],
      "text/plain": [
       "    precision    recall  f1-score support\n",
       "BA   0.745833   0.94709  0.834499     189\n",
       "BL    0.73913         1      0.85      17\n",
       "BNE  0.614035  0.522388  0.564516     268\n",
       "EO   0.984375     0.875  0.926471     432\n",
       "ERB  0.859375   0.92827  0.892495     237\n",
       "LY   0.857143  0.892857  0.874636     168\n",
       "MMY  0.464115  0.613924   0.52861     158\n",
       "MO   0.839286  0.684466  0.754011     206\n",
       "MY       0.65  0.494565  0.561728     184\n",
       "PLT  0.975207  0.975207  0.975207     363\n",
       "PMY    0.5625  0.701299  0.624277      77\n",
       "SNE  0.670251   0.71374  0.691312     262"
      ]
     },
     "metadata": {
      "tags": []
     },
     "output_type": "display_data"
    }
   ],
   "source": [
    "\n",
    "print_classification_report(testing_set)"
   ]
  },
  {
   "cell_type": "code",
   "execution_count": null,
   "metadata": {
    "id": "DlKSZlXSudDB"
   },
   "outputs": [],
   "source": []
  },
  {
   "cell_type": "code",
   "execution_count": null,
   "metadata": {
    "id": "Eih4QxSYbjIl"
   },
   "outputs": [],
   "source": []
  },
  {
   "cell_type": "code",
   "execution_count": null,
   "metadata": {
    "id": "thf5RRLPbjl1"
   },
   "outputs": [],
   "source": []
  },
  {
   "cell_type": "code",
   "execution_count": null,
   "metadata": {
    "id": "__Slp_86kF_8"
   },
   "outputs": [],
   "source": []
  },
  {
   "cell_type": "code",
   "execution_count": null,
   "metadata": {
    "id": "1F4WRS5Pfn6F"
   },
   "outputs": [],
   "source": []
  },
  {
   "cell_type": "code",
   "execution_count": null,
   "metadata": {
    "id": "u2DU5qSa_j3h"
   },
   "outputs": [],
   "source": []
  }
 ],
 "metadata": {
  "accelerator": "GPU",
  "colab": {
   "authorship_tag": "ABX9TyOC1eQC6eSumR8DCIp80Iv/",
   "collapsed_sections": [],
   "name": "EffNetB3_GPU.ipynb",
   "provenance": []
  },
  "kernelspec": {
   "display_name": "Python 3 (ipykernel)",
   "language": "python",
   "name": "python3"
  },
  "language_info": {
   "codemirror_mode": {
    "name": "ipython",
    "version": 3
   },
   "file_extension": ".py",
   "mimetype": "text/x-python",
   "name": "python",
   "nbconvert_exporter": "python",
   "pygments_lexer": "ipython3",
   "version": "3.8.8"
  }
 },
 "nbformat": 4,
 "nbformat_minor": 4
}

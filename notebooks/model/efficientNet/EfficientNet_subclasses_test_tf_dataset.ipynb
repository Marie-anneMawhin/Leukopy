{
 "cells": [
  {
   "cell_type": "code",
   "execution_count": 7,
   "id": "e3809076-4465-4e6e-bfed-ba0886364603",
   "metadata": {
    "tags": []
   },
   "outputs": [
    {
     "data": {
      "text/plain": [
       "<module 'leukopy_lib' from '/home/marie-anne/code/Leukopy/notebooks/leukopy_lib.py'>"
      ]
     },
     "execution_count": 7,
     "metadata": {},
     "output_type": "execute_result"
    }
   ],
   "source": [
    "## Modules nécessaires\n",
    "import pandas as pd\n",
    "import numpy as np\n",
    "import matplotlib.pyplot as plt\n",
    "\n",
    "import sys, os\n",
    "from pathlib import Path\n",
    "import glob\n",
    "\n",
    "from sklearn.model_selection import train_test_split\n",
    "\n",
    "import tensorflow as tf\n",
    "from tensorflow import keras\n",
    "from tensorflow.keras import layers\n",
    "from tensorflow.keras.models import Sequential\n",
    "from tensorflow.keras.applications import EfficientNetB3\n",
    "from tensorflow.keras.preprocessing.image import ImageDataGenerator\n",
    "from tensorflow.keras.callbacks import ModelCheckpoint, ReduceLROnPlateau, TerminateOnNaN, EarlyStopping, TensorBoard\n",
    "\n",
    "sys.path.insert(0, str(Path.cwd().parent))\n",
    "import leukopy_lib as leuko\n",
    "from importlib import reload\n",
    "\n",
    "reload(leuko)"
   ]
  },
  {
   "cell_type": "code",
   "execution_count": 2,
   "id": "5c16156c-1c87-4384-a4fa-86028c1ae6a9",
   "metadata": {},
   "outputs": [],
   "source": [
    "#get path to data/main_dir\n",
    "path_name = '../../data/PBC_dataset_normal_DIB'\n",
    "selected_label = ['MY', 'SNE', 'MMY', 'BNE', 'IG', 'PMY', 'NEUTROPHIL']\n",
    "df_train, df_valid, df_test = leuko.load_df_tf_dir(path_name, selection_list=selected_label)"
   ]
  },
  {
   "cell_type": "code",
   "execution_count": 3,
   "id": "3feb9069-6a6e-4753-94d4-835b5f5a0e2b",
   "metadata": {},
   "outputs": [],
   "source": [
    "# Params\n",
    "x_col = 'img_paths'\n",
    "y_col = 'label'\n",
    "batch_size = 32\n",
    "img_height  = 256\n",
    "img_width = 256"
   ]
  },
  {
   "cell_type": "code",
   "execution_count": 17,
   "id": "52fc008b-9a57-4d73-bc2e-8a2b81299eb7",
   "metadata": {
    "collapsed": true,
    "jupyter": {
     "outputs_hidden": true,
     "source_hidden": true
    },
    "tags": []
   },
   "outputs": [
    {
     "name": "stdout",
     "output_type": "stream",
     "text": [
      "Found 4381 validated image filenames belonging to 7 classes.\n",
      "Found 598 validated image filenames belonging to 7 classes.\n",
      "Found 1245 validated image filenames belonging to 7 classes.\n"
     ]
    }
   ],
   "source": [
    "# Augmentation, no normalisation EfficientNet models expect their inputs to be float tensors of pixels with values in the [0-255] range.\n",
    "train_generator = ImageDataGenerator(rotation_range = 90,\n",
    "                                     horizontal_flip = True, \n",
    "                                     vertical_flip = True,\n",
    "                                    zoom_range=0.6,\n",
    "                                    brightness_range=[0,2])\n",
    "\n",
    "valid_generator = ImageDataGenerator()\n",
    "test_generator = ImageDataGenerator()\n",
    "\n",
    "# Batchs, redimensionnement, chargement des images\n",
    "training_set = train_generator.flow_from_dataframe(df_train, \n",
    "                                                   directory = None, # utilise x_col\n",
    "                                                   x_col = x_col, \n",
    "                                                   y_col = y_col,\n",
    "                                                   target_size = (img_height, img_width), \n",
    "                                                   color_mode = 'rgb',\n",
    "                                                   classes = None,   # utilise y_col\n",
    "                                                   class_mode = 'categorical', \n",
    "                                                   batch_size = batch_size, \n",
    "                                                   shuffle = True)\n",
    "\n",
    "validation_set = valid_generator.flow_from_dataframe(df_valid, \n",
    "                                                     directory = None, # utilise x_col\n",
    "                                                     x_col = x_col, \n",
    "                                                     y_col = y_col,\n",
    "                                                     target_size = (img_height, img_width), \n",
    "                                                     color_mode = 'rgb',\n",
    "                                                     classes = None,   # utilise y_col\n",
    "                                                     class_mode = 'categorical', \n",
    "                                                     batch_size = batch_size, \n",
    "                                                     shuffle = True)\n",
    "\n",
    "testing_set = test_generator.flow_from_dataframe(df_test, \n",
    "                                                 directory = None, # utilise x_col\n",
    "                                                 x_col = x_col, \n",
    "                                                 y_col = y_col,\n",
    "                                                 target_size = (img_height, img_width),\n",
    "                                                 color_mode = 'rgb',\n",
    "                                                 classes = None,   # utilise y_col\n",
    "                                                 class_mode = 'categorical', \n",
    "                                                 batch_size = batch_size, \n",
    "                                                 shuffle = True)"
   ]
  },
  {
   "cell_type": "code",
   "execution_count": 8,
   "id": "5a8db7ed-6e17-4bda-aef6-f91368a2ec73",
   "metadata": {},
   "outputs": [],
   "source": [
    "@tf.function\n",
    "def load_image(filepath, resize=(img_height, img_width)):\n",
    "    im = tf.io.read_file(filepath)\n",
    "    im = tf.image.decode_jpeg(im, channels=3)\n",
    "    return tf.image.resize(im, resize)"
   ]
  },
  {
   "cell_type": "code",
   "execution_count": 9,
   "id": "1131889c-6772-4693-af33-77a0c20732f8",
   "metadata": {
    "tags": []
   },
   "outputs": [],
   "source": [
    "dataset_train = tf.data.Dataset.from_tensor_slices((df_train[x_col], df_train[y_col]))\n",
    "dataset_train = dataset_train.map(lambda x, y : [load_image(x), y],\n",
    "                                  num_parallel_calls=-1).batch(batch_size)"
   ]
  },
  {
   "cell_type": "code",
   "execution_count": null,
   "id": "1e83f594-deec-492e-b293-5ba6cd651996",
   "metadata": {},
   "outputs": [],
   "source": [
    "def data_generation(image, label):\n",
    "    \"\"\"data generation\n",
    "\n",
    "    Args:\n",
    "        image: tensor\n",
    "        label\n",
    "\n",
    "    Returns:\n",
    "        Augmented image\n",
    "    \"\"\"\n",
    "    x = image\n",
    "    x = tf.image.stateless_random_flip_left_right(x)\n",
    "    x = tf.image.stateless_random_flip_up_down(x)\n",
    "    x = tf.image.stateless_random_hue(x, 0.08)\n",
    "    x = tf.image.stateless_random_saturation(x, 0.6, 1.4)\n",
    "    x = tf.image.stateless_random_brightness(x, 0.05)\n",
    "    x = tf.image.stateless_random_contrast(x, 0.7, 1.3)\n",
    "    x = tf.image.central_crop(x, central_fraction=0.5)\n",
    "    x =  tf.image.rot90(x, tf.random_uniform(shape=[], minval=0, maxval=4, dtype=tf.int32))\n",
    "\n",
    "    return x, label\n",
    "\n",
    "\n",
    "\n",
    "(x_train, y_train), (x_test, y_test) = tf.keras.datasets.cifar10.load_data()\n",
    "\n",
    "data = (x_train[0:8] / 255).astype(np.float32)\n",
    "dataset = tf.data.Dataset.from_tensor_slices(data)\n",
    "\n",
    "# Add augmentations\n",
    "augmentations = [flip, color, zoom, rotate]\n",
    "\n",
    "for f in augmentations:\n",
    "    dataset = dataset.map(lambda x: tf.cond(tf.random_uniform([], 0, 1) > 0.75, lambda: f(x), lambda: x), num_parallel_calls=4)\n",
    "dataset = dataset.map(lambda x: tf.clip_by_value(x, 0, 1))\n",
    "\n",
    "plot_images(dataset, n_images=8, samples_per_image=10)\n"
   ]
  },
  {
   "cell_type": "code",
   "execution_count": 10,
   "id": "5ac8555a-6a18-4125-8e5f-9a32148b6ebd",
   "metadata": {},
   "outputs": [
    {
     "data": {
      "text/plain": [
       "<BatchDataset shapes: ((None, 256, 256, 3), (None,)), types: (tf.float32, tf.string)>"
      ]
     },
     "execution_count": 10,
     "metadata": {},
     "output_type": "execute_result"
    }
   ],
   "source": [
    "dataset_train_augmented = (\n",
    "    dataset_train\n",
    "    .map(data_generation, num_parallel_calls=autotune)\n",
    "    .shuffle(1024)\n",
    "    .batch(batch_size)\n",
    "    .prefetch(autotune)\n",
    "    .cache()\n",
    ")"
   ]
  },
  {
   "cell_type": "code",
   "execution_count": 19,
   "id": "c44ac94e-0363-44a4-884e-8be2b66bac81",
   "metadata": {},
   "outputs": [
    {
     "name": "stdout",
     "output_type": "stream",
     "text": [
      "Train : {'BNE': 0, 'IG': 1, 'MMY': 2, 'MY': 3, 'NEUTROPHIL': 4, 'PMY': 5, 'SNE': 6}\n",
      "Valid : {'BNE': 0, 'IG': 1, 'MMY': 2, 'MY': 3, 'NEUTROPHIL': 4, 'PMY': 5, 'SNE': 6}\n",
      "Test  : {'BNE': 0, 'IG': 1, 'MMY': 2, 'MY': 3, 'NEUTROPHIL': 4, 'PMY': 5, 'SNE': 6}\n"
     ]
    }
   ],
   "source": [
    "# Correspondance indices/labels (ordre alphanumérique):\n",
    "print('Train :', training_set.class_indices)\n",
    "print('Valid :', validation_set.class_indices)\n",
    "print('Test  :', testing_set.class_indices)\n",
    "\n",
    "label_map = training_set.class_indices"
   ]
  },
  {
   "cell_type": "code",
   "execution_count": 29,
   "id": "098c85cd-db4b-4380-b563-9fff40d3a540",
   "metadata": {},
   "outputs": [],
   "source": [
    "# Callbacks :\n",
    "\n",
    "TON = TerminateOnNaN()\n",
    "\n",
    "save_model = ModelCheckpoint(filepath = '/content/drive/MyDrive/Leukopy/EfficientNetModel/B0_augment', \n",
    "                             monitor = 'val_loss', \n",
    "                             save_best_only = True,\n",
    "                             save_weights_only = True,\n",
    "                             save_freq = 'epoch')\n",
    "\n",
    "control_lr = ReduceLROnPlateau(monitor = 'val_loss',\n",
    "                               factor = 0.1, \n",
    "                               patience = 3, \n",
    "                               verbose = 1, \n",
    "                               mode = 'min')\n",
    "\n",
    "early_stopping = EarlyStopping(monitor = \"val_loss\", \n",
    "                               patience = 6, \n",
    "                               mode = 'min',\n",
    "                               restore_best_weights = True)\n",
    "\n",
    "# %load_ext tensorboard\n",
    "log_dir = Path('./tf/log')\n",
    "tensorboard = TensorBoard(log_dir = log_dir)\n"
   ]
  },
  {
   "cell_type": "code",
   "execution_count": null,
   "id": "f2dcf6b1-f961-4b50-a8b1-d731fbcc0497",
   "metadata": {},
   "outputs": [],
   "source": []
  },
  {
   "cell_type": "code",
   "execution_count": null,
   "id": "4ce7a93b-932b-40a5-8018-0359c6e00821",
   "metadata": {},
   "outputs": [],
   "source": [
    "## Modèle : EfficientNet pour transfer learning\n",
    "\n",
    "base_model = EfficientNetB0(include_top = False,\n",
    "                            weights = 'imagenet',\n",
    "                            input_shape = (224,224,3),\n",
    "                            pooling = 'avg')\n",
    "\n",
    "for layer in base_model.layers:\n",
    "    layer.trainable = False\n",
    "    \n",
    "model = Sequential()\n",
    "model.add(base_model)\n",
    "model.add(layers.Dense(units = 1280, activation = 'relu'))\n",
    "model.add(layers.Dense(units = 640, activation = 'relu'))\n",
    "model.add(layers.Dense(units = 8, activation = 'softmax'))\n",
    "\n",
    "# Compilation\n",
    "model.compile(optimizer = 'adam',\n",
    "              loss = \"categorical_crossentropy\",\n",
    "              metrics = [\"accuracy\"])\n",
    "\n",
    "epochs = 30\n",
    "history = model.fit(training_set, \n",
    "                    epochs = epochs, \n",
    "                    validation_data = validation_set, \n",
    "                    callbacks = [save_model, control_lr, TON, early_stopping])"
   ]
  },
  {
   "cell_type": "code",
   "execution_count": null,
   "id": "14139ad1-f301-4ebe-ad48-6e05ae4bd4ad",
   "metadata": {},
   "outputs": [],
   "source": [
    "# Courbe d'entrainement :\n",
    "training_accuracy = history.history['accuracy']\n",
    "validation_accuracy = history.history['val_accuracy']\n",
    "\n",
    "plt.figure()\n",
    "plt.plot(np.arange(epochs), training_accuracy, label = 'Training Set')\n",
    "plt.plot(np.arange(epochs), validation_accuracy, label = 'Validation Set')\n",
    "plt.xlabel('Epochs')\n",
    "plt.ylabel('Accuracy')\n",
    "plt.xlim([0,19])\n",
    "plt.ylim([0.5,1])\n",
    "plt.legend()\n",
    "plt.show()"
   ]
  },
  {
   "cell_type": "code",
   "execution_count": null,
   "id": "53f0a281-9cb8-487a-991f-8fffedbfd0cb",
   "metadata": {},
   "outputs": [],
   "source": [
    "# Évaluation sur les données test :\n",
    "\n",
    "model.evaluate(testing_set)"
   ]
  },
  {
   "cell_type": "code",
   "execution_count": 26,
   "id": "5a3f5b0c-4ccd-4121-9e10-a48132dd4158",
   "metadata": {},
   "outputs": [
    {
     "data": {
      "text/plain": [
       "PosixPath('tf/log')"
      ]
     },
     "execution_count": 26,
     "metadata": {},
     "output_type": "execute_result"
    }
   ],
   "source": []
  },
  {
   "cell_type": "code",
   "execution_count": 22,
   "id": "18888547-b715-4a56-b283-1e31f6cb54a9",
   "metadata": {},
   "outputs": [],
   "source": [
    "!mkdir tf_log"
   ]
  },
  {
   "cell_type": "code",
   "execution_count": null,
   "id": "316c731c-0a31-441f-995d-1123e82f3968",
   "metadata": {},
   "outputs": [],
   "source": []
  }
 ],
 "metadata": {
  "kernelspec": {
   "display_name": "DStest",
   "language": "python",
   "name": "dstest"
  },
  "language_info": {
   "codemirror_mode": {
    "name": "ipython",
    "version": 3
   },
   "file_extension": ".py",
   "mimetype": "text/x-python",
   "name": "python",
   "nbconvert_exporter": "python",
   "pygments_lexer": "ipython3",
   "version": "3.9.4"
  }
 },
 "nbformat": 4,
 "nbformat_minor": 5
}

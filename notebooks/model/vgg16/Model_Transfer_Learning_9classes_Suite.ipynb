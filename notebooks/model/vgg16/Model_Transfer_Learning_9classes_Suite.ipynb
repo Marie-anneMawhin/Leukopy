{
 "cells": [
  {
   "cell_type": "code",
   "execution_count": null,
   "id": "1285f6ed",
   "metadata": {},
   "outputs": [],
   "source": [
    "#Ce modèle est utilisé avec le modèle de fichier Model_Transfer_Learning_9classes. Si le modéle Model_Transfer_Learning_9classes\n",
    "#trouve IG ou Neutrophil on execute le modèle  en bas pour trouver des sous-classes de IG ou Neutrophil."
   ]
  },
  {
   "cell_type": "code",
   "execution_count": 2,
   "id": "e07b2cb0",
   "metadata": {},
   "outputs": [],
   "source": [
    "import numpy as np\n",
    "import pandas as pd\n",
    "import tensorflow\n",
    "from tensorflow.keras.models import Sequential\n",
    "from tensorflow.keras.layers import Dense, Dropout, Activation, Flatten, Conv2D, MaxPooling2D, Lambda, MaxPool2D, BatchNormalization\n",
    "from tensorflow.keras.preprocessing.image import ImageDataGenerator\n",
    "from tensorflow.keras.optimizers import RMSprop\n",
    "from sklearn.preprocessing import LabelEncoder\n",
    "from sklearn.model_selection import train_test_split\n",
    "from sklearn.metrics import confusion_matrix\n",
    "from sklearn.metrics import accuracy_score\n",
    "import xml.etree.ElementTree as ET\n",
    "import sklearn\n",
    "import itertools\n",
    "import scipy\n",
    "import os\n",
    "import csv\n",
    "import matplotlib.pyplot as plt\n",
    "%matplotlib inline\n",
    "import pickle\n",
    "from matplotlib import cm # To import new color cards\n",
    "import tensorflow as tf\n",
    "from tensorflow import keras\n",
    "from tensorflow.keras.applications.vgg16 import preprocess_input\n",
    "from tensorflow.keras.layers import Dense, Dropout, Flatten, GlobalAveragePooling2D\n",
    "from tensorflow.keras.optimizers import Adam\n",
    "from tensorflow.keras.models import Model, Sequential\n",
    "from tensorflow.keras.preprocessing.image import ImageDataGenerator\n",
    "from tensorflow.keras import backend as K\n",
    "from tensorflow.keras.applications.vgg16 import VGG16\n",
    "from sklearn.svm import SVC\n"
   ]
  },
  {
   "cell_type": "code",
   "execution_count": 36,
   "id": "23a07c7b",
   "metadata": {},
   "outputs": [],
   "source": [
    "filename1 = 'C:/Users/laleh/Documents/Pythons/projet_blood/tests_images/data_1_ALL.pkl'\n",
    "df1= pickle.load(open(filename1, 'rb'))\n",
    "filename2 = 'C:/Users/laleh/Documents/Pythons/projet_blood/tests_images/data_1_13_classes.pkl'\n",
    "df2= pickle.load(open(filename2, 'rb'))\n",
    "\n",
    "df1=df1[df1.label=='ALL']\n",
    "\n",
    "df=pd.concat([df2, df1], ignore_index=True)\n",
    "###  on peut écrire mieux cette partie!!\n",
    "classes_others=['eosinophil',\"platelet\",\"erythroblast\",\"monocyte\",\"basophil\",\"ALL\",'lymphocyte']\n",
    "df['out']=df.label\n",
    "for i in range(len(df)):\n",
    "    if df.loc[i,\"label\"] in classes_others:\n",
    "        df.loc[i,\"out\"]=df.loc[i,\"out\"].replace(df.loc[i,\"out\"],\"0\")\n",
    "        \n",
    "    elif df.loc[i,\"label\"]==\"BNE_BNE\":  \n",
    "        df.loc[i,\"out\"]=df.loc[i,\"out\"].replace(df.loc[i,\"out\"],\"1\")\n",
    "    elif df.loc[i,\"label\"]==\"BNE_SNE\":\n",
    "        df.loc[i,\"out\"]=df.loc[i,\"out\"].replace(df.loc[i,\"out\"],\"2\")\n",
    "    elif df.loc[i,\"label\"]==\"BNE_NEUTROPHIL\":  \n",
    "        df.loc[i,\"out\"]=df.loc[i,\"out\"].replace(df.loc[i,\"out\"],\"3\")\n",
    "        \n",
    "    elif df.loc[i,\"label\"]==\"IG_MY\":\n",
    "        df.loc[i,\"out\"]=df.loc[i,\"out\"].replace(df.loc[i,\"out\"],\"4\")\n",
    "    elif df.loc[i,\"label\"]==\"IG_MMY\":\n",
    "        df.loc[i,\"out\"]=df.loc[i,\"out\"].replace(df.loc[i,\"out\"],\"5\")\n",
    "    elif df.loc[i,\"label\"]==\"IG_PMY\":\n",
    "        df.loc[i,\"out\"]=df.loc[i,\"out\"].replace(df.loc[i,\"out\"],\"6\")\n",
    "    elif df.loc[i,\"label\"]==\"IG_IG\":\n",
    "        df.loc[i,\"out\"]=df.loc[i,\"out\"].replace(df.loc[i,\"out\"],\"7\")\n",
    "        \n"
   ]
  },
  {
   "cell_type": "code",
   "execution_count": 37,
   "id": "5d3e440d",
   "metadata": {},
   "outputs": [],
   "source": [
    "data_train, data_test = train_test_split(df, test_size=0.2, random_state=123)\n",
    "\n"
   ]
  },
  {
   "cell_type": "code",
   "execution_count": 40,
   "id": "4ccd9013",
   "metadata": {},
   "outputs": [
    {
     "name": "stdout",
     "output_type": "stream",
     "text": [
      "8\n",
      "8\n"
     ]
    }
   ],
   "source": [
    "print(len(list(data_train.out.unique())))\n",
    "print(len(list(data_test.out.unique())))"
   ]
  },
  {
   "cell_type": "code",
   "execution_count": 41,
   "id": "4f5a8f93",
   "metadata": {},
   "outputs": [
    {
     "name": "stdout",
     "output_type": "stream",
     "text": [
      "Found 13777 validated image filenames belonging to 8 classes.\n",
      "Found 3445 validated image filenames belonging to 8 classes.\n"
     ]
    }
   ],
   "source": [
    "\n",
    "\n",
    "train_data_generator=ImageDataGenerator(\n",
    "preprocessing_function=preprocess_input,\n",
    "rotation_range=10,\n",
    "width_shift_range=0.1,\n",
    "height_shift_range=0.1,\n",
    "zoom_range=1.1,\n",
    "horizontal_flip=True)\n",
    "\n",
    "test_data_generator=ImageDataGenerator(preprocessing_function=preprocess_input)\n",
    "batch_size = 32\n",
    "\n",
    "\n",
    "train_generator = train_data_generator.flow_from_dataframe(dataframe=data_train,\n",
    "                                                          directory=\"\",\n",
    "                                                           x_col = \"path\",\n",
    "                                                           y_col='out',\n",
    "                                                           class_mode =\"sparse\",\n",
    "                                                          target_size = (224 , 224), \n",
    "                                                          batch_size = batch_size)\n",
    "\n",
    "test_generator = test_data_generator.flow_from_dataframe(dataframe=data_test,\n",
    "                                                          directory=\"\",\n",
    "                                                           x_col = \"path\",\n",
    "                                                           y_col='out',\n",
    "                                                           class_mode =\"sparse\",\n",
    "                                                          target_size = (224 , 224), \n",
    "                                                          batch_size = batch_size)"
   ]
  },
  {
   "cell_type": "code",
   "execution_count": 42,
   "id": "c4bd0f5d",
   "metadata": {},
   "outputs": [],
   "source": [
    "from PIL import Image\n",
    "\n",
    "def convert_image(X):\n",
    "    X_img=[]\n",
    "    for image in X:\n",
    "        \n",
    "        \n",
    "             with Image.open(image) as im:\n",
    "\n",
    "    \n",
    "                    img = im.resize((224, 224))\n",
    "                 \n",
    "                    \n",
    "                    a = np.asarray(img)\n",
    "                    X_img.append(a) \n",
    "                    \n",
    "                    \n",
    "    return np.array(X_img)\n",
    "\n",
    "# Load the images train\n",
    "X_train_img= convert_image(data_train.path)\n",
    "Y_train = data_train['out']\n",
    "\n",
    "# Load the images test\n",
    "X_test_img = convert_image(data_test.path)\n",
    "Y_test = data_test['out']\n"
   ]
  },
  {
   "cell_type": "markdown",
   "id": "3f91f69b",
   "metadata": {},
   "source": [
    "# Modèle "
   ]
  },
  {
   "cell_type": "code",
   "execution_count": 43,
   "id": "03111e5e",
   "metadata": {},
   "outputs": [
    {
     "name": "stderr",
     "output_type": "stream",
     "text": [
      "C:\\Users\\laleh\\AppData\\Roaming\\Python\\Python38\\site-packages\\tensorflow\\python\\keras\\engine\\training.py:1940: UserWarning: `Model.fit_generator` is deprecated and will be removed in a future version. Please use `Model.fit`, which supports generators.\n",
      "  warnings.warn('`Model.fit_generator` is deprecated and '\n"
     ]
    },
    {
     "name": "stdout",
     "output_type": "stream",
     "text": [
      "430/430 [==============================] - 162s 346ms/step - loss: 1.2546 - acc: 0.6268 - val_loss: 1.2710 - val_acc: 0.6376\n"
     ]
    },
    {
     "name": "stderr",
     "output_type": "stream",
     "text": [
      "C:\\Users\\laleh\\AppData\\Roaming\\Python\\Python38\\site-packages\\tensorflow\\python\\keras\\optimizer_v2\\optimizer_v2.py:374: UserWarning: The `lr` argument is deprecated, use `learning_rate` instead.\n",
      "  warnings.warn(\n"
     ]
    },
    {
     "name": "stdout",
     "output_type": "stream",
     "text": [
      "Epoch 1/30\n",
      "430/430 [==============================] - 153s 334ms/step - loss: 0.8044 - accuracy: 0.7136 - val_loss: 0.4332 - val_accuracy: 0.8294\n",
      "Epoch 2/30\n",
      "430/430 [==============================] - 144s 335ms/step - loss: 0.5914 - accuracy: 0.7709 - val_loss: 0.3726 - val_accuracy: 0.8420\n",
      "Epoch 3/30\n",
      "430/430 [==============================] - 144s 335ms/step - loss: 0.5298 - accuracy: 0.7964 - val_loss: 0.2874 - val_accuracy: 0.8870\n",
      "Epoch 4/30\n",
      "430/430 [==============================] - 143s 333ms/step - loss: 0.4877 - accuracy: 0.8127 - val_loss: 0.3009 - val_accuracy: 0.8770\n",
      "Epoch 5/30\n",
      "430/430 [==============================] - 143s 333ms/step - loss: 0.4616 - accuracy: 0.8184 - val_loss: 0.2781 - val_accuracy: 0.8887\n",
      "Epoch 6/30\n",
      "430/430 [==============================] - 144s 335ms/step - loss: 0.4542 - accuracy: 0.8204 - val_loss: 0.2738 - val_accuracy: 0.8949\n",
      "Epoch 7/30\n",
      "430/430 [==============================] - 144s 334ms/step - loss: 0.4325 - accuracy: 0.8293 - val_loss: 0.2508 - val_accuracy: 0.9027\n",
      "Epoch 8/30\n",
      "430/430 [==============================] - 143s 333ms/step - loss: 0.4185 - accuracy: 0.8352 - val_loss: 0.2633 - val_accuracy: 0.8934\n",
      "Epoch 9/30\n",
      "430/430 [==============================] - 144s 333ms/step - loss: 0.4102 - accuracy: 0.8386 - val_loss: 0.2422 - val_accuracy: 0.8972\n",
      "Epoch 10/30\n",
      "430/430 [==============================] - 144s 333ms/step - loss: 0.3996 - accuracy: 0.8412 - val_loss: 0.2417 - val_accuracy: 0.9033\n",
      "Epoch 11/30\n",
      "430/430 [==============================] - 144s 335ms/step - loss: 0.3952 - accuracy: 0.8461 - val_loss: 0.2332 - val_accuracy: 0.9054\n",
      "Epoch 12/30\n",
      "430/430 [==============================] - 145s 336ms/step - loss: 0.3825 - accuracy: 0.8466 - val_loss: 0.2624 - val_accuracy: 0.8890\n",
      "Epoch 13/30\n",
      "430/430 [==============================] - 145s 336ms/step - loss: 0.3859 - accuracy: 0.8471 - val_loss: 0.2576 - val_accuracy: 0.8867\n",
      "Epoch 14/30\n",
      "430/430 [==============================] - 145s 336ms/step - loss: 0.3693 - accuracy: 0.8542 - val_loss: 0.2510 - val_accuracy: 0.9030\n",
      "Epoch 15/30\n",
      "430/430 [==============================] - 144s 335ms/step - loss: 0.3630 - accuracy: 0.8537 - val_loss: 0.2600 - val_accuracy: 0.8934\n",
      "Epoch 16/30\n",
      "430/430 [==============================] - 144s 334ms/step - loss: 0.3673 - accuracy: 0.8536 - val_loss: 0.2308 - val_accuracy: 0.9077\n",
      "Epoch 17/30\n",
      "430/430 [==============================] - 144s 335ms/step - loss: 0.3663 - accuracy: 0.8548 - val_loss: 0.2585 - val_accuracy: 0.8972\n",
      "Epoch 18/30\n",
      "430/430 [==============================] - 144s 334ms/step - loss: 0.3568 - accuracy: 0.8620 - val_loss: 0.2829 - val_accuracy: 0.8852\n",
      "Epoch 19/30\n",
      "430/430 [==============================] - 148s 343ms/step - loss: 0.3474 - accuracy: 0.8618 - val_loss: 0.2619 - val_accuracy: 0.8987\n",
      "Epoch 20/30\n",
      "430/430 [==============================] - 146s 340ms/step - loss: 0.3447 - accuracy: 0.8652 - val_loss: 0.2361 - val_accuracy: 0.9057\n",
      "Epoch 21/30\n",
      "430/430 [==============================] - 150s 348ms/step - loss: 0.3314 - accuracy: 0.8688 - val_loss: 0.2676 - val_accuracy: 0.8925\n",
      "Epoch 22/30\n",
      "430/430 [==============================] - 154s 358ms/step - loss: 0.3379 - accuracy: 0.8636 - val_loss: 0.2558 - val_accuracy: 0.8992\n",
      "Epoch 23/30\n",
      "430/430 [==============================] - 149s 346ms/step - loss: 0.3351 - accuracy: 0.8655 - val_loss: 0.2496 - val_accuracy: 0.9083\n",
      "Epoch 24/30\n",
      "430/430 [==============================] - 154s 356ms/step - loss: 0.3340 - accuracy: 0.8666 - val_loss: 0.2191 - val_accuracy: 0.9089\n",
      "Epoch 25/30\n",
      "430/430 [==============================] - 148s 345ms/step - loss: 0.3192 - accuracy: 0.8709 - val_loss: 0.2387 - val_accuracy: 0.9051\n",
      "Epoch 26/30\n",
      "430/430 [==============================] - 150s 347ms/step - loss: 0.3246 - accuracy: 0.8745 - val_loss: 0.2518 - val_accuracy: 0.8984\n",
      "Epoch 27/30\n",
      "430/430 [==============================] - 146s 340ms/step - loss: 0.3242 - accuracy: 0.8706 - val_loss: 0.2137 - val_accuracy: 0.9098\n",
      "Epoch 28/30\n",
      "430/430 [==============================] - 147s 341ms/step - loss: 0.3149 - accuracy: 0.8737 - val_loss: 0.2415 - val_accuracy: 0.9051\n",
      "Epoch 29/30\n",
      "430/430 [==============================] - 148s 345ms/step - loss: 0.3244 - accuracy: 0.8717 - val_loss: 0.2238 - val_accuracy: 0.9103\n",
      "Epoch 30/30\n",
      "430/430 [==============================] - 143s 333ms/step - loss: 0.3148 - accuracy: 0.8738 - val_loss: 0.2164 - val_accuracy: 0.9124\n"
     ]
    }
   ],
   "source": [
    "\n",
    "n_class=8\n",
    "\n",
    "\n",
    "\n",
    "base_model=VGG16(weights='imagenet', include_top=False)\n",
    "for layer in base_model.layers:\n",
    "    layer.trainable=False\n",
    "    \n",
    "    \n",
    "model=Sequential()\n",
    "model.add(base_model)\n",
    "model.add(GlobalAveragePooling2D())\n",
    "model.add(Dense(1024, activation='relu'))\n",
    "model.add(Dropout(rate=0.2))\n",
    "model.add(Dense(512, activation='relu'))\n",
    "model.add(Dropout(rate=0.2))\n",
    "model.add(Dense(n_class, activation='softmax'))\n",
    "\n",
    "model.compile(optimizer='adam', loss='sparse_categorical_crossentropy', metrics=['acc'])\n",
    "history = model.fit_generator(generator=train_generator, \n",
    "                                epochs = 1,\n",
    "                                steps_per_epoch = len(data_train)//batch_size,\n",
    "                                validation_data=test_generator,\n",
    "                                validation_steps=len(data_test)//batch_size\n",
    "                                )\n",
    "for layer in base_model.layers[-4:]:\n",
    "    layer.trainable = True\n",
    "    \n",
    "    \n",
    "model.compile(optimizer=Adam(lr=1e-4), loss='sparse_categorical_crossentropy', metrics=['accuracy'])\n",
    "#model.summary()\n",
    "\n",
    "history = model.fit_generator(generator=train_generator, \n",
    "                                epochs = 30,\n",
    "                                steps_per_epoch = len(data_train)//batch_size,\n",
    "                                validation_data=test_generator,\n",
    "                                validation_steps=len(data_test)//batch_size\n",
    "                                )\n",
    "\n",
    "\n",
    "intermediate_layer_model = Model( inputs=model.input, outputs=model.layers[2].output)\n",
    "X_train_features = intermediate_layer_model.predict(preprocess_input(X_train_img))\n",
    "X_test_features = intermediate_layer_model.predict(preprocess_input(X_test_img))\n",
    "\n",
    "svm = SVC(C=111)\n",
    "\n",
    "\n",
    "grid = svm.fit(X_train_features,  data_train[\"out\"])"
   ]
  },
  {
   "cell_type": "code",
   "execution_count": 45,
   "id": "c0a6d4e1",
   "metadata": {},
   "outputs": [
    {
     "name": "stdout",
     "output_type": "stream",
     "text": [
      "                precision    recall  f1-score   support\n",
      "\n",
      "        Others       0.99      0.99      0.99      2179\n",
      "       BNE_BNE       0.82      0.80      0.81       313\n",
      "       BNE_SNE       0.84      0.88      0.86       335\n",
      "BNE_NEUTROPHIL       1.00      1.00      1.00         9\n",
      "         IG_MY       0.78      0.75      0.77       262\n",
      "        IG_MMY       0.75      0.75      0.75       205\n",
      "        IG_PMY       0.77      0.79      0.78       113\n",
      "         IG_IG       0.97      0.97      0.97        29\n",
      "\n",
      "      accuracy                           0.92      3445\n",
      "     macro avg       0.87      0.86      0.87      3445\n",
      "  weighted avg       0.92      0.92      0.92      3445\n",
      "\n"
     ]
    }
   ],
   "source": [
    "classes_names=[\"Others\",\"BNE_BNE\",\"BNE_SNE\",\"BNE_NEUTROPHIL\",\"IG_MY\",\"IG_MMY\",\"IG_PMY\",\"IG_IG\"]\n",
    "predictions_svm = svm.predict(X_test_features)\n",
    "\n",
    "from sklearn.metrics import classification_report\n",
    "print(classification_report(Y_test.values.astype(int),\n",
    "predictions_svm.astype(int), target_names=classes_names))"
   ]
  },
  {
   "cell_type": "code",
   "execution_count": 46,
   "id": "357cd4ed",
   "metadata": {},
   "outputs": [
    {
     "data": {
      "image/png": "[encoded data removed]",
      "text/plain": [
       "<Figure size 432x288 with 1 Axes>"
      ]
     },
     "metadata": {
      "needs_background": "light"
     },
     "output_type": "display_data"
    }
   ],
   "source": [
    "training_accuracy = history.history['accuracy']\n",
    "validation_accuracy = history.history['val_accuracy']\n",
    "\n",
    "plt.figure()\n",
    "plt.plot(np.arange(len(training_accuracy)), training_accuracy, label = 'Training Set')\n",
    "plt.plot(np.arange(len(training_accuracy)), validation_accuracy, label = 'Validation Set')\n",
    "plt.xlabel('Epochs')\n",
    "plt.ylabel('Accuracy')\n",
    "\n",
    "plt.legend()\n",
    "plt.show()"
   ]
  },
  {
   "cell_type": "code",
   "execution_count": 47,
   "id": "91bd9907",
   "metadata": {},
   "outputs": [],
   "source": [
    "filename = 'svm_Transfer_Learning_B.pkl'\n",
    "pickle.dump(svm, open(filename, 'wb'))\n",
    "\n",
    "#svm= pickle.load(open(filename, 'rb'))"
   ]
  },
  {
   "cell_type": "code",
   "execution_count": 48,
   "id": "07445f19",
   "metadata": {},
   "outputs": [
    {
     "name": "stdout",
     "output_type": "stream",
     "text": [
      "INFO:tensorflow:Assets written to: model_Transfer_Learning_B\\assets\n"
     ]
    }
   ],
   "source": [
    "from tensorflow.keras.models import save_model, load_model\n",
    "save_model(model,\"model_Transfer_Learning_B\")\n",
    "#del model\n",
    "#model=load_model(\"model_Transfer_Learning_B\")"
   ]
  }
 ],
 "metadata": {
  "kernelspec": {
   "display_name": "Python 3",
   "language": "python",
   "name": "python3"
  },
  "language_info": {
   "codemirror_mode": {
    "name": "ipython",
    "version": 3
   },
   "file_extension": ".py",
   "mimetype": "text/x-python",
   "name": "python",
   "nbconvert_exporter": "python",
   "pygments_lexer": "ipython3",
   "version": "3.8.10"
  }
 },
 "nbformat": 4,
 "nbformat_minor": 5
}

{
 "cells": [
  {
   "cell_type": "code",
   "execution_count": 67,
   "id": "411db328",
   "metadata": {},
   "outputs": [],
   "source": [
    "import pandas as pd\n",
    "import numpy as np\n",
    "import seaborn as sns\n",
    "\n",
    "import sys, os\n",
    "import glob\n",
    "import shutil\n",
    "\n",
    "from pathlib import Path\n",
    "\n",
    "from sklearn.model_selection import train_test_split"
   ]
  },
  {
   "cell_type": "code",
   "execution_count": 68,
   "id": "25e15dcc-3fa7-45fa-ac06-d3b5a7c94578",
   "metadata": {},
   "outputs": [],
   "source": [
    "def create_folders(df, name, col):\n",
    "    dest = Path(f'../../data/main_dataset/{name}')\n",
    "    dest.mkdir(parents=True, exist_ok=True)\n",
    "    \n",
    "    for f in df[col]:\n",
    "        shutil.copy(f, dest)"
   ]
  },
  {
   "cell_type": "code",
   "execution_count": 72,
   "id": "fb316e7c",
   "metadata": {},
   "outputs": [],
   "source": [
    "def generate_dataframes(data_dir = None,\n",
    "                        random_state = 42, \n",
    "                        random_lock = True):\n",
    "    \n",
    "    \"\"\" Generate 3 .csv dataframes (train, validation, test) from folder Leukopy/data (GitHub). \n",
    "       \n",
    "    data_dir : Path Object or str, path to images\n",
    "    random_state : int, default 42 for reproducibility\n",
    "    random_lock : bool., lock the value of random_state\n",
    "    \"\"\"\n",
    "    # To work with the same split. \n",
    "    if random_lock == True:\n",
    "        if random_state != 42:\n",
    "            random_state = 42\n",
    "            \n",
    "    # Verification : path to data files\n",
    "    if data_dir == None:\n",
    "        return \"Please provide the path of the directory 'Leukopy' \"\n",
    "    \n",
    "    path = Path(data_dir)\n",
    "  \n",
    "    \n",
    "    data = pd.DataFrame()\n",
    "    data['img_paths'] = [image_path for ext in ['jpg', 'tif', 'png'] for image_path in path.glob(f'**/*.{ext}')]\n",
    "       \n",
    "    #for sanity check\n",
    "    data['label'] = [image_path.stem.split('_')[0] for ext in ['jpg', 'tif', 'png'] for image_path in path.glob(f'**/*.{ext}')]\n",
    "    data['label'] = data['label'].replace(to_replace = [\"NEUTROPHIL\", \"PLATELET\"], \n",
    "                                  value = [\"SNE\", \"PLT\"])\n",
    "    \n",
    "    #remove label IG\n",
    "    data = data[~(data.label == 'IG')] \n",
    "\n",
    "    # Conversion to DataFrames\n",
    "    df_train, df_test = train_test_split(data, test_size = 0.15, random_state = random_state)\n",
    "    df_train, df_valid = train_test_split(df_train, test_size = 0.12, random_state = random_state)\n",
    "    \n",
    "    # Save DFs : .CSV files\n",
    "    df_train.to_csv(path_or_buf = path/'train_set.csv')\n",
    "    df_valid.to_csv(path_or_buf = path/'valid_set.csv')\n",
    "    df_test.to_csv(path_or_buf = path/'test_set.csv')\n",
    "    \n",
    "    \n",
    "    return df_train, df_test, df_valid"
   ]
  },
  {
   "cell_type": "code",
   "execution_count": 73,
   "id": "a163db04-6690-4035-a392-c68ae3557f23",
   "metadata": {},
   "outputs": [],
   "source": [
    "def generate_images_df(data_dir = None):\n",
    "    \n",
    "    \"\"\" Generate 3 .csv dataframes (train, validation, test) from folder Leukopy/data (GitHub). \n",
    "    Image folders are grouped by cell types and images either label by :\n",
    "    12 classes (label):  BA, BL, BNE, ERB, EO, LY, MMY, MO, MY, PLT, PMY, SNE\n",
    "    9 classes (label2):  BA, BL, IG, ERB, EO, LY, MO, PLT, NEU\n",
    "    10 classes (label3):  BA, BL, BNE, ERB, EO, LY, IG, MO, PLT, SNE\n",
    "        \n",
    "    data_dir : Path Object or str, path to images\n",
    "\n",
    "    \"\"\"\n",
    "   \n",
    "    # Verification : path to data files\n",
    "    if data_dir == None:\n",
    "        return \"Please provide the path of the directory 'Leukopy' \"\n",
    "    \n",
    "    path = Path(data_dir)\n",
    "  \n",
    "    data = pd.DataFrame()\n",
    "    data['img_paths'] = [image_path for ext in ['jpg', 'tif', 'png'] for image_path in path.glob(f'**/*.{ext}')]\n",
    "    data['cell_type'] = [image_path.parts[-2] for ext in ['jpg', 'tif', 'png'] for image_path in path.glob(f'**/*.{ext}')]\n",
    "\n",
    "    data['label'] = [image_path.stem.split('_')[0] for ext in ['jpg', 'tif', 'png'] for image_path in path.glob(f'**/*.{ext}')]\n",
    "    data['label'] = data['label'].replace(to_replace = [\"NEUTROPHIL\", \"PLATELET\"], \n",
    "                                  value = [\"SNE\", \"PLT\"])\n",
    "    \n",
    "    data['label_2'] = data['label'].replace(to_replace = [\"BNE\",\"NEUTROPHIL\", \"MY\",\"MMY\",\"PMY\", \"PLATELET\"], \n",
    "                                  value = [\"IG\",\"SNE\", \"IG\",\"IG\",\"IG\", \"PLT\"])\n",
    "    \n",
    "    data['label_3'] = data['label'].replace(to_replace = [\"NEUTROPHIL\", \"MY\",\"MMY\",\"PMY\", \"PLATELET\"], \n",
    "                                  value = [\"SNE\", \"IG\",\"IG\",\"IG\", \"PLT\"])\n",
    "    \n",
    "    \n",
    "    return data"
   ]
  },
  {
   "cell_type": "code",
   "execution_count": 74,
   "id": "7e2ae833",
   "metadata": {},
   "outputs": [],
   "source": [
    "df_train, df_test, df_valid = generate_dataframes('../../data/PBC_dataset_normal_ALL/')"
   ]
  },
  {
   "cell_type": "code",
   "execution_count": 75,
   "id": "75b455b6-eceb-404a-90dc-07ee00ec7289",
   "metadata": {},
   "outputs": [],
   "source": [
    "#create folders:\n",
    "create_folders(df_train, 'training_set', 'img_paths')\n",
    "create_folders(df_test, 'testing_set', 'img_paths')\n",
    "create_folders(df_valid, 'validation_set', 'img_paths')"
   ]
  },
  {
   "cell_type": "markdown",
   "id": "95feca28-fd9a-41ee-a744-01ba5e335f04",
   "metadata": {},
   "source": [
    "### Sanity check: repartition of classes"
   ]
  },
  {
   "cell_type": "code",
   "execution_count": 76,
   "id": "d4b991b4-c598-4f66-a79e-24f4a7fc906b",
   "metadata": {},
   "outputs": [
    {
     "name": "stderr",
     "output_type": "stream",
     "text": [
      "/home/marie-anne/anaconda3/lib/python3.8/site-packages/seaborn/_decorators.py:36: FutureWarning: Pass the following variable as a keyword arg: x. From version 0.12, the only valid positional argument will be `data`, and passing other arguments without an explicit keyword will result in an error or misinterpretation.\n",
      "  warnings.warn(\n"
     ]
    },
    {
     "data": {
      "text/plain": [
       "<AxesSubplot:xlabel='label', ylabel='count'>"
      ]
     },
     "execution_count": 76,
     "metadata": {},
     "output_type": "execute_result"
    },
    {
     "data": {
      "image/png": "[encoded data removed]",
      "text/plain": [
       "<Figure size 432x288 with 1 Axes>"
      ]
     },
     "metadata": {
      "needs_background": "light"
     },
     "output_type": "display_data"
    }
   ],
   "source": [
    "sns.countplot(df_train.label.sort_values())"
   ]
  },
  {
   "cell_type": "code",
   "execution_count": 77,
   "id": "a7af0f45-1810-40a6-aae5-0bffd9fd2c2d",
   "metadata": {},
   "outputs": [
    {
     "name": "stderr",
     "output_type": "stream",
     "text": [
      "/home/marie-anne/anaconda3/lib/python3.8/site-packages/seaborn/_decorators.py:36: FutureWarning: Pass the following variable as a keyword arg: x. From version 0.12, the only valid positional argument will be `data`, and passing other arguments without an explicit keyword will result in an error or misinterpretation.\n",
      "  warnings.warn(\n"
     ]
    },
    {
     "data": {
      "text/plain": [
       "<AxesSubplot:xlabel='label', ylabel='count'>"
      ]
     },
     "execution_count": 77,
     "metadata": {},
     "output_type": "execute_result"
    },
    {
     "data": {
      "image/png": "[encoded data removed]",
      "text/plain": [
       "<Figure size 432x288 with 1 Axes>"
      ]
     },
     "metadata": {
      "needs_background": "light"
     },
     "output_type": "display_data"
    }
   ],
   "source": [
    "sns.countplot(df_test.label.sort_values())"
   ]
  },
  {
   "cell_type": "code",
   "execution_count": 78,
   "id": "b7877034-a560-4e9a-bf87-342d64e26ac2",
   "metadata": {},
   "outputs": [
    {
     "name": "stderr",
     "output_type": "stream",
     "text": [
      "/home/marie-anne/anaconda3/lib/python3.8/site-packages/seaborn/_decorators.py:36: FutureWarning: Pass the following variable as a keyword arg: x. From version 0.12, the only valid positional argument will be `data`, and passing other arguments without an explicit keyword will result in an error or misinterpretation.\n",
      "  warnings.warn(\n"
     ]
    },
    {
     "data": {
      "text/plain": [
       "<AxesSubplot:xlabel='label', ylabel='count'>"
      ]
     },
     "execution_count": 78,
     "metadata": {},
     "output_type": "execute_result"
    },
    {
     "data": {
      "image/png": "[encoded data removed]",
      "text/plain": [
       "<Figure size 432x288 with 1 Axes>"
      ]
     },
     "metadata": {
      "needs_background": "light"
     },
     "output_type": "display_data"
    }
   ],
   "source": [
    "sns.countplot(df_valid.label.sort_values())"
   ]
  },
  {
   "cell_type": "markdown",
   "id": "462dc44e-23e0-4dd2-8a94-26a89a41d763",
   "metadata": {},
   "source": [
    "# Example of df creation from image subfolder"
   ]
  },
  {
   "cell_type": "code",
   "execution_count": 79,
   "id": "fbbc456d-a9c3-4d8c-bc16-ca1d4004a20f",
   "metadata": {},
   "outputs": [
    {
     "data": {
      "text/html": [
       "<div>\n",
       "<style scoped>\n",
       "    .dataframe tbody tr th:only-of-type {\n",
       "        vertical-align: middle;\n",
       "    }\n",
       "\n",
       "    .dataframe tbody tr th {\n",
       "        vertical-align: top;\n",
       "    }\n",
       "\n",
       "    .dataframe thead th {\n",
       "        text-align: right;\n",
       "    }\n",
       "</style>\n",
       "<table border=\"1\" class=\"dataframe\">\n",
       "  <thead>\n",
       "    <tr style=\"text-align: right;\">\n",
       "      <th></th>\n",
       "      <th>img_paths</th>\n",
       "      <th>cell_type</th>\n",
       "      <th>label</th>\n",
       "      <th>label_2</th>\n",
       "      <th>label_3</th>\n",
       "    </tr>\n",
       "  </thead>\n",
       "  <tbody>\n",
       "    <tr>\n",
       "      <th>0</th>\n",
       "      <td>../../data/main_dataset/training_set/PLATELET_...</td>\n",
       "      <td>training_set</td>\n",
       "      <td>PLT</td>\n",
       "      <td>PLT</td>\n",
       "      <td>PLT</td>\n",
       "    </tr>\n",
       "    <tr>\n",
       "      <th>1</th>\n",
       "      <td>../../data/main_dataset/training_set/ERB_65190...</td>\n",
       "      <td>training_set</td>\n",
       "      <td>ERB</td>\n",
       "      <td>ERB</td>\n",
       "      <td>ERB</td>\n",
       "    </tr>\n",
       "    <tr>\n",
       "      <th>2</th>\n",
       "      <td>../../data/main_dataset/training_set/BA_944690...</td>\n",
       "      <td>training_set</td>\n",
       "      <td>BA</td>\n",
       "      <td>BA</td>\n",
       "      <td>BA</td>\n",
       "    </tr>\n",
       "    <tr>\n",
       "      <th>3</th>\n",
       "      <td>../../data/main_dataset/training_set/PLATELET_...</td>\n",
       "      <td>training_set</td>\n",
       "      <td>PLT</td>\n",
       "      <td>PLT</td>\n",
       "      <td>PLT</td>\n",
       "    </tr>\n",
       "    <tr>\n",
       "      <th>4</th>\n",
       "      <td>../../data/main_dataset/training_set/MMY_54412...</td>\n",
       "      <td>training_set</td>\n",
       "      <td>MMY</td>\n",
       "      <td>IG</td>\n",
       "      <td>IG</td>\n",
       "    </tr>\n",
       "    <tr>\n",
       "      <th>...</th>\n",
       "      <td>...</td>\n",
       "      <td>...</td>\n",
       "      <td>...</td>\n",
       "      <td>...</td>\n",
       "      <td>...</td>\n",
       "    </tr>\n",
       "    <tr>\n",
       "      <th>12763</th>\n",
       "      <td>../../data/main_dataset/training_set/BL_018_1.tif</td>\n",
       "      <td>training_set</td>\n",
       "      <td>BL</td>\n",
       "      <td>BL</td>\n",
       "      <td>BL</td>\n",
       "    </tr>\n",
       "    <tr>\n",
       "      <th>12764</th>\n",
       "      <td>../../data/main_dataset/training_set/BL_051_1.tif</td>\n",
       "      <td>training_set</td>\n",
       "      <td>BL</td>\n",
       "      <td>BL</td>\n",
       "      <td>BL</td>\n",
       "    </tr>\n",
       "    <tr>\n",
       "      <th>12765</th>\n",
       "      <td>../../data/main_dataset/training_set/BL_008_1.tif</td>\n",
       "      <td>training_set</td>\n",
       "      <td>BL</td>\n",
       "      <td>BL</td>\n",
       "      <td>BL</td>\n",
       "    </tr>\n",
       "    <tr>\n",
       "      <th>12766</th>\n",
       "      <td>../../data/main_dataset/training_set/BL_105_1.tif</td>\n",
       "      <td>training_set</td>\n",
       "      <td>BL</td>\n",
       "      <td>BL</td>\n",
       "      <td>BL</td>\n",
       "    </tr>\n",
       "    <tr>\n",
       "      <th>12767</th>\n",
       "      <td>../../data/main_dataset/training_set/BL_007_1.tif</td>\n",
       "      <td>training_set</td>\n",
       "      <td>BL</td>\n",
       "      <td>BL</td>\n",
       "      <td>BL</td>\n",
       "    </tr>\n",
       "  </tbody>\n",
       "</table>\n",
       "<p>12768 rows × 5 columns</p>\n",
       "</div>"
      ],
      "text/plain": [
       "                                               img_paths     cell_type label  \\\n",
       "0      ../../data/main_dataset/training_set/PLATELET_...  training_set   PLT   \n",
       "1      ../../data/main_dataset/training_set/ERB_65190...  training_set   ERB   \n",
       "2      ../../data/main_dataset/training_set/BA_944690...  training_set    BA   \n",
       "3      ../../data/main_dataset/training_set/PLATELET_...  training_set   PLT   \n",
       "4      ../../data/main_dataset/training_set/MMY_54412...  training_set   MMY   \n",
       "...                                                  ...           ...   ...   \n",
       "12763  ../../data/main_dataset/training_set/BL_018_1.tif  training_set    BL   \n",
       "12764  ../../data/main_dataset/training_set/BL_051_1.tif  training_set    BL   \n",
       "12765  ../../data/main_dataset/training_set/BL_008_1.tif  training_set    BL   \n",
       "12766  ../../data/main_dataset/training_set/BL_105_1.tif  training_set    BL   \n",
       "12767  ../../data/main_dataset/training_set/BL_007_1.tif  training_set    BL   \n",
       "\n",
       "      label_2 label_3  \n",
       "0         PLT     PLT  \n",
       "1         ERB     ERB  \n",
       "2          BA      BA  \n",
       "3         PLT     PLT  \n",
       "4          IG      IG  \n",
       "...       ...     ...  \n",
       "12763      BL      BL  \n",
       "12764      BL      BL  \n",
       "12765      BL      BL  \n",
       "12766      BL      BL  \n",
       "12767      BL      BL  \n",
       "\n",
       "[12768 rows x 5 columns]"
      ]
     },
     "execution_count": 79,
     "metadata": {},
     "output_type": "execute_result"
    }
   ],
   "source": [
    "generate_images_df('../../data/main_dataset/training_set/')"
   ]
  },
  {
   "cell_type": "code",
   "execution_count": null,
   "id": "86589b2e-a24f-4aa7-805d-8ef07d79a143",
   "metadata": {},
   "outputs": [],
   "source": []
  }
 ],
 "metadata": {
  "kernelspec": {
   "display_name": "Python 3",
   "language": "python",
   "name": "python3"
  },
  "language_info": {
   "codemirror_mode": {
    "name": "ipython",
    "version": 3
   },
   "file_extension": ".py",
   "mimetype": "text/x-python",
   "name": "python",
   "nbconvert_exporter": "python",
   "pygments_lexer": "ipython3",
   "version": "3.8.8"
  }
 },
 "nbformat": 4,
 "nbformat_minor": 5
}

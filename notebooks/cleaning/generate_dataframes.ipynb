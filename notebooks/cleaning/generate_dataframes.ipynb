{
 "cells": [
  {
   "cell_type": "code",
   "execution_count": 1,
   "id": "411db328",
   "metadata": {},
   "outputs": [
    {
     "data": {
      "text/plain": [
       "<module 'leukopy_lib' from '/home/marie-anne/code/Leukopy/notebooks/leukopy_lib.py'>"
      ]
     },
     "execution_count": 1,
     "metadata": {},
     "output_type": "execute_result"
    }
   ],
   "source": [
    "import pandas as pd\n",
    "import numpy as np\n",
    "import seaborn as sns\n",
    "import sys, os, glob, shutil\n",
    "\n",
    "from pathlib import Path\n",
    "\n",
    "sys.path.insert(0, str(Path.cwd().parent))\n",
    "import leukopy_lib as leuko\n",
    "from importlib import reload\n",
    "reload(leuko)"
   ]
  },
  {
   "cell_type": "code",
   "execution_count": 2,
   "id": "7e2ae833",
   "metadata": {},
   "outputs": [],
   "source": [
    "df_train, df_test, df_valid = leuko.generate_dataframes('../../data/PBC_dataset_normal_Barcelona/')"
   ]
  },
  {
   "cell_type": "code",
   "execution_count": 75,
   "id": "75b455b6-eceb-404a-90dc-07ee00ec7289",
   "metadata": {},
   "outputs": [],
   "source": [
    "#create folders:\n",
    "leuko.create_folders(df_train, 'training_set', 'img_paths')\n",
    "leuko.create_folders(df_test, 'testing_set', 'img_paths')\n",
    "leuko.create_folders(df_valid, 'validation_set', 'img_paths')"
   ]
  },
  {
   "cell_type": "markdown",
   "id": "95feca28-fd9a-41ee-a744-01ba5e335f04",
   "metadata": {},
   "source": [
    "### Sanity check: repartition of classes"
   ]
  },
  {
   "cell_type": "code",
   "execution_count": 5,
   "id": "d4b991b4-c598-4f66-a79e-24f4a7fc906b",
   "metadata": {},
   "outputs": [
    {
     "data": {
      "text/plain": [
       "<AxesSubplot:xlabel='label', ylabel='count'>"
      ]
     },
     "execution_count": 5,
     "metadata": {},
     "output_type": "execute_result"
    },
    {
     "data": {
      "image/png": "[encoded data removed]",
      "text/plain": [
       "<Figure size 432x288 with 1 Axes>"
      ]
     },
     "metadata": {
      "needs_background": "light"
     },
     "output_type": "display_data"
    }
   ],
   "source": [
    "sns.countplot(x=df_train.label.sort_values())"
   ]
  },
  {
   "cell_type": "code",
   "execution_count": 6,
   "id": "a7af0f45-1810-40a6-aae5-0bffd9fd2c2d",
   "metadata": {},
   "outputs": [
    {
     "data": {
      "text/plain": [
       "<AxesSubplot:xlabel='label', ylabel='count'>"
      ]
     },
     "execution_count": 6,
     "metadata": {},
     "output_type": "execute_result"
    },
    {
     "data": {
      "image/png": "[encoded data removed]",
      "text/plain": [
       "<Figure size 432x288 with 1 Axes>"
      ]
     },
     "metadata": {
      "needs_background": "light"
     },
     "output_type": "display_data"
    }
   ],
   "source": [
    "sns.countplot(x=df_test.label.sort_values())"
   ]
  },
  {
   "cell_type": "code",
   "execution_count": 7,
   "id": "b7877034-a560-4e9a-bf87-342d64e26ac2",
   "metadata": {},
   "outputs": [
    {
     "data": {
      "text/plain": [
       "<AxesSubplot:xlabel='label', ylabel='count'>"
      ]
     },
     "execution_count": 7,
     "metadata": {},
     "output_type": "execute_result"
    },
    {
     "data": {
      "image/png": "[encoded data removed]",
      "text/plain": [
       "<Figure size 432x288 with 1 Axes>"
      ]
     },
     "metadata": {
      "needs_background": "light"
     },
     "output_type": "display_data"
    }
   ],
   "source": [
    "sns.countplot(x=df_valid.label.sort_values())"
   ]
  },
  {
   "cell_type": "markdown",
   "id": "462dc44e-23e0-4dd2-8a94-26a89a41d763",
   "metadata": {},
   "source": [
    "# Example of df creation from image subfolder"
   ]
  },
  {
   "cell_type": "code",
   "execution_count": 79,
   "id": "fbbc456d-a9c3-4d8c-bc16-ca1d4004a20f",
   "metadata": {},
   "outputs": [
    {
     "data": {
      "text/html": [
       "<div>\n",
       "<style scoped>\n",
       "    .dataframe tbody tr th:only-of-type {\n",
       "        vertical-align: middle;\n",
       "    }\n",
       "\n",
       "    .dataframe tbody tr th {\n",
       "        vertical-align: top;\n",
       "    }\n",
       "\n",
       "    .dataframe thead th {\n",
       "        text-align: right;\n",
       "    }\n",
       "</style>\n",
       "<table border=\"1\" class=\"dataframe\">\n",
       "  <thead>\n",
       "    <tr style=\"text-align: right;\">\n",
       "      <th></th>\n",
       "      <th>img_paths</th>\n",
       "      <th>cell_type</th>\n",
       "      <th>label</th>\n",
       "      <th>label_2</th>\n",
       "      <th>label_3</th>\n",
       "    </tr>\n",
       "  </thead>\n",
       "  <tbody>\n",
       "    <tr>\n",
       "      <th>0</th>\n",
       "      <td>../../data/main_dataset/training_set/PLATELET_...</td>\n",
       "      <td>training_set</td>\n",
       "      <td>PLT</td>\n",
       "      <td>PLT</td>\n",
       "      <td>PLT</td>\n",
       "    </tr>\n",
       "    <tr>\n",
       "      <th>1</th>\n",
       "      <td>../../data/main_dataset/training_set/ERB_65190...</td>\n",
       "      <td>training_set</td>\n",
       "      <td>ERB</td>\n",
       "      <td>ERB</td>\n",
       "      <td>ERB</td>\n",
       "    </tr>\n",
       "    <tr>\n",
       "      <th>2</th>\n",
       "      <td>../../data/main_dataset/training_set/BA_944690...</td>\n",
       "      <td>training_set</td>\n",
       "      <td>BA</td>\n",
       "      <td>BA</td>\n",
       "      <td>BA</td>\n",
       "    </tr>\n",
       "    <tr>\n",
       "      <th>3</th>\n",
       "      <td>../../data/main_dataset/training_set/PLATELET_...</td>\n",
       "      <td>training_set</td>\n",
       "      <td>PLT</td>\n",
       "      <td>PLT</td>\n",
       "      <td>PLT</td>\n",
       "    </tr>\n",
       "    <tr>\n",
       "      <th>4</th>\n",
       "      <td>../../data/main_dataset/training_set/MMY_54412...</td>\n",
       "      <td>training_set</td>\n",
       "      <td>MMY</td>\n",
       "      <td>IG</td>\n",
       "      <td>IG</td>\n",
       "    </tr>\n",
       "    <tr>\n",
       "      <th>...</th>\n",
       "      <td>...</td>\n",
       "      <td>...</td>\n",
       "      <td>...</td>\n",
       "      <td>...</td>\n",
       "      <td>...</td>\n",
       "    </tr>\n",
       "    <tr>\n",
       "      <th>12763</th>\n",
       "      <td>../../data/main_dataset/training_set/BL_018_1.tif</td>\n",
       "      <td>training_set</td>\n",
       "      <td>BL</td>\n",
       "      <td>BL</td>\n",
       "      <td>BL</td>\n",
       "    </tr>\n",
       "    <tr>\n",
       "      <th>12764</th>\n",
       "      <td>../../data/main_dataset/training_set/BL_051_1.tif</td>\n",
       "      <td>training_set</td>\n",
       "      <td>BL</td>\n",
       "      <td>BL</td>\n",
       "      <td>BL</td>\n",
       "    </tr>\n",
       "    <tr>\n",
       "      <th>12765</th>\n",
       "      <td>../../data/main_dataset/training_set/BL_008_1.tif</td>\n",
       "      <td>training_set</td>\n",
       "      <td>BL</td>\n",
       "      <td>BL</td>\n",
       "      <td>BL</td>\n",
       "    </tr>\n",
       "    <tr>\n",
       "      <th>12766</th>\n",
       "      <td>../../data/main_dataset/training_set/BL_105_1.tif</td>\n",
       "      <td>training_set</td>\n",
       "      <td>BL</td>\n",
       "      <td>BL</td>\n",
       "      <td>BL</td>\n",
       "    </tr>\n",
       "    <tr>\n",
       "      <th>12767</th>\n",
       "      <td>../../data/main_dataset/training_set/BL_007_1.tif</td>\n",
       "      <td>training_set</td>\n",
       "      <td>BL</td>\n",
       "      <td>BL</td>\n",
       "      <td>BL</td>\n",
       "    </tr>\n",
       "  </tbody>\n",
       "</table>\n",
       "<p>12768 rows × 5 columns</p>\n",
       "</div>"
      ],
      "text/plain": [
       "                                               img_paths     cell_type label  \\\n",
       "0      ../../data/main_dataset/training_set/PLATELET_...  training_set   PLT   \n",
       "1      ../../data/main_dataset/training_set/ERB_65190...  training_set   ERB   \n",
       "2      ../../data/main_dataset/training_set/BA_944690...  training_set    BA   \n",
       "3      ../../data/main_dataset/training_set/PLATELET_...  training_set   PLT   \n",
       "4      ../../data/main_dataset/training_set/MMY_54412...  training_set   MMY   \n",
       "...                                                  ...           ...   ...   \n",
       "12763  ../../data/main_dataset/training_set/BL_018_1.tif  training_set    BL   \n",
       "12764  ../../data/main_dataset/training_set/BL_051_1.tif  training_set    BL   \n",
       "12765  ../../data/main_dataset/training_set/BL_008_1.tif  training_set    BL   \n",
       "12766  ../../data/main_dataset/training_set/BL_105_1.tif  training_set    BL   \n",
       "12767  ../../data/main_dataset/training_set/BL_007_1.tif  training_set    BL   \n",
       "\n",
       "      label_2 label_3  \n",
       "0         PLT     PLT  \n",
       "1         ERB     ERB  \n",
       "2          BA      BA  \n",
       "3         PLT     PLT  \n",
       "4          IG      IG  \n",
       "...       ...     ...  \n",
       "12763      BL      BL  \n",
       "12764      BL      BL  \n",
       "12765      BL      BL  \n",
       "12766      BL      BL  \n",
       "12767      BL      BL  \n",
       "\n",
       "[12768 rows x 5 columns]"
      ]
     },
     "execution_count": 79,
     "metadata": {},
     "output_type": "execute_result"
    }
   ],
   "source": [
    "generate_images_df('../../data/main_dataset/training_set/')"
   ]
  }
 ],
 "metadata": {
  "kernelspec": {
   "display_name": "DStest",
   "language": "python",
   "name": "dstest"
  },
  "language_info": {
   "codemirror_mode": {
    "name": "ipython",
    "version": 3
   },
   "file_extension": ".py",
   "mimetype": "text/x-python",
   "name": "python",
   "nbconvert_exporter": "python",
   "pygments_lexer": "ipython3",
   "version": "3.9.4"
  }
 },
 "nbformat": 4,
 "nbformat_minor": 5
}

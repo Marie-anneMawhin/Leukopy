{
 "cells": [
  {
   "cell_type": "code",
   "execution_count": 5,
   "id": "material-arnold",
   "metadata": {},
   "outputs": [],
   "source": [
    "import pandas as pd\n",
    "import numpy as np\n",
    "import matplotlib.pyplot as plt\n",
    "import seaborn as sns\n",
    "from skimage import io, color, exposure\n",
    "import skimage\n",
    "\n",
    "from pathlib import Path"
   ]
  },
  {
   "cell_type": "markdown",
   "id": "compliant-compiler",
   "metadata": {},
   "source": [
    "## Import normal peripheral blood cell dataset"
   ]
  },
  {
   "cell_type": "code",
   "execution_count": 13,
   "id": "alike-simpson",
   "metadata": {},
   "outputs": [
    {
     "data": {
      "text/html": [
       "<div>\n",
       "<style scoped>\n",
       "    .dataframe tbody tr th:only-of-type {\n",
       "        vertical-align: middle;\n",
       "    }\n",
       "\n",
       "    .dataframe tbody tr th {\n",
       "        vertical-align: top;\n",
       "    }\n",
       "\n",
       "    .dataframe thead th {\n",
       "        text-align: right;\n",
       "    }\n",
       "</style>\n",
       "<table border=\"1\" class=\"dataframe\">\n",
       "  <thead>\n",
       "    <tr style=\"text-align: right;\">\n",
       "      <th></th>\n",
       "      <th>img_paths</th>\n",
       "      <th>id</th>\n",
       "      <th>label</th>\n",
       "      <th>cell_type</th>\n",
       "      <th>patient</th>\n",
       "      <th>height</th>\n",
       "      <th>width</th>\n",
       "      <th>mean_brightness</th>\n",
       "    </tr>\n",
       "  </thead>\n",
       "  <tbody>\n",
       "    <tr>\n",
       "      <th>0</th>\n",
       "      <td>../../data/PBC_dataset_APL_AML/Patient_48/Sign...</td>\n",
       "      <td>13828414</td>\n",
       "      <td>ERB</td>\n",
       "      <td>Erythroblast</td>\n",
       "      <td>PBC_dataset_APL_AML</td>\n",
       "      <td>363</td>\n",
       "      <td>360</td>\n",
       "      <td>204.708196</td>\n",
       "    </tr>\n",
       "    <tr>\n",
       "      <th>1</th>\n",
       "      <td>../../data/PBC_dataset_APL_AML/Patient_48/Sign...</td>\n",
       "      <td>13828371</td>\n",
       "      <td>ERB</td>\n",
       "      <td>Erythroblast</td>\n",
       "      <td>PBC_dataset_APL_AML</td>\n",
       "      <td>363</td>\n",
       "      <td>360</td>\n",
       "      <td>194.427051</td>\n",
       "    </tr>\n",
       "    <tr>\n",
       "      <th>2</th>\n",
       "      <td>../../data/PBC_dataset_APL_AML/Patient_48/Sign...</td>\n",
       "      <td>13828375</td>\n",
       "      <td>ERB</td>\n",
       "      <td>Erythroblast</td>\n",
       "      <td>PBC_dataset_APL_AML</td>\n",
       "      <td>363</td>\n",
       "      <td>360</td>\n",
       "      <td>199.196291</td>\n",
       "    </tr>\n",
       "    <tr>\n",
       "      <th>3</th>\n",
       "      <td>../../data/PBC_dataset_APL_AML/Patient_48/Sign...</td>\n",
       "      <td>13828478</td>\n",
       "      <td>ERB</td>\n",
       "      <td>Erythroblast</td>\n",
       "      <td>PBC_dataset_APL_AML</td>\n",
       "      <td>363</td>\n",
       "      <td>360</td>\n",
       "      <td>198.018758</td>\n",
       "    </tr>\n",
       "    <tr>\n",
       "      <th>4</th>\n",
       "      <td>../../data/PBC_dataset_APL_AML/Patient_48/Sign...</td>\n",
       "      <td>13828494</td>\n",
       "      <td>ERB</td>\n",
       "      <td>Erythroblast</td>\n",
       "      <td>PBC_dataset_APL_AML</td>\n",
       "      <td>363</td>\n",
       "      <td>360</td>\n",
       "      <td>183.606772</td>\n",
       "    </tr>\n",
       "  </tbody>\n",
       "</table>\n",
       "</div>"
      ],
      "text/plain": [
       "                                           img_paths        id label  \\\n",
       "0  ../../data/PBC_dataset_APL_AML/Patient_48/Sign...  13828414   ERB   \n",
       "1  ../../data/PBC_dataset_APL_AML/Patient_48/Sign...  13828371   ERB   \n",
       "2  ../../data/PBC_dataset_APL_AML/Patient_48/Sign...  13828375   ERB   \n",
       "3  ../../data/PBC_dataset_APL_AML/Patient_48/Sign...  13828478   ERB   \n",
       "4  ../../data/PBC_dataset_APL_AML/Patient_48/Sign...  13828494   ERB   \n",
       "\n",
       "      cell_type              patient  height  width  mean_brightness  \n",
       "0  Erythroblast  PBC_dataset_APL_AML     363    360       204.708196  \n",
       "1  Erythroblast  PBC_dataset_APL_AML     363    360       194.427051  \n",
       "2  Erythroblast  PBC_dataset_APL_AML     363    360       199.196291  \n",
       "3  Erythroblast  PBC_dataset_APL_AML     363    360       198.018758  \n",
       "4  Erythroblast  PBC_dataset_APL_AML     363    360       183.606772  "
      ]
     },
     "execution_count": 13,
     "metadata": {},
     "output_type": "execute_result"
    }
   ],
   "source": [
    "# path_name = '../../data/PBC_dataset_normal_df.csv' # for normal\n",
    "path_name = '../../data/PBC_dataset_AML_APL.csv' # for APL_AML\n",
    "path = Path(path_name)\n",
    "df = pd.read_csv(path_name)\n",
    "df.head()"
   ]
  },
  {
   "cell_type": "code",
   "execution_count": 14,
   "id": "municipal-article",
   "metadata": {},
   "outputs": [
    {
     "data": {
      "text/plain": [
       "array(['ERB', 'LY', 'SNE', 'IG', 'MO', 'SMU', 'BL', 'PC', 'GT', 'UI',\n",
       "       'EO', 'BA', 'ART', 'ERC', 'USRWBC2'], dtype=object)"
      ]
     },
     "execution_count": 14,
     "metadata": {},
     "output_type": "execute_result"
    }
   ],
   "source": [
    "classes = df['label'].unique()\n",
    "classes"
   ]
  },
  {
   "cell_type": "markdown",
   "id": "preliminary-bosnia",
   "metadata": {},
   "source": [
    "### Import images and store as a list of array"
   ]
  },
  {
   "cell_type": "code",
   "execution_count": 15,
   "id": "infectious-deputy",
   "metadata": {},
   "outputs": [
    {
     "name": "stdout",
     "output_type": "stream",
     "text": [
      "CPU times: user 2 µs, sys: 0 ns, total: 2 µs\n",
      "Wall time: 5.72 µs\n"
     ]
    }
   ],
   "source": [
    "%time\n",
    "images = [io.imread(file) for file in df['img_paths']]"
   ]
  },
  {
   "cell_type": "code",
   "execution_count": 16,
   "id": "conventional-accreditation",
   "metadata": {},
   "outputs": [
    {
     "data": {
      "text/plain": [
       "15625"
      ]
     },
     "execution_count": 16,
     "metadata": {},
     "output_type": "execute_result"
    }
   ],
   "source": [
    "len(images)"
   ]
  },
  {
   "cell_type": "code",
   "execution_count": null,
   "id": "411e0dfb-01b2-414e-88c4-709b61e45963",
   "metadata": {},
   "outputs": [],
   "source": []
  }
 ],
 "metadata": {
  "kernelspec": {
   "display_name": "DStest",
   "language": "python",
   "name": "dstest"
  },
  "language_info": {
   "codemirror_mode": {
    "name": "ipython",
    "version": 3
   },
   "file_extension": ".py",
   "mimetype": "text/x-python",
   "name": "python",
   "nbconvert_exporter": "python",
   "pygments_lexer": "ipython3",
   "version": "3.9.4"
  }
 },
 "nbformat": 4,
 "nbformat_minor": 5
}

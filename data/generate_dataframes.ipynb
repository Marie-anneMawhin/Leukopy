{
 "cells": [
  {
   "cell_type": "code",
   "execution_count": 1,
   "id": "411db328",
   "metadata": {},
   "outputs": [],
   "source": [
    "import pandas as pd\n",
    "import numpy as np\n",
    "import matplotlib.pyplot as plt\n",
    "\n",
    "import sys, os\n",
    "import glob\n",
    "import shutil\n",
    "import zipfile\n",
    "\n",
    "from pathlib import Path\n",
    "\n",
    "from sklearn.model_selection import train_test_split"
   ]
  },
  {
   "cell_type": "code",
   "execution_count": 7,
   "id": "fb316e7c",
   "metadata": {},
   "outputs": [],
   "source": [
    "def generate_dataframes(data_dir = None,\n",
    "                        random_state = 42, \n",
    "                        random_lock = True):\n",
    "    \n",
    "    \"\"\" Génère 3 DataFrames (train, validation, test) à partir du dossier Leukopy de GitHub (ou d'une copie de ce \n",
    "    dossier). Les images sont regroupées dans 12 dossiers, en fonction de leur label : \n",
    "                            BA, BLAST, BNE, ERB, EO, LY, MMY, MO, MY, PLT, PMY, SNE\n",
    "    Ces dossiers sont placés dans le sous-dossier \"data\" du dossier \"Leukopy\"\n",
    "    Produit 3 fichiers .CSV à partir des DataFrames.\n",
    "    \n",
    "    data_dir : chemin d'accès du dossier Leukopy\n",
    "    random_state : fixé par défaut à 42, pour que tout le monde utilise les mêmes jeux de données\n",
    "    random_lock : bool., permet de verrouiller la valeur de random_state\n",
    "    \"\"\"\n",
    "    # To work with the same split. \n",
    "    if random_lock == True:\n",
    "        if random_state != 42:\n",
    "            random_state = 42\n",
    "            \n",
    "    # Verification : path to data files\n",
    "    if data_dir == None:\n",
    "        return \"Please provide the path of the directory 'Leukopy' \"\n",
    "     \n",
    "    # List of paths to find all .jpg, .tif, .png in Data_Leukopy\n",
    "    liste_jpg = glob.glob(data_dir+r'/*/*.jpg')\n",
    "    liste_tif = glob.glob(data_dir+r'/*/*.tif')\n",
    "    liste_png = glob.glob(data_dir+r'/*/*.png')\n",
    "    liste = liste_jpg + liste_tif + liste_png\n",
    "    print(liste[0])\n",
    "    \n",
    "    # Label extraction for each picture\n",
    "    liste = list(map(lambda x : [x, os.path.split(x)[0].split(os.sep)[-1]], liste))\n",
    "    \n",
    "    # Conversion to DataFrames\n",
    "    data = pd.DataFrame(liste, columns = ['img_path', 'label'])\n",
    "    df_train, df_test = train_test_split(data, test_size = 0.15, random_state = random_state)\n",
    "    df_train, df_valid = train_test_split(df_train, test_size = 0.12, random_state = random_state)\n",
    "    \n",
    "    # Save DFs : .CSV files\n",
    "    df_train.to_csv(path_or_buf = 'train_set.csv', header = ['img_path', 'label'])\n",
    "    df_valid.to_csv(path_or_buf = 'valid_set.csv', header = ['img_path', 'label'])\n",
    "    df_test.to_csv(path_or_buf = 'test_set.csv', header = ['img_path', 'label'])\n",
    "    \n",
    "    return df_train, df_test, df_valid"
   ]
  },
  {
   "cell_type": "code",
   "execution_count": 8,
   "id": "7e2ae833",
   "metadata": {},
   "outputs": [
    {
     "name": "stdout",
     "output_type": "stream",
     "text": [
      ".\\BA\\BA_100102.jpg\n"
     ]
    }
   ],
   "source": [
    "df_train, df_test, df_valid = generate_dataframes(\".\")"
   ]
  }
 ],
 "metadata": {
  "kernelspec": {
   "display_name": "Python 3",
   "language": "python",
   "name": "python3"
  },
  "language_info": {
   "codemirror_mode": {
    "name": "ipython",
    "version": 3
   },
   "file_extension": ".py",
   "mimetype": "text/x-python",
   "name": "python",
   "nbconvert_exporter": "python",
   "pygments_lexer": "ipython3",
   "version": "3.8.10"
  }
 },
 "nbformat": 4,
 "nbformat_minor": 5
}

{
 "cells": [
  {
   "cell_type": "code",
   "execution_count": 40,
   "id": "411db328",
   "metadata": {},
   "outputs": [],
   "source": [
    "import pandas as pd\n",
    "import numpy as np\n",
    "import matplotlib.pyplot as plt\n",
    "\n",
    "import sys, os\n",
    "import glob\n",
    "import shutil\n",
    "import zipfile\n",
    "\n",
    "from pathlib import Path\n",
    "\n",
    "from sklearn.model_selection import train_test_split"
   ]
  },
  {
   "cell_type": "code",
   "execution_count": 58,
   "id": "fb316e7c",
   "metadata": {},
   "outputs": [],
   "source": [
    "def generate_dataframes(data_dir = None,\n",
    "                        random_state = 42, \n",
    "                        random_lock = True):\n",
    "    \n",
    "    \"\"\" Génère 3 DataFrames (train, validation, test) à partir du dossier Leukopy de GitHub (ou d'une copie de ce \n",
    "    dossier). Les images sont regroupées dans 12 dossiers, en fonction de leur label : \n",
    "                            BA, BLAST, BNE, ERB, EO, LY, MMY, MO, MY, PLT, PMY, SNE\n",
    "    Ces dossiers sont placés dans le sous-dossier \"data\" du dossier \"Leukopy\"\n",
    "    Produit 3 fichiers .CSV à partir des DataFrames.\n",
    "    \n",
    "    data_dir : chemin d'accès du dossier Leukopy\n",
    "    random_state : fixé par défaut à 42, pour que tout le monde utilise les mêmes jeux de données\n",
    "    random_lock : bool., permet de verrouiller la valeur de random_state\n",
    "    \"\"\"\n",
    "    # To work with the same split. \n",
    "    if random_lock == True:\n",
    "        if random_state != 42:\n",
    "            random_state = 42\n",
    "            \n",
    "    # Verification : path to data files\n",
    "    if data_dir == None:\n",
    "        return \"Please provide the path of the directory 'Leukopy' \"\n",
    "    \n",
    "    path = Path(data_dir)\n",
    "#     # List of paths to find all .jpg, .tif, .png in Data_Leukopy\n",
    "    \n",
    "#     for ext in ['jpb']\n",
    "#     liste_jpg = path.glob(r'/*/*.jpg')\n",
    "#     liste_tif = path.glob(r'/*/*.tif')\n",
    "#     liste_png = path.glob(r'/*/*.png')\n",
    "#     liste = liste_jpg + liste_tif + liste_png\n",
    "    \n",
    "    \n",
    "    df = pd.DataFrame()\n",
    "    df['img_paths'] = [image_path for ext in ['jpg', 'tif', 'png'] for image_path in path.glob(f'**/*.{ext}')]\n",
    "    df['id'] = [image_path.stem.split('_')[1] for ext in ['jpg', 'tif', 'png'] for image_path in path.glob(f'**/*.{ext}')]\n",
    "    df['label'] = [image_path.stem.split('_')[0] for ext in ['jpg', 'tif', 'png'] for image_path in path.glob(f'**/*.{ext}')]\n",
    "    df['cell_type'] = [image_path.parts[-2] for ext in ['jpg', 'tif', 'png'] for image_path in path.glob(f'**/*.{ext}')]\n",
    "\n",
    "\n",
    "    \n",
    "#     # Label extraction for each picture\n",
    "#     liste = list(map(lambda x : [x, os.path.split(x)[0].split(os.sep)[-1]], liste))\n",
    "    \n",
    "#     # Conversion to DataFrames\n",
    "#     data = pd.DataFrame(liste, columns = ['img_path', 'label'])\n",
    "#     df_train, df_test = train_test_split(data, test_size = 0.15, random_state = random_state)\n",
    "#     df_train, df_valid = train_test_split(df_train, test_size = 0.12, random_state = random_state)\n",
    "    \n",
    "#     # Save DFs : .CSV files\n",
    "#     df_train.to_csv(path_or_buf = 'train_set.csv', header = ['img_path', 'label'])\n",
    "#     df_valid.to_csv(path_or_buf = 'valid_set.csv', header = ['img_path', 'label'])\n",
    "#     df_test.to_csv(path_or_buf = 'test_set.csv', header = ['img_path', 'label'])\n",
    "    \n",
    "    return df#_train, df_test, df_valid"
   ]
  },
  {
   "cell_type": "code",
   "execution_count": 3,
   "id": "9474b668-7f71-49ee-bf86-71a4f21382ec",
   "metadata": {},
   "outputs": [],
   "source": [
    "from pathlib import Path"
   ]
  },
  {
   "cell_type": "code",
   "execution_count": 33,
   "id": "fa36b3be-1d07-4666-9caf-66840ed632fe",
   "metadata": {},
   "outputs": [],
   "source": [
    "for p in Path('.').glob(f'**/*.png'):\n",
    "    print(p)"
   ]
  },
  {
   "cell_type": "code",
   "execution_count": 57,
   "id": "fcf40ec3-59b5-4e60-bba6-5df0bf32c375",
   "metadata": {},
   "outputs": [
    {
     "data": {
      "text/plain": [
       "pathlib.PosixPath"
      ]
     },
     "execution_count": 57,
     "metadata": {},
     "output_type": "execute_result"
    }
   ],
   "source": [
    "type(test['img_paths'].iloc[0])"
   ]
  },
  {
   "cell_type": "code",
   "execution_count": 59,
   "id": "d9a83593-679e-44a9-9a94-0e3a188df12e",
   "metadata": {},
   "outputs": [],
   "source": [
    "test = generate_dataframes(\".\")"
   ]
  },
  {
   "cell_type": "code",
   "execution_count": 60,
   "id": "7a694f6c-5bb3-493c-8968-4ad0094e6032",
   "metadata": {},
   "outputs": [
    {
     "data": {
      "text/html": [
       "<div>\n",
       "<style scoped>\n",
       "    .dataframe tbody tr th:only-of-type {\n",
       "        vertical-align: middle;\n",
       "    }\n",
       "\n",
       "    .dataframe tbody tr th {\n",
       "        vertical-align: top;\n",
       "    }\n",
       "\n",
       "    .dataframe thead th {\n",
       "        text-align: right;\n",
       "    }\n",
       "</style>\n",
       "<table border=\"1\" class=\"dataframe\">\n",
       "  <thead>\n",
       "    <tr style=\"text-align: right;\">\n",
       "      <th></th>\n",
       "      <th>img_paths</th>\n",
       "      <th>id</th>\n",
       "      <th>label</th>\n",
       "      <th>cell_type</th>\n",
       "    </tr>\n",
       "  </thead>\n",
       "  <tbody>\n",
       "    <tr>\n",
       "      <th>0</th>\n",
       "      <td>PBC_dataset_normal_DIB/monocyte/MO_225079.jpg</td>\n",
       "      <td>225079</td>\n",
       "      <td>MO</td>\n",
       "      <td>monocyte</td>\n",
       "    </tr>\n",
       "    <tr>\n",
       "      <th>1</th>\n",
       "      <td>PBC_dataset_normal_DIB/monocyte/MO_582430.jpg</td>\n",
       "      <td>582430</td>\n",
       "      <td>MO</td>\n",
       "      <td>monocyte</td>\n",
       "    </tr>\n",
       "    <tr>\n",
       "      <th>2</th>\n",
       "      <td>PBC_dataset_normal_DIB/monocyte/MO_436409.jpg</td>\n",
       "      <td>436409</td>\n",
       "      <td>MO</td>\n",
       "      <td>monocyte</td>\n",
       "    </tr>\n",
       "    <tr>\n",
       "      <th>3</th>\n",
       "      <td>PBC_dataset_normal_DIB/monocyte/MO_648815.jpg</td>\n",
       "      <td>648815</td>\n",
       "      <td>MO</td>\n",
       "      <td>monocyte</td>\n",
       "    </tr>\n",
       "    <tr>\n",
       "      <th>4</th>\n",
       "      <td>PBC_dataset_normal_DIB/monocyte/MO_668574.jpg</td>\n",
       "      <td>668574</td>\n",
       "      <td>MO</td>\n",
       "      <td>monocyte</td>\n",
       "    </tr>\n",
       "    <tr>\n",
       "      <th>...</th>\n",
       "      <td>...</td>\n",
       "      <td>...</td>\n",
       "      <td>...</td>\n",
       "      <td>...</td>\n",
       "    </tr>\n",
       "    <tr>\n",
       "      <th>43133</th>\n",
       "      <td>PBC_dataset_ALL/Im127_1.tif</td>\n",
       "      <td>1</td>\n",
       "      <td>Im127</td>\n",
       "      <td>PBC_dataset_ALL</td>\n",
       "    </tr>\n",
       "    <tr>\n",
       "      <th>43134</th>\n",
       "      <td>PBC_dataset_ALL/Im247_0.tif</td>\n",
       "      <td>0</td>\n",
       "      <td>Im247</td>\n",
       "      <td>PBC_dataset_ALL</td>\n",
       "    </tr>\n",
       "    <tr>\n",
       "      <th>43135</th>\n",
       "      <td>PBC_dataset_ALL/Im188_0.tif</td>\n",
       "      <td>0</td>\n",
       "      <td>Im188</td>\n",
       "      <td>PBC_dataset_ALL</td>\n",
       "    </tr>\n",
       "    <tr>\n",
       "      <th>43136</th>\n",
       "      <td>PBC_dataset_ALL/Im245_0.tif</td>\n",
       "      <td>0</td>\n",
       "      <td>Im245</td>\n",
       "      <td>PBC_dataset_ALL</td>\n",
       "    </tr>\n",
       "    <tr>\n",
       "      <th>43137</th>\n",
       "      <td>PBC_dataset_ALL/Im140_0.tif</td>\n",
       "      <td>0</td>\n",
       "      <td>Im140</td>\n",
       "      <td>PBC_dataset_ALL</td>\n",
       "    </tr>\n",
       "  </tbody>\n",
       "</table>\n",
       "<p>43138 rows × 4 columns</p>\n",
       "</div>"
      ],
      "text/plain": [
       "                                           img_paths      id  label  \\\n",
       "0      PBC_dataset_normal_DIB/monocyte/MO_225079.jpg  225079     MO   \n",
       "1      PBC_dataset_normal_DIB/monocyte/MO_582430.jpg  582430     MO   \n",
       "2      PBC_dataset_normal_DIB/monocyte/MO_436409.jpg  436409     MO   \n",
       "3      PBC_dataset_normal_DIB/monocyte/MO_648815.jpg  648815     MO   \n",
       "4      PBC_dataset_normal_DIB/monocyte/MO_668574.jpg  668574     MO   \n",
       "...                                              ...     ...    ...   \n",
       "43133                    PBC_dataset_ALL/Im127_1.tif       1  Im127   \n",
       "43134                    PBC_dataset_ALL/Im247_0.tif       0  Im247   \n",
       "43135                    PBC_dataset_ALL/Im188_0.tif       0  Im188   \n",
       "43136                    PBC_dataset_ALL/Im245_0.tif       0  Im245   \n",
       "43137                    PBC_dataset_ALL/Im140_0.tif       0  Im140   \n",
       "\n",
       "             cell_type  \n",
       "0             monocyte  \n",
       "1             monocyte  \n",
       "2             monocyte  \n",
       "3             monocyte  \n",
       "4             monocyte  \n",
       "...                ...  \n",
       "43133  PBC_dataset_ALL  \n",
       "43134  PBC_dataset_ALL  \n",
       "43135  PBC_dataset_ALL  \n",
       "43136  PBC_dataset_ALL  \n",
       "43137  PBC_dataset_ALL  \n",
       "\n",
       "[43138 rows x 4 columns]"
      ]
     },
     "execution_count": 60,
     "metadata": {},
     "output_type": "execute_result"
    }
   ],
   "source": [
    "test"
   ]
  },
  {
   "cell_type": "code",
   "execution_count": 8,
   "id": "7e2ae833",
   "metadata": {},
   "outputs": [
    {
     "name": "stdout",
     "output_type": "stream",
     "text": [
      ".\\BA\\BA_100102.jpg\n"
     ]
    }
   ],
   "source": [
    "df_train, df_test, df_valid = generate_dataframes(\".\")"
   ]
  }
 ],
 "metadata": {
  "kernelspec": {
   "display_name": "Python 3",
   "language": "python",
   "name": "python3"
  },
  "language_info": {
   "codemirror_mode": {
    "name": "ipython",
    "version": 3
   },
   "file_extension": ".py",
   "mimetype": "text/x-python",
   "name": "python",
   "nbconvert_exporter": "python",
   "pygments_lexer": "ipython3",
   "version": "3.8.8"
  }
 },
 "nbformat": 4,
 "nbformat_minor": 5
}
